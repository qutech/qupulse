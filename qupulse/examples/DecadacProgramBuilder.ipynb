{
 "cells": [
  {
   "cell_type": "markdown",
   "id": "04b3e657",
   "metadata": {},
   "source": [
    "# This notebook is used for the development of the Program Builder for the DecaDAC"
   ]
  },
  {
   "cell_type": "code",
   "execution_count": 1674,
   "id": "d97b2223",
   "metadata": {},
   "outputs": [
    {
     "name": "stdout",
     "output_type": "stream",
     "text": [
      "The autoreload extension is already loaded. To reload it, use:\n",
      "  %reload_ext autoreload\n"
     ]
    }
   ],
   "source": [
    "%load_ext autoreload\n",
    "%autoreload 2"
   ]
  },
  {
   "cell_type": "code",
   "execution_count": 1675,
   "id": "766762ad",
   "metadata": {},
   "outputs": [],
   "source": [
    "import qupulse\n",
    "from qupulse.pulses.plotting import plot\n",
    "from qupulse.pulses import PointPT, TablePT, FunctionPT, SequencePT, RepetitionPT, AtomicMultiChannelPT, ParallelConstantChannelPT\n",
    "from qupulse.serialization import Serializer, FilesystemBackend\n",
    "from qupulse.hardware.setup import HardwareSetup, MeasurementMask\n",
    "from qupulse.hardware.awgs.zihdawg import HDAWGTriggerOutSource"
   ]
  },
  {
   "cell_type": "code",
   "execution_count": 1676,
   "id": "438e819e",
   "metadata": {},
   "outputs": [],
   "source": [
    "from qupulse_mfli.mfli import MFLIDAQ, postprocessing_average_within_windows"
   ]
  },
  {
   "cell_type": "code",
   "execution_count": 1677,
   "id": "9776118c",
   "metadata": {},
   "outputs": [],
   "source": [
    "from qcodes.instrument_drivers.Harvard.Decadac import Decadac"
   ]
  },
  {
   "cell_type": "code",
   "execution_count": 1678,
   "id": "4d117672",
   "metadata": {},
   "outputs": [],
   "source": [
    "Setup = HardwareSetup()"
   ]
  },
  {
   "cell_type": "code",
   "execution_count": 1679,
   "id": "f82252ec",
   "metadata": {},
   "outputs": [
    {
     "ename": "DACException",
     "evalue": "('Unexpected terminator on response: B0;. Should end with \"!\"', 'setting dac1_Slot0_slot_mode to Coarse')",
     "output_type": "error",
     "traceback": [
      "\u001b[1;31m---------------------------------------------------------------------------\u001b[0m",
      "\u001b[1;31mDACException\u001b[0m                              Traceback (most recent call last)",
      "Cell \u001b[1;32mIn[1679], line 2\u001b[0m\n\u001b[0;32m      1\u001b[0m \u001b[38;5;66;03m# connecting the DecaDAC\u001b[39;00m\n\u001b[1;32m----> 2\u001b[0m dac \u001b[38;5;241m=\u001b[39m \u001b[43mDecadac\u001b[49m\u001b[43m(\u001b[49m\u001b[38;5;124;43m'\u001b[39;49m\u001b[38;5;124;43mdac1\u001b[39;49m\u001b[38;5;124;43m'\u001b[39;49m\u001b[43m,\u001b[49m\u001b[43m \u001b[49m\u001b[38;5;124;43m'\u001b[39;49m\u001b[38;5;124;43mASRL4::INSTR\u001b[39;49m\u001b[38;5;124;43m'\u001b[39;49m\u001b[43m,\u001b[49m\u001b[43m \u001b[49m\u001b[43mmin_val\u001b[49m\u001b[38;5;241;43m=\u001b[39;49m\u001b[38;5;241;43m-\u001b[39;49m\u001b[38;5;241;43m10\u001b[39;49m\u001b[43m,\u001b[49m\u001b[43m \u001b[49m\u001b[43mmax_val\u001b[49m\u001b[38;5;241;43m=\u001b[39;49m\u001b[38;5;241;43m10\u001b[39;49m\u001b[43m,\u001b[49m\u001b[43m \u001b[49m\u001b[43mdivision\u001b[49m\u001b[38;5;241;43m=\u001b[39;49m\u001b[38;5;241;43m1\u001b[39;49m\u001b[43m,\u001b[49m\u001b[43m \u001b[49m\u001b[43mterminator\u001b[49m\u001b[38;5;241;43m=\u001b[39;49m\u001b[38;5;124;43m'\u001b[39;49m\u001b[38;5;130;43;01m\\n\u001b[39;49;00m\u001b[38;5;124;43m'\u001b[39;49m\u001b[43m)\u001b[49m\n",
      "File \u001b[1;32m\\\\Janeway\\User AG Bluhm\\Surrey\\git\\Qcodes\\qcodes\\instrument\\base.py:522\u001b[0m, in \u001b[0;36mInstrumentMeta.__call__\u001b[1;34m(cls, *args, **kwargs)\u001b[0m\n\u001b[0;32m    517\u001b[0m \u001b[38;5;28;01mdef\u001b[39;00m \u001b[38;5;21m__call__\u001b[39m(\u001b[38;5;28mcls\u001b[39m, \u001b[38;5;241m*\u001b[39margs: Any, \u001b[38;5;241m*\u001b[39m\u001b[38;5;241m*\u001b[39mkwargs: Any) \u001b[38;5;241m-\u001b[39m\u001b[38;5;241m>\u001b[39m Any:\n\u001b[0;32m    518\u001b[0m \u001b[38;5;250m    \u001b[39m\u001b[38;5;124;03m\"\"\"\u001b[39;00m\n\u001b[0;32m    519\u001b[0m \u001b[38;5;124;03m    Overloads `type.__call__` to add code that runs only if __init__ completes\u001b[39;00m\n\u001b[0;32m    520\u001b[0m \u001b[38;5;124;03m    successfully.\u001b[39;00m\n\u001b[0;32m    521\u001b[0m \u001b[38;5;124;03m    \"\"\"\u001b[39;00m\n\u001b[1;32m--> 522\u001b[0m     new_inst \u001b[38;5;241m=\u001b[39m \u001b[38;5;28msuper\u001b[39m()\u001b[38;5;241m.\u001b[39m\u001b[38;5;21m__call__\u001b[39m(\u001b[38;5;241m*\u001b[39margs, \u001b[38;5;241m*\u001b[39m\u001b[38;5;241m*\u001b[39mkwargs)\n\u001b[0;32m    523\u001b[0m     is_abstract \u001b[38;5;241m=\u001b[39m new_inst\u001b[38;5;241m.\u001b[39m_is_abstract()\n\u001b[0;32m    524\u001b[0m     \u001b[38;5;28;01mif\u001b[39;00m is_abstract:\n",
      "File \u001b[1;32m\\\\Janeway\\User AG Bluhm\\Surrey\\git\\Qcodes\\qcodes\\instrument_drivers\\Harvard\\Decadac.py:541\u001b[0m, in \u001b[0;36mDecadac.__init__\u001b[1;34m(self, name, address, min_val, max_val, division, **kwargs)\u001b[0m\n\u001b[0;32m    539\u001b[0m slots \u001b[38;5;241m=\u001b[39m ChannelList(\u001b[38;5;28mself\u001b[39m, \u001b[38;5;124m\"\u001b[39m\u001b[38;5;124mSlots\u001b[39m\u001b[38;5;124m\"\u001b[39m, \u001b[38;5;28mself\u001b[39m\u001b[38;5;241m.\u001b[39mDAC_SLOT_CLASS)\n\u001b[0;32m    540\u001b[0m \u001b[38;5;28;01mfor\u001b[39;00m i \u001b[38;5;129;01min\u001b[39;00m \u001b[38;5;28mrange\u001b[39m(\u001b[38;5;241m5\u001b[39m):  \u001b[38;5;66;03m# Create the 5 DAC slots\u001b[39;00m\n\u001b[1;32m--> 541\u001b[0m     slots\u001b[38;5;241m.\u001b[39mappend(\u001b[38;5;28;43mself\u001b[39;49m\u001b[38;5;241;43m.\u001b[39;49m\u001b[43mDAC_SLOT_CLASS\u001b[49m\u001b[43m(\u001b[49m\u001b[38;5;28;43mself\u001b[39;49m\u001b[43m,\u001b[49m\u001b[43m \u001b[49m\u001b[38;5;124;43mf\u001b[39;49m\u001b[38;5;124;43m\"\u001b[39;49m\u001b[38;5;124;43mSlot\u001b[39;49m\u001b[38;5;132;43;01m{\u001b[39;49;00m\u001b[43mi\u001b[49m\u001b[38;5;132;43;01m}\u001b[39;49;00m\u001b[38;5;124;43m\"\u001b[39;49m\u001b[43m,\u001b[49m\u001b[43m \u001b[49m\u001b[43mi\u001b[49m\u001b[43m,\u001b[49m\n\u001b[0;32m    542\u001b[0m \u001b[43m                                     \u001b[49m\u001b[43mmin_val\u001b[49m\u001b[43m[\u001b[49m\u001b[38;5;241;43m4\u001b[39;49m\u001b[38;5;241;43m*\u001b[39;49m\u001b[43mi\u001b[49m\u001b[43m:\u001b[49m\u001b[38;5;241;43m4\u001b[39;49m\u001b[38;5;241;43m*\u001b[39;49m\u001b[43m(\u001b[49m\u001b[43mi\u001b[49m\u001b[38;5;241;43m+\u001b[39;49m\u001b[38;5;241;43m1\u001b[39;49m\u001b[43m)\u001b[49m\u001b[43m]\u001b[49m\u001b[43m,\u001b[49m\u001b[43m \u001b[49m\u001b[43mmax_val\u001b[49m\u001b[43m[\u001b[49m\u001b[38;5;241;43m4\u001b[39;49m\u001b[38;5;241;43m*\u001b[39;49m\u001b[43mi\u001b[49m\u001b[43m:\u001b[49m\u001b[38;5;241;43m4\u001b[39;49m\u001b[38;5;241;43m*\u001b[39;49m\u001b[43m(\u001b[49m\u001b[43mi\u001b[49m\u001b[38;5;241;43m+\u001b[39;49m\u001b[38;5;241;43m1\u001b[39;49m\u001b[43m)\u001b[49m\u001b[43m]\u001b[49m\u001b[43m,\u001b[49m\n\u001b[0;32m    543\u001b[0m \u001b[43m                                     \u001b[49m\u001b[43mdivision\u001b[49m\u001b[43m[\u001b[49m\u001b[38;5;241;43m4\u001b[39;49m\u001b[38;5;241;43m*\u001b[39;49m\u001b[43mi\u001b[49m\u001b[43m:\u001b[49m\u001b[38;5;241;43m4\u001b[39;49m\u001b[38;5;241;43m*\u001b[39;49m\u001b[43m(\u001b[49m\u001b[43mi\u001b[49m\u001b[38;5;241;43m+\u001b[39;49m\u001b[38;5;241;43m1\u001b[39;49m\u001b[43m)\u001b[49m\u001b[43m]\u001b[49m\u001b[43m)\u001b[49m)\n\u001b[0;32m    544\u001b[0m     slot_channels \u001b[38;5;241m=\u001b[39m slots[i]\u001b[38;5;241m.\u001b[39mchannels\n\u001b[0;32m    545\u001b[0m     slot_channels \u001b[38;5;241m=\u001b[39m cast(ChannelList, slot_channels)\n",
      "File \u001b[1;32m\\\\Janeway\\User AG Bluhm\\Surrey\\git\\Qcodes\\qcodes\\instrument_drivers\\Harvard\\Decadac.py:459\u001b[0m, in \u001b[0;36mDacSlot.__init__\u001b[1;34m(self, parent, name, slot, min_val, max_val, division)\u001b[0m\n\u001b[0;32m    454\u001b[0m \u001b[38;5;28mself\u001b[39m\u001b[38;5;241m.\u001b[39madd_parameter(\u001b[38;5;124m'\u001b[39m\u001b[38;5;124mslot_mode\u001b[39m\u001b[38;5;124m'\u001b[39m, get_cmd\u001b[38;5;241m=\u001b[39m\u001b[38;5;124m\"\u001b[39m\u001b[38;5;124mm;\u001b[39m\u001b[38;5;124m\"\u001b[39m,\n\u001b[0;32m    455\u001b[0m                    get_parser\u001b[38;5;241m=\u001b[39m\u001b[38;5;28mself\u001b[39m\u001b[38;5;241m.\u001b[39m_dac_parse, set_cmd\u001b[38;5;241m=\u001b[39m\u001b[38;5;124m\"\u001b[39m\u001b[38;5;124mM\u001b[39m\u001b[38;5;132;01m{}\u001b[39;00m\u001b[38;5;124m;\u001b[39m\u001b[38;5;124m\"\u001b[39m,\n\u001b[0;32m    456\u001b[0m                    val_mapping\u001b[38;5;241m=\u001b[39mslot_modes)\n\u001b[0;32m    458\u001b[0m \u001b[38;5;66;03m# Enable all slots in coarse mode.\u001b[39;00m\n\u001b[1;32m--> 459\u001b[0m \u001b[38;5;28;43mself\u001b[39;49m\u001b[38;5;241;43m.\u001b[39;49m\u001b[43mslot_mode\u001b[49m\u001b[38;5;241;43m.\u001b[39;49m\u001b[43mset\u001b[49m\u001b[43m(\u001b[49m\u001b[38;5;28;43mself\u001b[39;49m\u001b[38;5;241;43m.\u001b[39;49m\u001b[43mSLOT_MODE_DEFAULT\u001b[49m\u001b[43m)\u001b[49m\n",
      "File \u001b[1;32m\\\\Janeway\\User AG Bluhm\\Surrey\\git\\Qcodes\\qcodes\\instrument\\parameter.py:717\u001b[0m, in \u001b[0;36m_BaseParameter._wrap_set.<locals>.set_wrapper\u001b[1;34m(value, **kwargs)\u001b[0m\n\u001b[0;32m    715\u001b[0m \u001b[38;5;28;01mexcept\u001b[39;00m \u001b[38;5;167;01mException\u001b[39;00m \u001b[38;5;28;01mas\u001b[39;00m e:\n\u001b[0;32m    716\u001b[0m     e\u001b[38;5;241m.\u001b[39margs \u001b[38;5;241m=\u001b[39m e\u001b[38;5;241m.\u001b[39margs \u001b[38;5;241m+\u001b[39m (\u001b[38;5;124mf\u001b[39m\u001b[38;5;124m'\u001b[39m\u001b[38;5;124msetting \u001b[39m\u001b[38;5;132;01m{\u001b[39;00m\u001b[38;5;28mself\u001b[39m\u001b[38;5;132;01m}\u001b[39;00m\u001b[38;5;124m to \u001b[39m\u001b[38;5;132;01m{\u001b[39;00mvalue\u001b[38;5;132;01m}\u001b[39;00m\u001b[38;5;124m'\u001b[39m,)\n\u001b[1;32m--> 717\u001b[0m     \u001b[38;5;28;01mraise\u001b[39;00m e\n",
      "File \u001b[1;32m\\\\Janeway\\User AG Bluhm\\Surrey\\git\\Qcodes\\qcodes\\instrument\\parameter.py:701\u001b[0m, in \u001b[0;36m_BaseParameter._wrap_set.<locals>.set_wrapper\u001b[1;34m(value, **kwargs)\u001b[0m\n\u001b[0;32m    698\u001b[0m \u001b[38;5;66;03m# Start timer to measure execution time of set_function\u001b[39;00m\n\u001b[0;32m    699\u001b[0m t0 \u001b[38;5;241m=\u001b[39m time\u001b[38;5;241m.\u001b[39mperf_counter()\n\u001b[1;32m--> 701\u001b[0m set_function(raw_val_step, \u001b[38;5;241m*\u001b[39m\u001b[38;5;241m*\u001b[39mkwargs)\n\u001b[0;32m    703\u001b[0m \u001b[38;5;66;03m# Update last set time (used for calculating delays)\u001b[39;00m\n\u001b[0;32m    704\u001b[0m \u001b[38;5;28mself\u001b[39m\u001b[38;5;241m.\u001b[39m_t_last_set \u001b[38;5;241m=\u001b[39m time\u001b[38;5;241m.\u001b[39mperf_counter()\n",
      "File \u001b[1;32m\\\\Janeway\\User AG Bluhm\\Surrey\\git\\Qcodes\\qcodes\\utils\\command.py:203\u001b[0m, in \u001b[0;36mCommand.__call__\u001b[1;34m(self, *args)\u001b[0m\n\u001b[0;32m    201\u001b[0m \u001b[38;5;28;01mif\u001b[39;00m \u001b[38;5;28mlen\u001b[39m(args) \u001b[38;5;241m!=\u001b[39m \u001b[38;5;28mself\u001b[39m\u001b[38;5;241m.\u001b[39marg_count:\n\u001b[0;32m    202\u001b[0m     \u001b[38;5;28;01mraise\u001b[39;00m \u001b[38;5;167;01mTypeError\u001b[39;00m(\u001b[38;5;124mf\u001b[39m\u001b[38;5;124m\"\u001b[39m\u001b[38;5;124mcommand takes exactly \u001b[39m\u001b[38;5;132;01m{\u001b[39;00m\u001b[38;5;28mself\u001b[39m\u001b[38;5;241m.\u001b[39marg_count\u001b[38;5;132;01m}\u001b[39;00m\u001b[38;5;124m args\u001b[39m\u001b[38;5;124m\"\u001b[39m)\n\u001b[1;32m--> 203\u001b[0m \u001b[38;5;28;01mreturn\u001b[39;00m \u001b[38;5;28;43mself\u001b[39;49m\u001b[38;5;241;43m.\u001b[39;49m\u001b[43mexec_function\u001b[49m\u001b[43m(\u001b[49m\u001b[38;5;241;43m*\u001b[39;49m\u001b[43margs\u001b[49m\u001b[43m)\u001b[49m\n",
      "File \u001b[1;32m\\\\Janeway\\User AG Bluhm\\Surrey\\git\\Qcodes\\qcodes\\utils\\command.py:151\u001b[0m, in \u001b[0;36mCommand.call_by_str\u001b[1;34m(self, *args)\u001b[0m\n\u001b[0;32m    149\u001b[0m \u001b[38;5;28;01mdef\u001b[39;00m \u001b[38;5;21mcall_by_str\u001b[39m(\u001b[38;5;28mself\u001b[39m, \u001b[38;5;241m*\u001b[39margs: Any) \u001b[38;5;241m-\u001b[39m\u001b[38;5;241m>\u001b[39m Output:\n\u001b[0;32m    150\u001b[0m \u001b[38;5;250m    \u001b[39m\u001b[38;5;124;03m\"\"\"Execute a formatted string.\"\"\"\u001b[39;00m\n\u001b[1;32m--> 151\u001b[0m     \u001b[38;5;28;01mreturn\u001b[39;00m \u001b[38;5;28;43mself\u001b[39;49m\u001b[38;5;241;43m.\u001b[39;49m\u001b[43mexec_str\u001b[49m\u001b[43m(\u001b[49m\u001b[38;5;28;43mself\u001b[39;49m\u001b[38;5;241;43m.\u001b[39;49m\u001b[43mcmd_str\u001b[49m\u001b[38;5;241;43m.\u001b[39;49m\u001b[43mformat\u001b[49m\u001b[43m(\u001b[49m\u001b[38;5;241;43m*\u001b[39;49m\u001b[43margs\u001b[49m\u001b[43m)\u001b[49m\u001b[43m)\u001b[49m\n",
      "File \u001b[1;32m\\\\Janeway\\User AG Bluhm\\Surrey\\git\\Qcodes\\qcodes\\instrument_drivers\\Harvard\\Decadac.py:467\u001b[0m, in \u001b[0;36mDacSlot.write\u001b[1;34m(self, cmd)\u001b[0m\n\u001b[0;32m    461\u001b[0m \u001b[38;5;28;01mdef\u001b[39;00m \u001b[38;5;21mwrite\u001b[39m(\u001b[38;5;28mself\u001b[39m, cmd):\n\u001b[0;32m    462\u001b[0m \u001b[38;5;250m    \u001b[39m\u001b[38;5;124;03m\"\"\"\u001b[39;00m\n\u001b[0;32m    463\u001b[0m \u001b[38;5;124;03m    Overload write to set channel prior to any channel operations.\u001b[39;00m\n\u001b[0;32m    464\u001b[0m \u001b[38;5;124;03m    Since all commands are echoed back, we must keep track of responses\u001b[39;00m\n\u001b[0;32m    465\u001b[0m \u001b[38;5;124;03m    as well, otherwise commands receive the wrong response.\u001b[39;00m\n\u001b[0;32m    466\u001b[0m \u001b[38;5;124;03m    \"\"\"\u001b[39;00m\n\u001b[1;32m--> 467\u001b[0m     \u001b[38;5;28;43mself\u001b[39;49m\u001b[38;5;241;43m.\u001b[39;49m\u001b[43m_set_slot\u001b[49m\u001b[43m(\u001b[49m\u001b[43m)\u001b[49m\n\u001b[0;32m    468\u001b[0m     \u001b[38;5;28;01mreturn\u001b[39;00m \u001b[38;5;28mself\u001b[39m\u001b[38;5;241m.\u001b[39mask_raw(cmd)\n",
      "File \u001b[1;32m\\\\Janeway\\User AG Bluhm\\Surrey\\git\\Qcodes\\qcodes\\instrument_drivers\\Harvard\\Decadac.py:64\u001b[0m, in \u001b[0;36mDacReader._set_slot\u001b[1;34m(self)\u001b[0m\n\u001b[0;32m     60\u001b[0m \u001b[38;5;250m\u001b[39m\u001b[38;5;124;03m\"\"\"\u001b[39;00m\n\u001b[0;32m     61\u001b[0m \u001b[38;5;124;03mSet the active DAC slot\u001b[39;00m\n\u001b[0;32m     62\u001b[0m \u001b[38;5;124;03m\"\"\"\u001b[39;00m\n\u001b[0;32m     63\u001b[0m resp \u001b[38;5;241m=\u001b[39m \u001b[38;5;28mself\u001b[39m\u001b[38;5;241m.\u001b[39mask_raw(\u001b[38;5;124mf\u001b[39m\u001b[38;5;124m\"\u001b[39m\u001b[38;5;124mB\u001b[39m\u001b[38;5;132;01m{\u001b[39;00m\u001b[38;5;28mself\u001b[39m\u001b[38;5;241m.\u001b[39m_slot\u001b[38;5;132;01m}\u001b[39;00m\u001b[38;5;124m;\u001b[39m\u001b[38;5;124m\"\u001b[39m)\n\u001b[1;32m---> 64\u001b[0m \u001b[38;5;28;01mif\u001b[39;00m \u001b[38;5;28mint\u001b[39m(\u001b[38;5;28;43mself\u001b[39;49m\u001b[38;5;241;43m.\u001b[39;49m\u001b[43m_dac_parse\u001b[49m\u001b[43m(\u001b[49m\u001b[43mresp\u001b[49m\u001b[43m)\u001b[49m) \u001b[38;5;241m!=\u001b[39m \u001b[38;5;28mself\u001b[39m\u001b[38;5;241m.\u001b[39m_slot:\n\u001b[0;32m     65\u001b[0m     \u001b[38;5;28;01mraise\u001b[39;00m DACException(\u001b[38;5;124m\"\u001b[39m\u001b[38;5;124mUnexpected return from DAC when setting slot: \u001b[39m\u001b[38;5;124m\"\u001b[39m\n\u001b[0;32m     66\u001b[0m                        \u001b[38;5;124mf\u001b[39m\u001b[38;5;124m\"\u001b[39m\u001b[38;5;132;01m{\u001b[39;00mresp\u001b[38;5;132;01m}\u001b[39;00m\u001b[38;5;124m. DAC slot may not have been set.\u001b[39m\u001b[38;5;124m\"\u001b[39m)\n",
      "File \u001b[1;32m\\\\Janeway\\User AG Bluhm\\Surrey\\git\\Qcodes\\qcodes\\instrument_drivers\\Harvard\\Decadac.py:24\u001b[0m, in \u001b[0;36mDacReader._dac_parse\u001b[1;34m(resp)\u001b[0m\n\u001b[0;32m     22\u001b[0m resp \u001b[38;5;241m=\u001b[39m resp\u001b[38;5;241m.\u001b[39mstrip()\n\u001b[0;32m     23\u001b[0m \u001b[38;5;28;01mif\u001b[39;00m resp[\u001b[38;5;241m-\u001b[39m\u001b[38;5;241m1\u001b[39m] \u001b[38;5;241m!=\u001b[39m \u001b[38;5;124m\"\u001b[39m\u001b[38;5;124m!\u001b[39m\u001b[38;5;124m\"\u001b[39m:\n\u001b[1;32m---> 24\u001b[0m     \u001b[38;5;28;01mraise\u001b[39;00m DACException(\u001b[38;5;124mf\u001b[39m\u001b[38;5;124m'\u001b[39m\u001b[38;5;124mUnexpected terminator on response: \u001b[39m\u001b[38;5;132;01m{\u001b[39;00mresp\u001b[38;5;132;01m}\u001b[39;00m\u001b[38;5;124m. \u001b[39m\u001b[38;5;124m'\u001b[39m\n\u001b[0;32m     25\u001b[0m                        \u001b[38;5;124mf\u001b[39m\u001b[38;5;124m'\u001b[39m\u001b[38;5;124mShould end with \u001b[39m\u001b[38;5;124m\"\u001b[39m\u001b[38;5;124m!\u001b[39m\u001b[38;5;124m\"\u001b[39m\u001b[38;5;124m'\u001b[39m)\n\u001b[0;32m     26\u001b[0m \u001b[38;5;28;01mreturn\u001b[39;00m resp\u001b[38;5;241m.\u001b[39mstrip()[\u001b[38;5;241m1\u001b[39m:\u001b[38;5;241m-\u001b[39m\u001b[38;5;241m1\u001b[39m]\n",
      "\u001b[1;31mDACException\u001b[0m: ('Unexpected terminator on response: B0;. Should end with \"!\"', 'setting dac1_Slot0_slot_mode to Coarse')"
     ]
    }
   ],
   "source": [
    "# connecting the DecaDAC\n",
    "dac = Decadac('dac1', 'ASRL4::INSTR', min_val=-10, max_val=10, division=1, terminator='\\n')"
   ]
  },
  {
   "cell_type": "code",
   "execution_count": null,
   "id": "6039a255",
   "metadata": {},
   "outputs": [],
   "source": [
    "for c in dac.channels:\n",
    "    c.volt(0)"
   ]
  },
  {
   "cell_type": "code",
   "execution_count": null,
   "id": "035c6c10",
   "metadata": {},
   "outputs": [],
   "source": [
    "# connecting the MFLI\n",
    "mfli = MFLIDAQ.connect_to(\"dev7113\")\n",
    "\n",
    "prefix = \"\"\n",
    "channels = {\n",
    "    f\"{prefix}R\": [\"demods/0/sample.R\"],\n",
    "    f\"{prefix}T\": [\"demods/0/sample.Theta\"],\n",
    "    f\"{prefix}X\": [\"demods/0/sample.X\"],\n",
    "    f\"{prefix}Y\": [\"demods/0/sample.Y\"],\n",
    "    f\"{prefix}A1\": [\"demods/0/sample.AuxIn0\"],\n",
    "    f\"{prefix}A2\": [\"demods/0/sample.AuxIn1\"],\n",
    "    f\"{prefix}F\": [\"demods/0/sample.Frequency\"],\n",
    "} \n",
    "# TODO it is possible, that the channels like to be called with *.avg at the end. At least that is what the LabOne web interface logs. But for R it worked without.\n",
    "\n",
    "# now the channels are to be registered.\n",
    "for k, v in channels.items():\n",
    "    # at the lock-in side: (None refers to the default)\n",
    "    mfli.register_measurement_channel(program_name=None, window_name=k, channel_path=v)\n",
    "    # and at the qupulse side:\n",
    "    Setup.set_measurement(f\"{k}\", MeasurementMask(mfli, k))\n",
    "\n",
    "# then we set the trigger default settings\n",
    "mfli.register_trigger_settings(program_name=None,\n",
    "                                trigger_input=f\"demods/0/sample.TrigIn1\", # here TrigInN referrers to the printer label N\n",
    "                                edge=\"rising\",\n",
    "                                trigger_count=1, # one trigger event per measurement\n",
    "                                level=.5,\n",
    "                                measurement_count=1, # one measurement per arm\n",
    "                                other_settings={\"holdoff/time\": 1e-3}\n",
    "                                )"
   ]
  },
  {
   "cell_type": "code",
   "execution_count": null,
   "id": "0a7f890f",
   "metadata": {},
   "outputs": [],
   "source": []
  },
  {
   "cell_type": "code",
   "execution_count": null,
   "id": "501bc036",
   "metadata": {},
   "outputs": [],
   "source": [
    "import time"
   ]
  },
  {
   "cell_type": "code",
   "execution_count": null,
   "id": "92b0cfb1",
   "metadata": {},
   "outputs": [],
   "source": [
    "def send_trigger():\n",
    "    mfli.api_session.set(f\"/{mfli.serial}/auxouts/0/offset\", 2)\n",
    "    time.sleep(0.5)\n",
    "    mfli.api_session.set(f\"/{mfli.serial}/auxouts/0/offset\", 0)"
   ]
  },
  {
   "cell_type": "code",
   "execution_count": 1701,
   "id": "188cd505",
   "metadata": {},
   "outputs": [],
   "source": [
    "from qupulse.hardware.awgs.decadac import *"
   ]
  },
  {
   "cell_type": "code",
   "execution_count": null,
   "id": "36c47b37",
   "metadata": {},
   "outputs": [],
   "source": []
  },
  {
   "cell_type": "code",
   "execution_count": null,
   "id": "8bf693a2",
   "metadata": {},
   "outputs": [
    {
     "name": "stderr",
     "output_type": "stream",
     "text": [
      " 55%|█████▌    | 138/250 [00:06<00:05, 20.83it/s]"
     ]
    },
    {
     "name": "stdout",
     "output_type": "stream",
     "text": [
      "Could not decode 10000101\n",
      "Could not decode 11000011\n",
      "Could not decode 10010100\n",
      "Could not decode 11001110\n"
     ]
    },
    {
     "name": "stderr",
     "output_type": "stream",
     "text": [
      " 58%|█████▊    | 144/250 [00:06<00:05, 20.83it/s]"
     ]
    },
    {
     "name": "stdout",
     "output_type": "stream",
     "text": [
      "Could not decode 10100011\n",
      "Could not decode 10000011\n",
      "Could not decode 10001000\n"
     ]
    },
    {
     "name": "stderr",
     "output_type": "stream",
     "text": [
      " 60%|██████    | 150/250 [00:07<00:04, 20.83it/s]"
     ]
    },
    {
     "name": "stdout",
     "output_type": "stream",
     "text": [
      "Could not decode 10001000\n",
      "Could not decode 11001111\n",
      "Could not decode 10011000\n",
      "Could not decode 10101000\n"
     ]
    },
    {
     "name": "stderr",
     "output_type": "stream",
     "text": [
      " 62%|██████▏   | 156/250 [00:07<00:04, 20.84it/s]"
     ]
    },
    {
     "name": "stdout",
     "output_type": "stream",
     "text": [
      "Could not decode 10111010\n",
      "Could not decode 10000011\n",
      "Could not decode 10001000\n",
      "Could not decode 10111111\n",
      "Could not decode 10000111\n",
      "Could not decode 10100000\n"
     ]
    },
    {
     "name": "stderr",
     "output_type": "stream",
     "text": [
      " 64%|██████▎   | 159/250 [00:07<00:04, 21.53it/s]"
     ]
    },
    {
     "name": "stdout",
     "output_type": "stream",
     "text": [
      "Could not decode 10010000\n",
      "Could not decode 11000001\n",
      "Could not decode 10100001\n",
      "Could not decode 10110001\n",
      "Could not decode 11110111\n",
      "Could not decode 11011111\n"
     ]
    },
    {
     "name": "stderr",
     "output_type": "stream",
     "text": [
      " 66%|██████▌   | 165/250 [00:07<00:04, 21.18it/s]"
     ]
    },
    {
     "name": "stdout",
     "output_type": "stream",
     "text": [
      "Could not decode 11000110\n",
      "Could not decode 11001101\n",
      "Could not decode 11001101\n",
      "Could not decode 11001111\n",
      "Could not decode 10110011\n"
     ]
    },
    {
     "name": "stderr",
     "output_type": "stream",
     "text": [
      " 68%|██████▊   | 171/250 [00:08<00:03, 20.99it/s]"
     ]
    },
    {
     "name": "stdout",
     "output_type": "stream",
     "text": [
      "Could not decode 10111111\n",
      "Could not decode 11011101\n",
      "Could not decode 11110011\n",
      "Could not decode 11101110\n",
      "Could not decode 10111111\n",
      "Could not decode 10101101\n",
      "Could not decode 11110100\n"
     ]
    },
    {
     "name": "stderr",
     "output_type": "stream",
     "text": [
      " 70%|██████▉   | 174/250 [00:08<00:03, 20.95it/s]"
     ]
    },
    {
     "name": "stdout",
     "output_type": "stream",
     "text": [
      "Could not decode 10101110\n",
      "Could not decode 11001010\n",
      "Could not decode 10111011\n",
      "Could not decode 11110111\n",
      "Could not decode 11110101\n",
      "Could not decode 10011011\n"
     ]
    },
    {
     "name": "stderr",
     "output_type": "stream",
     "text": [
      " 72%|███████▏  | 180/250 [00:08<00:03, 20.90it/s]"
     ]
    },
    {
     "name": "stdout",
     "output_type": "stream",
     "text": [
      "Could not decode 10111011\n",
      "Could not decode 11111110\n",
      "Could not decode 11110110\n",
      "Could not decode 10011010\n",
      "Could not decode 11111000\n",
      "Could not decode 11111100\n"
     ]
    },
    {
     "name": "stderr",
     "output_type": "stream",
     "text": [
      " 74%|███████▍  | 186/250 [00:08<00:03, 20.83it/s]"
     ]
    },
    {
     "name": "stdout",
     "output_type": "stream",
     "text": [
      "Could not decode 11000000\n",
      "Could not decode 11010011\n",
      "Could not decode 11011101\n",
      "Could not decode 11101110\n",
      "Could not decode 11111011\n",
      "Could not decode 10111101\n"
     ]
    },
    {
     "name": "stderr",
     "output_type": "stream",
     "text": [
      " 77%|███████▋  | 192/250 [00:09<00:02, 20.83it/s]"
     ]
    },
    {
     "name": "stdout",
     "output_type": "stream",
     "text": [
      "Could not decode 11010011\n",
      "Could not decode 11110001\n",
      "Could not decode 11110111\n",
      "Could not decode 10110001\n",
      "Could not decode 10111111\n",
      "Could not decode 10111101\n"
     ]
    },
    {
     "name": "stderr",
     "output_type": "stream",
     "text": [
      " 80%|████████  | 201/250 [00:09<00:02, 20.84it/s]"
     ]
    },
    {
     "name": "stdout",
     "output_type": "stream",
     "text": [
      "Could not decode 11001101\n",
      "Could not decode 11010000\n",
      "Could not decode 11010011\n",
      "Could not decode 10100100\n"
     ]
    },
    {
     "name": "stderr",
     "output_type": "stream",
     "text": [
      " 83%|████████▎ | 207/250 [00:09<00:02, 20.83it/s]"
     ]
    },
    {
     "name": "stdout",
     "output_type": "stream",
     "text": [
      "Could not decode 10010011\n",
      "Could not decode 11111010\n",
      "Could not decode 10101001\n",
      "Could not decode 10010000\n"
     ]
    },
    {
     "name": "stderr",
     "output_type": "stream",
     "text": [
      " 85%|████████▌ | 213/250 [00:10<00:01, 20.81it/s]"
     ]
    },
    {
     "name": "stdout",
     "output_type": "stream",
     "text": [
      "Could not decode 10100011\n",
      "Could not decode 10000001\n",
      "Could not decode 10100100\n",
      "Could not decode 11000100\n"
     ]
    },
    {
     "name": "stderr",
     "output_type": "stream",
     "text": [
      " 86%|████████▋ | 216/250 [00:10<00:01, 20.81it/s]"
     ]
    },
    {
     "name": "stdout",
     "output_type": "stream",
     "text": [
      "Could not decode 11101100\n",
      "Could not decode 11000000\n",
      "Could not decode 11000100\n",
      "Could not decode 10010000\n"
     ]
    },
    {
     "name": "stderr",
     "output_type": "stream",
     "text": [
      " 90%|█████████ | 225/250 [00:10<00:01, 21.19it/s]"
     ]
    },
    {
     "name": "stdout",
     "output_type": "stream",
     "text": [
      "Could not decode 11001000\n",
      "Could not decode 10111000\n",
      "Could not decode 11101111\n"
     ]
    },
    {
     "name": "stderr",
     "output_type": "stream",
     "text": [
      " 91%|█████████ | 228/250 [00:10<00:01, 21.08it/s]"
     ]
    },
    {
     "name": "stdout",
     "output_type": "stream",
     "text": [
      "Could not decode 10010001\n",
      "Could not decode 11110101\n",
      "Could not decode 11110111\n",
      "Could not decode 10010001\n"
     ]
    },
    {
     "name": "stderr",
     "output_type": "stream",
     "text": [
      " 94%|█████████▎| 234/250 [00:11<00:00, 21.42it/s]"
     ]
    },
    {
     "name": "stdout",
     "output_type": "stream",
     "text": [
      "Could not decode 10010010\n",
      "Could not decode 11100110\n",
      "Could not decode 11100110\n"
     ]
    },
    {
     "name": "stderr",
     "output_type": "stream",
     "text": [
      " 96%|█████████▌| 240/250 [00:11<00:00, 21.12it/s]"
     ]
    },
    {
     "name": "stdout",
     "output_type": "stream",
     "text": [
      "Could not decode 11100111\n",
      "Could not decode 11111111\n",
      "Could not decode 11111111\n",
      "Could not decode 11101010\n",
      "Could not decode 11001100\n",
      "Could not decode 10100111\n",
      "Could not decode 11101100\n",
      "Could not decode 11110011\n"
     ]
    },
    {
     "name": "stderr",
     "output_type": "stream",
     "text": [
      " 98%|█████████▊| 246/250 [00:11<00:00, 20.98it/s]"
     ]
    },
    {
     "name": "stdout",
     "output_type": "stream",
     "text": [
      "Could not decode 11101011\n",
      "Could not decode 10001111\n",
      "Could not decode 11111011\n",
      "Could not decode 11010100\n",
      "Could not decode 11101110\n",
      "Could not decode 11010011\n",
      "Could not decode 11010111\n"
     ]
    },
    {
     "name": "stderr",
     "output_type": "stream",
     "text": [
      "100%|██████████| 250/250 [00:11<00:00, 20.92it/s]"
     ]
    },
    {
     "name": "stdout",
     "output_type": "stream",
     "text": [
      "Could not decode 11011010\n",
      "Could not decode 11111000\n",
      "Could not decode 11100001\n",
      "Could not decode 11001111\n",
      "Could not decode 11110101\n",
      "Could not decode 11001011\n"
     ]
    },
    {
     "name": "stderr",
     "output_type": "stream",
     "text": [
      "\n"
     ]
    },
    {
     "data": {
      "text/plain": [
       "'*1:B0;M2;B1;M2;A1545;P32439;A1538;P3;A1577;P33095;A1570;P3;A1609;P33259;A1602;P3;A45056;P200;*2:X2050;*3:A1545;+3;A1538;P3;A1577;+-3;A1570;P3;A1609;+7;A1602;P3;$10000;*4:X772;A45056;+-1;X1283;*5:A1545;P32767;A1538;P3;A1577;P32767;A1570;P3;A1609;P32767;A1602;P3;X0;;X0;0;\"(\\x072$RQd p(R!\\x10e\\x02O\\x05gP\\x01 \\x12\",B\\x04(C0,wk=\\x1aW -gW8`\\x0e[{<I-G[2\\rS\\x1bm@\\tpLS(j\\x11y\\x1cO\\x1cBL$\\x1ap\\x04\\tD[\\x05t\\x05 &e=4n$\\x12\\\\&\\x05\\x08\\x1et|9p\\x02!v\\t\\x0fm\\x19;;5\\x01ZsM{_yO!\\x7f7mk?1-<'"
      ]
     },
     "execution_count": 651,
     "metadata": {},
     "output_type": "execute_result"
    }
   ],
   "source": [
    "download_script(script_length=500, serial_ask=dac.ask_raw)"
   ]
  },
  {
   "cell_type": "code",
   "execution_count": null,
   "id": "4f121816",
   "metadata": {},
   "outputs": [],
   "source": [
    "# A{0x006FC1};   (Where the trigger inputs live (after hacking stuff))\n",
    "# A{1545+16*(c+1)};+{int(cv)};A{1538+16*(c+1)};P3;\n",
    "# (B1;C0;D{volt_to_int(0.2)};      (set the gate that we want to change to 0)\n",
    "\n",
    "def prepare_board(board):\n",
    "    return f\"B{board};M2;\"\n",
    "\n",
    "def set_voltage_code(channel, volt):\n",
    "    return f\"A{1545+16*(channel)};P{volt_to_int(volt)};A{1538+16*(channel)};P3;\"\n",
    "\n",
    "def inc_voltage_code(channel, delta):\n",
    "    int_delta = int(volt_to_int(delta)-volt_to_int(0))\n",
    "    return f\"A{1545+16*(channel)};+{int_delta};A{1538+16*(channel)};P3;\"\n",
    "\n",
    "def set_timer(duration_in_s):\n",
    "    return f\"${round(duration_in_s*1e6)};\"\n",
    "\n",
    "def not_triggered_jump(target):\n",
    "    \"\"\"\n",
    "    SpecialConditions:\n",
    "    ;08 = Trig1 is zero\n",
    "    ;09 = Trig1 is not zero\n",
    "    ;0A = Trig2 is zero\n",
    "    ;0B = Trig2 is not zero\n",
    "    \"\"\"\n",
    "    return f\"X{0x800+target};\"\n",
    "\n",
    "def timer_running_jump(target):\n",
    "    return f\"X{0x300+target};\"\n",
    "\n",
    "\n",
    "def value_larger_zero_jump(target):\n",
    "    return f\"X{0x500+target};\"\n",
    "\n",
    "def unconditional_jump(target):\n",
    "    return f\"X{0x000+target};\"\n",
    "\n",
    "\"\"\"\n",
    "\n",
    "  B0;C0;D{volt_to_int(0.05)};      (set the gate that we want to change to 0)\n",
    "  B0;C2;D{volt_to_int(0.1)};      (set the gate that we want to change to 0)\n",
    "  B1;C0;D{volt_to_int(-0.1)};      (set the gate that we want to change to 0)\n",
    "\n",
    "  \n",
    "  B0;C0;M2;G0;T0;C1;M2;G0;T0;\n",
    "  B1;C0;M2;G0;T0;\n",
    "  \n",
    "\"\"\"\n",
    "ramp_script = f\"\"\"\n",
    "{{\n",
    "*1:\n",
    "  \n",
    "  B0;M2; (setting the gating)\n",
    "  B1;M2; (for all used boards)\n",
    "\n",
    "  A45056;P200;   (Initialize our counter to 2**16-1)\n",
    "  \n",
    "  {set_voltage_code(0, -0.1)}\n",
    "  {set_voltage_code(2, 0.1)}\n",
    "  {set_voltage_code(4, 0.15)}\n",
    "*2:\n",
    "  X{0x802};      (X0x802 Jump to *2 if value trigger is 0)\n",
    "*3:              (main loop with label \"2\")\n",
    "  B0;C0;\n",
    "  A{1545+16*(2)};+-1;     (Add one to the course DAC value for channel 0)\n",
    "  A{1538+16*(2)};P3;      (Overwrite to force an update (0: no updates, 1: update enabled, 2: force update, 3: force update and update enabled))\n",
    "  B0;C1;\n",
    "  A{1545+16*(0)};+1;      (Add one to the course DAC value for channel 1)\n",
    "  A{1538+16*(0)};P3;      (Overwrite to force an update (0: no updates, 1: update enabled, 2: force update, 3: force update and update enabled))\n",
    "  B1;C0;\n",
    "  A{1545+16*(4)};+2;      (Add one to the course DAC value for channel 0)\n",
    "  A{1538+16*(4)};P3;      (Overwrite to force an update (0: no updates, 1: update enabled, 2: force update, 3: force update and update enabled))\n",
    "\n",
    "  $5000;\n",
    "*4:\n",
    "  X{0x304};\n",
    "  A45056;+ -1;   (Decrease the counter)\n",
    "  X{0x503};      (X0x502 Jump to *2 if value behind the pointer is not 0)\n",
    "*5:\n",
    "  B0;C0;D{volt_to_int(0)};\n",
    "  B0;C1;D{volt_to_int(0)};\n",
    "  B1;C0;D{volt_to_int(0)};\n",
    "  X0;\n",
    "}};\n",
    "\"\"\"\n",
    "\n",
    "ramp_script_2 = f\"\"\"{{\n",
    "*1:\n",
    "  {prepare_board(0)}\n",
    "  {prepare_board(1)}\n",
    "  {set_voltage_code(0, -0.1)}\n",
    "  {set_voltage_code(2, 0.1)}\n",
    "  {set_voltage_code(4, 0.15)}\n",
    "  \n",
    "  A45056;P200;   (Initialize our counter)\n",
    "\n",
    "*2:\n",
    "  {not_triggered_jump(2)}\n",
    "*3:\n",
    "  {inc_voltage_code(0, 0.001)}\n",
    "  {inc_voltage_code(2, -0.001)}\n",
    "  {inc_voltage_code(4, 0.002)}\n",
    "\n",
    "  {set_timer(0.01)}\n",
    "*4:\n",
    "  {timer_running_jump(4)}\n",
    "\n",
    "  A45056;+ -1;   (Decrease the counter)\n",
    "  {value_larger_zero_jump(3)}\n",
    "\n",
    "*5:\n",
    "  {set_voltage_code(0, 0)}\n",
    "  {set_voltage_code(2, 0)}\n",
    "  {set_voltage_code(4, 0)}\n",
    "  {unconditional_jump(0)}\n",
    "\n",
    "}};\"\"\""
   ]
  },
  {
   "cell_type": "code",
   "execution_count": null,
   "id": "2c20cbaa",
   "metadata": {},
   "outputs": [
    {
     "data": {
      "text/plain": [
       "'{*1:B0;M2;B1;M2;A1545;P32439;A1538;P3;A1577;P33095;A1570;P3;A1609;P33259;A1602;P3;A45056;P200;*2:X2050;*3:A1545;+3;A1538;P3;A1577;+-3;A1570;P3;A1609;+7;A1602;P3;$10000;*4:X772;A45056;+-1;X1283;*5:A1545;P32767;A1538;P3;A1577;P32767;A1570;P3;A1609;P32767;A1602;P3;X0;}!'"
      ]
     },
     "execution_count": 1000,
     "metadata": {},
     "output_type": "execute_result"
    }
   ],
   "source": [
    "upload_script(ramp_script_2, serial_ask=dac.ask_raw)"
   ]
  },
  {
   "cell_type": "code",
   "execution_count": null,
   "id": "ff5e66cf",
   "metadata": {},
   "outputs": [],
   "source": [
    "dac.write_raw(\"X0;\")"
   ]
  },
  {
   "cell_type": "code",
   "execution_count": null,
   "id": "02bbb770",
   "metadata": {},
   "outputs": [],
   "source": [
    "while dac.ask(\"\") != \"\": pass"
   ]
  },
  {
   "cell_type": "code",
   "execution_count": null,
   "id": "2b17ae2a",
   "metadata": {},
   "outputs": [],
   "source": [
    "dac.write_raw(\"X1;\")"
   ]
  },
  {
   "cell_type": "code",
   "execution_count": null,
   "id": "6fd85a56",
   "metadata": {},
   "outputs": [],
   "source": [
    "send_trigger()"
   ]
  },
  {
   "cell_type": "code",
   "execution_count": null,
   "id": "0622f3be",
   "metadata": {},
   "outputs": [],
   "source": [
    "for c in dac.channels[:5]:\n",
    "    c.volt(0.15)"
   ]
  },
  {
   "cell_type": "code",
   "execution_count": null,
   "id": "24f59ef3",
   "metadata": {},
   "outputs": [],
   "source": [
    "def get(addr):\n",
    "    res = download_16bit(addr, serial_ask=dac.ask_raw)\n",
    "    print(f\"{res} -> {bin(res)}\")\n",
    "    return res"
   ]
  },
  {
   "cell_type": "code",
   "execution_count": null,
   "id": "cfb51627",
   "metadata": {},
   "outputs": [
    {
     "name": "stdout",
     "output_type": "stream",
     "text": [
      "20539 -> 0b101000000111011\n"
     ]
    },
    {
     "data": {
      "text/plain": [
       "20539"
      ]
     },
     "execution_count": 1001,
     "metadata": {},
     "output_type": "execute_result"
    }
   ],
   "source": [
    "get(SCRIPT_START_ADDRESS+100)"
   ]
  },
  {
   "cell_type": "code",
   "execution_count": null,
   "id": "e50d2b63",
   "metadata": {},
   "outputs": [
    {
     "data": {
      "text/plain": [
       "'A49508!+-1!'"
      ]
     },
     "execution_count": 998,
     "metadata": {},
     "output_type": "execute_result"
    }
   ],
   "source": [
    "dac.ask(F\"A{SCRIPT_START_ADDRESS+100};+-1;\")"
   ]
  },
  {
   "cell_type": "code",
   "execution_count": null,
   "id": "5c72b33d",
   "metadata": {},
   "outputs": [
    {
     "ename": "NotImplementedError",
     "evalue": "This is not needed... X0x800 is designed for that...",
     "output_type": "error",
     "traceback": [
      "\u001b[1;31m---------------------------------------------------------------------------\u001b[0m",
      "\u001b[1;31mNotImplementedError\u001b[0m                       Traceback (most recent call last)",
      "Cell \u001b[1;32mIn[650], line 1\u001b[0m\n\u001b[1;32m----> 1\u001b[0m \u001b[38;5;28;01mraise\u001b[39;00m \u001b[38;5;167;01mNotImplementedError\u001b[39;00m(\u001b[38;5;124m\"\u001b[39m\u001b[38;5;124mThis is not needed... X0x800 is designed for that...\u001b[39m\u001b[38;5;124m\"\u001b[39m)\n\u001b[0;32m      2\u001b[0m \u001b[38;5;66;03m# inject_int(0x006FC4, 0b01001, serial_ask=dac.ask_raw) # \u001b[39;00m\n\u001b[0;32m      3\u001b[0m inject_int(\u001b[38;5;241m0x006F8A\u001b[39m, \u001b[38;5;241m0b1111111111111001\u001b[39m, serial_ask\u001b[38;5;241m=\u001b[39mdac\u001b[38;5;241m.\u001b[39mask_raw) \u001b[38;5;66;03m# setting the annoying registers to be output registers (0b1011101110000 & 0b1001) where the first binary number is the default\u001b[39;00m\n",
      "\u001b[1;31mNotImplementedError\u001b[0m: This is not needed... X0x800 is designed for that..."
     ]
    }
   ],
   "source": [
    "raise NotImplementedError(\"This is not needed... X0x800 is designed for that...\")\n",
    "# inject_int(0x006FC4, 0b01001, serial_ask=dac.ask_raw) # \n",
    "inject_int(0x006F8A, 0b1111111111111001, serial_ask=dac.ask_raw) # setting the annoying registers to be output registers (0b1011101110000 & 0b1001) where the first binary number is the default\n",
    "inject_int(0x006FC4, 0b1111111111111001, serial_ask=dac.ask_raw) # setting the annoying registers to 0\n",
    "get(0x006FC0)"
   ]
  },
  {
   "cell_type": "code",
   "execution_count": null,
   "id": "470b2e5e",
   "metadata": {},
   "outputs": [],
   "source": []
  },
  {
   "cell_type": "code",
   "execution_count": null,
   "id": "dca93454",
   "metadata": {},
   "outputs": [],
   "source": []
  },
  {
   "cell_type": "code",
   "execution_count": null,
   "id": "5500e947",
   "metadata": {},
   "outputs": [],
   "source": [
    "# playing around with LZ77"
   ]
  },
  {
   "cell_type": "code",
   "execution_count": null,
   "id": "5038e7d3",
   "metadata": {},
   "outputs": [],
   "source": [
    "from qupulse.utils.performance import *"
   ]
  },
  {
   "cell_type": "code",
   "execution_count": null,
   "id": "b2007f0c",
   "metadata": {},
   "outputs": [],
   "source": [
    "# compiling the compressed commands into the LinSpace commands\n",
    "\n",
    "from qupulse.program.linspace import LoopLabel, Increment, Set, Wait, LoopJmp, Play"
   ]
  },
  {
   "cell_type": "code",
   "execution_count": null,
   "id": "5c7f3885",
   "metadata": {},
   "outputs": [],
   "source": [
    "test_array = np.arange(100).reshape((50, 2))"
   ]
  },
  {
   "cell_type": "code",
   "execution_count": null,
   "id": "f1bdf650",
   "metadata": {},
   "outputs": [],
   "source": [
    "def test_compression_and_reconstruction(array, intermed, diffs, meta):\n",
    "    compressed = compress_array_LZ77(array=array, allow_intermediates=intermed, using_diffs=diffs, allow_reconstructions_using_reconstructions=meta)\n",
    "    uncompressed = uncompress_array_LZ77(compressed)\n",
    "    if diffs:\n",
    "        assert len(array) == len(uncompressed), f\"{compressed=}, \\n{uncompressed=}\"\n",
    "        assert np.allclose(array, np.cumsum(uncompressed, axis=0)), f\"{compressed=}, \\n{uncompressed=}\"\n",
    "    else:\n",
    "        assert len(array) == len(uncompressed), f\"{compressed=}, \\n{uncompressed=}\"\n",
    "        assert np.allclose(array, uncompressed), f\"{compressed=}, \\n{uncompressed=}\"\n",
    "    return compressed, uncompressed"
   ]
  },
  {
   "cell_type": "code",
   "execution_count": null,
   "id": "cec52806",
   "metadata": {},
   "outputs": [],
   "source": [
    "def test_compression_and_reconstruction_helper(array):\n",
    "    _ = test_compression_and_reconstruction(array, intermed=True, diffs=True, meta=True)\n",
    "    _ = test_compression_and_reconstruction(array, intermed=True, diffs=False, meta=True)\n",
    "    _ = test_compression_and_reconstruction(array, intermed=False, diffs=True, meta=True)\n",
    "    _ = test_compression_and_reconstruction(array, intermed=False, diffs=False, meta=True)\n",
    "    _ = test_compression_and_reconstruction(array, intermed=True, diffs=True, meta=False)\n",
    "    _ = test_compression_and_reconstruction(array, intermed=True, diffs=False, meta=False)\n",
    "    _ = test_compression_and_reconstruction(array, intermed=False, diffs=True, meta=False)\n",
    "    _ = test_compression_and_reconstruction(array, intermed=False, diffs=False, meta=False)"
   ]
  },
  {
   "cell_type": "code",
   "execution_count": null,
   "id": "a11be008",
   "metadata": {},
   "outputs": [],
   "source": [
    "test_compression_and_reconstruction_helper(test_array)"
   ]
  },
  {
   "cell_type": "code",
   "execution_count": null,
   "id": "0b050361",
   "metadata": {},
   "outputs": [],
   "source": [
    "test_compression_and_reconstruction_helper(np.array([[1, 2, 3, 4, 5]]).T)\n",
    "test_compression_and_reconstruction_helper(np.array([[1]]))\n",
    "test_compression_and_reconstruction_helper(np.ones((100, 2)))\n",
    "test_compression_and_reconstruction_helper(np.ones((1, 2)))\n",
    "test_compression_and_reconstruction_helper(np.ones((1, 10)))\n",
    "for _ in range(10):\n",
    "    test_compression_and_reconstruction_helper(np.random.uniform(0, 1, (np.random.randint(1, 10), np.random.randint(1, 10))))\n"
   ]
  },
  {
   "cell_type": "code",
   "execution_count": null,
   "id": "928c725b",
   "metadata": {},
   "outputs": [],
   "source": [
    "special_array = np.repeat(np.linspace(0, 100, 200)[:, None], 3, axis=1)\n",
    "special_array[:, 0] = special_array[:, 0]%5*0.1\n",
    "special_array[:, 1] = special_array[:, 1]%10*3"
   ]
  },
  {
   "cell_type": "code",
   "execution_count": null,
   "id": "8eb2ce0b",
   "metadata": {},
   "outputs": [],
   "source": [
    "special_array = special_array.astype(int)"
   ]
  },
  {
   "cell_type": "code",
   "execution_count": null,
   "id": "255cf00d",
   "metadata": {},
   "outputs": [
    {
     "data": {
      "text/plain": [
       "[(0, 0, array([0, 0, 0])),\n",
       " (0, 0, array([0, 1, 0])),\n",
       " (0, 0, array([0, 2, 1])),\n",
       " (2, 17, array([  0, -28,   1])),\n",
       " (20, 46, array([0, 2, 0])),\n",
       " (0, 0, array([0, 1, 1])),\n",
       " (2, 11, array([  0, -29,   1])),\n",
       " (0, 0, array([0, 2, 0])),\n",
       " (0, 0, array([0, 1, 1])),\n",
       " (2, 17, array([  0, -29,   1])),\n",
       " (20, 33, array([0, 2, 1])),\n",
       " (0, 0, array([0, 1, 0])),\n",
       " (2, 4, array([  0, -28,   1])),\n",
       " (0, 0, array([0, 1, 0])),\n",
       " (0, 0, array([0, 2, 1])),\n",
       " (2, 17, array([  0, -28,   1])),\n",
       " (20, 38, array([  0, -28,   1]))]"
      ]
     },
     "execution_count": 902,
     "metadata": {},
     "output_type": "execute_result"
    }
   ],
   "source": [
    "test_compression_and_reconstruction_helper(special_array.astype(int))\n",
    "comp, _ = test_compression_and_reconstruction(special_array.astype(int), intermed=False, diffs=True)\n",
    "comp"
   ]
  },
  {
   "cell_type": "code",
   "execution_count": null,
   "id": "c070a7f0",
   "metadata": {},
   "outputs": [
    {
     "data": {
      "text/plain": [
       "(3, 10, 7)"
      ]
     },
     "execution_count": 906,
     "metadata": {},
     "output_type": "execute_result"
    }
   ],
   "source": [
    "csd_2d = np.meshgrid(np.linspace(0, 1, 10), np.linspace(0, 1, 7), indexing='ij')\n",
    "csd_2d_with_sensor = np.ones((3, 10, 7))\n",
    "csd_2d_with_sensor[0] = csd_2d[0]*0.1+0.51\n",
    "csd_2d_with_sensor[1] = csd_2d[1]*0.5+0.322\n",
    "csd_2d_with_sensor[2] = -1*csd_2d_with_sensor[0]*0.1+-1*csd_2d_with_sensor[1]*0.14\n",
    "csd_2d_with_sensor.shape"
   ]
  },
  {
   "cell_type": "code",
   "execution_count": null,
   "id": "75f4ea11",
   "metadata": {},
   "outputs": [],
   "source": [
    "csd_pulse = csd_2d_with_sensor.reshape((3, -1)).T*100"
   ]
  },
  {
   "cell_type": "code",
   "execution_count": null,
   "id": "c008a38b",
   "metadata": {},
   "outputs": [
    {
     "data": {
      "text/plain": [
       "array([[ 51,  32,  -9],\n",
       "       [ 51,  40, -10],\n",
       "       [ 51,  48, -11],\n",
       "       [ 51,  57, -13],\n",
       "       [ 51,  65, -14],\n",
       "       [ 51,  73, -15],\n",
       "       [ 51,  82, -16],\n",
       "       [ 52,  32,  -9],\n",
       "       [ 52,  40, -10],\n",
       "       [ 52,  48, -12],\n",
       "       [ 52,  57, -13],\n",
       "       [ 52,  65, -14],\n",
       "       [ 52,  73, -15],\n",
       "       [ 52,  82, -16],\n",
       "       [ 53,  32,  -9],\n",
       "       [ 53,  40, -10],\n",
       "       [ 53,  48, -12],\n",
       "       [ 53,  57, -13],\n",
       "       [ 53,  65, -14],\n",
       "       [ 53,  73, -15],\n",
       "       [ 53,  82, -16],\n",
       "       [ 54,  32,  -9],\n",
       "       [ 54,  40, -11],\n",
       "       [ 54,  48, -12],\n",
       "       [ 54,  57, -13],\n",
       "       [ 54,  65, -14],\n",
       "       [ 54,  73, -15],\n",
       "       [ 54,  82, -16],\n",
       "       [ 55,  32, -10],\n",
       "       [ 55,  40, -11],\n",
       "       [ 55,  48, -12],\n",
       "       [ 55,  57, -13],\n",
       "       [ 55,  65, -14],\n",
       "       [ 55,  73, -15],\n",
       "       [ 55,  82, -17],\n",
       "       [ 56,  32, -10],\n",
       "       [ 56,  40, -11],\n",
       "       [ 56,  48, -12],\n",
       "       [ 56,  57, -13],\n",
       "       [ 56,  65, -14],\n",
       "       [ 56,  73, -15],\n",
       "       [ 56,  82, -17],\n",
       "       [ 57,  32, -10],\n",
       "       [ 57,  40, -11],\n",
       "       [ 57,  48, -12],\n",
       "       [ 57,  57, -13],\n",
       "       [ 57,  65, -14],\n",
       "       [ 57,  73, -16],\n",
       "       [ 57,  82, -17],\n",
       "       [ 58,  32, -10],\n",
       "       [ 58,  40, -11],\n",
       "       [ 58,  48, -12],\n",
       "       [ 58,  57, -13],\n",
       "       [ 58,  65, -15],\n",
       "       [ 58,  73, -16],\n",
       "       [ 58,  82, -17],\n",
       "       [ 59,  32, -10],\n",
       "       [ 59,  40, -11],\n",
       "       [ 59,  48, -12],\n",
       "       [ 59,  57, -13],\n",
       "       [ 59,  65, -15],\n",
       "       [ 59,  73, -16],\n",
       "       [ 59,  82, -17],\n",
       "       [ 61,  32, -10],\n",
       "       [ 61,  40, -11],\n",
       "       [ 61,  48, -12],\n",
       "       [ 61,  57, -14],\n",
       "       [ 61,  65, -15],\n",
       "       [ 61,  73, -16],\n",
       "       [ 61,  82, -17]])"
      ]
     },
     "execution_count": 910,
     "metadata": {},
     "output_type": "execute_result"
    }
   ],
   "source": [
    "csd_pulse.astype(int)"
   ]
  },
  {
   "cell_type": "code",
   "execution_count": null,
   "id": "154df0e0",
   "metadata": {},
   "outputs": [
    {
     "data": {
      "text/plain": [
       "[(0, 0, array([51, 32, -9])),\n",
       " (0, 0, array([ 0,  8, -1])),\n",
       " (1, 1, array([ 0,  9, -2])),\n",
       " (0, 0, array([ 0,  8, -1])),\n",
       " (1, 1, array([ 0,  9, -1])),\n",
       " (0, 0, array([  1, -50,   7])),\n",
       " (0, 0, array([ 0,  8, -1])),\n",
       " (0, 0, array([ 0,  8, -2])),\n",
       " (0, 0, array([ 0,  9, -1])),\n",
       " (7, 11, array([ 0,  8, -2])),\n",
       " (0, 0, array([ 0,  8, -1])),\n",
       " (0, 0, array([ 0,  9, -1])),\n",
       " (0, 0, array([ 0,  8, -1])),\n",
       " (1, 1, array([ 0,  9, -1])),\n",
       " (0, 0, array([  1, -50,   6])),\n",
       " (0, 0, array([ 0,  8, -1])),\n",
       " (1, 1, array([ 0,  9, -1])),\n",
       " (0, 0, array([ 0,  8, -1])),\n",
       " (1, 1, array([ 0,  9, -2])),\n",
       " (0, 0, array([  1, -50,   7])),\n",
       " (7, 11, array([ 0,  8, -2])),\n",
       " (0, 0, array([ 0,  9, -1])),\n",
       " (0, 0, array([  1, -50,   7])),\n",
       " (0, 0, array([ 0,  8, -1])),\n",
       " (1, 1, array([ 0,  9, -1])),\n",
       " (0, 0, array([ 0,  8, -2])),\n",
       " (0, 0, array([ 0,  8, -1])),\n",
       " (7, 8, array([  2, -50,   7])),\n",
       " (0, 0, array([ 0,  8, -1])),\n",
       " (1, 1, array([ 0,  9, -2])),\n",
       " (0, 0, array([ 0,  8, -1])),\n",
       " (1, 1, array([ 0,  9, -1]))]"
      ]
     },
     "execution_count": 909,
     "metadata": {},
     "output_type": "execute_result"
    }
   ],
   "source": [
    "test_compression_and_reconstruction_helper(csd_pulse.astype(int))\n",
    "comp, _ = test_compression_and_reconstruction(csd_pulse.astype(int), intermed=False, diffs=True)\n",
    "comp"
   ]
  },
  {
   "cell_type": "code",
   "execution_count": null,
   "id": "81fecdc8",
   "metadata": {},
   "outputs": [
    {
     "data": {
      "text/plain": [
       "(13,\n",
       " [(0, 0, array([47807., 29425.])),\n",
       "  (0, 0, array([  0., -73.])),\n",
       "  (1, 3, array([  0., -72.])),\n",
       "  (0, 0, array([  0., -73.])),\n",
       "  (1, 3, array([328., 656.])),\n",
       "  (10, 10, array([  0., -73.])),\n",
       "  (1, 3, array([  0., -72.])),\n",
       "  (0, 0, array([  0., -73.])),\n",
       "  (1, 3, array([327., 656.])),\n",
       "  (30, 60, array([  0., -73.])),\n",
       "  (1, 3, array([  0., -72.])),\n",
       "  (0, 0, array([  0., -73.])),\n",
       "  (1, 3, None)])"
      ]
     },
     "execution_count": 1218,
     "metadata": {},
     "output_type": "execute_result"
    }
   ],
   "source": [
    "vg_csd_2d = np.meshgrid(np.linspace(0, 1, 10), np.linspace(0, 1, 10), indexing='ij')\n",
    "vg_csd_2d_with_sensor = np.ones((2, np.prod(vg_csd_2d[0].shape)))\n",
    "vg_csd_2d_with_sensor[0] = (vg_csd_2d[0].flatten()*0.1+0.51)*+0.9 #+ (vg_csd_2d[1].flatten()*0.5+0.322)*-0.1\n",
    "vg_csd_2d_with_sensor[1] = (vg_csd_2d[1].flatten()*0.1+0.51)*-0.2 #+ (vg_csd_2d[1].flatten()*0.5+0.322)*+0.8\n",
    "vg_csd_pulse = vg_csd_2d_with_sensor.T*10\n",
    "# print(vg_csd_pulse)\n",
    "# test_compression_and_reconstruction_helper(vg_csd_pulse.astype(int))\n",
    "comp, _ = test_compression_and_reconstruction(volt_to_int(vg_csd_pulse), intermed=False, diffs=True, meta=False)\n",
    "len(comp), comp"
   ]
  },
  {
   "cell_type": "code",
   "execution_count": null,
   "id": "49115fd8",
   "metadata": {},
   "outputs": [],
   "source": [
    "compressed_array = comp\n",
    "dt = 1e-3\n",
    "\n",
    "def LZ77_to_Linspace_Commands(lz77_compressed, dt=1e-3):\n",
    "\n",
    "    print_intermediate_programs = False\n",
    "    print_index_calculations = False\n",
    "\n",
    "    loop_indecies = range(int(10_000_000_000_000)).__iter__()\n",
    "\n",
    "    commands = []\n",
    "    unrolled_step_index = []\n",
    "    for s, (o, d, v) in enumerate(compressed_array):\n",
    "        if print_intermediate_programs or print_index_calculations: print(); \n",
    "        if print_intermediate_programs: print((o, d, v))\n",
    "        commands.append([])\n",
    "        unrolled_step_index.append((unrolled_step_index[-1]+1 if len(unrolled_step_index)>0 else 0))\n",
    "        if v is not None:\n",
    "            for i, a in enumerate(v):\n",
    "                if a != 0:\n",
    "                    commands[-1].append(Increment(i, a, None))\n",
    "            commands[-1].append(Wait(dt))\n",
    "        if d != 0:\n",
    "            lx = next(loop_indecies)\n",
    "            r = d//o\n",
    "            assert r > 0\n",
    "            if print_index_calculations: \n",
    "                print(o, len(commands))\n",
    "                print((o, d, v))\n",
    "                print(s, (o, d), r, unrolled_step_index, unrolled_step_index[-1]-o)\n",
    "            eff = np.where(np.array(unrolled_step_index) == unrolled_step_index[-1]-o)[0][-1]\n",
    "            if print_index_calculations: print(eff)\n",
    "            commands[eff].insert(0, LoopLabel(lx, r))\n",
    "            commands[-2].append(LoopJmp(lx))\n",
    "            foo = unrolled_step_index[-1]\n",
    "            for _o in range(len(unrolled_step_index)):\n",
    "                if len(unrolled_step_index)-_o-1-1 < eff: break\n",
    "                if print_index_calculations: print(_o, r, _o)\n",
    "                unrolled_step_index[-_o-1] += d\n",
    "                if print_index_calculations: print(unrolled_step_index)\n",
    "        if print_index_calculations: print(unrolled_step_index)\n",
    "        if print_intermediate_programs: print(\"\\n\".join([str(c) for c in commands]))\n",
    "\n",
    "    if print_intermediate_programs or print_index_calculations: print(commands)\n",
    "\n",
    "    # flattening the commands\n",
    "    commands = [c for cc in commands for c in cc]\n",
    "    return commands\n",
    "\n"
   ]
  },
  {
   "cell_type": "code",
   "execution_count": null,
   "id": "364a4859",
   "metadata": {},
   "outputs": [
    {
     "data": {
      "text/plain": [
       "[Increment(channel=0, value=47807.0, dependency_key=None),\n",
       " Increment(channel=1, value=29425.0, dependency_key=None),\n",
       " Wait(duration=0.001),\n",
       " LoopLabel(idx=5, count=2),\n",
       " LoopLabel(idx=2, count=1),\n",
       " LoopLabel(idx=0, count=3),\n",
       " Increment(channel=1, value=-73.0, dependency_key=None),\n",
       " Wait(duration=0.001),\n",
       " LoopJmp(idx=0),\n",
       " Increment(channel=1, value=-72.0, dependency_key=None),\n",
       " Wait(duration=0.001),\n",
       " LoopLabel(idx=1, count=3),\n",
       " Increment(channel=1, value=-73.0, dependency_key=None),\n",
       " Wait(duration=0.001),\n",
       " LoopJmp(idx=1),\n",
       " Increment(channel=0, value=328.0, dependency_key=None),\n",
       " Increment(channel=1, value=656.0, dependency_key=None),\n",
       " Wait(duration=0.001),\n",
       " LoopJmp(idx=2),\n",
       " LoopLabel(idx=3, count=3),\n",
       " Increment(channel=1, value=-73.0, dependency_key=None),\n",
       " Wait(duration=0.001),\n",
       " LoopJmp(idx=3),\n",
       " Increment(channel=1, value=-72.0, dependency_key=None),\n",
       " Wait(duration=0.001),\n",
       " LoopLabel(idx=4, count=3),\n",
       " Increment(channel=1, value=-73.0, dependency_key=None),\n",
       " Wait(duration=0.001),\n",
       " LoopJmp(idx=4),\n",
       " Increment(channel=0, value=327.0, dependency_key=None),\n",
       " Increment(channel=1, value=656.0, dependency_key=None),\n",
       " Wait(duration=0.001),\n",
       " LoopJmp(idx=5),\n",
       " LoopLabel(idx=6, count=3),\n",
       " Increment(channel=1, value=-73.0, dependency_key=None),\n",
       " Wait(duration=0.001),\n",
       " LoopJmp(idx=6),\n",
       " Increment(channel=1, value=-72.0, dependency_key=None),\n",
       " Wait(duration=0.001),\n",
       " LoopLabel(idx=7, count=3),\n",
       " Increment(channel=1, value=-73.0, dependency_key=None),\n",
       " Wait(duration=0.001),\n",
       " LoopJmp(idx=7)]"
      ]
     },
     "execution_count": 1261,
     "metadata": {},
     "output_type": "execute_result"
    }
   ],
   "source": [
    "LZ77_to_Linspace_Commands(compressed_array, dt)"
   ]
  },
  {
   "cell_type": "code",
   "execution_count": null,
   "id": "c6494a83",
   "metadata": {},
   "outputs": [
    {
     "name": "stdout",
     "output_type": "stream",
     "text": [
      "> \u001b[1;32mc:\\users\\surrey\\appdata\\local\\temp\\ipykernel_18056\\2228648148.py\u001b[0m(31)\u001b[0;36m<module>\u001b[1;34m()\u001b[0m\n",
      "\n",
      "[7, 8, 9, 10, 11, 12]\n"
     ]
    }
   ],
   "source": [
    "%debug"
   ]
  },
  {
   "cell_type": "code",
   "execution_count": null,
   "id": "a6e94305",
   "metadata": {},
   "outputs": [],
   "source": []
  },
  {
   "cell_type": "code",
   "execution_count": null,
   "id": "05a36546",
   "metadata": {},
   "outputs": [],
   "source": []
  },
  {
   "cell_type": "code",
   "execution_count": null,
   "id": "15409f46",
   "metadata": {},
   "outputs": [],
   "source": []
  },
  {
   "cell_type": "code",
   "execution_count": null,
   "id": "f2c7b23a",
   "metadata": {},
   "outputs": [],
   "source": []
  },
  {
   "cell_type": "code",
   "execution_count": null,
   "id": "6f845eeb",
   "metadata": {},
   "outputs": [],
   "source": [
    "# translating the Commands to DecaDAC commands\n",
    "loops = {}\n",
    "last_used_loop_addrs = 1\n",
    "last_used_memory_addrs = 45056\n",
    "\n",
    "def get_initialization(boards:Union[List[int], None]=None):\n",
    "    res = [\"*1:\"]\n",
    "    if boards is None:\n",
    "        boards = [1, 2, 3, 4, 5]\n",
    "    for b in boards:\n",
    "        res.append(f\"B{b};M2;\")\n",
    "        \n",
    "    \"\"\"\n",
    "    SpecialConditions:\n",
    "    ;08 = Trig1 is zero\n",
    "    ;09 = Trig1 is not zero\n",
    "    ;0A = Trig2 is zero\n",
    "    ;0B = Trig2 is not zero\n",
    "    \"\"\"\n",
    "    res.append(f\"X{0x800+1};\")\n",
    "\n",
    "    return \"\".join(res)\n",
    "\n",
    "def LoopLabel_to_DecaDAC(val:LoopLabel):\n",
    "    nonlocal last_used_loop_addrs, last_used_memory_addrs, loops\n",
    "\n",
    "    assert val.idx not in loops\n",
    "    last_used_loop_addrs += 1\n",
    "    last_used_memory_addrs += 1\n",
    "    loops[val.idx] = {\"count\": val.count, \"loop_addr\": last_used_loop_addrs, \"counter_addr\": last_used_memory_addrs}\n",
    "\n",
    "    return f\"A{loops[val.idx]['counter_addr']};P{loops[val.idx]['count']};*{loops[val.idx]['loop_addr']}:\"\n",
    "\n",
    "def LoopJmp_to_DecaDAC(val:LoopJmp):\n",
    "    assert val.idx in loops\n",
    "    return f\"A{loops[val.idx]['counter_addr']};+-1;X{0x500+loops[val.idx]['loop_addr']};\"\n",
    "\n",
    "def Increment_to_DecaDAC(val:Increment):\n",
    "    int_delta = int(volt_to_int(val.value)-volt_to_int(0))\n",
    "    return f\"A{1545+16*(val.channel)};+{int_delta};A{1538+16*(val.channel)};P3;\"\n",
    "\n",
    "def Set_to_DecaDAC(val:Set):\n",
    "    value_to_set = volt_to_int(val.value)\n",
    "    return f\"A{1545+16*(val.channel)};+{value_to_set};A{1538+16*(val.channel)};P3;\"\n",
    "\n",
    "def Wait_to_DecaDAC(val:Wait):\n",
    "    nonlocal last_used_loop_addrs\n",
    "    d_in_us = int(round(float(val.duration)*1e-3)) # from ns to us\n",
    "    last_used_loop_addrs += 1\n",
    "    return f\"${d_in_us};*{last_used_loop_addrs};X{0x300+last_used_loop_addrs};\"\n",
    "\n",
    "def Play_to_DecaDAC(val:Play):\n",
    "    raise NotImplementedError()\n"
   ]
  },
  {
   "cell_type": "code",
   "execution_count": null,
   "id": "6d136e3f",
   "metadata": {},
   "outputs": [],
   "source": []
  },
  {
   "cell_type": "code",
   "execution_count": 1698,
   "id": "b0ad6047",
   "metadata": {},
   "outputs": [],
   "source": [
    "from qupulse.pulses import *\n",
    "from qupulse.program.linspace import *\n",
    "from qupulse.program.transformation import *"
   ]
  },
  {
   "cell_type": "code",
   "execution_count": null,
   "id": "dfee3d5f",
   "metadata": {},
   "outputs": [],
   "source": [
    "my_program = LinSpaceIter(length=100, body=(LinSpaceIter(\n",
    "            length=200,\n",
    "            body=(LinSpaceHold(\n",
    "                bases=(-.1, -0.5),\n",
    "                factors=((0.0, 0.001),\n",
    "                         (0.002, 0.0)),\n",
    "                duration_base=TimeType(10**6),\n",
    "                duration_factors=None\n",
    "            ),)\n",
    "        ),))"
   ]
  },
  {
   "cell_type": "code",
   "execution_count": null,
   "id": "95e94b93",
   "metadata": {},
   "outputs": [
    {
     "data": {
      "text/plain": [
       "[Set(channel=0, value=-0.1, key=DepKey(factors=(0, 1000000))),\n",
       " Set(channel=1, value=-0.5, key=DepKey(factors=(2000000,))),\n",
       " Wait(duration=TimeType(1000000, 1)),\n",
       " LoopLabel(idx=0, count=199),\n",
       " Increment(channel=0, value=0.001, dependency_key=DepKey(factors=(0, 1000000))),\n",
       " Wait(duration=TimeType(1000000, 1)),\n",
       " LoopJmp(idx=0),\n",
       " LoopLabel(idx=1, count=99),\n",
       " Increment(channel=0, value=-0.2, dependency_key=DepKey(factors=(0, 1000000))),\n",
       " Increment(channel=1, value=0.002, dependency_key=DepKey(factors=(2000000,))),\n",
       " Wait(duration=TimeType(1000000, 1)),\n",
       " LoopLabel(idx=2, count=199),\n",
       " Increment(channel=0, value=0.001, dependency_key=DepKey(factors=(0, 1000000))),\n",
       " Wait(duration=TimeType(1000000, 1)),\n",
       " LoopJmp(idx=2),\n",
       " LoopJmp(idx=1)]"
      ]
     },
     "execution_count": 1148,
     "metadata": {},
     "output_type": "execute_result"
    }
   ],
   "source": [
    "commands = to_increment_commands(my_program)\n",
    "commands"
   ]
  },
  {
   "cell_type": "code",
   "execution_count": null,
   "id": "01221717",
   "metadata": {},
   "outputs": [],
   "source": [
    "commands = [\n",
    "    Set(channel=0, value=-0.1, key=DepKey(factors=(0, 1000000))),\n",
    "    Set(channel=1, value=-0.5, key=DepKey(factors=(2000000,))),\n",
    "    Wait(duration=TimeType(1000000000, 1)),\n",
    "    LoopLabel(idx=0, count=10),\n",
    "    Increment(channel=0, value=0.001, dependency_key=DepKey(factors=(0, 1000000))),\n",
    "    Wait(duration=TimeType(1000000000, 1)),\n",
    "    LoopJmp(idx=0),\n",
    "    LoopLabel(idx=1, count=10),\n",
    "    Set(channel=0, value=-0.1, key=DepKey(factors=(0, 1000000))),\n",
    "    Increment(channel=1, value=0.002, dependency_key=DepKey(factors=(2000000,))),\n",
    "    Wait(duration=TimeType(1000000000, 1)),\n",
    "    LoopLabel(idx=2, count=10),\n",
    "    Increment(channel=0, value=0.001, dependency_key=DepKey(factors=(0, 1000000))),\n",
    "    Wait(duration=TimeType(1000000000, 1)),\n",
    "    LoopJmp(idx=2),\n",
    "    LoopJmp(idx=1),\n",
    "    Set(channel=0, value=-0.1, key=DepKey(factors=(0, 1000000))),\n",
    "    Set(channel=1, value=-0.5, key=DepKey(factors=(2000000,))),\n",
    " ]"
   ]
  },
  {
   "cell_type": "code",
   "execution_count": null,
   "id": "b5b93f92",
   "metadata": {},
   "outputs": [
    {
     "data": {
      "text/plain": [
       "'*1:B0;M2;B1;M2;B2;M2;B3;M2;B4;M2;*2:X2050;A1545;P32439;A1538;P3;A1577;P31129;A1570;P3;$1000000;*3:X771;A45057;P10;*4:A1545;+3;A1538;P3;$1000000;*5:X773;A45057;+-1;X1284;A45058;P10;*6:A1545;P32439;A1538;P3;A1577;+7;A1570;P3;$1000000;*7:X775;A45059;P10;*8:A1545;+3;A1538;P3;$1000000;*9:X777;A45059;+-1;X1288;A45058;+-1;X1286;A1545;P32439;A1538;P3;A1577;P31129;A1570;P3;X0;'"
      ]
     },
     "execution_count": 1172,
     "metadata": {},
     "output_type": "execute_result"
    }
   ],
   "source": [
    "translated = translate_command_list_to_ascii(commands, channel_mapping={0:0, 1:2})\n",
    "translated"
   ]
  },
  {
   "cell_type": "code",
   "execution_count": null,
   "id": "6dc78f35",
   "metadata": {},
   "outputs": [
    {
     "data": {
      "text/plain": [
       "['_resource_manager',\n",
       " 'visalib',\n",
       " '_resource_name',\n",
       " '_logging_extra',\n",
       " '_session',\n",
       " '_write_termination',\n",
       " '_read_termination',\n",
       " '__module__',\n",
       " '__annotations__',\n",
       " '__doc__',\n",
       " 'baud_rate',\n",
       " 'data_bits',\n",
       " 'parity',\n",
       " 'stop_bits',\n",
       " 'flow_control',\n",
       " 'bytes_in_buffer',\n",
       " 'discard_null',\n",
       " 'allow_transmit',\n",
       " 'end_input',\n",
       " 'end_output',\n",
       " 'break_length',\n",
       " 'break_state',\n",
       " 'replace_char',\n",
       " 'xoff_char',\n",
       " 'xon_char',\n",
       " 'visa_attributes_classes',\n",
       " 'CR',\n",
       " 'LF',\n",
       " 'chunk_size',\n",
       " 'query_delay',\n",
       " '_encoding',\n",
       " 'encoding',\n",
       " 'read_termination',\n",
       " 'write_termination',\n",
       " 'send_end',\n",
       " 'io_protocol',\n",
       " 'allow_dma',\n",
       " 'write_raw',\n",
       " 'write',\n",
       " 'write_ascii_values',\n",
       " 'write_binary_values',\n",
       " 'read_bytes',\n",
       " 'read_raw',\n",
       " '_read_raw',\n",
       " 'read',\n",
       " 'read_ascii_values',\n",
       " 'read_binary_values',\n",
       " 'query',\n",
       " 'query_ascii_values',\n",
       " 'query_binary_values',\n",
       " 'assert_trigger',\n",
       " 'stb',\n",
       " 'read_stb',\n",
       " 'read_termination_context',\n",
       " 'flush',\n",
       " 'register',\n",
       " '__init__',\n",
       " 'session',\n",
       " '__del__',\n",
       " '__str__',\n",
       " '__repr__',\n",
       " '__enter__',\n",
       " '__exit__',\n",
       " 'last_status',\n",
       " 'resource_info',\n",
       " 'interface_type',\n",
       " 'interface_number',\n",
       " 'resource_class',\n",
       " 'resource_name',\n",
       " 'implementation_version',\n",
       " 'lock_state',\n",
       " 'spec_version',\n",
       " 'resource_manufacturer_name',\n",
       " 'timeout',\n",
       " 'ignore_warning',\n",
       " 'open',\n",
       " 'before_close',\n",
       " 'close',\n",
       " '_Resource__switch_events_off',\n",
       " 'get_visa_attribute',\n",
       " 'set_visa_attribute',\n",
       " 'clear',\n",
       " 'install_handler',\n",
       " 'wrap_handler',\n",
       " 'uninstall_handler',\n",
       " 'disable_event',\n",
       " 'discard_events',\n",
       " 'enable_event',\n",
       " 'wait_on_event',\n",
       " 'lock',\n",
       " 'lock_excl',\n",
       " 'unlock',\n",
       " 'lock_context',\n",
       " '__dict__',\n",
       " '__weakref__',\n",
       " '__new__',\n",
       " '__hash__',\n",
       " '__getattribute__',\n",
       " '__setattr__',\n",
       " '__delattr__',\n",
       " '__lt__',\n",
       " '__le__',\n",
       " '__eq__',\n",
       " '__ne__',\n",
       " '__gt__',\n",
       " '__ge__',\n",
       " '__reduce_ex__',\n",
       " '__reduce__',\n",
       " '__subclasshook__',\n",
       " '__init_subclass__',\n",
       " '__format__',\n",
       " '__sizeof__',\n",
       " '__dir__',\n",
       " '__class__']"
      ]
     },
     "execution_count": 1088,
     "metadata": {},
     "output_type": "execute_result"
    }
   ],
   "source": [
    "dac.visa_handle.__dir__()"
   ]
  },
  {
   "cell_type": "code",
   "execution_count": null,
   "id": "cec55b41",
   "metadata": {},
   "outputs": [],
   "source": [
    "DecaDACRep = DecaDACRepresentation(serial_ask=dac.ask_raw)"
   ]
  },
  {
   "cell_type": "code",
   "execution_count": null,
   "id": "e0e51918",
   "metadata": {},
   "outputs": [],
   "source": [
    "DecaDACRep.upload_command_list(commands, channel_mapping={0:0, 1:2})"
   ]
  },
  {
   "cell_type": "code",
   "execution_count": null,
   "id": "4bfe3821",
   "metadata": {},
   "outputs": [],
   "source": [
    "DecaDACRep.reset()"
   ]
  },
  {
   "cell_type": "code",
   "execution_count": null,
   "id": "cb360e74",
   "metadata": {},
   "outputs": [
    {
     "name": "stdout",
     "output_type": "stream",
     "text": [
      "Unexpected exception formatting exception. Falling back to standard exception\n"
     ]
    },
    {
     "name": "stderr",
     "output_type": "stream",
     "text": [
      "Traceback (most recent call last):\n",
      "  File \"c:\\Users\\Surrey\\Miniconda3\\envs\\ml4qworkshop\\lib\\site-packages\\IPython\\core\\interactiveshell.py\", line 3505, in run_code\n",
      "    exec(code_obj, self.user_global_ns, self.user_ns)\n",
      "  File \"C:\\Users\\Surrey\\AppData\\Local\\Temp\\ipykernel_18056\\2301541558.py\", line 1, in <module>\n",
      "    DecaDACRep.arm()\n",
      "  File \"\\\\Janeway\\User AG Bluhm\\Surrey\\git\\qupulse\\qupulse\\hardware\\awgs\\decadac.py\", line 202, in arm\n",
      "    run_script(serial_ask=self.serial_ask, label=1)\n",
      "  File \"\\\\Janeway\\User AG Bluhm\\Surrey\\git\\qupulse\\qupulse\\hardware\\awgs\\decadac.py\", line 120, in run_script\n",
      "    resp = serial_ask(f\"X{label};\")\n",
      "  File \"\\\\Janeway\\User AG Bluhm\\Surrey\\git\\Qcodes\\qcodes\\instrument\\visa.py\", line 235, in ask_raw\n",
      "    response = self.visa_handle.query(cmd)\n",
      "  File \"c:\\Users\\Surrey\\Miniconda3\\envs\\ml4qworkshop\\lib\\site-packages\\pyvisa\\resources\\messagebased.py\", line 644, in query\n",
      "    return self.read()\n",
      "  File \"c:\\Users\\Surrey\\Miniconda3\\envs\\ml4qworkshop\\lib\\site-packages\\pyvisa\\resources\\messagebased.py\", line 486, in read\n",
      "    message = self._read_raw().decode(enco)\n",
      "  File \"c:\\Users\\Surrey\\Miniconda3\\envs\\ml4qworkshop\\lib\\site-packages\\pyvisa\\resources\\messagebased.py\", line 442, in _read_raw\n",
      "    chunk, status = self.visalib.read(self.session, size)\n",
      "  File \"c:\\Users\\Surrey\\Miniconda3\\envs\\ml4qworkshop\\lib\\site-packages\\pyvisa\\ctwrapper\\functions.py\", line 2337, in read\n",
      "    ret = library.viRead(session, buffer, count, byref(return_count))\n",
      "  File \"c:\\Users\\Surrey\\Miniconda3\\envs\\ml4qworkshop\\lib\\site-packages\\pyvisa\\ctwrapper\\highlevel.py\", line 222, in _return_handler\n",
      "    return self.handle_return_value(session, ret_value)  # type: ignore\n",
      "  File \"c:\\Users\\Surrey\\Miniconda3\\envs\\ml4qworkshop\\lib\\site-packages\\pyvisa\\highlevel.py\", line 251, in handle_return_value\n",
      "    raise errors.VisaIOError(rv)\n",
      "pyvisa.errors.VisaIOError: VI_ERROR_TMO (-1073807339): Timeout expired before operation completed.\n",
      "\n",
      "During handling of the above exception, another exception occurred:\n",
      "\n",
      "Traceback (most recent call last):\n",
      "  File \"c:\\Users\\Surrey\\Miniconda3\\envs\\ml4qworkshop\\lib\\site-packages\\IPython\\core\\interactiveshell.py\", line 2102, in showtraceback\n",
      "    stb = self.InteractiveTB.structured_traceback(\n",
      "  File \"c:\\Users\\Surrey\\Miniconda3\\envs\\ml4qworkshop\\lib\\site-packages\\IPython\\core\\ultratb.py\", line 1310, in structured_traceback\n",
      "    return FormattedTB.structured_traceback(\n",
      "  File \"c:\\Users\\Surrey\\Miniconda3\\envs\\ml4qworkshop\\lib\\site-packages\\IPython\\core\\ultratb.py\", line 1199, in structured_traceback\n",
      "    return VerboseTB.structured_traceback(\n",
      "  File \"c:\\Users\\Surrey\\Miniconda3\\envs\\ml4qworkshop\\lib\\site-packages\\IPython\\core\\ultratb.py\", line 1052, in structured_traceback\n",
      "    formatted_exception = self.format_exception_as_a_whole(etype, evalue, etb, number_of_lines_of_context,\n",
      "  File \"c:\\Users\\Surrey\\Miniconda3\\envs\\ml4qworkshop\\lib\\site-packages\\IPython\\core\\ultratb.py\", line 978, in format_exception_as_a_whole\n",
      "    frames.append(self.format_record(record))\n",
      "  File \"c:\\Users\\Surrey\\Miniconda3\\envs\\ml4qworkshop\\lib\\site-packages\\IPython\\core\\ultratb.py\", line 878, in format_record\n",
      "    frame_info.lines, Colors, self.has_colors, lvals\n",
      "  File \"c:\\Users\\Surrey\\Miniconda3\\envs\\ml4qworkshop\\lib\\site-packages\\IPython\\core\\ultratb.py\", line 712, in lines\n",
      "    return self._sd.lines\n",
      "  File \"c:\\Users\\Surrey\\Miniconda3\\envs\\ml4qworkshop\\lib\\site-packages\\stack_data\\utils.py\", line 145, in cached_property_wrapper\n",
      "    value = obj.__dict__[self.func.__name__] = self.func(obj)\n",
      "  File \"c:\\Users\\Surrey\\Miniconda3\\envs\\ml4qworkshop\\lib\\site-packages\\stack_data\\core.py\", line 698, in lines\n",
      "    pieces = self.included_pieces\n",
      "  File \"c:\\Users\\Surrey\\Miniconda3\\envs\\ml4qworkshop\\lib\\site-packages\\stack_data\\utils.py\", line 145, in cached_property_wrapper\n",
      "    value = obj.__dict__[self.func.__name__] = self.func(obj)\n",
      "  File \"c:\\Users\\Surrey\\Miniconda3\\envs\\ml4qworkshop\\lib\\site-packages\\stack_data\\core.py\", line 649, in included_pieces\n",
      "    pos = scope_pieces.index(self.executing_piece)\n",
      "  File \"c:\\Users\\Surrey\\Miniconda3\\envs\\ml4qworkshop\\lib\\site-packages\\stack_data\\utils.py\", line 145, in cached_property_wrapper\n",
      "    value = obj.__dict__[self.func.__name__] = self.func(obj)\n",
      "  File \"c:\\Users\\Surrey\\Miniconda3\\envs\\ml4qworkshop\\lib\\site-packages\\stack_data\\core.py\", line 628, in executing_piece\n",
      "    return only(\n",
      "  File \"c:\\Users\\Surrey\\Miniconda3\\envs\\ml4qworkshop\\lib\\site-packages\\executing\\executing.py\", line 164, in only\n",
      "    raise NotOneValueFound('Expected one value, found 0')\n",
      "executing.executing.NotOneValueFound: Expected one value, found 0\n"
     ]
    }
   ],
   "source": [
    "DecaDACRep.arm()"
   ]
  },
  {
   "cell_type": "code",
   "execution_count": null,
   "id": "bbace888",
   "metadata": {},
   "outputs": [],
   "source": []
  },
  {
   "cell_type": "code",
   "execution_count": null,
   "id": "5a24d088",
   "metadata": {},
   "outputs": [],
   "source": []
  },
  {
   "cell_type": "code",
   "execution_count": null,
   "id": "a9a520ee",
   "metadata": {},
   "outputs": [],
   "source": []
  },
  {
   "cell_type": "code",
   "execution_count": null,
   "id": "d288eda0",
   "metadata": {},
   "outputs": [],
   "source": [
    "import matplotlib.pyplot as plt"
   ]
  },
  {
   "cell_type": "code",
   "execution_count": null,
   "id": "3527e3db",
   "metadata": {},
   "outputs": [
    {
     "data": {
      "image/png": "[encoded data removed]",
      "text/plain": [
       "<Figure size 640x480 with 1 Axes>"
      ]
     },
     "metadata": {},
     "output_type": "display_data"
    }
   ],
   "source": [
    "simple_numpy_pulse = np.repeat(np.cumsum(np.ones(80))[None, :], 3, axis=0)/150\n",
    "simple_numpy_pulse[1, :] = np.repeat((np.sin(2*np.pi*np.arange(20)/20)*0.05)[None, :], 4, axis=0).flatten()\n",
    "simple_numpy_pulse[2, :] *= -0.5\n",
    "\n",
    "\n",
    "simple_numpy_pulse[0, :] *= 0.0\n",
    "simple_numpy_pulse[2, :] *= 0.0\n",
    "\n",
    "plt.plot(simple_numpy_pulse.T, marker=\"x\")\n",
    "plt.show()"
   ]
  },
  {
   "cell_type": "code",
   "execution_count": null,
   "id": "f0180f82",
   "metadata": {},
   "outputs": [
    {
     "name": "stdout",
     "output_type": "stream",
     "text": [
      "(180, 3)\n"
     ]
    },
    {
     "data": {
      "image/png": "[encoded data removed]",
      "text/plain": [
       "<Figure size 640x480 with 1 Axes>"
      ]
     },
     "metadata": {},
     "output_type": "display_data"
    }
   ],
   "source": [
    "periods = 6\n",
    "\n",
    "sin_segment = (np.repeat(np.sin(2*np.pi*np.arange(30)/30)[None, :], 3, axis=0).T)\n",
    "sin_segment = np.repeat(sin_segment[None, :, :], periods, axis=0).reshape((-1, 3))\n",
    "\n",
    "sin_segment[:, 1] = np.roll(sin_segment[:, 1], 5)\n",
    "sin_segment[:, 2] = np.roll(sin_segment[:, 1], 10)\n",
    "\n",
    "print(sin_segment.shape)\n",
    "\n",
    "simple_numpy_pulse = np.concatenate([\n",
    "    np.repeat(np.array([[0.1, 0.2, 0.3]]), 3, axis=0),\n",
    "    np.repeat(np.array([[0.1, 0.1, 0.1]]), 5, axis=0),\n",
    "    np.repeat(np.array([[0.1, 0.1, -0.1]]), 10, axis=0),\n",
    "    sin_segment,\n",
    "    np.repeat(np.array([[0.1, 0.1, -0.1]]), 10, axis=0),\n",
    "    np.repeat(np.array([[0.1+0.01, 0.0+0.1, -0.1]]), 5, axis=0),\n",
    "    np.repeat(np.array([[0.1+0.01, 0.1+0.1, 0.1]]), 10, axis=0),\n",
    "    np.repeat(np.array([[0.1+0.01, 0.2+0.1, 0.3]]), 6, axis=0),\n",
    "])\n",
    "\n",
    "simple_numpy_pulse = simple_numpy_pulse.T*0.3\n",
    "\n",
    "plt.plot(simple_numpy_pulse.T, marker=\"x\")\n",
    "plt.show()"
   ]
  },
  {
   "cell_type": "code",
   "execution_count": 1748,
   "id": "ad9f158b",
   "metadata": {},
   "outputs": [
    {
     "name": "stdout",
     "output_type": "stream",
     "text": [
      "(30, 3)\n",
      "(18, 3)\n",
      "(48, 3)\n",
      "(480, 3)\n"
     ]
    },
    {
     "data": {
      "image/png": "[encoded data removed]",
      "text/plain": [
       "<Figure size 640x480 with 1 Axes>"
      ]
     },
     "metadata": {},
     "output_type": "display_data"
    }
   ],
   "source": [
    "periods = 10\n",
    "\n",
    "one_sin = np.sin(2*np.pi*np.arange(30)/30)\n",
    "one_sin = (np.repeat(one_sin[None, :], 3, axis=0).T)\n",
    "one_sin[:, 1] = np.roll(one_sin[:, 1], 5)\n",
    "one_sin[:, 2] = np.roll(one_sin[:, 1], 10)\n",
    "print(one_sin.shape)\n",
    "\n",
    "intermediate = np.concatenate([\n",
    "    np.repeat(np.array([[0.1*2, 0.1*3, -0.1*3]]), 3, axis=0),\n",
    "    np.repeat(np.array([[0.*2, 0.2*3, 0.1*3]]), 5, axis=0),\n",
    "    np.repeat(np.array([[-0.2*2, 0.1*3, 0.2*3]]), 10, axis=0),\n",
    "])\n",
    "print(intermediate.shape)\n",
    "\n",
    "one_period = np.concatenate([\n",
    "    one_sin[:15, :],\n",
    "    intermediate,\n",
    "    one_sin[15:, :],\n",
    "])\n",
    "print(one_period.shape)\n",
    "\n",
    "segment = np.repeat(one_period[None, :, :], periods, axis=0).reshape((-1, 3))\n",
    "print(segment.shape)\n",
    "\n",
    "\n",
    "simple_numpy_pulse = np.concatenate([\n",
    "    np.repeat(np.array([[0.1, 0.2, 0.3]]), 3, axis=0),\n",
    "    np.repeat(np.array([[0.1, 0.1, 0.1]]), 5, axis=0),\n",
    "    np.repeat(np.array([[0.1, 0.1, -0.1]]), 10, axis=0),\n",
    "    segment,\n",
    "    np.repeat(np.array([[0.1, 0.1, -0.1]]), 10, axis=0),\n",
    "    np.repeat(np.array([[0.1+0.01, 0.0+0.1, -0.1]]), 5, axis=0),\n",
    "    np.repeat(np.array([[0.1+0.01, 0.1+0.1, 0.1]]), 10, axis=0),\n",
    "    np.repeat(np.array([[0.1+0.01, 0.2+0.1, 0.3]]), 6, axis=0),\n",
    "])\n",
    "\n",
    "simple_numpy_pulse = simple_numpy_pulse.T*0.1\n",
    "\n",
    "plt.plot(simple_numpy_pulse.T, marker=\"x\")\n",
    "plt.show()"
   ]
  },
  {
   "cell_type": "code",
   "execution_count": 1749,
   "id": "5b634195",
   "metadata": {},
   "outputs": [
    {
     "name": "stdout",
     "output_type": "stream",
     "text": [
      "87\n"
     ]
    },
    {
     "data": {
      "text/plain": [
       "[(0, 0, array([32800, 32833, 32865])),\n",
       " (0, 0, array([0, 0, 0])),\n",
       " (1, 1, array([  0, -33, -65])),\n",
       " (0, 0, array([0, 0, 0])),\n",
       " (1, 3, array([  0,   0, -66])),\n",
       " (0, 0, array([0, 0, 0])),\n",
       " (1, 8, array([ -33, -317,   33])),\n",
       " (0, 0, array([ 68,  40, -68])),\n",
       " (0, 0, array([ 65,  51, -65])),\n",
       " (0, 0, array([ 60,  60, -60])),\n",
       " (0, 0, array([ 51,  65, -51])),\n",
       " (0, 0, array([ 40,  68, -40])),\n",
       " (0, 0, array([ 28,  68, -28])),\n",
       " (0, 0, array([ 14,  65, -14])),\n",
       " (0, 0, array([ 0, 60,  0])),\n",
       " (0, 0, array([-14,  51,  14])),\n",
       " (0, 0, array([-28,  40,  28])),\n",
       " (0, 0, array([-40,  28,  40])),\n",
       " (0, 0, array([-51,  14,  51])),\n",
       " (0, 0, array([-60,   0,  60])),\n",
       " (0, 0, array([-65, -14,  65])),\n",
       " (0, 0, array([  -2, -214,  -30])),\n",
       " (0, 0, array([0, 0, 0])),\n",
       " (1, 1, array([-66,  99, 196])),\n",
       " (0, 0, array([0, 0, 0])),\n",
       " (1, 3, array([-131,  -99,   99])),\n",
       " (0, 0, array([0, 0, 0])),\n",
       " (1, 8, array([ 131,  186, -197])),\n",
       " (0, 0, array([-68, -40,  68])),\n",
       " (0, 0, array([-65, -51,  65])),\n",
       " (0, 0, array([-60, -60,  60])),\n",
       " (0, 0, array([-51, -65,  51])),\n",
       " (0, 0, array([-40, -68,  40])),\n",
       " (0, 0, array([-28, -68,  28])),\n",
       " (0, 0, array([-14, -65,  14])),\n",
       " (0, 0, array([  0, -60,   0])),\n",
       " (0, 0, array([ 14, -51, -14])),\n",
       " (0, 0, array([ 28, -40, -28])),\n",
       " (0, 0, array([ 40, -28, -40])),\n",
       " (0, 0, array([ 51, -14, -51])),\n",
       " (0, 0, array([ 60,   0, -60])),\n",
       " (0, 0, array([ 65,  14, -65])),\n",
       " (0, 0, array([ 68,  28, -68])),\n",
       " (48, 384, array([ 68,  40, -68])),\n",
       " (0, 0, array([ 65,  51, -65])),\n",
       " (0, 0, array([ 60,  60, -60])),\n",
       " (0, 0, array([ 51,  65, -51])),\n",
       " (0, 0, array([ 40,  68, -40])),\n",
       " (0, 0, array([ 28,  68, -28])),\n",
       " (0, 0, array([ 14,  65, -14])),\n",
       " (0, 0, array([ 0, 60,  0])),\n",
       " (0, 0, array([-14,  51,  14])),\n",
       " (0, 0, array([-28,  40,  28])),\n",
       " (0, 0, array([-40,  28,  40])),\n",
       " (0, 0, array([-51,  14,  51])),\n",
       " (0, 0, array([-60,   0,  60])),\n",
       " (0, 0, array([-65, -14,  65])),\n",
       " (0, 0, array([  -2, -214,  -30])),\n",
       " (0, 0, array([0, 0, 0])),\n",
       " (1, 1, array([-66,  99, 196])),\n",
       " (0, 0, array([0, 0, 0])),\n",
       " (1, 3, array([-131,  -99,   99])),\n",
       " (0, 0, array([0, 0, 0])),\n",
       " (1, 8, array([ 131,  186, -197])),\n",
       " (0, 0, array([-68, -40,  68])),\n",
       " (0, 0, array([-65, -51,  65])),\n",
       " (0, 0, array([-60, -60,  60])),\n",
       " (0, 0, array([-51, -65,  51])),\n",
       " (0, 0, array([-40, -68,  40])),\n",
       " (0, 0, array([-28, -68,  28])),\n",
       " (0, 0, array([-14, -65,  14])),\n",
       " (0, 0, array([  0, -60,   0])),\n",
       " (0, 0, array([ 14, -51, -14])),\n",
       " (0, 0, array([ 28, -40, -28])),\n",
       " (0, 0, array([ 40, -28, -40])),\n",
       " (0, 0, array([ 51, -14, -51])),\n",
       " (0, 0, array([ 60,   0, -60])),\n",
       " (0, 0, array([ 65,  14, -65])),\n",
       " (0, 0, array([ 101,  345, -101])),\n",
       " (0, 0, array([0, 0, 0])),\n",
       " (1, 8, array([3, 0, 0])),\n",
       " (0, 0, array([0, 0, 0])),\n",
       " (1, 3, array([ 0, 33, 66])),\n",
       " (0, 0, array([0, 0, 0])),\n",
       " (1, 8, array([ 0, 32, 65])),\n",
       " (0, 0, array([0, 0, 0])),\n",
       " (1, 4, None)]"
      ]
     },
     "execution_count": 1749,
     "metadata": {},
     "output_type": "execute_result"
    }
   ],
   "source": [
    "comp = compress_array_LZ77(array=volt_to_int(simple_numpy_pulse.T).astype(int), allow_intermediates=False, using_diffs=True, allow_reconstructions_using_reconstructions=False)\n",
    "print(len(comp))\n",
    "comp"
   ]
  },
  {
   "cell_type": "code",
   "execution_count": 1742,
   "id": "309c1eb7",
   "metadata": {},
   "outputs": [
    {
     "name": "stdout",
     "output_type": "stream",
     "text": [
      "314\n"
     ]
    },
    {
     "data": {
      "text/plain": [
       "[Increment(channel=0, value=32800, dependency_key=None),\n",
       " Increment(channel=1, value=32833, dependency_key=None),\n",
       " Increment(channel=2, value=32865, dependency_key=None),\n",
       " Wait(duration=1e-05),\n",
       " LoopLabel(idx=0, count=2),\n",
       " Wait(duration=1e-05),\n",
       " LoopJmp(idx=0),\n",
       " Increment(channel=1, value=-33, dependency_key=None),\n",
       " Increment(channel=2, value=-65, dependency_key=None),\n",
       " Wait(duration=1e-05),\n",
       " LoopLabel(idx=1, count=4),\n",
       " Wait(duration=1e-05),\n",
       " LoopJmp(idx=1),\n",
       " Increment(channel=2, value=-66, dependency_key=None),\n",
       " Wait(duration=1e-05),\n",
       " LoopLabel(idx=2, count=9),\n",
       " Wait(duration=1e-05),\n",
       " LoopJmp(idx=2),\n",
       " Increment(channel=0, value=-33, dependency_key=None),\n",
       " Increment(channel=1, value=-317, dependency_key=None),\n",
       " Increment(channel=2, value=33, dependency_key=None),\n",
       " Wait(duration=1e-05),\n",
       " LoopLabel(idx=6, count=9),\n",
       " Increment(channel=0, value=68, dependency_key=None),\n",
       " Increment(channel=1, value=40, dependency_key=None),\n",
       " Increment(channel=2, value=-68, dependency_key=None),\n",
       " Wait(duration=1e-05),\n",
       " Increment(channel=0, value=65, dependency_key=None),\n",
       " Increment(channel=1, value=51, dependency_key=None),\n",
       " Increment(channel=2, value=-65, dependency_key=None),\n",
       " Wait(duration=1e-05),\n",
       " Increment(channel=0, value=60, dependency_key=None),\n",
       " Increment(channel=1, value=60, dependency_key=None),\n",
       " Increment(channel=2, value=-60, dependency_key=None),\n",
       " Wait(duration=1e-05),\n",
       " Increment(channel=0, value=51, dependency_key=None),\n",
       " Increment(channel=1, value=65, dependency_key=None),\n",
       " Increment(channel=2, value=-51, dependency_key=None),\n",
       " Wait(duration=1e-05),\n",
       " Increment(channel=0, value=40, dependency_key=None),\n",
       " Increment(channel=1, value=68, dependency_key=None),\n",
       " Increment(channel=2, value=-40, dependency_key=None),\n",
       " Wait(duration=1e-05),\n",
       " Increment(channel=0, value=28, dependency_key=None),\n",
       " Increment(channel=1, value=68, dependency_key=None),\n",
       " Increment(channel=2, value=-28, dependency_key=None),\n",
       " Wait(duration=1e-05),\n",
       " Increment(channel=0, value=14, dependency_key=None),\n",
       " Increment(channel=1, value=65, dependency_key=None),\n",
       " Increment(channel=2, value=-14, dependency_key=None),\n",
       " Wait(duration=1e-05),\n",
       " Increment(channel=1, value=60, dependency_key=None),\n",
       " Wait(duration=1e-05),\n",
       " Increment(channel=0, value=-14, dependency_key=None),\n",
       " Increment(channel=1, value=51, dependency_key=None),\n",
       " Increment(channel=2, value=14, dependency_key=None),\n",
       " Wait(duration=1e-05),\n",
       " Increment(channel=0, value=-28, dependency_key=None),\n",
       " Increment(channel=1, value=40, dependency_key=None),\n",
       " Increment(channel=2, value=28, dependency_key=None),\n",
       " Wait(duration=1e-05),\n",
       " Increment(channel=0, value=-40, dependency_key=None),\n",
       " Increment(channel=1, value=28, dependency_key=None),\n",
       " Increment(channel=2, value=40, dependency_key=None),\n",
       " Wait(duration=1e-05),\n",
       " Increment(channel=0, value=-51, dependency_key=None),\n",
       " Increment(channel=1, value=14, dependency_key=None),\n",
       " Increment(channel=2, value=51, dependency_key=None),\n",
       " Wait(duration=1e-05),\n",
       " Increment(channel=0, value=-60, dependency_key=None),\n",
       " Increment(channel=2, value=60, dependency_key=None),\n",
       " Wait(duration=1e-05),\n",
       " Increment(channel=0, value=-65, dependency_key=None),\n",
       " Increment(channel=1, value=-14, dependency_key=None),\n",
       " Increment(channel=2, value=65, dependency_key=None),\n",
       " Wait(duration=1e-05),\n",
       " Increment(channel=0, value=-2, dependency_key=None),\n",
       " Increment(channel=1, value=-214, dependency_key=None),\n",
       " Increment(channel=2, value=-30, dependency_key=None),\n",
       " Wait(duration=1e-05),\n",
       " LoopLabel(idx=3, count=2),\n",
       " Wait(duration=1e-05),\n",
       " LoopJmp(idx=3),\n",
       " Increment(channel=0, value=-66, dependency_key=None),\n",
       " Increment(channel=1, value=99, dependency_key=None),\n",
       " Increment(channel=2, value=196, dependency_key=None),\n",
       " Wait(duration=1e-05),\n",
       " LoopLabel(idx=4, count=4),\n",
       " Wait(duration=1e-05),\n",
       " LoopJmp(idx=4),\n",
       " Increment(channel=0, value=-131, dependency_key=None),\n",
       " Increment(channel=1, value=-99, dependency_key=None),\n",
       " Increment(channel=2, value=99, dependency_key=None),\n",
       " Wait(duration=1e-05),\n",
       " LoopLabel(idx=5, count=9),\n",
       " Wait(duration=1e-05),\n",
       " LoopJmp(idx=5),\n",
       " Increment(channel=0, value=131, dependency_key=None),\n",
       " Increment(channel=1, value=186, dependency_key=None),\n",
       " Increment(channel=2, value=-197, dependency_key=None),\n",
       " Wait(duration=1e-05),\n",
       " Increment(channel=0, value=-68, dependency_key=None),\n",
       " Increment(channel=1, value=-40, dependency_key=None),\n",
       " Increment(channel=2, value=68, dependency_key=None),\n",
       " Wait(duration=1e-05),\n",
       " Increment(channel=0, value=-65, dependency_key=None),\n",
       " Increment(channel=1, value=-51, dependency_key=None),\n",
       " Increment(channel=2, value=65, dependency_key=None),\n",
       " Wait(duration=1e-05),\n",
       " Increment(channel=0, value=-60, dependency_key=None),\n",
       " Increment(channel=1, value=-60, dependency_key=None),\n",
       " Increment(channel=2, value=60, dependency_key=None),\n",
       " Wait(duration=1e-05),\n",
       " Increment(channel=0, value=-51, dependency_key=None),\n",
       " Increment(channel=1, value=-65, dependency_key=None),\n",
       " Increment(channel=2, value=51, dependency_key=None),\n",
       " Wait(duration=1e-05),\n",
       " Increment(channel=0, value=-40, dependency_key=None),\n",
       " Increment(channel=1, value=-68, dependency_key=None),\n",
       " Increment(channel=2, value=40, dependency_key=None),\n",
       " Wait(duration=1e-05),\n",
       " Increment(channel=0, value=-28, dependency_key=None),\n",
       " Increment(channel=1, value=-68, dependency_key=None),\n",
       " Increment(channel=2, value=28, dependency_key=None),\n",
       " Wait(duration=1e-05),\n",
       " Increment(channel=0, value=-14, dependency_key=None),\n",
       " Increment(channel=1, value=-65, dependency_key=None),\n",
       " Increment(channel=2, value=14, dependency_key=None),\n",
       " Wait(duration=1e-05),\n",
       " Increment(channel=1, value=-60, dependency_key=None),\n",
       " Wait(duration=1e-05),\n",
       " Increment(channel=0, value=14, dependency_key=None),\n",
       " Increment(channel=1, value=-51, dependency_key=None),\n",
       " Increment(channel=2, value=-14, dependency_key=None),\n",
       " Wait(duration=1e-05),\n",
       " Increment(channel=0, value=28, dependency_key=None),\n",
       " Increment(channel=1, value=-40, dependency_key=None),\n",
       " Increment(channel=2, value=-28, dependency_key=None),\n",
       " Wait(duration=1e-05),\n",
       " Increment(channel=0, value=40, dependency_key=None),\n",
       " Increment(channel=1, value=-28, dependency_key=None),\n",
       " Increment(channel=2, value=-40, dependency_key=None),\n",
       " Wait(duration=1e-05),\n",
       " Increment(channel=0, value=51, dependency_key=None),\n",
       " Increment(channel=1, value=-14, dependency_key=None),\n",
       " Increment(channel=2, value=-51, dependency_key=None),\n",
       " Wait(duration=1e-05),\n",
       " Increment(channel=0, value=60, dependency_key=None),\n",
       " Increment(channel=2, value=-60, dependency_key=None),\n",
       " Wait(duration=1e-05),\n",
       " Increment(channel=0, value=65, dependency_key=None),\n",
       " Increment(channel=1, value=14, dependency_key=None),\n",
       " Increment(channel=2, value=-65, dependency_key=None),\n",
       " Wait(duration=1e-05),\n",
       " Increment(channel=0, value=68, dependency_key=None),\n",
       " Increment(channel=1, value=28, dependency_key=None),\n",
       " Increment(channel=2, value=-68, dependency_key=None),\n",
       " Wait(duration=1e-05),\n",
       " LoopJmp(idx=6),\n",
       " Increment(channel=0, value=68, dependency_key=None),\n",
       " Increment(channel=1, value=40, dependency_key=None),\n",
       " Increment(channel=2, value=-68, dependency_key=None),\n",
       " Wait(duration=1e-05),\n",
       " Increment(channel=0, value=65, dependency_key=None),\n",
       " Increment(channel=1, value=51, dependency_key=None),\n",
       " Increment(channel=2, value=-65, dependency_key=None),\n",
       " Wait(duration=1e-05),\n",
       " Increment(channel=0, value=60, dependency_key=None),\n",
       " Increment(channel=1, value=60, dependency_key=None),\n",
       " Increment(channel=2, value=-60, dependency_key=None),\n",
       " Wait(duration=1e-05),\n",
       " Increment(channel=0, value=51, dependency_key=None),\n",
       " Increment(channel=1, value=65, dependency_key=None),\n",
       " Increment(channel=2, value=-51, dependency_key=None),\n",
       " Wait(duration=1e-05),\n",
       " Increment(channel=0, value=40, dependency_key=None),\n",
       " Increment(channel=1, value=68, dependency_key=None),\n",
       " Increment(channel=2, value=-40, dependency_key=None),\n",
       " Wait(duration=1e-05),\n",
       " Increment(channel=0, value=28, dependency_key=None),\n",
       " Increment(channel=1, value=68, dependency_key=None),\n",
       " Increment(channel=2, value=-28, dependency_key=None),\n",
       " Wait(duration=1e-05),\n",
       " Increment(channel=0, value=14, dependency_key=None),\n",
       " Increment(channel=1, value=65, dependency_key=None),\n",
       " Increment(channel=2, value=-14, dependency_key=None),\n",
       " Wait(duration=1e-05),\n",
       " Increment(channel=1, value=60, dependency_key=None),\n",
       " Wait(duration=1e-05),\n",
       " Increment(channel=0, value=-14, dependency_key=None),\n",
       " Increment(channel=1, value=51, dependency_key=None),\n",
       " Increment(channel=2, value=14, dependency_key=None),\n",
       " Wait(duration=1e-05),\n",
       " Increment(channel=0, value=-28, dependency_key=None),\n",
       " Increment(channel=1, value=40, dependency_key=None),\n",
       " Increment(channel=2, value=28, dependency_key=None),\n",
       " Wait(duration=1e-05),\n",
       " Increment(channel=0, value=-40, dependency_key=None),\n",
       " Increment(channel=1, value=28, dependency_key=None),\n",
       " Increment(channel=2, value=40, dependency_key=None),\n",
       " Wait(duration=1e-05),\n",
       " Increment(channel=0, value=-51, dependency_key=None),\n",
       " Increment(channel=1, value=14, dependency_key=None),\n",
       " Increment(channel=2, value=51, dependency_key=None),\n",
       " Wait(duration=1e-05),\n",
       " Increment(channel=0, value=-60, dependency_key=None),\n",
       " Increment(channel=2, value=60, dependency_key=None),\n",
       " Wait(duration=1e-05),\n",
       " Increment(channel=0, value=-65, dependency_key=None),\n",
       " Increment(channel=1, value=-14, dependency_key=None),\n",
       " Increment(channel=2, value=65, dependency_key=None),\n",
       " Wait(duration=1e-05),\n",
       " Increment(channel=0, value=-2, dependency_key=None),\n",
       " Increment(channel=1, value=-214, dependency_key=None),\n",
       " Increment(channel=2, value=-30, dependency_key=None),\n",
       " Wait(duration=1e-05),\n",
       " LoopLabel(idx=7, count=2),\n",
       " Wait(duration=1e-05),\n",
       " LoopJmp(idx=7),\n",
       " Increment(channel=0, value=-66, dependency_key=None),\n",
       " Increment(channel=1, value=99, dependency_key=None),\n",
       " Increment(channel=2, value=196, dependency_key=None),\n",
       " Wait(duration=1e-05),\n",
       " LoopLabel(idx=8, count=4),\n",
       " Wait(duration=1e-05),\n",
       " LoopJmp(idx=8),\n",
       " Increment(channel=0, value=-131, dependency_key=None),\n",
       " Increment(channel=1, value=-99, dependency_key=None),\n",
       " Increment(channel=2, value=99, dependency_key=None),\n",
       " Wait(duration=1e-05),\n",
       " LoopLabel(idx=9, count=9),\n",
       " Wait(duration=1e-05),\n",
       " LoopJmp(idx=9),\n",
       " Increment(channel=0, value=131, dependency_key=None),\n",
       " Increment(channel=1, value=186, dependency_key=None),\n",
       " Increment(channel=2, value=-197, dependency_key=None),\n",
       " Wait(duration=1e-05),\n",
       " Increment(channel=0, value=-68, dependency_key=None),\n",
       " Increment(channel=1, value=-40, dependency_key=None),\n",
       " Increment(channel=2, value=68, dependency_key=None),\n",
       " Wait(duration=1e-05),\n",
       " Increment(channel=0, value=-65, dependency_key=None),\n",
       " Increment(channel=1, value=-51, dependency_key=None),\n",
       " Increment(channel=2, value=65, dependency_key=None),\n",
       " Wait(duration=1e-05),\n",
       " Increment(channel=0, value=-60, dependency_key=None),\n",
       " Increment(channel=1, value=-60, dependency_key=None),\n",
       " Increment(channel=2, value=60, dependency_key=None),\n",
       " Wait(duration=1e-05),\n",
       " Increment(channel=0, value=-51, dependency_key=None),\n",
       " Increment(channel=1, value=-65, dependency_key=None),\n",
       " Increment(channel=2, value=51, dependency_key=None),\n",
       " Wait(duration=1e-05),\n",
       " Increment(channel=0, value=-40, dependency_key=None),\n",
       " Increment(channel=1, value=-68, dependency_key=None),\n",
       " Increment(channel=2, value=40, dependency_key=None),\n",
       " Wait(duration=1e-05),\n",
       " Increment(channel=0, value=-28, dependency_key=None),\n",
       " Increment(channel=1, value=-68, dependency_key=None),\n",
       " Increment(channel=2, value=28, dependency_key=None),\n",
       " Wait(duration=1e-05),\n",
       " Increment(channel=0, value=-14, dependency_key=None),\n",
       " Increment(channel=1, value=-65, dependency_key=None),\n",
       " Increment(channel=2, value=14, dependency_key=None),\n",
       " Wait(duration=1e-05),\n",
       " Increment(channel=1, value=-60, dependency_key=None),\n",
       " Wait(duration=1e-05),\n",
       " Increment(channel=0, value=14, dependency_key=None),\n",
       " Increment(channel=1, value=-51, dependency_key=None),\n",
       " Increment(channel=2, value=-14, dependency_key=None),\n",
       " Wait(duration=1e-05),\n",
       " Increment(channel=0, value=28, dependency_key=None),\n",
       " Increment(channel=1, value=-40, dependency_key=None),\n",
       " Increment(channel=2, value=-28, dependency_key=None),\n",
       " Wait(duration=1e-05),\n",
       " Increment(channel=0, value=40, dependency_key=None),\n",
       " Increment(channel=1, value=-28, dependency_key=None),\n",
       " Increment(channel=2, value=-40, dependency_key=None),\n",
       " Wait(duration=1e-05),\n",
       " Increment(channel=0, value=51, dependency_key=None),\n",
       " Increment(channel=1, value=-14, dependency_key=None),\n",
       " Increment(channel=2, value=-51, dependency_key=None),\n",
       " Wait(duration=1e-05),\n",
       " Increment(channel=0, value=60, dependency_key=None),\n",
       " Increment(channel=2, value=-60, dependency_key=None),\n",
       " Wait(duration=1e-05),\n",
       " Increment(channel=0, value=65, dependency_key=None),\n",
       " Increment(channel=1, value=14, dependency_key=None),\n",
       " Increment(channel=2, value=-65, dependency_key=None),\n",
       " Wait(duration=1e-05),\n",
       " Increment(channel=0, value=101, dependency_key=None),\n",
       " Increment(channel=1, value=345, dependency_key=None),\n",
       " Increment(channel=2, value=-101, dependency_key=None),\n",
       " Wait(duration=1e-05),\n",
       " LoopLabel(idx=10, count=9),\n",
       " Wait(duration=1e-05),\n",
       " LoopJmp(idx=10),\n",
       " Increment(channel=0, value=3, dependency_key=None),\n",
       " Wait(duration=1e-05),\n",
       " LoopLabel(idx=11, count=4),\n",
       " Wait(duration=1e-05),\n",
       " LoopJmp(idx=11),\n",
       " Increment(channel=1, value=33, dependency_key=None),\n",
       " Increment(channel=2, value=66, dependency_key=None),\n",
       " Wait(duration=1e-05),\n",
       " LoopLabel(idx=12, count=9),\n",
       " Wait(duration=1e-05),\n",
       " LoopJmp(idx=12),\n",
       " Increment(channel=1, value=32, dependency_key=None),\n",
       " Increment(channel=2, value=65, dependency_key=None),\n",
       " Wait(duration=1e-05),\n",
       " LoopLabel(idx=13, count=5),\n",
       " Wait(duration=1e-05),\n",
       " LoopJmp(idx=13)]"
      ]
     },
     "execution_count": 1742,
     "metadata": {},
     "output_type": "execute_result"
    }
   ],
   "source": [
    "linspace_cmds = LZ77_to_linspace_commands(comp, dt=1e-5)\n",
    "print(len(linspace_cmds))\n",
    "linspace_cmds"
   ]
  },
  {
   "cell_type": "code",
   "execution_count": 1743,
   "id": "85d82025",
   "metadata": {},
   "outputs": [
    {
     "name": "stdout",
     "output_type": "stream",
     "text": [
      "314\n",
      "275\n"
     ]
    },
    {
     "data": {
      "text/plain": [
       "[Increment(channel=0, value=32800, dependency_key=None),\n",
       " Increment(channel=1, value=32833, dependency_key=None),\n",
       " Increment(channel=2, value=32865, dependency_key=None),\n",
       " Wait(duration=3.0000000000000004e-05),\n",
       " Increment(channel=1, value=-33, dependency_key=None),\n",
       " Increment(channel=2, value=-65, dependency_key=None),\n",
       " Wait(duration=5e-05),\n",
       " Increment(channel=2, value=-66, dependency_key=None),\n",
       " Wait(duration=0.0001),\n",
       " Increment(channel=0, value=-33, dependency_key=None),\n",
       " Increment(channel=1, value=-317, dependency_key=None),\n",
       " Increment(channel=2, value=33, dependency_key=None),\n",
       " Wait(duration=1e-05),\n",
       " LoopLabel(idx=6, count=9),\n",
       " Increment(channel=0, value=68, dependency_key=None),\n",
       " Increment(channel=1, value=40, dependency_key=None),\n",
       " Increment(channel=2, value=-68, dependency_key=None),\n",
       " Wait(duration=1e-05),\n",
       " Increment(channel=0, value=65, dependency_key=None),\n",
       " Increment(channel=1, value=51, dependency_key=None),\n",
       " Increment(channel=2, value=-65, dependency_key=None),\n",
       " Wait(duration=1e-05),\n",
       " Increment(channel=0, value=60, dependency_key=None),\n",
       " Increment(channel=1, value=60, dependency_key=None),\n",
       " Increment(channel=2, value=-60, dependency_key=None),\n",
       " Wait(duration=1e-05),\n",
       " Increment(channel=0, value=51, dependency_key=None),\n",
       " Increment(channel=1, value=65, dependency_key=None),\n",
       " Increment(channel=2, value=-51, dependency_key=None),\n",
       " Wait(duration=1e-05),\n",
       " Increment(channel=0, value=40, dependency_key=None),\n",
       " Increment(channel=1, value=68, dependency_key=None),\n",
       " Increment(channel=2, value=-40, dependency_key=None),\n",
       " Wait(duration=1e-05),\n",
       " Increment(channel=0, value=28, dependency_key=None),\n",
       " Increment(channel=1, value=68, dependency_key=None),\n",
       " Increment(channel=2, value=-28, dependency_key=None),\n",
       " Wait(duration=1e-05),\n",
       " Increment(channel=0, value=14, dependency_key=None),\n",
       " Increment(channel=1, value=65, dependency_key=None),\n",
       " Increment(channel=2, value=-14, dependency_key=None),\n",
       " Wait(duration=1e-05),\n",
       " Increment(channel=1, value=60, dependency_key=None),\n",
       " Wait(duration=1e-05),\n",
       " Increment(channel=0, value=-14, dependency_key=None),\n",
       " Increment(channel=1, value=51, dependency_key=None),\n",
       " Increment(channel=2, value=14, dependency_key=None),\n",
       " Wait(duration=1e-05),\n",
       " Increment(channel=0, value=-28, dependency_key=None),\n",
       " Increment(channel=1, value=40, dependency_key=None),\n",
       " Increment(channel=2, value=28, dependency_key=None),\n",
       " Wait(duration=1e-05),\n",
       " Increment(channel=0, value=-40, dependency_key=None),\n",
       " Increment(channel=1, value=28, dependency_key=None),\n",
       " Increment(channel=2, value=40, dependency_key=None),\n",
       " Wait(duration=1e-05),\n",
       " Increment(channel=0, value=-51, dependency_key=None),\n",
       " Increment(channel=1, value=14, dependency_key=None),\n",
       " Increment(channel=2, value=51, dependency_key=None),\n",
       " Wait(duration=1e-05),\n",
       " Increment(channel=0, value=-60, dependency_key=None),\n",
       " Increment(channel=2, value=60, dependency_key=None),\n",
       " Wait(duration=1e-05),\n",
       " Increment(channel=0, value=-65, dependency_key=None),\n",
       " Increment(channel=1, value=-14, dependency_key=None),\n",
       " Increment(channel=2, value=65, dependency_key=None),\n",
       " Wait(duration=1e-05),\n",
       " Increment(channel=0, value=-2, dependency_key=None),\n",
       " Increment(channel=1, value=-214, dependency_key=None),\n",
       " Increment(channel=2, value=-30, dependency_key=None),\n",
       " Wait(duration=3.0000000000000004e-05),\n",
       " Increment(channel=0, value=-66, dependency_key=None),\n",
       " Increment(channel=1, value=99, dependency_key=None),\n",
       " Increment(channel=2, value=196, dependency_key=None),\n",
       " Wait(duration=5e-05),\n",
       " Increment(channel=0, value=-131, dependency_key=None),\n",
       " Increment(channel=1, value=-99, dependency_key=None),\n",
       " Increment(channel=2, value=99, dependency_key=None),\n",
       " Wait(duration=0.0001),\n",
       " Increment(channel=0, value=131, dependency_key=None),\n",
       " Increment(channel=1, value=186, dependency_key=None),\n",
       " Increment(channel=2, value=-197, dependency_key=None),\n",
       " Wait(duration=1e-05),\n",
       " Increment(channel=0, value=-68, dependency_key=None),\n",
       " Increment(channel=1, value=-40, dependency_key=None),\n",
       " Increment(channel=2, value=68, dependency_key=None),\n",
       " Wait(duration=1e-05),\n",
       " Increment(channel=0, value=-65, dependency_key=None),\n",
       " Increment(channel=1, value=-51, dependency_key=None),\n",
       " Increment(channel=2, value=65, dependency_key=None),\n",
       " Wait(duration=1e-05),\n",
       " Increment(channel=0, value=-60, dependency_key=None),\n",
       " Increment(channel=1, value=-60, dependency_key=None),\n",
       " Increment(channel=2, value=60, dependency_key=None),\n",
       " Wait(duration=1e-05),\n",
       " Increment(channel=0, value=-51, dependency_key=None),\n",
       " Increment(channel=1, value=-65, dependency_key=None),\n",
       " Increment(channel=2, value=51, dependency_key=None),\n",
       " Wait(duration=1e-05),\n",
       " Increment(channel=0, value=-40, dependency_key=None),\n",
       " Increment(channel=1, value=-68, dependency_key=None),\n",
       " Increment(channel=2, value=40, dependency_key=None),\n",
       " Wait(duration=1e-05),\n",
       " Increment(channel=0, value=-28, dependency_key=None),\n",
       " Increment(channel=1, value=-68, dependency_key=None),\n",
       " Increment(channel=2, value=28, dependency_key=None),\n",
       " Wait(duration=1e-05),\n",
       " Increment(channel=0, value=-14, dependency_key=None),\n",
       " Increment(channel=1, value=-65, dependency_key=None),\n",
       " Increment(channel=2, value=14, dependency_key=None),\n",
       " Wait(duration=1e-05),\n",
       " Increment(channel=1, value=-60, dependency_key=None),\n",
       " Wait(duration=1e-05),\n",
       " Increment(channel=0, value=14, dependency_key=None),\n",
       " Increment(channel=1, value=-51, dependency_key=None),\n",
       " Increment(channel=2, value=-14, dependency_key=None),\n",
       " Wait(duration=1e-05),\n",
       " Increment(channel=0, value=28, dependency_key=None),\n",
       " Increment(channel=1, value=-40, dependency_key=None),\n",
       " Increment(channel=2, value=-28, dependency_key=None),\n",
       " Wait(duration=1e-05),\n",
       " Increment(channel=0, value=40, dependency_key=None),\n",
       " Increment(channel=1, value=-28, dependency_key=None),\n",
       " Increment(channel=2, value=-40, dependency_key=None),\n",
       " Wait(duration=1e-05),\n",
       " Increment(channel=0, value=51, dependency_key=None),\n",
       " Increment(channel=1, value=-14, dependency_key=None),\n",
       " Increment(channel=2, value=-51, dependency_key=None),\n",
       " Wait(duration=1e-05),\n",
       " Increment(channel=0, value=60, dependency_key=None),\n",
       " Increment(channel=2, value=-60, dependency_key=None),\n",
       " Wait(duration=1e-05),\n",
       " Increment(channel=0, value=65, dependency_key=None),\n",
       " Increment(channel=1, value=14, dependency_key=None),\n",
       " Increment(channel=2, value=-65, dependency_key=None),\n",
       " Wait(duration=1e-05),\n",
       " Increment(channel=0, value=68, dependency_key=None),\n",
       " Increment(channel=1, value=28, dependency_key=None),\n",
       " Increment(channel=2, value=-68, dependency_key=None),\n",
       " Wait(duration=1e-05),\n",
       " LoopJmp(idx=6),\n",
       " Increment(channel=0, value=68, dependency_key=None),\n",
       " Increment(channel=1, value=40, dependency_key=None),\n",
       " Increment(channel=2, value=-68, dependency_key=None),\n",
       " Wait(duration=1e-05),\n",
       " Increment(channel=0, value=65, dependency_key=None),\n",
       " Increment(channel=1, value=51, dependency_key=None),\n",
       " Increment(channel=2, value=-65, dependency_key=None),\n",
       " Wait(duration=1e-05),\n",
       " Increment(channel=0, value=60, dependency_key=None),\n",
       " Increment(channel=1, value=60, dependency_key=None),\n",
       " Increment(channel=2, value=-60, dependency_key=None),\n",
       " Wait(duration=1e-05),\n",
       " Increment(channel=0, value=51, dependency_key=None),\n",
       " Increment(channel=1, value=65, dependency_key=None),\n",
       " Increment(channel=2, value=-51, dependency_key=None),\n",
       " Wait(duration=1e-05),\n",
       " Increment(channel=0, value=40, dependency_key=None),\n",
       " Increment(channel=1, value=68, dependency_key=None),\n",
       " Increment(channel=2, value=-40, dependency_key=None),\n",
       " Wait(duration=1e-05),\n",
       " Increment(channel=0, value=28, dependency_key=None),\n",
       " Increment(channel=1, value=68, dependency_key=None),\n",
       " Increment(channel=2, value=-28, dependency_key=None),\n",
       " Wait(duration=1e-05),\n",
       " Increment(channel=0, value=14, dependency_key=None),\n",
       " Increment(channel=1, value=65, dependency_key=None),\n",
       " Increment(channel=2, value=-14, dependency_key=None),\n",
       " Wait(duration=1e-05),\n",
       " Increment(channel=1, value=60, dependency_key=None),\n",
       " Wait(duration=1e-05),\n",
       " Increment(channel=0, value=-14, dependency_key=None),\n",
       " Increment(channel=1, value=51, dependency_key=None),\n",
       " Increment(channel=2, value=14, dependency_key=None),\n",
       " Wait(duration=1e-05),\n",
       " Increment(channel=0, value=-28, dependency_key=None),\n",
       " Increment(channel=1, value=40, dependency_key=None),\n",
       " Increment(channel=2, value=28, dependency_key=None),\n",
       " Wait(duration=1e-05),\n",
       " Increment(channel=0, value=-40, dependency_key=None),\n",
       " Increment(channel=1, value=28, dependency_key=None),\n",
       " Increment(channel=2, value=40, dependency_key=None),\n",
       " Wait(duration=1e-05),\n",
       " Increment(channel=0, value=-51, dependency_key=None),\n",
       " Increment(channel=1, value=14, dependency_key=None),\n",
       " Increment(channel=2, value=51, dependency_key=None),\n",
       " Wait(duration=1e-05),\n",
       " Increment(channel=0, value=-60, dependency_key=None),\n",
       " Increment(channel=2, value=60, dependency_key=None),\n",
       " Wait(duration=1e-05),\n",
       " Increment(channel=0, value=-65, dependency_key=None),\n",
       " Increment(channel=1, value=-14, dependency_key=None),\n",
       " Increment(channel=2, value=65, dependency_key=None),\n",
       " Wait(duration=1e-05),\n",
       " Increment(channel=0, value=-2, dependency_key=None),\n",
       " Increment(channel=1, value=-214, dependency_key=None),\n",
       " Increment(channel=2, value=-30, dependency_key=None),\n",
       " Wait(duration=3.0000000000000004e-05),\n",
       " Increment(channel=0, value=-66, dependency_key=None),\n",
       " Increment(channel=1, value=99, dependency_key=None),\n",
       " Increment(channel=2, value=196, dependency_key=None),\n",
       " Wait(duration=5e-05),\n",
       " Increment(channel=0, value=-131, dependency_key=None),\n",
       " Increment(channel=1, value=-99, dependency_key=None),\n",
       " Increment(channel=2, value=99, dependency_key=None),\n",
       " Wait(duration=0.0001),\n",
       " Increment(channel=0, value=131, dependency_key=None),\n",
       " Increment(channel=1, value=186, dependency_key=None),\n",
       " Increment(channel=2, value=-197, dependency_key=None),\n",
       " Wait(duration=1e-05),\n",
       " Increment(channel=0, value=-68, dependency_key=None),\n",
       " Increment(channel=1, value=-40, dependency_key=None),\n",
       " Increment(channel=2, value=68, dependency_key=None),\n",
       " Wait(duration=1e-05),\n",
       " Increment(channel=0, value=-65, dependency_key=None),\n",
       " Increment(channel=1, value=-51, dependency_key=None),\n",
       " Increment(channel=2, value=65, dependency_key=None),\n",
       " Wait(duration=1e-05),\n",
       " Increment(channel=0, value=-60, dependency_key=None),\n",
       " Increment(channel=1, value=-60, dependency_key=None),\n",
       " Increment(channel=2, value=60, dependency_key=None),\n",
       " Wait(duration=1e-05),\n",
       " Increment(channel=0, value=-51, dependency_key=None),\n",
       " Increment(channel=1, value=-65, dependency_key=None),\n",
       " Increment(channel=2, value=51, dependency_key=None),\n",
       " Wait(duration=1e-05),\n",
       " Increment(channel=0, value=-40, dependency_key=None),\n",
       " Increment(channel=1, value=-68, dependency_key=None),\n",
       " Increment(channel=2, value=40, dependency_key=None),\n",
       " Wait(duration=1e-05),\n",
       " Increment(channel=0, value=-28, dependency_key=None),\n",
       " Increment(channel=1, value=-68, dependency_key=None),\n",
       " Increment(channel=2, value=28, dependency_key=None),\n",
       " Wait(duration=1e-05),\n",
       " Increment(channel=0, value=-14, dependency_key=None),\n",
       " Increment(channel=1, value=-65, dependency_key=None),\n",
       " Increment(channel=2, value=14, dependency_key=None),\n",
       " Wait(duration=1e-05),\n",
       " Increment(channel=1, value=-60, dependency_key=None),\n",
       " Wait(duration=1e-05),\n",
       " Increment(channel=0, value=14, dependency_key=None),\n",
       " Increment(channel=1, value=-51, dependency_key=None),\n",
       " Increment(channel=2, value=-14, dependency_key=None),\n",
       " Wait(duration=1e-05),\n",
       " Increment(channel=0, value=28, dependency_key=None),\n",
       " Increment(channel=1, value=-40, dependency_key=None),\n",
       " Increment(channel=2, value=-28, dependency_key=None),\n",
       " Wait(duration=1e-05),\n",
       " Increment(channel=0, value=40, dependency_key=None),\n",
       " Increment(channel=1, value=-28, dependency_key=None),\n",
       " Increment(channel=2, value=-40, dependency_key=None),\n",
       " Wait(duration=1e-05),\n",
       " Increment(channel=0, value=51, dependency_key=None),\n",
       " Increment(channel=1, value=-14, dependency_key=None),\n",
       " Increment(channel=2, value=-51, dependency_key=None),\n",
       " Wait(duration=1e-05),\n",
       " Increment(channel=0, value=60, dependency_key=None),\n",
       " Increment(channel=2, value=-60, dependency_key=None),\n",
       " Wait(duration=1e-05),\n",
       " Increment(channel=0, value=65, dependency_key=None),\n",
       " Increment(channel=1, value=14, dependency_key=None),\n",
       " Increment(channel=2, value=-65, dependency_key=None),\n",
       " Wait(duration=1e-05),\n",
       " Increment(channel=0, value=101, dependency_key=None),\n",
       " Increment(channel=1, value=345, dependency_key=None),\n",
       " Increment(channel=2, value=-101, dependency_key=None),\n",
       " Wait(duration=0.0001),\n",
       " Increment(channel=0, value=3, dependency_key=None),\n",
       " Wait(duration=5e-05),\n",
       " Increment(channel=1, value=33, dependency_key=None),\n",
       " Increment(channel=2, value=66, dependency_key=None),\n",
       " Wait(duration=0.0001),\n",
       " Increment(channel=1, value=32, dependency_key=None),\n",
       " Increment(channel=2, value=65, dependency_key=None),\n",
       " Wait(duration=6e-05)]"
      ]
     },
     "execution_count": 1743,
     "metadata": {},
     "output_type": "execute_result"
    }
   ],
   "source": [
    "print(len(linspace_cmds))\n",
    "reduced_commands = reduce_commands(linspace_cmds)\n",
    "print(len(reduced_commands))\n",
    "reduced_commands"
   ]
  },
  {
   "cell_type": "code",
   "execution_count": 1767,
   "id": "bdfcb758",
   "metadata": {},
   "outputs": [
    {
     "name": "stdout",
     "output_type": "stream",
     "text": [
      "[[5000000       0       0       0]\n",
      " [5000000       0       0       0]\n",
      " [5000000       0     -33     -65]\n",
      " ...\n",
      " [5000000       0       0       0]\n",
      " [5000000       0       0       0]\n",
      " [5000000       0       0       0]]\n",
      "[(0, 0, array([5000000,       0,       0,       0])), (1, 1, array([5000000,       0,     -33,     -65])), (0, 0, array([5000000,       0,       0,       0])), (1, 3, array([5000000,       0,       0,     -66])), (0, 0, array([5000000,       0,       0,       0])), (1, 8, array([5000000,     -33,    -317,      33])), (0, 0, array([5000000,      68,      40,     -68])), (0, 0, array([5000000,      65,      51,     -65])), (0, 0, array([5000000,      60,      60,     -60])), (0, 0, array([5000000,      51,      65,     -51])), (0, 0, array([5000000,      40,      68,     -40])), (0, 0, array([5000000,      28,      68,     -28])), (0, 0, array([5000000,      14,      65,     -14])), (0, 0, array([5000000,       0,      60,       0])), (0, 0, array([5000000,     -14,      51,      14])), (0, 0, array([5000000,     -28,      40,      28])), (0, 0, array([5000000,     -40,      28,      40])), (0, 0, array([5000000,     -51,      14,      51])), (0, 0, array([5000000,     -60,       0,      60])), (0, 0, array([5000000,     -65,     -14,      65])), (0, 0, array([5000000,      -2,    -214,     -30])), (0, 0, array([5000000,       0,       0,       0])), (1, 1, array([5000000,     -66,      99,     196])), (0, 0, array([5000000,       0,       0,       0])), (1, 3, array([5000000,    -131,     -99,      99])), (0, 0, array([5000000,       0,       0,       0])), (1, 8, array([5000000,     131,     186,    -197])), (0, 0, array([5000000,     -68,     -40,      68])), (0, 0, array([5000000,     -65,     -51,      65])), (0, 0, array([5000000,     -60,     -60,      60])), (0, 0, array([5000000,     -51,     -65,      51])), (0, 0, array([5000000,     -40,     -68,      40])), (0, 0, array([5000000,     -28,     -68,      28])), (0, 0, array([5000000,     -14,     -65,      14])), (0, 0, array([5000000,       0,     -60,       0])), (0, 0, array([5000000,      14,     -51,     -14])), (0, 0, array([5000000,      28,     -40,     -28])), (0, 0, array([5000000,      40,     -28,     -40])), (0, 0, array([5000000,      51,     -14,     -51])), (0, 0, array([5000000,      60,       0,     -60])), (0, 0, array([5000000,      65,      14,     -65])), (0, 0, array([5000000,      68,      28,     -68])), (48, 384, array([5000000,      68,      40,     -68])), (0, 0, array([5000000,      65,      51,     -65])), (0, 0, array([5000000,      60,      60,     -60])), (0, 0, array([5000000,      51,      65,     -51])), (0, 0, array([5000000,      40,      68,     -40])), (0, 0, array([5000000,      28,      68,     -28])), (0, 0, array([5000000,      14,      65,     -14])), (0, 0, array([5000000,       0,      60,       0])), (0, 0, array([5000000,     -14,      51,      14])), (0, 0, array([5000000,     -28,      40,      28])), (0, 0, array([5000000,     -40,      28,      40])), (0, 0, array([5000000,     -51,      14,      51])), (0, 0, array([5000000,     -60,       0,      60])), (0, 0, array([5000000,     -65,     -14,      65])), (0, 0, array([5000000,      -2,    -214,     -30])), (0, 0, array([5000000,       0,       0,       0])), (1, 1, array([5000000,     -66,      99,     196])), (0, 0, array([5000000,       0,       0,       0])), (1, 3, array([5000000,    -131,     -99,      99])), (0, 0, array([5000000,       0,       0,       0])), (1, 8, array([5000000,     131,     186,    -197])), (0, 0, array([5000000,     -68,     -40,      68])), (0, 0, array([5000000,     -65,     -51,      65])), (0, 0, array([5000000,     -60,     -60,      60])), (0, 0, array([5000000,     -51,     -65,      51])), (0, 0, array([5000000,     -40,     -68,      40])), (0, 0, array([5000000,     -28,     -68,      28])), (0, 0, array([5000000,     -14,     -65,      14])), (0, 0, array([5000000,       0,     -60,       0])), (0, 0, array([5000000,      14,     -51,     -14])), (0, 0, array([5000000,      28,     -40,     -28])), (0, 0, array([5000000,      40,     -28,     -40])), (0, 0, array([5000000,      51,     -14,     -51])), (0, 0, array([5000000,      60,       0,     -60])), (0, 0, array([5000000,      65,      14,     -65])), (0, 0, array([5000000,     101,     345,    -101])), (0, 0, array([5000000,       0,       0,       0])), (1, 8, array([5000000,       3,       0,       0])), (0, 0, array([5000000,       0,       0,       0])), (1, 3, array([5000000,       0,      33,      66])), (0, 0, array([5000000,       0,       0,       0])), (1, 8, array([5000000,       0,      32,      65])), (0, 0, array([5000000,       0,       0,       0])), (1, 4, None)]\n",
      "[Set(channel=0, value=32800, key=None), Set(channel=1, value=32833, key=None), Set(channel=2, value=32865, key=None), Wait(duration=5000000)]\n",
      "Set(channel=0, value=32800, key=None)\n",
      "Set(channel=1, value=32833, key=None)\n",
      "Set(channel=2, value=32865, key=None)\n",
      "Wait(duration=15000000)\n",
      "Increment(channel=1, value=-33, dependency_key=None)\n",
      "Increment(channel=2, value=-65, dependency_key=None)\n",
      "Wait(duration=25000000)\n",
      "Increment(channel=2, value=-66, dependency_key=None)\n",
      "Wait(duration=50000000)\n",
      "Increment(channel=0, value=-33, dependency_key=None)\n",
      "Increment(channel=1, value=-317, dependency_key=None)\n",
      "Increment(channel=2, value=33, dependency_key=None)\n",
      "Wait(duration=5000000)\n",
      "LoopLabel(idx=6, count=9)\n",
      "Increment(channel=0, value=68, dependency_key=None)\n",
      "Increment(channel=1, value=40, dependency_key=None)\n",
      "Increment(channel=2, value=-68, dependency_key=None)\n",
      "Wait(duration=5000000)\n",
      "Increment(channel=0, value=65, dependency_key=None)\n",
      "Increment(channel=1, value=51, dependency_key=None)\n",
      "Increment(channel=2, value=-65, dependency_key=None)\n",
      "Wait(duration=5000000)\n",
      "Increment(channel=0, value=60, dependency_key=None)\n",
      "Increment(channel=1, value=60, dependency_key=None)\n",
      "Increment(channel=2, value=-60, dependency_key=None)\n",
      "Wait(duration=5000000)\n",
      "Increment(channel=0, value=51, dependency_key=None)\n",
      "Increment(channel=1, value=65, dependency_key=None)\n",
      "Increment(channel=2, value=-51, dependency_key=None)\n",
      "Wait(duration=5000000)\n",
      "Increment(channel=0, value=40, dependency_key=None)\n",
      "Increment(channel=1, value=68, dependency_key=None)\n",
      "Increment(channel=2, value=-40, dependency_key=None)\n",
      "Wait(duration=5000000)\n",
      "Increment(channel=0, value=28, dependency_key=None)\n",
      "Increment(channel=1, value=68, dependency_key=None)\n",
      "Increment(channel=2, value=-28, dependency_key=None)\n",
      "Wait(duration=5000000)\n",
      "Increment(channel=0, value=14, dependency_key=None)\n",
      "Increment(channel=1, value=65, dependency_key=None)\n",
      "Increment(channel=2, value=-14, dependency_key=None)\n",
      "Wait(duration=5000000)\n",
      "Increment(channel=1, value=60, dependency_key=None)\n",
      "Wait(duration=5000000)\n",
      "Increment(channel=0, value=-14, dependency_key=None)\n",
      "Increment(channel=1, value=51, dependency_key=None)\n",
      "Increment(channel=2, value=14, dependency_key=None)\n",
      "Wait(duration=5000000)\n",
      "Increment(channel=0, value=-28, dependency_key=None)\n",
      "Increment(channel=1, value=40, dependency_key=None)\n",
      "Increment(channel=2, value=28, dependency_key=None)\n",
      "Wait(duration=5000000)\n",
      "Increment(channel=0, value=-40, dependency_key=None)\n",
      "Increment(channel=1, value=28, dependency_key=None)\n",
      "Increment(channel=2, value=40, dependency_key=None)\n",
      "Wait(duration=5000000)\n",
      "Increment(channel=0, value=-51, dependency_key=None)\n",
      "Increment(channel=1, value=14, dependency_key=None)\n",
      "Increment(channel=2, value=51, dependency_key=None)\n",
      "Wait(duration=5000000)\n",
      "Increment(channel=0, value=-60, dependency_key=None)\n",
      "Increment(channel=2, value=60, dependency_key=None)\n",
      "Wait(duration=5000000)\n",
      "Increment(channel=0, value=-65, dependency_key=None)\n",
      "Increment(channel=1, value=-14, dependency_key=None)\n",
      "Increment(channel=2, value=65, dependency_key=None)\n",
      "Wait(duration=5000000)\n",
      "Increment(channel=0, value=-2, dependency_key=None)\n",
      "Increment(channel=1, value=-214, dependency_key=None)\n",
      "Increment(channel=2, value=-30, dependency_key=None)\n",
      "Wait(duration=15000000)\n",
      "Increment(channel=0, value=-66, dependency_key=None)\n",
      "Increment(channel=1, value=99, dependency_key=None)\n",
      "Increment(channel=2, value=196, dependency_key=None)\n",
      "Wait(duration=25000000)\n",
      "Increment(channel=0, value=-131, dependency_key=None)\n",
      "Increment(channel=1, value=-99, dependency_key=None)\n",
      "Increment(channel=2, value=99, dependency_key=None)\n",
      "Wait(duration=50000000)\n",
      "Increment(channel=0, value=131, dependency_key=None)\n",
      "Increment(channel=1, value=186, dependency_key=None)\n",
      "Increment(channel=2, value=-197, dependency_key=None)\n",
      "Wait(duration=5000000)\n",
      "Increment(channel=0, value=-68, dependency_key=None)\n",
      "Increment(channel=1, value=-40, dependency_key=None)\n",
      "Increment(channel=2, value=68, dependency_key=None)\n",
      "Wait(duration=5000000)\n",
      "Increment(channel=0, value=-65, dependency_key=None)\n",
      "Increment(channel=1, value=-51, dependency_key=None)\n",
      "Increment(channel=2, value=65, dependency_key=None)\n",
      "Wait(duration=5000000)\n",
      "Increment(channel=0, value=-60, dependency_key=None)\n",
      "Increment(channel=1, value=-60, dependency_key=None)\n",
      "Increment(channel=2, value=60, dependency_key=None)\n",
      "Wait(duration=5000000)\n",
      "Increment(channel=0, value=-51, dependency_key=None)\n",
      "Increment(channel=1, value=-65, dependency_key=None)\n",
      "Increment(channel=2, value=51, dependency_key=None)\n",
      "Wait(duration=5000000)\n",
      "Increment(channel=0, value=-40, dependency_key=None)\n",
      "Increment(channel=1, value=-68, dependency_key=None)\n",
      "Increment(channel=2, value=40, dependency_key=None)\n",
      "Wait(duration=5000000)\n",
      "Increment(channel=0, value=-28, dependency_key=None)\n",
      "Increment(channel=1, value=-68, dependency_key=None)\n",
      "Increment(channel=2, value=28, dependency_key=None)\n",
      "Wait(duration=5000000)\n",
      "Increment(channel=0, value=-14, dependency_key=None)\n",
      "Increment(channel=1, value=-65, dependency_key=None)\n",
      "Increment(channel=2, value=14, dependency_key=None)\n",
      "Wait(duration=5000000)\n",
      "Increment(channel=1, value=-60, dependency_key=None)\n",
      "Wait(duration=5000000)\n",
      "Increment(channel=0, value=14, dependency_key=None)\n",
      "Increment(channel=1, value=-51, dependency_key=None)\n",
      "Increment(channel=2, value=-14, dependency_key=None)\n",
      "Wait(duration=5000000)\n",
      "Increment(channel=0, value=28, dependency_key=None)\n",
      "Increment(channel=1, value=-40, dependency_key=None)\n",
      "Increment(channel=2, value=-28, dependency_key=None)\n",
      "Wait(duration=5000000)\n",
      "Increment(channel=0, value=40, dependency_key=None)\n",
      "Increment(channel=1, value=-28, dependency_key=None)\n",
      "Increment(channel=2, value=-40, dependency_key=None)\n",
      "Wait(duration=5000000)\n",
      "Increment(channel=0, value=51, dependency_key=None)\n",
      "Increment(channel=1, value=-14, dependency_key=None)\n",
      "Increment(channel=2, value=-51, dependency_key=None)\n",
      "Wait(duration=5000000)\n",
      "Increment(channel=0, value=60, dependency_key=None)\n",
      "Increment(channel=2, value=-60, dependency_key=None)\n",
      "Wait(duration=5000000)\n",
      "Increment(channel=0, value=65, dependency_key=None)\n",
      "Increment(channel=1, value=14, dependency_key=None)\n",
      "Increment(channel=2, value=-65, dependency_key=None)\n",
      "Wait(duration=5000000)\n",
      "Increment(channel=0, value=68, dependency_key=None)\n",
      "Increment(channel=1, value=28, dependency_key=None)\n",
      "Increment(channel=2, value=-68, dependency_key=None)\n",
      "Wait(duration=5000000)\n",
      "LoopJmp(idx=6)\n",
      "Increment(channel=0, value=68, dependency_key=None)\n",
      "Increment(channel=1, value=40, dependency_key=None)\n",
      "Increment(channel=2, value=-68, dependency_key=None)\n",
      "Wait(duration=5000000)\n",
      "Increment(channel=0, value=65, dependency_key=None)\n",
      "Increment(channel=1, value=51, dependency_key=None)\n",
      "Increment(channel=2, value=-65, dependency_key=None)\n",
      "Wait(duration=5000000)\n",
      "Increment(channel=0, value=60, dependency_key=None)\n",
      "Increment(channel=1, value=60, dependency_key=None)\n",
      "Increment(channel=2, value=-60, dependency_key=None)\n",
      "Wait(duration=5000000)\n",
      "Increment(channel=0, value=51, dependency_key=None)\n",
      "Increment(channel=1, value=65, dependency_key=None)\n",
      "Increment(channel=2, value=-51, dependency_key=None)\n",
      "Wait(duration=5000000)\n",
      "Increment(channel=0, value=40, dependency_key=None)\n",
      "Increment(channel=1, value=68, dependency_key=None)\n",
      "Increment(channel=2, value=-40, dependency_key=None)\n",
      "Wait(duration=5000000)\n",
      "Increment(channel=0, value=28, dependency_key=None)\n",
      "Increment(channel=1, value=68, dependency_key=None)\n",
      "Increment(channel=2, value=-28, dependency_key=None)\n",
      "Wait(duration=5000000)\n",
      "Increment(channel=0, value=14, dependency_key=None)\n",
      "Increment(channel=1, value=65, dependency_key=None)\n",
      "Increment(channel=2, value=-14, dependency_key=None)\n",
      "Wait(duration=5000000)\n",
      "Increment(channel=1, value=60, dependency_key=None)\n",
      "Wait(duration=5000000)\n",
      "Increment(channel=0, value=-14, dependency_key=None)\n",
      "Increment(channel=1, value=51, dependency_key=None)\n",
      "Increment(channel=2, value=14, dependency_key=None)\n",
      "Wait(duration=5000000)\n",
      "Increment(channel=0, value=-28, dependency_key=None)\n",
      "Increment(channel=1, value=40, dependency_key=None)\n",
      "Increment(channel=2, value=28, dependency_key=None)\n",
      "Wait(duration=5000000)\n",
      "Increment(channel=0, value=-40, dependency_key=None)\n",
      "Increment(channel=1, value=28, dependency_key=None)\n",
      "Increment(channel=2, value=40, dependency_key=None)\n",
      "Wait(duration=5000000)\n",
      "Increment(channel=0, value=-51, dependency_key=None)\n",
      "Increment(channel=1, value=14, dependency_key=None)\n",
      "Increment(channel=2, value=51, dependency_key=None)\n",
      "Wait(duration=5000000)\n",
      "Increment(channel=0, value=-60, dependency_key=None)\n",
      "Increment(channel=2, value=60, dependency_key=None)\n",
      "Wait(duration=5000000)\n",
      "Increment(channel=0, value=-65, dependency_key=None)\n",
      "Increment(channel=1, value=-14, dependency_key=None)\n",
      "Increment(channel=2, value=65, dependency_key=None)\n",
      "Wait(duration=5000000)\n",
      "Increment(channel=0, value=-2, dependency_key=None)\n",
      "Increment(channel=1, value=-214, dependency_key=None)\n",
      "Increment(channel=2, value=-30, dependency_key=None)\n",
      "Wait(duration=15000000)\n",
      "Increment(channel=0, value=-66, dependency_key=None)\n",
      "Increment(channel=1, value=99, dependency_key=None)\n",
      "Increment(channel=2, value=196, dependency_key=None)\n",
      "Wait(duration=25000000)\n",
      "Increment(channel=0, value=-131, dependency_key=None)\n",
      "Increment(channel=1, value=-99, dependency_key=None)\n",
      "Increment(channel=2, value=99, dependency_key=None)\n",
      "Wait(duration=50000000)\n",
      "Increment(channel=0, value=131, dependency_key=None)\n",
      "Increment(channel=1, value=186, dependency_key=None)\n",
      "Increment(channel=2, value=-197, dependency_key=None)\n",
      "Wait(duration=5000000)\n",
      "Increment(channel=0, value=-68, dependency_key=None)\n",
      "Increment(channel=1, value=-40, dependency_key=None)\n",
      "Increment(channel=2, value=68, dependency_key=None)\n",
      "Wait(duration=5000000)\n",
      "Increment(channel=0, value=-65, dependency_key=None)\n",
      "Increment(channel=1, value=-51, dependency_key=None)\n",
      "Increment(channel=2, value=65, dependency_key=None)\n",
      "Wait(duration=5000000)\n",
      "Increment(channel=0, value=-60, dependency_key=None)\n",
      "Increment(channel=1, value=-60, dependency_key=None)\n",
      "Increment(channel=2, value=60, dependency_key=None)\n",
      "Wait(duration=5000000)\n",
      "Increment(channel=0, value=-51, dependency_key=None)\n",
      "Increment(channel=1, value=-65, dependency_key=None)\n",
      "Increment(channel=2, value=51, dependency_key=None)\n",
      "Wait(duration=5000000)\n",
      "Increment(channel=0, value=-40, dependency_key=None)\n",
      "Increment(channel=1, value=-68, dependency_key=None)\n",
      "Increment(channel=2, value=40, dependency_key=None)\n",
      "Wait(duration=5000000)\n",
      "Increment(channel=0, value=-28, dependency_key=None)\n",
      "Increment(channel=1, value=-68, dependency_key=None)\n",
      "Increment(channel=2, value=28, dependency_key=None)\n",
      "Wait(duration=5000000)\n",
      "Increment(channel=0, value=-14, dependency_key=None)\n",
      "Increment(channel=1, value=-65, dependency_key=None)\n",
      "Increment(channel=2, value=14, dependency_key=None)\n",
      "Wait(duration=5000000)\n",
      "Increment(channel=1, value=-60, dependency_key=None)\n",
      "Wait(duration=5000000)\n",
      "Increment(channel=0, value=14, dependency_key=None)\n",
      "Increment(channel=1, value=-51, dependency_key=None)\n",
      "Increment(channel=2, value=-14, dependency_key=None)\n",
      "Wait(duration=5000000)\n",
      "Increment(channel=0, value=28, dependency_key=None)\n",
      "Increment(channel=1, value=-40, dependency_key=None)\n",
      "Increment(channel=2, value=-28, dependency_key=None)\n",
      "Wait(duration=5000000)\n",
      "Increment(channel=0, value=40, dependency_key=None)\n",
      "Increment(channel=1, value=-28, dependency_key=None)\n",
      "Increment(channel=2, value=-40, dependency_key=None)\n",
      "Wait(duration=5000000)\n",
      "Increment(channel=0, value=51, dependency_key=None)\n",
      "Increment(channel=1, value=-14, dependency_key=None)\n",
      "Increment(channel=2, value=-51, dependency_key=None)\n",
      "Wait(duration=5000000)\n",
      "Increment(channel=0, value=60, dependency_key=None)\n",
      "Increment(channel=2, value=-60, dependency_key=None)\n",
      "Wait(duration=5000000)\n",
      "Increment(channel=0, value=65, dependency_key=None)\n",
      "Increment(channel=1, value=14, dependency_key=None)\n",
      "Increment(channel=2, value=-65, dependency_key=None)\n",
      "Wait(duration=5000000)\n",
      "Increment(channel=0, value=101, dependency_key=None)\n",
      "Increment(channel=1, value=345, dependency_key=None)\n",
      "Increment(channel=2, value=-101, dependency_key=None)\n",
      "Wait(duration=50000000)\n",
      "Increment(channel=0, value=3, dependency_key=None)\n",
      "Wait(duration=25000000)\n",
      "Increment(channel=1, value=33, dependency_key=None)\n",
      "Increment(channel=2, value=66, dependency_key=None)\n",
      "Wait(duration=50000000)\n",
      "Increment(channel=1, value=32, dependency_key=None)\n",
      "Increment(channel=2, value=65, dependency_key=None)\n",
      "Wait(duration=30000000)\n",
      "*1:B0;M2;B1;M2;B2;M2;B3;M2;B4;M2;*2:X2050;A1545;P32800;A1538;P3;A1577;P32833;A1570;P3;A1609;P32865;A1602;P3;$15000;*3:X771;A1577;+-33;A1570;P3;A1609;+-65;A1602;P3;$25000;*4:X772;A1609;+-66;A1602;P3;$50000;*5:X773;A1545;+-33;A1538;P3;A1577;+-317;A1570;P3;A1609;+33;A1602;P3;$5000;*6:X774;A45057;P9;*7:A1545;+68;A1538;P3;A1577;+40;A1570;P3;A1609;+-68;A1602;P3;$5000;*8:X776;A1545;+65;A1538;P3;A1577;+51;A1570;P3;A1609;+-65;A1602;P3;$5000;*9:X777;A1545;+60;A1538;P3;A1577;+60;A1570;P3;A1609;+-60;A1602;P3;$5000;*10:X778;A1545;+51;A1538;P3;A1577;+65;A1570;P3;A1609;+-51;A1602;P3;$5000;*11:X779;A1545;+40;A1538;P3;A1577;+68;A1570;P3;A1609;+-40;A1602;P3;$5000;*12:X780;A1545;+28;A1538;P3;A1577;+68;A1570;P3;A1609;+-28;A1602;P3;$5000;*13:X781;A1545;+14;A1538;P3;A1577;+65;A1570;P3;A1609;+-14;A1602;P3;$5000;*14:X782;A1577;+60;A1570;P3;$5000;*15:X783;A1545;+-14;A1538;P3;A1577;+51;A1570;P3;A1609;+14;A1602;P3;$5000;*16:X784;A1545;+-28;A1538;P3;A1577;+40;A1570;P3;A1609;+28;A1602;P3;$5000;*17:X785;A1545;+-40;A1538;P3;A1577;+28;A1570;P3;A1609;+40;A1602;P3;$5000;*18:X786;A1545;+-51;A1538;P3;A1577;+14;A1570;P3;A1609;+51;A1602;P3;$5000;*19:X787;A1545;+-60;A1538;P3;A1609;+60;A1602;P3;$5000;*20:X788;A1545;+-65;A1538;P3;A1577;+-14;A1570;P3;A1609;+65;A1602;P3;$5000;*21:X789;A1545;+-2;A1538;P3;A1577;+-214;A1570;P3;A1609;+-30;A1602;P3;$15000;*22:X790;A1545;+-66;A1538;P3;A1577;+99;A1570;P3;A1609;+196;A1602;P3;$25000;*23:X791;A1545;+-131;A1538;P3;A1577;+-99;A1570;P3;A1609;+99;A1602;P3;$50000;*24:X792;A1545;+131;A1538;P3;A1577;+186;A1570;P3;A1609;+-197;A1602;P3;$5000;*25:X793;A1545;+-68;A1538;P3;A1577;+-40;A1570;P3;A1609;+68;A1602;P3;$5000;*26:X794;A1545;+-65;A1538;P3;A1577;+-51;A1570;P3;A1609;+65;A1602;P3;$5000;*27:X795;A1545;+-60;A1538;P3;A1577;+-60;A1570;P3;A1609;+60;A1602;P3;$5000;*28:X796;A1545;+-51;A1538;P3;A1577;+-65;A1570;P3;A1609;+51;A1602;P3;$5000;*29:X797;A1545;+-40;A1538;P3;A1577;+-68;A1570;P3;A1609;+40;A1602;P3;$5000;*30:X798;A1545;+-28;A1538;P3;A1577;+-68;A1570;P3;A1609;+28;A1602;P3;$5000;*31:X799;A1545;+-14;A1538;P3;A1577;+-65;A1570;P3;A1609;+14;A1602;P3;$5000;*32:X800;A1577;+-60;A1570;P3;$5000;*33:X801;A1545;+14;A1538;P3;A1577;+-51;A1570;P3;A1609;+-14;A1602;P3;$5000;*34:X802;A1545;+28;A1538;P3;A1577;+-40;A1570;P3;A1609;+-28;A1602;P3;$5000;*35:X803;A1545;+40;A1538;P3;A1577;+-28;A1570;P3;A1609;+-40;A1602;P3;$5000;*36:X804;A1545;+51;A1538;P3;A1577;+-14;A1570;P3;A1609;+-51;A1602;P3;$5000;*37:X805;A1545;+60;A1538;P3;A1609;+-60;A1602;P3;$5000;*38:X806;A1545;+65;A1538;P3;A1577;+14;A1570;P3;A1609;+-65;A1602;P3;$5000;*39:X807;A1545;+68;A1538;P3;A1577;+28;A1570;P3;A1609;+-68;A1602;P3;$5000;*40:X808;A45057;+-1;X1287;A1545;+68;A1538;P3;A1577;+40;A1570;P3;A1609;+-68;A1602;P3;$5000;*41:X809;A1545;+65;A1538;P3;A1577;+51;A1570;P3;A1609;+-65;A1602;P3;$5000;*42:X810;A1545;+60;A1538;P3;A1577;+60;A1570;P3;A1609;+-60;A1602;P3;$5000;*43:X811;A1545;+51;A1538;P3;A1577;+65;A1570;P3;A1609;+-51;A1602;P3;$5000;*44:X812;A1545;+40;A1538;P3;A1577;+68;A1570;P3;A1609;+-40;A1602;P3;$5000;*45:X813;A1545;+28;A1538;P3;A1577;+68;A1570;P3;A1609;+-28;A1602;P3;$5000;*46:X814;A1545;+14;A1538;P3;A1577;+65;A1570;P3;A1609;+-14;A1602;P3;$5000;*47:X815;A1577;+60;A1570;P3;$5000;*48:X816;A1545;+-14;A1538;P3;A1577;+51;A1570;P3;A1609;+14;A1602;P3;$5000;*49:X817;A1545;+-28;A1538;P3;A1577;+40;A1570;P3;A1609;+28;A1602;P3;$5000;*50:X818;A1545;+-40;A1538;P3;A1577;+28;A1570;P3;A1609;+40;A1602;P3;$5000;*51:X819;A1545;+-51;A1538;P3;A1577;+14;A1570;P3;A1609;+51;A1602;P3;$5000;*52:X820;A1545;+-60;A1538;P3;A1609;+60;A1602;P3;$5000;*53:X821;A1545;+-65;A1538;P3;A1577;+-14;A1570;P3;A1609;+65;A1602;P3;$5000;*54:X822;A1545;+-2;A1538;P3;A1577;+-214;A1570;P3;A1609;+-30;A1602;P3;$15000;*55:X823;A1545;+-66;A1538;P3;A1577;+99;A1570;P3;A1609;+196;A1602;P3;$25000;*56:X824;A1545;+-131;A1538;P3;A1577;+-99;A1570;P3;A1609;+99;A1602;P3;$50000;*57:X825;A1545;+131;A1538;P3;A1577;+186;A1570;P3;A1609;+-197;A1602;P3;$5000;*58:X826;A1545;+-68;A1538;P3;A1577;+-40;A1570;P3;A1609;+68;A1602;P3;$5000;*59:X827;A1545;+-65;A1538;P3;A1577;+-51;A1570;P3;A1609;+65;A1602;P3;$5000;*60:X828;A1545;+-60;A1538;P3;A1577;+-60;A1570;P3;A1609;+60;A1602;P3;$5000;*61:X829;A1545;+-51;A1538;P3;A1577;+-65;A1570;P3;A1609;+51;A1602;P3;$5000;*62:X830;A1545;+-40;A1538;P3;A1577;+-68;A1570;P3;A1609;+40;A1602;P3;$5000;*63:X831;A1545;+-28;A1538;P3;A1577;+-68;A1570;P3;A1609;+28;A1602;P3;$5000;*64:X832;A1545;+-14;A1538;P3;A1577;+-65;A1570;P3;A1609;+14;A1602;P3;$5000;*65:X833;A1577;+-60;A1570;P3;$5000;*66:X834;A1545;+14;A1538;P3;A1577;+-51;A1570;P3;A1609;+-14;A1602;P3;$5000;*67:X835;A1545;+28;A1538;P3;A1577;+-40;A1570;P3;A1609;+-28;A1602;P3;$5000;*68:X836;A1545;+40;A1538;P3;A1577;+-28;A1570;P3;A1609;+-40;A1602;P3;$5000;*69:X837;A1545;+51;A1538;P3;A1577;+-14;A1570;P3;A1609;+-51;A1602;P3;$5000;*70:X838;A1545;+60;A1538;P3;A1609;+-60;A1602;P3;$5000;*71:X839;A1545;+65;A1538;P3;A1577;+14;A1570;P3;A1609;+-65;A1602;P3;$5000;*72:X840;A1545;+101;A1538;P3;A1577;+345;A1570;P3;A1609;+-101;A1602;P3;$50000;*73:X841;A1545;+3;A1538;P3;$25000;*74:X842;A1577;+33;A1570;P3;A1609;+66;A1602;P3;$50000;*75:X843;A1577;+32;A1570;P3;A1609;+65;A1602;P3;$30000;*76:X844;X0;\n"
     ]
    }
   ],
   "source": [
    "DecaDACRep.upload_numpy_pulse(numpy_pulse=simple_numpy_pulse.T, dt=5e+6, channel_mapping={0:0, 1:2, 2:4})"
   ]
  },
  {
   "cell_type": "code",
   "execution_count": 1755,
   "id": "d2ef28cd",
   "metadata": {},
   "outputs": [
    {
     "name": "stdout",
     "output_type": "stream",
     "text": [
      "> \u001b[1;32m\\\\janeway\\user ag bluhm\\surrey\\git\\qupulse\\qupulse\\hardware\\awgs\\decadac.py\u001b[0m(304)\u001b[0;36mgenerate_linspace_commands_from_nparray_using_LZ77\u001b[1;34m()\u001b[0m\n",
      "\u001b[1;32m    302 \u001b[1;33m        \u001b[0mdiff_sets\u001b[0m\u001b[1;33m[\u001b[0m\u001b[1;33m:\u001b[0m\u001b[1;33m,\u001b[0m \u001b[1;33m-\u001b[0m\u001b[1;36m1\u001b[0m\u001b[1;33m]\u001b[0m \u001b[1;33m=\u001b[0m \u001b[0mdt\u001b[0m\u001b[1;33m[\u001b[0m\u001b[1;36m1\u001b[0m\u001b[1;33m:\u001b[0m\u001b[1;33m]\u001b[0m\u001b[1;33m\u001b[0m\u001b[1;33m\u001b[0m\u001b[0m\n",
      "\u001b[0m\u001b[1;32m    303 \u001b[1;33m\u001b[1;33m\u001b[0m\u001b[0m\n",
      "\u001b[0m\u001b[1;32m--> 304 \u001b[1;33m        \u001b[1;31m# calculate the LZ77 compression\u001b[0m\u001b[1;33m\u001b[0m\u001b[1;33m\u001b[0m\u001b[0m\n",
      "\u001b[0m\u001b[1;32m    305 \u001b[1;33m        \u001b[0mcomp\u001b[0m \u001b[1;33m=\u001b[0m \u001b[0mcompress_array_LZ77\u001b[0m\u001b[1;33m(\u001b[0m\u001b[0marray\u001b[0m\u001b[1;33m=\u001b[0m\u001b[0mdiff_sets\u001b[0m\u001b[1;33m,\u001b[0m \u001b[0mallow_intermediates\u001b[0m\u001b[1;33m=\u001b[0m\u001b[1;32mFalse\u001b[0m\u001b[1;33m,\u001b[0m \u001b[0musing_diffs\u001b[0m\u001b[1;33m=\u001b[0m\u001b[1;32mFalse\u001b[0m\u001b[1;33m,\u001b[0m \u001b[0mallow_reconstructions_using_reconstructions\u001b[0m\u001b[1;33m=\u001b[0m\u001b[1;32mFalse\u001b[0m\u001b[1;33m)\u001b[0m\u001b[1;33m\u001b[0m\u001b[1;33m\u001b[0m\u001b[0m\n",
      "\u001b[0m\u001b[1;32m    306 \u001b[1;33m        \u001b[0mprint\u001b[0m\u001b[1;33m(\u001b[0m\u001b[0mcomp\u001b[0m\u001b[1;33m)\u001b[0m\u001b[1;33m\u001b[0m\u001b[1;33m\u001b[0m\u001b[0m\n",
      "\u001b[0m\n",
      "((529,), (529, 2))\n"
     ]
    }
   ],
   "source": [
    "%debug"
   ]
  },
  {
   "cell_type": "code",
   "execution_count": null,
   "id": "26681a7b",
   "metadata": {},
   "outputs": [
    {
     "data": {
      "text/plain": [
       "32767.0"
      ]
     },
     "execution_count": 1280,
     "metadata": {},
     "output_type": "execute_result"
    }
   ],
   "source": [
    "volt_to_int(0)"
   ]
  },
  {
   "cell_type": "code",
   "execution_count": 1680,
   "id": "532312bc",
   "metadata": {},
   "outputs": [],
   "source": [
    "DecaDACRep.reset()"
   ]
  },
  {
   "cell_type": "code",
   "execution_count": 1770,
   "id": "d13bc855",
   "metadata": {},
   "outputs": [
    {
     "ename": "VisaIOError",
     "evalue": "VI_ERROR_TMO (-1073807339): Timeout expired before operation completed.",
     "output_type": "error",
     "traceback": [
      "\u001b[1;31m---------------------------------------------------------------------------\u001b[0m",
      "\u001b[1;31mVisaIOError\u001b[0m                               Traceback (most recent call last)",
      "Cell \u001b[1;32mIn[1770], line 2\u001b[0m\n\u001b[0;32m      1\u001b[0m \u001b[38;5;28;01mfor\u001b[39;00m _ \u001b[38;5;129;01min\u001b[39;00m \u001b[38;5;28mrange\u001b[39m(\u001b[38;5;241m10\u001b[39m):\n\u001b[1;32m----> 2\u001b[0m     \u001b[43mDecaDACRep\u001b[49m\u001b[38;5;241;43m.\u001b[39;49m\u001b[43marm\u001b[49m\u001b[43m(\u001b[49m\u001b[43m)\u001b[49m\n\u001b[0;32m      3\u001b[0m     time\u001b[38;5;241m.\u001b[39msleep(\u001b[38;5;241m20\u001b[39m)\n",
      "File \u001b[1;32m\\\\Janeway\\User AG Bluhm\\Surrey\\git\\qupulse\\qupulse\\hardware\\awgs\\decadac.py:362\u001b[0m, in \u001b[0;36mDecaDACRepresentation.arm\u001b[1;34m(self)\u001b[0m\n\u001b[0;32m    361\u001b[0m \u001b[38;5;28;01mdef\u001b[39;00m \u001b[38;5;21marm\u001b[39m(\u001b[38;5;28mself\u001b[39m):\n\u001b[1;32m--> 362\u001b[0m \t\u001b[43mrun_script\u001b[49m\u001b[43m(\u001b[49m\u001b[43mserial_ask\u001b[49m\u001b[38;5;241;43m=\u001b[39;49m\u001b[38;5;28;43mself\u001b[39;49m\u001b[38;5;241;43m.\u001b[39;49m\u001b[43mserial_ask\u001b[49m\u001b[43m,\u001b[49m\u001b[43m \u001b[49m\u001b[43mlabel\u001b[49m\u001b[38;5;241;43m=\u001b[39;49m\u001b[38;5;241;43m1\u001b[39;49m\u001b[43m)\u001b[49m\n",
      "File \u001b[1;32m\\\\Janeway\\User AG Bluhm\\Surrey\\git\\qupulse\\qupulse\\hardware\\awgs\\decadac.py:120\u001b[0m, in \u001b[0;36mrun_script\u001b[1;34m(serial_ask, label)\u001b[0m\n\u001b[0;32m    118\u001b[0m \u001b[38;5;28;01mdef\u001b[39;00m \u001b[38;5;21mrun_script\u001b[39m(serial_ask, label:\u001b[38;5;28mint\u001b[39m\u001b[38;5;241m=\u001b[39m\u001b[38;5;241m1\u001b[39m):\n\u001b[1;32m--> 120\u001b[0m \tresp \u001b[38;5;241m=\u001b[39m \u001b[43mserial_ask\u001b[49m\u001b[43m(\u001b[49m\u001b[38;5;124;43mf\u001b[39;49m\u001b[38;5;124;43m\"\u001b[39;49m\u001b[38;5;124;43mX\u001b[39;49m\u001b[38;5;132;43;01m{\u001b[39;49;00m\u001b[43mlabel\u001b[49m\u001b[38;5;132;43;01m}\u001b[39;49;00m\u001b[38;5;124;43m;\u001b[39;49m\u001b[38;5;124;43m\"\u001b[39;49m\u001b[43m)\u001b[49m\n\u001b[0;32m    122\u001b[0m \t\u001b[38;5;28;01mreturn\u001b[39;00m resp\n",
      "File \u001b[1;32m\\\\Janeway\\User AG Bluhm\\Surrey\\git\\Qcodes\\qcodes\\instrument\\visa.py:235\u001b[0m, in \u001b[0;36mVisaInstrument.ask_raw\u001b[1;34m(self, cmd)\u001b[0m\n\u001b[0;32m    233\u001b[0m \u001b[38;5;28;01mwith\u001b[39;00m DelayedKeyboardInterrupt():\n\u001b[0;32m    234\u001b[0m     \u001b[38;5;28mself\u001b[39m\u001b[38;5;241m.\u001b[39mvisa_log\u001b[38;5;241m.\u001b[39mdebug(\u001b[38;5;124mf\u001b[39m\u001b[38;5;124m\"\u001b[39m\u001b[38;5;124mQuerying: \u001b[39m\u001b[38;5;132;01m{\u001b[39;00mcmd\u001b[38;5;132;01m}\u001b[39;00m\u001b[38;5;124m\"\u001b[39m)\n\u001b[1;32m--> 235\u001b[0m     response \u001b[38;5;241m=\u001b[39m \u001b[38;5;28;43mself\u001b[39;49m\u001b[38;5;241;43m.\u001b[39;49m\u001b[43mvisa_handle\u001b[49m\u001b[38;5;241;43m.\u001b[39;49m\u001b[43mquery\u001b[49m\u001b[43m(\u001b[49m\u001b[43mcmd\u001b[49m\u001b[43m)\u001b[49m\n\u001b[0;32m    236\u001b[0m     \u001b[38;5;28mself\u001b[39m\u001b[38;5;241m.\u001b[39mvisa_log\u001b[38;5;241m.\u001b[39mdebug(\u001b[38;5;124mf\u001b[39m\u001b[38;5;124m\"\u001b[39m\u001b[38;5;124mResponse: \u001b[39m\u001b[38;5;132;01m{\u001b[39;00mresponse\u001b[38;5;132;01m}\u001b[39;00m\u001b[38;5;124m\"\u001b[39m)\n\u001b[0;32m    237\u001b[0m \u001b[38;5;28;01mreturn\u001b[39;00m response\n",
      "File \u001b[1;32mc:\\Users\\Surrey\\Miniconda3\\envs\\ml4qworkshop\\lib\\site-packages\\pyvisa\\resources\\messagebased.py:644\u001b[0m, in \u001b[0;36mMessageBasedResource.query\u001b[1;34m(self, message, delay)\u001b[0m\n\u001b[0;32m    641\u001b[0m \u001b[38;5;28;01mif\u001b[39;00m delay \u001b[38;5;241m>\u001b[39m \u001b[38;5;241m0.0\u001b[39m:\n\u001b[0;32m    642\u001b[0m     time\u001b[38;5;241m.\u001b[39msleep(delay)\n\u001b[1;32m--> 644\u001b[0m \u001b[38;5;28;01mreturn\u001b[39;00m \u001b[38;5;28;43mself\u001b[39;49m\u001b[38;5;241;43m.\u001b[39;49m\u001b[43mread\u001b[49m\u001b[43m(\u001b[49m\u001b[43m)\u001b[49m\n",
      "File \u001b[1;32mc:\\Users\\Surrey\\Miniconda3\\envs\\ml4qworkshop\\lib\\site-packages\\pyvisa\\resources\\messagebased.py:486\u001b[0m, in \u001b[0;36mMessageBasedResource.read\u001b[1;34m(self, termination, encoding)\u001b[0m\n\u001b[0;32m    484\u001b[0m \u001b[38;5;28;01mif\u001b[39;00m termination \u001b[38;5;129;01mis\u001b[39;00m \u001b[38;5;28;01mNone\u001b[39;00m:\n\u001b[0;32m    485\u001b[0m     termination \u001b[38;5;241m=\u001b[39m \u001b[38;5;28mself\u001b[39m\u001b[38;5;241m.\u001b[39m_read_termination\n\u001b[1;32m--> 486\u001b[0m     message \u001b[38;5;241m=\u001b[39m \u001b[38;5;28;43mself\u001b[39;49m\u001b[38;5;241;43m.\u001b[39;49m\u001b[43m_read_raw\u001b[49m\u001b[43m(\u001b[49m\u001b[43m)\u001b[49m\u001b[38;5;241m.\u001b[39mdecode(enco)\n\u001b[0;32m    487\u001b[0m \u001b[38;5;28;01melse\u001b[39;00m:\n\u001b[0;32m    488\u001b[0m     \u001b[38;5;28;01mwith\u001b[39;00m \u001b[38;5;28mself\u001b[39m\u001b[38;5;241m.\u001b[39mread_termination_context(termination):\n",
      "File \u001b[1;32mc:\\Users\\Surrey\\Miniconda3\\envs\\ml4qworkshop\\lib\\site-packages\\pyvisa\\resources\\messagebased.py:442\u001b[0m, in \u001b[0;36mMessageBasedResource._read_raw\u001b[1;34m(self, size)\u001b[0m\n\u001b[0;32m    435\u001b[0m     \u001b[38;5;28;01mwhile\u001b[39;00m status \u001b[38;5;241m==\u001b[39m loop_status:\n\u001b[0;32m    436\u001b[0m         logger\u001b[38;5;241m.\u001b[39mdebug(\n\u001b[0;32m    437\u001b[0m             \u001b[38;5;124m\"\u001b[39m\u001b[38;5;132;01m%s\u001b[39;00m\u001b[38;5;124m - reading \u001b[39m\u001b[38;5;132;01m%d\u001b[39;00m\u001b[38;5;124m bytes (last status \u001b[39m\u001b[38;5;132;01m%r\u001b[39;00m\u001b[38;5;124m)\u001b[39m\u001b[38;5;124m\"\u001b[39m,\n\u001b[0;32m    438\u001b[0m             \u001b[38;5;28mself\u001b[39m\u001b[38;5;241m.\u001b[39m_resource_name,\n\u001b[0;32m    439\u001b[0m             size,\n\u001b[0;32m    440\u001b[0m             status,\n\u001b[0;32m    441\u001b[0m         )\n\u001b[1;32m--> 442\u001b[0m         chunk, status \u001b[38;5;241m=\u001b[39m \u001b[38;5;28;43mself\u001b[39;49m\u001b[38;5;241;43m.\u001b[39;49m\u001b[43mvisalib\u001b[49m\u001b[38;5;241;43m.\u001b[39;49m\u001b[43mread\u001b[49m\u001b[43m(\u001b[49m\u001b[38;5;28;43mself\u001b[39;49m\u001b[38;5;241;43m.\u001b[39;49m\u001b[43msession\u001b[49m\u001b[43m,\u001b[49m\u001b[43m \u001b[49m\u001b[43msize\u001b[49m\u001b[43m)\u001b[49m\n\u001b[0;32m    443\u001b[0m         ret\u001b[38;5;241m.\u001b[39mextend(chunk)\n\u001b[0;32m    444\u001b[0m \u001b[38;5;28;01mexcept\u001b[39;00m errors\u001b[38;5;241m.\u001b[39mVisaIOError \u001b[38;5;28;01mas\u001b[39;00m e:\n",
      "File \u001b[1;32mc:\\Users\\Surrey\\Miniconda3\\envs\\ml4qworkshop\\lib\\site-packages\\pyvisa\\ctwrapper\\functions.py:2337\u001b[0m, in \u001b[0;36mread\u001b[1;34m(library, session, count)\u001b[0m\n\u001b[0;32m   2335\u001b[0m buffer \u001b[38;5;241m=\u001b[39m create_string_buffer(count)\n\u001b[0;32m   2336\u001b[0m return_count \u001b[38;5;241m=\u001b[39m ViUInt32()\n\u001b[1;32m-> 2337\u001b[0m ret \u001b[38;5;241m=\u001b[39m \u001b[43mlibrary\u001b[49m\u001b[38;5;241;43m.\u001b[39;49m\u001b[43mviRead\u001b[49m\u001b[43m(\u001b[49m\u001b[43msession\u001b[49m\u001b[43m,\u001b[49m\u001b[43m \u001b[49m\u001b[43mbuffer\u001b[49m\u001b[43m,\u001b[49m\u001b[43m \u001b[49m\u001b[43mcount\u001b[49m\u001b[43m,\u001b[49m\u001b[43m \u001b[49m\u001b[43mbyref\u001b[49m\u001b[43m(\u001b[49m\u001b[43mreturn_count\u001b[49m\u001b[43m)\u001b[49m\u001b[43m)\u001b[49m\n\u001b[0;32m   2338\u001b[0m \u001b[38;5;28;01mreturn\u001b[39;00m buffer\u001b[38;5;241m.\u001b[39mraw[: return_count\u001b[38;5;241m.\u001b[39mvalue], ret\n",
      "File \u001b[1;32mc:\\Users\\Surrey\\Miniconda3\\envs\\ml4qworkshop\\lib\\site-packages\\pyvisa\\ctwrapper\\highlevel.py:222\u001b[0m, in \u001b[0;36mIVIVisaLibrary._return_handler\u001b[1;34m(self, ret_value, func, arguments)\u001b[0m\n\u001b[0;32m    219\u001b[0m         \u001b[38;5;66;03m# Set session back to a safe value\u001b[39;00m\n\u001b[0;32m    220\u001b[0m         session \u001b[38;5;241m=\u001b[39m \u001b[38;5;28;01mNone\u001b[39;00m\n\u001b[1;32m--> 222\u001b[0m \u001b[38;5;28;01mreturn\u001b[39;00m \u001b[38;5;28;43mself\u001b[39;49m\u001b[38;5;241;43m.\u001b[39;49m\u001b[43mhandle_return_value\u001b[49m\u001b[43m(\u001b[49m\u001b[43msession\u001b[49m\u001b[43m,\u001b[49m\u001b[43m \u001b[49m\u001b[43mret_value\u001b[49m\u001b[43m)\u001b[49m\n",
      "File \u001b[1;32mc:\\Users\\Surrey\\Miniconda3\\envs\\ml4qworkshop\\lib\\site-packages\\pyvisa\\highlevel.py:251\u001b[0m, in \u001b[0;36mVisaLibraryBase.handle_return_value\u001b[1;34m(self, session, status_code)\u001b[0m\n\u001b[0;32m    248\u001b[0m     \u001b[38;5;28mself\u001b[39m\u001b[38;5;241m.\u001b[39m_last_status_in_session[session] \u001b[38;5;241m=\u001b[39m rv\n\u001b[0;32m    250\u001b[0m \u001b[38;5;28;01mif\u001b[39;00m rv \u001b[38;5;241m<\u001b[39m \u001b[38;5;241m0\u001b[39m:\n\u001b[1;32m--> 251\u001b[0m     \u001b[38;5;28;01mraise\u001b[39;00m errors\u001b[38;5;241m.\u001b[39mVisaIOError(rv)\n\u001b[0;32m    253\u001b[0m \u001b[38;5;28;01mif\u001b[39;00m rv \u001b[38;5;129;01min\u001b[39;00m \u001b[38;5;28mself\u001b[39m\u001b[38;5;241m.\u001b[39missue_warning_on:\n\u001b[0;32m    254\u001b[0m     \u001b[38;5;28;01mif\u001b[39;00m session \u001b[38;5;129;01mand\u001b[39;00m rv \u001b[38;5;129;01mnot\u001b[39;00m \u001b[38;5;129;01min\u001b[39;00m \u001b[38;5;28mself\u001b[39m\u001b[38;5;241m.\u001b[39m_ignore_warning_in_session[session]:\n",
      "\u001b[1;31mVisaIOError\u001b[0m: VI_ERROR_TMO (-1073807339): Timeout expired before operation completed."
     ]
    }
   ],
   "source": [
    "for _ in range(10):\n",
    "    DecaDACRep.arm()\n",
    "    time.sleep(20)"
   ]
  },
  {
   "cell_type": "code",
   "execution_count": 1761,
   "id": "3220f600",
   "metadata": {},
   "outputs": [],
   "source": [
    "for c in dac.channels: c.volt(0)"
   ]
  },
  {
   "cell_type": "code",
   "execution_count": null,
   "id": "8afa6be3",
   "metadata": {},
   "outputs": [],
   "source": []
  }
 ],
 "metadata": {
  "kernelspec": {
   "display_name": "ml4qworkshop",
   "language": "python",
   "name": "python3"
  },
  "language_info": {
   "codemirror_mode": {
    "name": "ipython",
    "version": 3
   },
   "file_extension": ".py",
   "mimetype": "text/x-python",
   "name": "python",
   "nbconvert_exporter": "python",
   "pygments_lexer": "ipython3",
   "version": "3.10.11"
  }
 },
 "nbformat": 4,
 "nbformat_minor": 5
}
