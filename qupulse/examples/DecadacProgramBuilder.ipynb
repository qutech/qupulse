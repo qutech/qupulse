{
 "cells": [
  {
   "cell_type": "markdown",
   "id": "04b3e657",
   "metadata": {},
   "source": [
    "# This notebook is used for the development of the Program Builder for the DecaDAC"
   ]
  },
  {
   "cell_type": "code",
   "execution_count": 1,
   "id": "d97b2223",
   "metadata": {},
   "outputs": [],
   "source": [
    "%load_ext autoreload\n",
    "%autoreload 2"
   ]
  },
  {
   "cell_type": "code",
   "execution_count": 2,
   "id": "766762ad",
   "metadata": {},
   "outputs": [
    {
     "name": "stderr",
     "output_type": "stream",
     "text": [
      "\\\\Janeway\\User AG Bluhm\\Surrey\\git\\qupulse\\qupulse\\utils\\types.py:36: UserWarning: gmpy2 not found. Using fractions.Fraction as fallback. Install gmpy2 for better performance.time_from_float might produce slightly different results\n",
      "  warnings.warn('gmpy2 not found. Using fractions.Fraction as fallback. Install gmpy2 for better performance.'\n"
     ]
    }
   ],
   "source": [
    "import qupulse\n",
    "from qupulse.pulses.plotting import plot\n",
    "from qupulse.pulses import PointPT, TablePT, FunctionPT, SequencePT, RepetitionPT, AtomicMultiChannelPT, ParallelConstantChannelPT\n",
    "from qupulse.serialization import Serializer, FilesystemBackend\n",
    "from qupulse.hardware.setup import HardwareSetup, MeasurementMask\n",
    "from qupulse.hardware.awgs.zihdawg import HDAWGTriggerOutSource"
   ]
  },
  {
   "cell_type": "code",
   "execution_count": 3,
   "id": "438e819e",
   "metadata": {},
   "outputs": [],
   "source": [
    "from qupulse_mfli.mfli import MFLIDAQ, postprocessing_average_within_windows"
   ]
  },
  {
   "cell_type": "code",
   "execution_count": 4,
   "id": "9776118c",
   "metadata": {},
   "outputs": [],
   "source": [
    "from qcodes.instrument_drivers.Harvard.Decadac import Decadac"
   ]
  },
  {
   "cell_type": "code",
   "execution_count": 5,
   "id": "4d117672",
   "metadata": {},
   "outputs": [],
   "source": [
    "Setup = HardwareSetup()"
   ]
  },
  {
   "cell_type": "code",
   "execution_count": 6,
   "id": "f82252ec",
   "metadata": {},
   "outputs": [
    {
     "name": "stdout",
     "output_type": "stream",
     "text": [
      "Connected to Harvard DecaDAC (hw ver: 0, serial: 0) in 0.49s\n"
     ]
    }
   ],
   "source": [
    "# connecting the DecaDAC\n",
    "dac = Decadac('dac1', 'ASRL4::INSTR', min_val=-10, max_val=10, division=1, terminator='\\n')"
   ]
  },
  {
   "cell_type": "code",
   "execution_count": 7,
   "id": "6039a255",
   "metadata": {},
   "outputs": [],
   "source": [
    "for c in dac.channels:\n",
    "    c.volt(0)"
   ]
  },
  {
   "cell_type": "code",
   "execution_count": 8,
   "id": "035c6c10",
   "metadata": {},
   "outputs": [],
   "source": [
    "# connecting the MFLI\n",
    "mfli = MFLIDAQ.connect_to(\"dev7113\")\n",
    "\n",
    "prefix = \"\"\n",
    "channels = {\n",
    "    f\"{prefix}R\": [\"demods/0/sample.R\"],\n",
    "    f\"{prefix}T\": [\"demods/0/sample.Theta\"],\n",
    "    f\"{prefix}X\": [\"demods/0/sample.X\"],\n",
    "    f\"{prefix}Y\": [\"demods/0/sample.Y\"],\n",
    "    f\"{prefix}A1\": [\"demods/0/sample.AuxIn0\"],\n",
    "    f\"{prefix}A2\": [\"demods/0/sample.AuxIn1\"],\n",
    "    f\"{prefix}F\": [\"demods/0/sample.Frequency\"],\n",
    "} \n",
    "# TODO it is possible, that the channels like to be called with *.avg at the end. At least that is what the LabOne web interface logs. But for R it worked without.\n",
    "\n",
    "# now the channels are to be registered.\n",
    "for k, v in channels.items():\n",
    "    # at the lock-in side: (None refers to the default)\n",
    "    mfli.register_measurement_channel(program_name=None, window_name=k, channel_path=v)\n",
    "    # and at the qupulse side:\n",
    "    Setup.set_measurement(f\"{k}\", MeasurementMask(mfli, k))\n",
    "\n",
    "# then we set the trigger default settings\n",
    "mfli.register_trigger_settings(program_name=None,\n",
    "                                trigger_input=f\"demods/0/sample.TrigIn1\", # here TrigInN referrers to the printer label N\n",
    "                                edge=\"rising\",\n",
    "                                trigger_count=1, # one trigger event per measurement\n",
    "                                level=.5,\n",
    "                                measurement_count=1, # one measurement per arm\n",
    "                                other_settings={\"holdoff/time\": 1e-3}\n",
    "                                )"
   ]
  },
  {
   "cell_type": "code",
   "execution_count": null,
   "id": "0a7f890f",
   "metadata": {},
   "outputs": [],
   "source": []
  },
  {
   "cell_type": "code",
   "execution_count": 9,
   "id": "501bc036",
   "metadata": {},
   "outputs": [],
   "source": [
    "import time"
   ]
  },
  {
   "cell_type": "code",
   "execution_count": 636,
   "id": "92b0cfb1",
   "metadata": {},
   "outputs": [],
   "source": [
    "def send_trigger():\n",
    "    mfli.api_session.set(f\"/{mfli.serial}/auxouts/0/offset\", 2)\n",
    "    time.sleep(0.5)\n",
    "    mfli.api_session.set(f\"/{mfli.serial}/auxouts/0/offset\", 0)"
   ]
  },
  {
   "cell_type": "code",
   "execution_count": 11,
   "id": "188cd505",
   "metadata": {},
   "outputs": [],
   "source": [
    "from qupulse.hardware.awgs.decadac import *"
   ]
  },
  {
   "cell_type": "code",
   "execution_count": null,
   "id": "36c47b37",
   "metadata": {},
   "outputs": [],
   "source": []
  },
  {
   "cell_type": "code",
   "execution_count": 651,
   "id": "8bf693a2",
   "metadata": {},
   "outputs": [
    {
     "name": "stderr",
     "output_type": "stream",
     "text": [
      " 55%|█████▌    | 138/250 [00:06<00:05, 20.83it/s]"
     ]
    },
    {
     "name": "stdout",
     "output_type": "stream",
     "text": [
      "Could not decode 10000101\n",
      "Could not decode 11000011\n",
      "Could not decode 10010100\n",
      "Could not decode 11001110\n"
     ]
    },
    {
     "name": "stderr",
     "output_type": "stream",
     "text": [
      " 58%|█████▊    | 144/250 [00:06<00:05, 20.83it/s]"
     ]
    },
    {
     "name": "stdout",
     "output_type": "stream",
     "text": [
      "Could not decode 10100011\n",
      "Could not decode 10000011\n",
      "Could not decode 10001000\n"
     ]
    },
    {
     "name": "stderr",
     "output_type": "stream",
     "text": [
      " 60%|██████    | 150/250 [00:07<00:04, 20.83it/s]"
     ]
    },
    {
     "name": "stdout",
     "output_type": "stream",
     "text": [
      "Could not decode 10001000\n",
      "Could not decode 11001111\n",
      "Could not decode 10011000\n",
      "Could not decode 10101000\n"
     ]
    },
    {
     "name": "stderr",
     "output_type": "stream",
     "text": [
      " 62%|██████▏   | 156/250 [00:07<00:04, 20.84it/s]"
     ]
    },
    {
     "name": "stdout",
     "output_type": "stream",
     "text": [
      "Could not decode 10111010\n",
      "Could not decode 10000011\n",
      "Could not decode 10001000\n",
      "Could not decode 10111111\n",
      "Could not decode 10000111\n",
      "Could not decode 10100000\n"
     ]
    },
    {
     "name": "stderr",
     "output_type": "stream",
     "text": [
      " 64%|██████▎   | 159/250 [00:07<00:04, 21.53it/s]"
     ]
    },
    {
     "name": "stdout",
     "output_type": "stream",
     "text": [
      "Could not decode 10010000\n",
      "Could not decode 11000001\n",
      "Could not decode 10100001\n",
      "Could not decode 10110001\n",
      "Could not decode 11110111\n",
      "Could not decode 11011111\n"
     ]
    },
    {
     "name": "stderr",
     "output_type": "stream",
     "text": [
      " 66%|██████▌   | 165/250 [00:07<00:04, 21.18it/s]"
     ]
    },
    {
     "name": "stdout",
     "output_type": "stream",
     "text": [
      "Could not decode 11000110\n",
      "Could not decode 11001101\n",
      "Could not decode 11001101\n",
      "Could not decode 11001111\n",
      "Could not decode 10110011\n"
     ]
    },
    {
     "name": "stderr",
     "output_type": "stream",
     "text": [
      " 68%|██████▊   | 171/250 [00:08<00:03, 20.99it/s]"
     ]
    },
    {
     "name": "stdout",
     "output_type": "stream",
     "text": [
      "Could not decode 10111111\n",
      "Could not decode 11011101\n",
      "Could not decode 11110011\n",
      "Could not decode 11101110\n",
      "Could not decode 10111111\n",
      "Could not decode 10101101\n",
      "Could not decode 11110100\n"
     ]
    },
    {
     "name": "stderr",
     "output_type": "stream",
     "text": [
      " 70%|██████▉   | 174/250 [00:08<00:03, 20.95it/s]"
     ]
    },
    {
     "name": "stdout",
     "output_type": "stream",
     "text": [
      "Could not decode 10101110\n",
      "Could not decode 11001010\n",
      "Could not decode 10111011\n",
      "Could not decode 11110111\n",
      "Could not decode 11110101\n",
      "Could not decode 10011011\n"
     ]
    },
    {
     "name": "stderr",
     "output_type": "stream",
     "text": [
      " 72%|███████▏  | 180/250 [00:08<00:03, 20.90it/s]"
     ]
    },
    {
     "name": "stdout",
     "output_type": "stream",
     "text": [
      "Could not decode 10111011\n",
      "Could not decode 11111110\n",
      "Could not decode 11110110\n",
      "Could not decode 10011010\n",
      "Could not decode 11111000\n",
      "Could not decode 11111100\n"
     ]
    },
    {
     "name": "stderr",
     "output_type": "stream",
     "text": [
      " 74%|███████▍  | 186/250 [00:08<00:03, 20.83it/s]"
     ]
    },
    {
     "name": "stdout",
     "output_type": "stream",
     "text": [
      "Could not decode 11000000\n",
      "Could not decode 11010011\n",
      "Could not decode 11011101\n",
      "Could not decode 11101110\n",
      "Could not decode 11111011\n",
      "Could not decode 10111101\n"
     ]
    },
    {
     "name": "stderr",
     "output_type": "stream",
     "text": [
      " 77%|███████▋  | 192/250 [00:09<00:02, 20.83it/s]"
     ]
    },
    {
     "name": "stdout",
     "output_type": "stream",
     "text": [
      "Could not decode 11010011\n",
      "Could not decode 11110001\n",
      "Could not decode 11110111\n",
      "Could not decode 10110001\n",
      "Could not decode 10111111\n",
      "Could not decode 10111101\n"
     ]
    },
    {
     "name": "stderr",
     "output_type": "stream",
     "text": [
      " 80%|████████  | 201/250 [00:09<00:02, 20.84it/s]"
     ]
    },
    {
     "name": "stdout",
     "output_type": "stream",
     "text": [
      "Could not decode 11001101\n",
      "Could not decode 11010000\n",
      "Could not decode 11010011\n",
      "Could not decode 10100100\n"
     ]
    },
    {
     "name": "stderr",
     "output_type": "stream",
     "text": [
      " 83%|████████▎ | 207/250 [00:09<00:02, 20.83it/s]"
     ]
    },
    {
     "name": "stdout",
     "output_type": "stream",
     "text": [
      "Could not decode 10010011\n",
      "Could not decode 11111010\n",
      "Could not decode 10101001\n",
      "Could not decode 10010000\n"
     ]
    },
    {
     "name": "stderr",
     "output_type": "stream",
     "text": [
      " 85%|████████▌ | 213/250 [00:10<00:01, 20.81it/s]"
     ]
    },
    {
     "name": "stdout",
     "output_type": "stream",
     "text": [
      "Could not decode 10100011\n",
      "Could not decode 10000001\n",
      "Could not decode 10100100\n",
      "Could not decode 11000100\n"
     ]
    },
    {
     "name": "stderr",
     "output_type": "stream",
     "text": [
      " 86%|████████▋ | 216/250 [00:10<00:01, 20.81it/s]"
     ]
    },
    {
     "name": "stdout",
     "output_type": "stream",
     "text": [
      "Could not decode 11101100\n",
      "Could not decode 11000000\n",
      "Could not decode 11000100\n",
      "Could not decode 10010000\n"
     ]
    },
    {
     "name": "stderr",
     "output_type": "stream",
     "text": [
      " 90%|█████████ | 225/250 [00:10<00:01, 21.19it/s]"
     ]
    },
    {
     "name": "stdout",
     "output_type": "stream",
     "text": [
      "Could not decode 11001000\n",
      "Could not decode 10111000\n",
      "Could not decode 11101111\n"
     ]
    },
    {
     "name": "stderr",
     "output_type": "stream",
     "text": [
      " 91%|█████████ | 228/250 [00:10<00:01, 21.08it/s]"
     ]
    },
    {
     "name": "stdout",
     "output_type": "stream",
     "text": [
      "Could not decode 10010001\n",
      "Could not decode 11110101\n",
      "Could not decode 11110111\n",
      "Could not decode 10010001\n"
     ]
    },
    {
     "name": "stderr",
     "output_type": "stream",
     "text": [
      " 94%|█████████▎| 234/250 [00:11<00:00, 21.42it/s]"
     ]
    },
    {
     "name": "stdout",
     "output_type": "stream",
     "text": [
      "Could not decode 10010010\n",
      "Could not decode 11100110\n",
      "Could not decode 11100110\n"
     ]
    },
    {
     "name": "stderr",
     "output_type": "stream",
     "text": [
      " 96%|█████████▌| 240/250 [00:11<00:00, 21.12it/s]"
     ]
    },
    {
     "name": "stdout",
     "output_type": "stream",
     "text": [
      "Could not decode 11100111\n",
      "Could not decode 11111111\n",
      "Could not decode 11111111\n",
      "Could not decode 11101010\n",
      "Could not decode 11001100\n",
      "Could not decode 10100111\n",
      "Could not decode 11101100\n",
      "Could not decode 11110011\n"
     ]
    },
    {
     "name": "stderr",
     "output_type": "stream",
     "text": [
      " 98%|█████████▊| 246/250 [00:11<00:00, 20.98it/s]"
     ]
    },
    {
     "name": "stdout",
     "output_type": "stream",
     "text": [
      "Could not decode 11101011\n",
      "Could not decode 10001111\n",
      "Could not decode 11111011\n",
      "Could not decode 11010100\n",
      "Could not decode 11101110\n",
      "Could not decode 11010011\n",
      "Could not decode 11010111\n"
     ]
    },
    {
     "name": "stderr",
     "output_type": "stream",
     "text": [
      "100%|██████████| 250/250 [00:11<00:00, 20.92it/s]"
     ]
    },
    {
     "name": "stdout",
     "output_type": "stream",
     "text": [
      "Could not decode 11011010\n",
      "Could not decode 11111000\n",
      "Could not decode 11100001\n",
      "Could not decode 11001111\n",
      "Could not decode 11110101\n",
      "Could not decode 11001011\n"
     ]
    },
    {
     "name": "stderr",
     "output_type": "stream",
     "text": [
      "\n"
     ]
    },
    {
     "data": {
      "text/plain": [
       "'*1:B0;M2;B1;M2;A1545;P32439;A1538;P3;A1577;P33095;A1570;P3;A1609;P33259;A1602;P3;A45056;P200;*2:X2050;*3:A1545;+3;A1538;P3;A1577;+-3;A1570;P3;A1609;+7;A1602;P3;$10000;*4:X772;A45056;+-1;X1283;*5:A1545;P32767;A1538;P3;A1577;P32767;A1570;P3;A1609;P32767;A1602;P3;X0;;X0;0;\"(\\x072$RQd p(R!\\x10e\\x02O\\x05gP\\x01 \\x12\",B\\x04(C0,wk=\\x1aW -gW8`\\x0e[{<I-G[2\\rS\\x1bm@\\tpLS(j\\x11y\\x1cO\\x1cBL$\\x1ap\\x04\\tD[\\x05t\\x05 &e=4n$\\x12\\\\&\\x05\\x08\\x1et|9p\\x02!v\\t\\x0fm\\x19;;5\\x01ZsM{_yO!\\x7f7mk?1-<'"
      ]
     },
     "execution_count": 651,
     "metadata": {},
     "output_type": "execute_result"
    }
   ],
   "source": [
    "download_script(script_length=500, serial_ask=dac.ask_raw)"
   ]
  },
  {
   "cell_type": "code",
   "execution_count": 633,
   "id": "4f121816",
   "metadata": {},
   "outputs": [],
   "source": [
    "# A{0x006FC1};   (Where the trigger inputs live (after hacking stuff))\n",
    "# A{1545+16*(c+1)};+{int(cv)};A{1538+16*(c+1)};P3;\n",
    "# (B1;C0;D{volt_to_int(0.2)};      (set the gate that we want to change to 0)\n",
    "\n",
    "def prepare_board(board):\n",
    "    return f\"B{board};M2;\"\n",
    "\n",
    "def set_voltage_code(channel, volt):\n",
    "    return f\"A{1545+16*(channel)};P{volt_to_int(volt)};A{1538+16*(channel)};P3;\"\n",
    "\n",
    "def inc_voltage_code(channel, delta):\n",
    "    int_delta = int(volt_to_int(delta)-volt_to_int(0))\n",
    "    return f\"A{1545+16*(channel)};+{int_delta};A{1538+16*(channel)};P3;\"\n",
    "\n",
    "def set_timer(duration_in_s):\n",
    "    return f\"${round(duration_in_s*1e6)};\"\n",
    "\n",
    "def not_triggered_jump(target):\n",
    "    \"\"\"\n",
    "    SpecialConditions:\n",
    "    ;08 = Trig1 is zero\n",
    "    ;09 = Trig1 is not zero\n",
    "    ;0A = Trig2 is zero\n",
    "    ;0B = Trig2 is not zero\n",
    "    \"\"\"\n",
    "    return f\"X{0x800+target};\"\n",
    "\n",
    "def timer_running_jump(target):\n",
    "    return f\"X{0x300+target};\"\n",
    "\n",
    "\n",
    "def value_larger_zero_jump(target):\n",
    "    return f\"X{0x500+target};\"\n",
    "\n",
    "def unconditional_jump(target):\n",
    "    return f\"X{0x000+target};\"\n",
    "\n",
    "\"\"\"\n",
    "\n",
    "  B0;C0;D{volt_to_int(0.05)};      (set the gate that we want to change to 0)\n",
    "  B0;C2;D{volt_to_int(0.1)};      (set the gate that we want to change to 0)\n",
    "  B1;C0;D{volt_to_int(-0.1)};      (set the gate that we want to change to 0)\n",
    "\n",
    "  \n",
    "  B0;C0;M2;G0;T0;C1;M2;G0;T0;\n",
    "  B1;C0;M2;G0;T0;\n",
    "  \n",
    "\"\"\"\n",
    "ramp_script = f\"\"\"\n",
    "{{\n",
    "*1:\n",
    "  \n",
    "  B0;M2; (setting the gating)\n",
    "  B1;M2; (for all used boards)\n",
    "\n",
    "  A45056;P200;   (Initialize our counter to 2**16-1)\n",
    "  \n",
    "  {set_voltage_code(0, -0.1)}\n",
    "  {set_voltage_code(2, 0.1)}\n",
    "  {set_voltage_code(4, 0.15)}\n",
    "*2:\n",
    "  X{0x802};      (X0x802 Jump to *2 if value trigger is 0)\n",
    "*3:              (main loop with label \"2\")\n",
    "  B0;C0;\n",
    "  A{1545+16*(2)};+-1;     (Add one to the course DAC value for channel 0)\n",
    "  A{1538+16*(2)};P3;      (Overwrite to force an update (0: no updates, 1: update enabled, 2: force update, 3: force update and update enabled))\n",
    "  B0;C1;\n",
    "  A{1545+16*(0)};+1;      (Add one to the course DAC value for channel 1)\n",
    "  A{1538+16*(0)};P3;      (Overwrite to force an update (0: no updates, 1: update enabled, 2: force update, 3: force update and update enabled))\n",
    "  B1;C0;\n",
    "  A{1545+16*(4)};+2;      (Add one to the course DAC value for channel 0)\n",
    "  A{1538+16*(4)};P3;      (Overwrite to force an update (0: no updates, 1: update enabled, 2: force update, 3: force update and update enabled))\n",
    "\n",
    "  $5000;\n",
    "*4:\n",
    "  X{0x304};\n",
    "  A45056;+ -1;   (Decrease the counter)\n",
    "  X{0x503};      (X0x502 Jump to *2 if value behind the pointer is not 0)\n",
    "*5:\n",
    "  B0;C0;D{volt_to_int(0)};\n",
    "  B0;C1;D{volt_to_int(0)};\n",
    "  B1;C0;D{volt_to_int(0)};\n",
    "  X0;\n",
    "}};\n",
    "\"\"\"\n",
    "\n",
    "ramp_script_2 = f\"\"\"{{\n",
    "*1:\n",
    "  {prepare_board(0)}\n",
    "  {prepare_board(1)}\n",
    "  {set_voltage_code(0, -0.1)}\n",
    "  {set_voltage_code(2, 0.1)}\n",
    "  {set_voltage_code(4, 0.15)}\n",
    "  \n",
    "  A45056;P200;   (Initialize our counter)\n",
    "\n",
    "*2:\n",
    "  {not_triggered_jump(2)}\n",
    "*3:\n",
    "  {inc_voltage_code(0, 0.001)}\n",
    "  {inc_voltage_code(2, -0.001)}\n",
    "  {inc_voltage_code(4, 0.002)}\n",
    "\n",
    "  {set_timer(0.01)}\n",
    "*4:\n",
    "  {timer_running_jump(4)}\n",
    "\n",
    "  A45056;+ -1;   (Decrease the counter)\n",
    "  {value_larger_zero_jump(3)}\n",
    "\n",
    "*5:\n",
    "  {set_voltage_code(0, 0)}\n",
    "  {set_voltage_code(2, 0)}\n",
    "  {set_voltage_code(4, 0)}\n",
    "  {unconditional_jump(0)}\n",
    "\n",
    "}};\"\"\""
   ]
  },
  {
   "cell_type": "code",
   "execution_count": 634,
   "id": "2c20cbaa",
   "metadata": {},
   "outputs": [
    {
     "data": {
      "text/plain": [
       "'X1!{*1:B0;M2;B1;M2;A1545;P32439;A1538;P3;A1577;P33095;A1570;P3;A1609;P33259;A1602;P3;A45056;P200;*2:X2050;*3:A1545;+3;A1538;P3;A1577;+-3;A1570;P3;A1609;+7;A1602;P3;$10000;*4:X772;A45056;+-1;X1283;*5:A1545;P32767;A1538;P3;A1577;P32767;A1570;P3;A1609;P32767;A1602;P3;X0;}!'"
      ]
     },
     "execution_count": 634,
     "metadata": {},
     "output_type": "execute_result"
    }
   ],
   "source": [
    "upload_script(ramp_script_2, serial_ask=dac.ask_raw)"
   ]
  },
  {
   "cell_type": "code",
   "execution_count": 447,
   "id": "ff5e66cf",
   "metadata": {},
   "outputs": [],
   "source": [
    "dac.write_raw(\"X0;\")"
   ]
  },
  {
   "cell_type": "code",
   "execution_count": 649,
   "id": "02bbb770",
   "metadata": {},
   "outputs": [],
   "source": [
    "while dac.ask(\"\") != \"\": pass"
   ]
  },
  {
   "cell_type": "code",
   "execution_count": 647,
   "id": "2b17ae2a",
   "metadata": {},
   "outputs": [],
   "source": [
    "dac.write_raw(\"X1;\")"
   ]
  },
  {
   "cell_type": "code",
   "execution_count": 648,
   "id": "6fd85a56",
   "metadata": {},
   "outputs": [],
   "source": [
    "send_trigger()"
   ]
  },
  {
   "cell_type": "code",
   "execution_count": 594,
   "id": "0622f3be",
   "metadata": {},
   "outputs": [],
   "source": [
    "for c in dac.channels[:5]:\n",
    "    c.volt(0.15)"
   ]
  },
  {
   "cell_type": "code",
   "execution_count": 17,
   "id": "24f59ef3",
   "metadata": {},
   "outputs": [],
   "source": [
    "def get(addr):\n",
    "    res = download_16bit(addr, serial_ask=dac.ask_raw)\n",
    "    print(f\"{res} -> {bin(res)}\")\n",
    "    return res"
   ]
  },
  {
   "cell_type": "code",
   "execution_count": 167,
   "id": "cfb51627",
   "metadata": {},
   "outputs": [
    {
     "name": "stdout",
     "output_type": "stream",
     "text": [
      "8058 -> 0b1111101111010\n"
     ]
    },
    {
     "data": {
      "text/plain": [
       "8058"
      ]
     },
     "execution_count": 167,
     "metadata": {},
     "output_type": "execute_result"
    }
   ],
   "source": [
    "get(0x006FC1)"
   ]
  },
  {
   "cell_type": "code",
   "execution_count": 650,
   "id": "5c72b33d",
   "metadata": {},
   "outputs": [
    {
     "ename": "NotImplementedError",
     "evalue": "This is not needed... X0x800 is designed for that...",
     "output_type": "error",
     "traceback": [
      "\u001b[1;31m---------------------------------------------------------------------------\u001b[0m",
      "\u001b[1;31mNotImplementedError\u001b[0m                       Traceback (most recent call last)",
      "Cell \u001b[1;32mIn[650], line 1\u001b[0m\n\u001b[1;32m----> 1\u001b[0m \u001b[38;5;28;01mraise\u001b[39;00m \u001b[38;5;167;01mNotImplementedError\u001b[39;00m(\u001b[38;5;124m\"\u001b[39m\u001b[38;5;124mThis is not needed... X0x800 is designed for that...\u001b[39m\u001b[38;5;124m\"\u001b[39m)\n\u001b[0;32m      2\u001b[0m \u001b[38;5;66;03m# inject_int(0x006FC4, 0b01001, serial_ask=dac.ask_raw) # \u001b[39;00m\n\u001b[0;32m      3\u001b[0m inject_int(\u001b[38;5;241m0x006F8A\u001b[39m, \u001b[38;5;241m0b1111111111111001\u001b[39m, serial_ask\u001b[38;5;241m=\u001b[39mdac\u001b[38;5;241m.\u001b[39mask_raw) \u001b[38;5;66;03m# setting the annoying registers to be output registers (0b1011101110000 & 0b1001) where the first binary number is the default\u001b[39;00m\n",
      "\u001b[1;31mNotImplementedError\u001b[0m: This is not needed... X0x800 is designed for that..."
     ]
    }
   ],
   "source": [
    "raise NotImplementedError(\"This is not needed... X0x800 is designed for that...\")\n",
    "# inject_int(0x006FC4, 0b01001, serial_ask=dac.ask_raw) # \n",
    "inject_int(0x006F8A, 0b1111111111111001, serial_ask=dac.ask_raw) # setting the annoying registers to be output registers (0b1011101110000 & 0b1001) where the first binary number is the default\n",
    "inject_int(0x006FC4, 0b1111111111111001, serial_ask=dac.ask_raw) # setting the annoying registers to 0\n",
    "get(0x006FC0)"
   ]
  },
  {
   "cell_type": "code",
   "execution_count": null,
   "id": "470b2e5e",
   "metadata": {},
   "outputs": [],
   "source": []
  },
  {
   "cell_type": "code",
   "execution_count": null,
   "id": "dca93454",
   "metadata": {},
   "outputs": [],
   "source": []
  },
  {
   "cell_type": "code",
   "execution_count": 656,
   "id": "5500e947",
   "metadata": {},
   "outputs": [],
   "source": [
    "# playing around with LZ77"
   ]
  },
  {
   "cell_type": "code",
   "execution_count": 657,
   "id": "5038e7d3",
   "metadata": {},
   "outputs": [],
   "source": [
    "from qupulse.utils.performance import *"
   ]
  },
  {
   "cell_type": "code",
   "execution_count": 796,
   "id": "5c7f3885",
   "metadata": {},
   "outputs": [],
   "source": [
    "test_array = np.arange(100).reshape((50, 2))"
   ]
  },
  {
   "cell_type": "code",
   "execution_count": 797,
   "id": "f1bdf650",
   "metadata": {},
   "outputs": [],
   "source": [
    "def test_compression_and_reconstruction(array, intermed, diffs):\n",
    "    compressed = compress_array_LZ77(array=array, allow_intermediates=intermed, using_diffs=diffs)\n",
    "    uncompressed = uncompress_array_LZ77(compressed)\n",
    "    if diffs:\n",
    "        assert len(array) == len(uncompressed), f\"{compressed=}, \\n{uncompressed=}\"\n",
    "        assert np.allclose(array, np.cumsum(uncompressed, axis=0)), f\"{compressed=}, \\n{uncompressed=}\"\n",
    "    else:\n",
    "        assert len(array) == len(uncompressed), f\"{compressed=}, \\n{uncompressed=}\"\n",
    "        assert np.allclose(array, uncompressed), f\"{compressed=}, \\n{uncompressed=}\"\n",
    "    return compressed, uncompressed"
   ]
  },
  {
   "cell_type": "code",
   "execution_count": 867,
   "id": "cec52806",
   "metadata": {},
   "outputs": [],
   "source": [
    "def test_compression_and_reconstruction_helper(array):\n",
    "    _ = test_compression_and_reconstruction(array, intermed=True, diffs=True)\n",
    "    _ = test_compression_and_reconstruction(array, intermed=True, diffs=False)\n",
    "    _ = test_compression_and_reconstruction(array, intermed=False, diffs=True)\n",
    "    _ = test_compression_and_reconstruction(array, intermed=False, diffs=False)"
   ]
  },
  {
   "cell_type": "code",
   "execution_count": 868,
   "id": "a11be008",
   "metadata": {},
   "outputs": [],
   "source": [
    "test_compression_and_reconstruction_helper(test_array)"
   ]
  },
  {
   "cell_type": "code",
   "execution_count": 885,
   "id": "0b050361",
   "metadata": {},
   "outputs": [],
   "source": [
    "test_compression_and_reconstruction_helper(np.array([[1, 2, 3, 4, 5]]).T)\n",
    "test_compression_and_reconstruction_helper(np.array([[1]]))\n",
    "test_compression_and_reconstruction_helper(np.ones((100, 2)))\n",
    "test_compression_and_reconstruction_helper(np.ones((1, 2)))\n",
    "test_compression_and_reconstruction_helper(np.ones((1, 10)))\n",
    "for _ in range(10):\n",
    "    test_compression_and_reconstruction_helper(np.random.uniform(0, 1, (np.random.randint(1, 10), np.random.randint(1, 10))))\n"
   ]
  },
  {
   "cell_type": "code",
   "execution_count": 900,
   "id": "928c725b",
   "metadata": {},
   "outputs": [],
   "source": [
    "special_array = np.repeat(np.linspace(0, 100, 200)[:, None], 3, axis=1)\n",
    "special_array[:, 0] = special_array[:, 0]%5*0.1\n",
    "special_array[:, 1] = special_array[:, 1]%10*3"
   ]
  },
  {
   "cell_type": "code",
   "execution_count": 901,
   "id": "8eb2ce0b",
   "metadata": {},
   "outputs": [],
   "source": [
    "special_array = special_array.astype(int)"
   ]
  },
  {
   "cell_type": "code",
   "execution_count": 902,
   "id": "255cf00d",
   "metadata": {},
   "outputs": [
    {
     "data": {
      "text/plain": [
       "[(0, 0, array([0, 0, 0])),\n",
       " (0, 0, array([0, 1, 0])),\n",
       " (0, 0, array([0, 2, 1])),\n",
       " (2, 17, array([  0, -28,   1])),\n",
       " (20, 46, array([0, 2, 0])),\n",
       " (0, 0, array([0, 1, 1])),\n",
       " (2, 11, array([  0, -29,   1])),\n",
       " (0, 0, array([0, 2, 0])),\n",
       " (0, 0, array([0, 1, 1])),\n",
       " (2, 17, array([  0, -29,   1])),\n",
       " (20, 33, array([0, 2, 1])),\n",
       " (0, 0, array([0, 1, 0])),\n",
       " (2, 4, array([  0, -28,   1])),\n",
       " (0, 0, array([0, 1, 0])),\n",
       " (0, 0, array([0, 2, 1])),\n",
       " (2, 17, array([  0, -28,   1])),\n",
       " (20, 38, array([  0, -28,   1]))]"
      ]
     },
     "execution_count": 902,
     "metadata": {},
     "output_type": "execute_result"
    }
   ],
   "source": [
    "test_compression_and_reconstruction_helper(special_array.astype(int))\n",
    "comp, _ = test_compression_and_reconstruction(special_array.astype(int), intermed=False, diffs=True)\n",
    "comp"
   ]
  },
  {
   "cell_type": "code",
   "execution_count": 906,
   "id": "c070a7f0",
   "metadata": {},
   "outputs": [
    {
     "data": {
      "text/plain": [
       "(3, 10, 7)"
      ]
     },
     "execution_count": 906,
     "metadata": {},
     "output_type": "execute_result"
    }
   ],
   "source": [
    "csd_2d = np.meshgrid(np.linspace(0, 1, 10), np.linspace(0, 1, 7), indexing='ij')\n",
    "csd_2d_with_sensor = np.ones((3, 10, 7))\n",
    "csd_2d_with_sensor[0] = csd_2d[0]*0.1+0.51\n",
    "csd_2d_with_sensor[1] = csd_2d[1]*0.5+0.322\n",
    "csd_2d_with_sensor[2] = -1*csd_2d_with_sensor[0]*0.1+-1*csd_2d_with_sensor[1]*0.14\n",
    "csd_2d_with_sensor.shape"
   ]
  },
  {
   "cell_type": "code",
   "execution_count": 908,
   "id": "75f4ea11",
   "metadata": {},
   "outputs": [],
   "source": [
    "csd_pulse = csd_2d_with_sensor.reshape((3, -1)).T*100"
   ]
  },
  {
   "cell_type": "code",
   "execution_count": 910,
   "id": "c008a38b",
   "metadata": {},
   "outputs": [
    {
     "data": {
      "text/plain": [
       "array([[ 51,  32,  -9],\n",
       "       [ 51,  40, -10],\n",
       "       [ 51,  48, -11],\n",
       "       [ 51,  57, -13],\n",
       "       [ 51,  65, -14],\n",
       "       [ 51,  73, -15],\n",
       "       [ 51,  82, -16],\n",
       "       [ 52,  32,  -9],\n",
       "       [ 52,  40, -10],\n",
       "       [ 52,  48, -12],\n",
       "       [ 52,  57, -13],\n",
       "       [ 52,  65, -14],\n",
       "       [ 52,  73, -15],\n",
       "       [ 52,  82, -16],\n",
       "       [ 53,  32,  -9],\n",
       "       [ 53,  40, -10],\n",
       "       [ 53,  48, -12],\n",
       "       [ 53,  57, -13],\n",
       "       [ 53,  65, -14],\n",
       "       [ 53,  73, -15],\n",
       "       [ 53,  82, -16],\n",
       "       [ 54,  32,  -9],\n",
       "       [ 54,  40, -11],\n",
       "       [ 54,  48, -12],\n",
       "       [ 54,  57, -13],\n",
       "       [ 54,  65, -14],\n",
       "       [ 54,  73, -15],\n",
       "       [ 54,  82, -16],\n",
       "       [ 55,  32, -10],\n",
       "       [ 55,  40, -11],\n",
       "       [ 55,  48, -12],\n",
       "       [ 55,  57, -13],\n",
       "       [ 55,  65, -14],\n",
       "       [ 55,  73, -15],\n",
       "       [ 55,  82, -17],\n",
       "       [ 56,  32, -10],\n",
       "       [ 56,  40, -11],\n",
       "       [ 56,  48, -12],\n",
       "       [ 56,  57, -13],\n",
       "       [ 56,  65, -14],\n",
       "       [ 56,  73, -15],\n",
       "       [ 56,  82, -17],\n",
       "       [ 57,  32, -10],\n",
       "       [ 57,  40, -11],\n",
       "       [ 57,  48, -12],\n",
       "       [ 57,  57, -13],\n",
       "       [ 57,  65, -14],\n",
       "       [ 57,  73, -16],\n",
       "       [ 57,  82, -17],\n",
       "       [ 58,  32, -10],\n",
       "       [ 58,  40, -11],\n",
       "       [ 58,  48, -12],\n",
       "       [ 58,  57, -13],\n",
       "       [ 58,  65, -15],\n",
       "       [ 58,  73, -16],\n",
       "       [ 58,  82, -17],\n",
       "       [ 59,  32, -10],\n",
       "       [ 59,  40, -11],\n",
       "       [ 59,  48, -12],\n",
       "       [ 59,  57, -13],\n",
       "       [ 59,  65, -15],\n",
       "       [ 59,  73, -16],\n",
       "       [ 59,  82, -17],\n",
       "       [ 61,  32, -10],\n",
       "       [ 61,  40, -11],\n",
       "       [ 61,  48, -12],\n",
       "       [ 61,  57, -14],\n",
       "       [ 61,  65, -15],\n",
       "       [ 61,  73, -16],\n",
       "       [ 61,  82, -17]])"
      ]
     },
     "execution_count": 910,
     "metadata": {},
     "output_type": "execute_result"
    }
   ],
   "source": [
    "csd_pulse.astype(int)"
   ]
  },
  {
   "cell_type": "code",
   "execution_count": 909,
   "id": "154df0e0",
   "metadata": {},
   "outputs": [
    {
     "data": {
      "text/plain": [
       "[(0, 0, array([51, 32, -9])),\n",
       " (0, 0, array([ 0,  8, -1])),\n",
       " (1, 1, array([ 0,  9, -2])),\n",
       " (0, 0, array([ 0,  8, -1])),\n",
       " (1, 1, array([ 0,  9, -1])),\n",
       " (0, 0, array([  1, -50,   7])),\n",
       " (0, 0, array([ 0,  8, -1])),\n",
       " (0, 0, array([ 0,  8, -2])),\n",
       " (0, 0, array([ 0,  9, -1])),\n",
       " (7, 11, array([ 0,  8, -2])),\n",
       " (0, 0, array([ 0,  8, -1])),\n",
       " (0, 0, array([ 0,  9, -1])),\n",
       " (0, 0, array([ 0,  8, -1])),\n",
       " (1, 1, array([ 0,  9, -1])),\n",
       " (0, 0, array([  1, -50,   6])),\n",
       " (0, 0, array([ 0,  8, -1])),\n",
       " (1, 1, array([ 0,  9, -1])),\n",
       " (0, 0, array([ 0,  8, -1])),\n",
       " (1, 1, array([ 0,  9, -2])),\n",
       " (0, 0, array([  1, -50,   7])),\n",
       " (7, 11, array([ 0,  8, -2])),\n",
       " (0, 0, array([ 0,  9, -1])),\n",
       " (0, 0, array([  1, -50,   7])),\n",
       " (0, 0, array([ 0,  8, -1])),\n",
       " (1, 1, array([ 0,  9, -1])),\n",
       " (0, 0, array([ 0,  8, -2])),\n",
       " (0, 0, array([ 0,  8, -1])),\n",
       " (7, 8, array([  2, -50,   7])),\n",
       " (0, 0, array([ 0,  8, -1])),\n",
       " (1, 1, array([ 0,  9, -2])),\n",
       " (0, 0, array([ 0,  8, -1])),\n",
       " (1, 1, array([ 0,  9, -1]))]"
      ]
     },
     "execution_count": 909,
     "metadata": {},
     "output_type": "execute_result"
    }
   ],
   "source": [
    "test_compression_and_reconstruction_helper(csd_pulse.astype(int))\n",
    "comp, _ = test_compression_and_reconstruction(csd_pulse.astype(int), intermed=False, diffs=True)\n",
    "comp"
   ]
  },
  {
   "cell_type": "code",
   "execution_count": 957,
   "id": "81fecdc8",
   "metadata": {},
   "outputs": [
    {
     "name": "stdout",
     "output_type": "stream",
     "text": [
      "vg_csd_pulse.shape=(400, 2)\n",
      "[0] [0]\n",
      "(0, 0, array([0, 0]))\n",
      "[0] [0]\n",
      "(0, 0, array([0, 1]))\n",
      "[0, 2] [0, 3]\n",
      "(2, 2, array([0, 0]))\n",
      "[0, 1, 3, 5] [0, 1, 3, 5]\n",
      "(5, 5, array([0, 1]))\n",
      "[0, 2, 4, 6, 7, 9, 11] [0, 1, 1, 1, 2, 1, 1]\n",
      "(0, 0, array([0, 0]))\n",
      "[0, 1, 3, 5, 7, 8, 10, 12] [0, 1, 1, 1, 1, 1, 1, 1]\n",
      "(1, 1, array([-1,  1]))\n",
      "[0, 2, 3, 5, 7, 9, 10, 12, 14] [0, 1, 1, 4, 3, 3, 1, 8, 3]\n",
      "(0, 0, array([0, 0]))\n",
      "[0, 5, 7, 9, 12, 14] [0, 3, 2, 2, 7, 2]\n",
      "(0, 0, array([0, 1]))\n",
      "[0, 2, 4, 5, 7, 9, 11, 12, 14, 16] [0, 1, 1, 2, 1, 1, 1, 6, 1, 1]\n",
      "(0, 0, array([0, 0]))\n",
      "[0, 1, 3, 5, 6, 8, 10, 12, 13, 15, 17] [0, 1, 3, 1, 1, 3, 6, 5, 1, 3, 10]\n",
      "(3, 3, array([0, 1]))\n",
      "[0, 2, 4, 5, 7, 9, 10, 12, 14, 16, 17, 19, 21] [0, 1, 1, 12, 1, 1, 2, 1, 1, 1, 6, 1, 1]\n",
      "(5, 10, array([0, 0]))\n",
      "[0, 1, 3, 5, 6, 8, 10, 11, 13, 15, 16, 18, 20, 21, 23, 25, 27, 28, 30, 32] [0, 1, 1, 1, 1, 1, 1, 1, 1, 1, 1, 1, 30, 1, 1, 1, 1, 1, 1, 1]\n",
      "(20, 20, array([0, 0]))\n",
      "[0, 20, 40] [0, 9, 9]\n",
      "(0, 0, array([-1,  1]))\n",
      "[0, 2, 3, 5, 7, 8, 10, 12, 13, 15, 17, 18, 20, 22, 23, 25, 27, 28, 30, 32, 33, 35, 37, 38, 40, 42, 43, 45, 47, 49, 50, 52, 54] [0, 1, 1, 4, 3, 1, 8, 3, 1, 8, 3, 1, 8, 1, 1, 4, 3, 1, 8, 3, 1, 8, 3, 1, 8, 1, 1, 4, 3, 3, 1, 11, 3]\n",
      "(0, 0, array([0, 0]))\n",
      "[0, 5, 7, 10, 12, 15, 17, 20, 25, 27, 30, 32, 35, 37, 40, 45, 47, 49, 52, 54] [0, 3, 2, 7, 2, 7, 2, 7, 3, 2, 7, 2, 7, 2, 7, 3, 2, 2, 10, 2]\n",
      "(0, 0, array([0, 1]))\n",
      "[0, 2, 4, 5, 7, 9, 10, 12, 14, 15, 17, 19, 20, 22, 24, 25, 27, 29, 30, 32, 34, 35, 37, 39, 40, 42, 44, 45, 47, 49, 51, 52, 54, 56] [0, 1, 1, 2, 1, 1, 6, 1, 1, 6, 1, 1, 6, 1, 1, 2, 1, 1, 6, 1, 1, 6, 1, 1, 6, 1, 1, 2, 1, 1, 1, 9, 1, 1]\n",
      "(0, 0, array([0, 0]))\n",
      "[0, 1, 3, 5, 6, 8, 10, 11, 13, 15, 16, 18, 20, 21, 23, 25, 26, 28, 30, 31, 33, 35, 36, 38, 40, 41, 43, 45, 46, 48, 50, 52, 53, 55, 57] [0, 1, 3, 1, 1, 3, 5, 1, 3, 5, 1, 3, 5, 1, 3, 1, 1, 3, 5, 1, 3, 5, 1, 3, 5, 1, 3, 1, 1, 3, 5, 8, 1, 3, 5]\n",
      "(3, 3, array([0, 1]))\n",
      "[0, 2, 4, 5, 7, 9, 10, 12, 14, 15, 17, 19, 20, 22, 24, 25, 27, 29, 30, 32, 34, 35, 37, 39, 40, 42, 44, 45, 47, 49, 50, 52, 54, 56, 57, 59, 61] [0, 3, 3, 1, 8, 1, 1, 4, 3, 1, 9, 3, 1, 11, 3, 1, 11, 1, 1, 4, 3, 1, 9, 3, 1, 11, 3, 1, 11, 1, 1, 4, 3, 3, 1, 8, 3]\n",
      "(7, 7, array([0, 0]))\n",
      "[0, 1, 3, 5, 6, 8, 10, 12, 13, 15, 17, 18, 20, 22, 23, 25, 27, 28, 30, 32, 33, 35, 37, 38, 40, 42, 43, 45, 47, 48, 50, 52, 53, 55, 57, 58, 60, 62, 64, 65, 67, 69] [0, 1, 3, 3, 1, 3, 3, 3, 1, 3, 1, 1, 3, 3, 1, 3, 3, 1, 3, 3, 1, 3, 1, 1, 3, 3, 1, 3, 3, 1, 3, 3, 1, 3, 1, 1, 3, 3, 3, 1, 3, 3]\n",
      "(3, 3, array([-1,  1]))\n",
      "[0, 2, 4, 5, 7, 9, 10, 12, 14, 16, 17, 19, 21, 22, 24, 26, 27, 29, 31, 32, 34, 36, 37, 39, 41, 42, 44, 46, 47, 49, 51, 52, 54, 56, 57, 59, 61, 62, 64, 66, 68, 69, 71, 73] [0, 1, 1, 4, 1, 1, 9, 1, 1, 1, 6, 1, 1, 2, 1, 1, 7, 1, 1, 12, 1, 1, 17, 1, 1, 2, 1, 1, 7, 1, 1, 12, 1, 1, 17, 1, 1, 2, 1, 1, 1, 6, 1, 1]\n",
      "(0, 0, array([0, 0]))\n",
      "[0, 1, 3, 5, 6, 8, 10, 11, 13, 15, 17, 18, 20, 22, 23, 25, 27, 28, 30, 32, 33, 35, 37, 38, 40, 42, 43, 45, 47, 48, 50, 52, 53, 55, 57, 58, 60, 62, 63, 65, 67, 69, 70, 72, 74] [0, 1, 1, 3, 1, 3, 8, 1, 3, 13, 5, 1, 3, 1, 1, 3, 6, 1, 3, 11, 1, 3, 16, 1, 3, 1, 1, 3, 6, 1, 3, 11, 1, 3, 16, 1, 3, 1, 1, 3, 6, 5, 1, 3, 10]\n",
      "(1, 1, array([0, 1]))\n",
      "[0, 2, 3, 5, 7, 8, 10, 12, 13, 15, 17, 19, 20, 22, 24, 25, 27, 29, 30, 32, 34, 35, 37, 39, 40, 42, 44, 45, 47, 49, 50, 52, 54, 55, 57, 59, 60, 62, 64, 65, 67, 69, 71, 72, 74, 76] [0, 3, 1, 1, 3, 1, 6, 3, 1, 11, 3, 3, 1, 8, 1, 1, 4, 3, 1, 9, 3, 1, 14, 3, 1, 16, 1, 1, 4, 3, 1, 9, 3, 1, 14, 3, 1, 16, 1, 1, 4, 3, 3, 1, 8, 3]\n",
      "(2, 2, array([0, 0]))\n",
      "[0, 1, 3, 5, 6, 8, 10, 11, 13, 15, 16, 18, 20, 22, 23, 25, 27, 28, 30, 32, 33, 35, 37, 38, 40, 42, 43, 45, 47, 48, 50, 52, 53, 55, 57, 58, 60, 62, 63, 65, 67, 68, 70, 72, 74, 75, 77, 79] [0, 1, 3, 13, 1, 1, 3, 1, 3, 8, 1, 3, 20, 5, 1, 3, 1, 1, 3, 6, 1, 3, 11, 1, 3, 13, 1, 3, 1, 1, 3, 6, 1, 3, 11, 1, 3, 13, 1, 3, 1, 1, 3, 6, 5, 1, 3, 10]\n",
      "(20, 20, array([  8, -41]))\n",
      "[0, 3, 5, 10, 13, 15, 18, 20, 23, 25, 30, 33, 35, 38, 40, 42, 45, 50, 52, 55, 57, 60, 62, 65, 70, 72, 75, 77, 80, 82, 85, 90, 92, 94, 97, 99] [0, 2, 4, 2, 2, 7, 2, 12, 2, 13, 2, 2, 7, 2, 12, 4, 2, 2, 5, 2, 10, 2, 13, 2, 2, 5, 2, 10, 2, 13, 2, 2, 5, 4, 2, 9]\n",
      "(0, 0, array([0, 1]))\n",
      "[0, 3, 5, 7, 8, 10, 12, 13, 15, 17, 18, 20, 22, 23, 25, 27, 28, 30, 32, 33, 35, 37, 38, 40, 42, 44, 45, 47, 49, 50, 52, 54, 55, 57, 59, 60, 62, 64, 65, 67, 69, 70, 72, 74, 75, 77, 79, 80, 82, 84, 85, 87, 89, 90, 92, 94, 96, 97, 99, 101] [0, 1, 3, 3, 1, 1, 3, 1, 6, 3, 1, 11, 3, 1, 12, 3, 1, 1, 3, 1, 6, 3, 1, 11, 3, 3, 1, 8, 1, 1, 4, 3, 1, 9, 3, 1, 12, 3, 1, 12, 1, 1, 4, 3, 1, 9, 3, 1, 12, 3, 1, 12, 1, 1, 4, 3, 3, 1, 8, 3]\n",
      "(0, 0, array([0, 0]))\n",
      "[0, 2, 5, 7, 12, 15, 17, 20, 22, 25, 27, 32, 35, 37, 40, 42, 44, 47, 52, 54, 57, 59, 62, 64, 67, 72, 74, 77, 79, 82, 84, 87, 92, 94, 96, 99, 101] [0, 2, 2, 2, 2, 5, 2, 10, 2, 11, 2, 2, 5, 2, 10, 2, 2, 7, 3, 2, 8, 2, 11, 2, 11, 3, 2, 8, 2, 11, 2, 11, 3, 2, 2, 7, 2]\n",
      "(2, 2, array([0, 0]))\n",
      "[0, 3, 5, 8, 10, 15, 18, 20, 23, 25, 28, 30, 35, 38, 40, 43, 45, 47, 50, 55, 57, 60, 62, 65, 67, 70, 75, 77, 80, 82, 85, 87, 90, 95, 97, 99, 102, 104] [0, 2, 8, 2, 4, 2, 2, 7, 2, 8, 2, 8, 2, 2, 7, 2, 8, 4, 2, 2, 5, 2, 8, 2, 8, 2, 2, 5, 2, 8, 2, 8, 2, 2, 5, 4, 2, 8]\n",
      "(5, 5, array([0, 1]))\n",
      "[0, 2, 3, 5, 7, 8, 10, 13, 15, 17, 18, 20, 22, 23, 25, 27, 28, 30, 32, 33, 35, 37, 38, 40, 42, 43, 45, 47, 48, 50, 52, 54, 55, 57, 59, 60, 62, 64, 65, 67, 69, 70, 72, 74, 75, 77, 79, 80, 82, 84, 85, 87, 89, 90, 92, 94, 95, 97, 99, 100, 102, 104, 106, 107, 109, 111] [0, 2, 1, 2, 2, 1, 2, 1, 2, 2, 1, 1, 2, 1, 2, 2, 1, 2, 2, 1, 2, 2, 1, 1, 2, 1, 2, 2, 1, 2, 2, 2, 1, 2, 1, 1, 2, 2, 1, 2, 2, 1, 2, 2, 1, 2, 1, 1, 2, 2, 1, 2, 2, 1, 2, 2, 1, 2, 1, 1, 2, 2, 2, 1, 2, 2]\n",
      "(2, 2, array([-1,  0]))\n",
      "[0, 3, 5, 6, 8, 10, 11, 13, 16, 18, 20, 21, 23, 25, 26, 28, 30, 31, 33, 35, 36, 38, 40, 41, 43, 45, 46, 48, 50, 51, 53, 55, 57, 58, 60, 62, 63, 65, 67, 68, 70, 72, 73, 75, 77, 78, 80, 82, 83, 85, 87, 88, 90, 92, 93, 95, 97, 98, 100, 102, 103, 105, 107, 109, 110, 112, 114] [0, 2, 4, 1, 3, 9, 1, 3, 1, 3, 5, 1, 1, 3, 1, 3, 8, 1, 3, 13, 1, 3, 15, 1, 1, 3, 1, 3, 8, 1, 3, 13, 5, 1, 3, 1, 1, 3, 6, 1, 3, 11, 1, 3, 15, 1, 3, 1, 1, 3, 6, 1, 3, 11, 1, 3, 15, 1, 3, 1, 1, 3, 6, 5, 1, 3, 10]\n",
      "(0, 0, array([0, 0]))\n",
      "[0, 3, 5, 8, 10, 13, 15, 18, 20, 25, 28, 30, 33, 35, 38, 40, 45, 48, 50, 53, 55, 57, 60, 65, 67, 70, 72, 75, 77, 80, 85, 87, 90, 92, 95, 97, 100, 105, 107, 109, 112, 114] [0, 1, 3, 2, 8, 2, 13, 2, 4, 2, 2, 7, 2, 12, 2, 14, 2, 2, 7, 2, 12, 4, 2, 2, 5, 2, 10, 2, 14, 2, 2, 5, 2, 10, 2, 14, 2, 2, 5, 4, 2, 9]\n",
      "(0, 0, array([0, 1]))\n",
      "[0, 2, 5, 7, 8, 10, 12, 13, 15, 18, 20, 22, 23, 25, 27, 28, 30, 32, 33, 35, 37, 38, 40, 42, 43, 45, 47, 48, 50, 52, 53, 55, 57, 59, 60, 62, 64, 65, 67, 69, 70, 72, 74, 75, 77, 79, 80, 82, 84, 85, 87, 89, 90, 92, 94, 95, 97, 99, 100, 102, 104, 105, 107, 109, 111, 112, 114, 116] [0, 3, 2, 3, 1, 7, 3, 1, 12, 1, 3, 3, 1, 1, 3, 1, 6, 3, 1, 11, 3, 1, 13, 3, 1, 1, 3, 1, 6, 3, 1, 11, 3, 3, 1, 8, 1, 1, 4, 3, 1, 9, 3, 1, 13, 3, 1, 13, 1, 1, 4, 3, 1, 9, 3, 1, 13, 3, 1, 13, 1, 1, 4, 3, 3, 1, 8, 3]\n",
      "(2, 2, array([0, 0]))\n",
      "[0, 1, 3, 5, 8, 10, 11, 13, 15, 16, 18, 21, 23, 25, 26, 28, 30, 31, 33, 35, 36, 38, 40, 41, 43, 45, 46, 48, 50, 51, 53, 55, 56, 58, 60, 62, 63, 65, 67, 68, 70, 72, 73, 75, 77, 78, 80, 82, 83, 85, 87, 88, 90, 92, 93, 95, 97, 98, 100, 102, 103, 105, 107, 108, 110, 112, 114, 115, 117, 119] [0, 1, 3, 10, 2, 4, 1, 3, 9, 1, 3, 1, 3, 5, 1, 1, 3, 1, 3, 8, 1, 3, 10, 1, 3, 10, 1, 1, 3, 1, 3, 8, 1, 3, 10, 5, 1, 3, 1, 1, 3, 6, 1, 3, 10, 1, 3, 10, 1, 3, 1, 1, 3, 6, 1, 3, 10, 1, 3, 10, 1, 3, 1, 1, 3, 6, 5, 1, 3, 13]\n",
      "(5, 10, array([0, 1]))\n",
      "[0, 2, 4, 6, 7, 9, 11, 12, 14, 16, 19, 21, 22, 24, 26, 27, 29, 32, 34, 36, 37, 39, 41, 42, 44, 46, 47, 49, 51, 52, 54, 56, 57, 59, 61, 62, 64, 66, 67, 69, 71, 73, 74, 76, 78, 79, 81, 83, 84, 86, 88, 89, 91, 93, 94, 96, 98, 99, 101, 103, 104, 106, 108, 109, 111, 113, 114, 116, 118, 119, 121, 123, 125, 126, 128, 130] [0, 1, 1, 1, 3, 1, 1, 3, 1, 1, 1, 1, 3, 1, 1, 3, 1, 1, 1, 1, 3, 1, 1, 3, 1, 1, 3, 1, 1, 3, 1, 1, 3, 1, 1, 3, 1, 1, 3, 1, 1, 1, 3, 1, 1, 2, 1, 1, 3, 1, 1, 3, 1, 1, 3, 1, 1, 2, 1, 1, 3, 1, 1, 3, 1, 1, 3, 1, 1, 2, 1, 1, 1, 3, 1, 1]\n",
      "(0, 0, array([0, 0]))\n",
      "[0, 1, 3, 5, 7, 8, 10, 12, 13, 15, 17, 20, 22, 23, 25, 27, 28, 30, 33, 35, 37, 38, 40, 42, 43, 45, 47, 48, 50, 52, 53, 55, 57, 58, 60, 62, 63, 65, 67, 68, 70, 72, 74, 75, 77, 79, 80, 82, 84, 85, 87, 89, 90, 92, 94, 95, 97, 99, 100, 102, 104, 105, 107, 109, 110, 112, 114, 115, 117, 119, 120, 122, 124, 126, 127, 129, 131] [0, 1, 2, 2, 2, 1, 2, 2, 1, 2, 2, 3, 2, 1, 2, 2, 1, 2, 1, 2, 2, 1, 1, 2, 1, 2, 2, 1, 2, 2, 1, 2, 2, 1, 1, 2, 1, 2, 2, 1, 2, 2, 2, 1, 2, 1, 1, 2, 2, 1, 2, 2, 1, 2, 2, 1, 2, 1, 1, 2, 2, 1, 2, 2, 1, 2, 2, 1, 2, 1, 1, 2, 2, 2, 1, 2, 2]\n",
      "(1, 1, array([0, 1]))\n",
      "[0, 20] [0, 1]\n",
      "(0, 0, array([-1,  0]))\n",
      "[0, 2, 5, 7, 9, 12, 14, 17, 19, 22, 24, 27, 29, 32, 34, 37, 39, 44, 47, 49, 52, 54, 57, 59, 64, 67, 69, 72, 74, 76, 79, 84, 86, 89, 91, 94, 96, 99, 104, 106, 109, 111, 114, 116, 119, 124, 126, 128, 131, 133] [0, 1, 4, 2, 2, 7, 2, 12, 2, 1, 2, 6, 2, 11, 2, 2, 2, 2, 5, 2, 10, 2, 15, 2, 2, 5, 2, 10, 2, 2, 7, 3, 2, 8, 2, 13, 2, 18, 3, 2, 8, 2, 13, 2, 18, 3, 2, 2, 7, 2]\n",
      "(0, 0, array([0, 1]))\n",
      "[0, 4, 5, 7, 9, 11, 12, 14, 16, 17, 19, 21, 24, 26, 27, 29, 31, 32, 34, 37, 39, 41, 42, 44, 46, 47, 49, 51, 52, 54, 56, 57, 59, 61, 62, 64, 66, 67, 69, 71, 72, 74, 76, 78, 79, 81, 83, 84, 86, 88, 89, 91, 93, 94, 96, 98, 99, 101, 103, 104, 106, 108, 109, 111, 113, 114, 116, 118, 119, 121, 123, 124, 126, 128, 130, 131, 133, 135] [0, 1, 3, 1, 1, 1, 6, 1, 1, 11, 1, 1, 1, 1, 5, 1, 1, 10, 1, 1, 1, 1, 6, 1, 1, 4, 1, 1, 9, 1, 1, 14, 1, 1, 18, 1, 1, 4, 1, 1, 9, 1, 1, 1, 6, 1, 1, 2, 1, 1, 7, 1, 1, 12, 1, 1, 17, 1, 1, 2, 1, 1, 7, 1, 1, 12, 1, 1, 17, 1, 1, 2, 1, 1, 1, 6, 1, 1]\n",
      "(0, 0, array([0, 0]))\n",
      "[0, 1, 5, 6, 8, 10, 12, 13, 15, 17, 18, 20, 22, 25, 27, 28, 30, 32, 33, 35, 38, 40, 42, 43, 45, 47, 48, 50, 52, 53, 55, 57, 58, 60, 62, 63, 65, 67, 68, 70, 72, 73, 75, 77, 79, 80, 82, 84, 85, 87, 89, 90, 92, 94, 95, 97, 99, 100, 102, 104, 105, 107, 109, 110, 112, 114, 115, 117, 119, 120, 122, 124, 125, 127, 129, 131, 132, 134, 136] [0, 1, 2, 1, 3, 7, 5, 1, 3, 10, 1, 3, 15, 2, 4, 1, 3, 9, 1, 3, 1, 3, 5, 1, 1, 3, 1, 3, 8, 1, 3, 13, 1, 3, 17, 1, 1, 3, 1, 3, 8, 1, 3, 13, 5, 1, 3, 1, 1, 3, 6, 1, 3, 11, 1, 3, 16, 1, 3, 1, 1, 3, 6, 1, 3, 11, 1, 3, 16, 1, 3, 1, 1, 3, 6, 5, 1, 3, 10]\n",
      "(1, 1, array([0, 1]))\n",
      "[0, 2, 3, 7, 8, 10, 12, 14, 15, 17, 19, 20, 22, 24, 27, 29, 30, 32, 34, 35, 37, 40, 42, 44, 45, 47, 49, 50, 52, 54, 55, 57, 59, 60, 62, 64, 65, 67, 69, 70, 72, 74, 75, 77, 79, 81, 82, 84, 86, 87, 89, 91, 92, 94, 96, 97, 99, 101, 102, 104, 106, 107, 109, 111, 112, 114, 116, 117, 119, 121, 122, 124, 126, 127, 129, 131, 133, 134, 136, 138] [0, 3, 1, 2, 1, 5, 3, 3, 1, 8, 3, 1, 13, 3, 2, 3, 1, 7, 3, 1, 12, 1, 3, 3, 1, 1, 3, 1, 6, 3, 1, 11, 3, 1, 15, 3, 1, 1, 3, 1, 6, 3, 1, 11, 3, 3, 1, 8, 1, 1, 4, 3, 1, 9, 3, 1, 14, 3, 1, 15, 1, 1, 4, 3, 1, 9, 3, 1, 14, 3, 1, 15, 1, 1, 4, 3, 3, 1, 8, 3]\n",
      "(2, 2, array([0, 0]))\n",
      "[0, 1, 3, 5, 6, 10, 11, 13, 15, 17, 18, 20, 22, 23, 25, 27, 30, 32, 33, 35, 37, 38, 40, 43, 45, 47, 48, 50, 52, 53, 55, 57, 58, 60, 62, 63, 65, 67, 68, 70, 72, 73, 75, 77, 78, 80, 82, 84, 85, 87, 89, 90, 92, 94, 95, 97, 99, 100, 102, 104, 105, 107, 109, 110, 112, 114, 115, 117, 119, 120, 122, 124, 125, 127, 129, 130, 132, 134, 136, 137, 139, 141] [0, 1, 3, 12, 1, 2, 1, 3, 7, 5, 1, 3, 10, 1, 3, 12, 2, 4, 1, 3, 9, 1, 3, 1, 3, 5, 1, 1, 3, 1, 3, 8, 1, 3, 12, 1, 3, 12, 1, 1, 3, 1, 3, 8, 1, 3, 12, 5, 1, 3, 1, 1, 3, 6, 1, 3, 11, 1, 3, 12, 1, 3, 1, 1, 3, 6, 1, 3, 11, 1, 3, 12, 1, 3, 1, 1, 3, 6, 5, 1, 3, 10]\n",
      "(5, 10, array([0, 0]))\n",
      "[0, 3, 5, 8, 10, 13, 15, 18, 20, 23, 25, 27, 30, 32, 35, 37, 40, 42, 45, 47, 50, 52, 55, 57, 62, 65, 67, 70, 72, 75, 77, 82, 85, 87, 90, 92, 94, 97, 102, 104, 107, 109, 112, 114, 117, 122, 124, 127, 129, 132, 134, 137, 142, 144, 146, 149, 151] [0, 1, 1, 1, 1, 1, 1, 1, 20, 1, 1, 1, 1, 1, 1, 1, 2, 1, 1, 1, 1, 1, 1, 1, 1, 1, 1, 1, 1, 1, 1, 1, 1, 1, 1, 1, 1, 1, 1, 1, 1, 1, 1, 1, 1, 1, 1, 1, 1, 1, 1, 1, 1, 1, 1, 1, 1]\n",
      "(20, 20, array([-1,  1]))\n",
      "[0, 2, 3, 5, 7, 8, 10, 12, 13, 15, 17, 18, 22, 23, 25, 27, 28, 30, 32, 33, 35, 37, 38, 42, 43, 45, 47, 49, 50, 52, 54, 55, 57, 59, 62, 64, 65, 67, 69, 70, 72, 75, 77, 79, 80, 82, 84, 85, 87, 89, 90, 92, 94, 95, 97, 99, 100, 102, 104, 105, 107, 109, 110, 112, 114, 116, 117, 119, 121, 122, 124, 126, 127, 129, 131, 132, 134, 136, 137, 139, 141, 142, 144, 146, 147, 149, 151, 152, 154, 156, 157, 159, 161, 162, 164, 166, 168, 169, 171, 173] [0, 1, 1, 3, 6, 1, 3, 11, 1, 3, 16, 1, 2, 1, 3, 7, 1, 3, 12, 1, 3, 17, 1, 2, 1, 3, 7, 5, 1, 3, 10, 1, 3, 15, 2, 4, 1, 3, 9, 1, 3, 1, 3, 5, 1, 1, 3, 1, 3, 8, 1, 3, 13, 1, 3, 18, 1, 1, 3, 1, 3, 8, 1, 3, 13, 5, 1, 3, 1, 1, 3, 6, 1, 3, 11, 1, 3, 16, 1, 3, 1, 1, 3, 6, 1, 3, 11, 1, 3, 16, 1, 3, 1, 1, 3, 6, 5, 1, 3, 10]\n",
      "(0, 0, array([0, 0]))\n",
      "[0, 5, 7, 10, 12, 15, 17, 20, 22, 25, 27, 30, 32, 35, 37, 40, 42, 45, 47, 49, 52, 54, 57, 59, 62, 64, 67, 69, 72, 74, 77, 79, 84, 87, 89, 92, 94, 97, 99, 104, 107, 109, 112, 114, 116, 119, 124, 126, 129, 131, 134, 136, 139, 144, 146, 149, 151, 154, 156, 159, 164, 166, 168, 171, 173] [0, 2, 5, 2, 10, 2, 15, 2, 1, 2, 6, 2, 11, 2, 16, 2, 1, 2, 6, 4, 2, 9, 2, 14, 1, 3, 2, 8, 2, 13, 2, 4, 2, 2, 7, 2, 12, 2, 17, 2, 2, 7, 2, 12, 4, 2, 2, 5, 2, 10, 2, 15, 2, 2, 5, 2, 10, 2, 15, 2, 2, 5, 4, 2, 9]\n",
      "(0, 0, array([0, 1]))\n",
      "[0, 2, 4, 5, 7, 9, 10, 12, 14, 15, 17, 19, 20, 24, 25, 27, 29, 30, 32, 34, 35, 37, 39, 40, 44, 45, 47, 49, 51, 52, 54, 56, 57, 59, 61, 64, 66, 67, 69, 71, 72, 74, 77, 79, 81, 82, 84, 86, 87, 89, 91, 92, 94, 96, 97, 99, 101, 102, 104, 106, 107, 109, 111, 112, 114, 116, 118, 119, 121, 123, 124, 126, 128, 129, 131, 133, 134, 136, 138, 139, 141, 143, 144, 146, 148, 149, 151, 153, 154, 156, 158, 159, 161, 163, 164, 166, 168, 170, 171, 173, 175] [0, 3, 1, 1, 4, 3, 1, 9, 3, 1, 14, 3, 1, 2, 1, 5, 3, 1, 10, 3, 1, 15, 3, 1, 2, 1, 5, 3, 3, 1, 8, 3, 1, 13, 3, 2, 3, 1, 7, 3, 1, 12, 1, 3, 3, 1, 1, 3, 1, 6, 3, 1, 11, 3, 1, 16, 3, 1, 1, 3, 1, 6, 3, 1, 11, 3, 3, 1, 8, 1, 1, 4, 3, 1, 9, 3, 1, 14, 3, 1, 17, 1, 1, 4, 3, 1, 9, 3, 1, 14, 3, 1, 17, 1, 1, 4, 3, 3, 1, 8, 3]\n",
      "(2, 2, array([0, 0]))\n",
      "[0, 1, 3, 5, 7, 8, 10, 12, 13, 15, 17, 18, 20, 22, 23, 27, 28, 30, 32, 33, 35, 37, 38, 40, 42, 43, 47, 48, 50, 52, 54, 55, 57, 59, 60, 62, 64, 67, 69, 70, 72, 74, 75, 77, 80, 82, 84, 85, 87, 89, 90, 92, 94, 95, 97, 99, 100, 102, 104, 105, 107, 109, 110, 112, 114, 115, 117, 119, 121, 122, 124, 126, 127, 129, 131, 132, 134, 136, 137, 139, 141, 142, 144, 146, 147, 149, 151, 152, 154, 156, 157, 159, 161, 162, 164, 166, 167, 169, 171, 173, 174, 176, 178] [0, 1, 3, 14, 1, 1, 3, 6, 1, 3, 11, 1, 3, 14, 1, 2, 1, 3, 7, 1, 3, 12, 1, 3, 14, 1, 2, 1, 3, 7, 5, 1, 3, 10, 1, 3, 14, 2, 4, 1, 3, 9, 1, 3, 1, 3, 5, 1, 1, 3, 1, 3, 8, 1, 3, 13, 1, 3, 14, 1, 1, 3, 1, 3, 8, 1, 3, 13, 5, 1, 3, 1, 1, 3, 6, 1, 3, 11, 1, 3, 14, 1, 3, 1, 1, 3, 6, 1, 3, 11, 1, 3, 14, 1, 3, 1, 1, 3, 6, 5, 1, 3, 10]\n",
      "(5, 10, array([0, 0]))\n",
      "[0, 3, 5, 8, 10, 13, 15, 20, 22, 25, 27, 30, 32, 35, 37, 40, 42, 45, 47, 50, 52, 55, 57, 60, 62, 64, 67, 69, 72, 74, 77, 79, 82, 84, 87, 89, 92, 94, 99, 102, 104, 107, 109, 112, 114, 119, 122, 124, 127, 129, 131, 134, 139, 141, 144, 146, 149, 151, 154, 159, 161, 164, 166, 169, 171, 174, 179, 181, 183, 186, 188] [0, 2, 3, 2, 3, 2, 3, 2, 3, 2, 3, 2, 3, 2, 1, 2, 3, 2, 3, 2, 3, 2, 1, 2, 3, 3, 2, 3, 2, 3, 1, 10, 2, 3, 2, 3, 2, 3, 2, 2, 3, 2, 3, 2, 3, 2, 2, 3, 2, 3, 3, 2, 2, 3, 2, 3, 2, 3, 2, 2, 3, 2, 3, 2, 3, 2, 2, 3, 3, 2, 3]\n",
      "(0, 0, array([0, 1]))\n",
      "[0, 2, 3, 5, 7, 8, 10, 12, 13, 15, 17, 19, 20, 22, 24, 25, 27, 29, 30, 32, 34, 35, 39, 40, 42, 44, 45, 47, 49, 50, 52, 54, 55, 59, 60, 62, 64, 66, 67, 69, 71, 72, 74, 76, 79, 81, 82, 84, 86, 87, 89, 92, 94, 96, 97, 99, 101, 102, 104, 106, 107, 109, 111, 112, 114, 116, 117, 119, 121, 122, 124, 126, 127, 129, 131, 133, 134, 136, 138, 139, 141, 143, 144, 146, 148, 149, 151, 153, 154, 156, 158, 159, 161, 163, 164, 166, 168, 169, 171, 173, 174, 176, 178, 179, 181, 183, 185, 186, 188, 190] [0, 2, 1, 2, 2, 1, 2, 2, 1, 2, 2, 1, 1, 2, 2, 1, 2, 2, 1, 2, 2, 1, 3, 1, 2, 2, 1, 2, 2, 1, 2, 2, 1, 3, 1, 2, 2, 2, 1, 2, 2, 1, 2, 2, 9, 2, 1, 2, 2, 1, 2, 1, 2, 2, 1, 1, 2, 1, 2, 2, 1, 2, 2, 1, 2, 2, 1, 1, 2, 1, 2, 2, 1, 2, 2, 2, 1, 2, 1, 1, 2, 2, 1, 2, 2, 1, 2, 2, 1, 2, 1, 1, 2, 2, 1, 2, 2, 1, 2, 2, 1, 2, 1, 1, 2, 2, 2, 1, 2, 2]\n",
      "(2, 2, array([-1,  0]))\n",
      "[0, 3, 5, 6, 8, 10, 11, 13, 15, 16, 18, 20, 22, 23, 25, 27, 28, 30, 32, 33, 35, 37, 38, 42, 43, 45, 47, 48, 50, 52, 53, 55, 57, 58, 62, 63, 65, 67, 69, 70, 72, 74, 75, 77, 79, 82, 84, 85, 87, 89, 90, 92, 95, 97, 99, 100, 102, 104, 105, 107, 109, 110, 112, 114, 115, 117, 119, 120, 122, 124, 125, 127, 129, 130, 132, 134, 136, 137, 139, 141, 142, 144, 146, 147, 149, 151, 152, 154, 156, 157, 159, 161, 162, 164, 166, 167, 169, 171, 172, 174, 176, 177, 179, 181, 182, 184, 186, 188, 189, 191, 193] [0, 2, 4, 1, 3, 6, 1, 3, 6, 1, 3, 6, 1, 1, 3, 6, 1, 3, 6, 1, 3, 6, 1, 2, 1, 3, 6, 1, 3, 6, 1, 3, 6, 1, 2, 1, 3, 6, 5, 1, 3, 6, 1, 3, 6, 2, 4, 1, 3, 6, 1, 3, 1, 3, 5, 1, 1, 3, 1, 3, 6, 1, 3, 6, 1, 3, 6, 1, 1, 3, 1, 3, 6, 1, 3, 6, 5, 1, 3, 1, 1, 3, 6, 1, 3, 6, 1, 3, 6, 1, 3, 1, 1, 3, 6, 1, 3, 6, 1, 3, 6, 1, 3, 1, 1, 3, 6, 5, 1, 3, 6]\n",
      "(0, 0, array([0, 0]))\n",
      "[0, 3, 5, 8, 10, 13, 15, 18, 20, 25, 27, 30, 32, 35, 37, 40, 42, 45, 47, 50, 52, 55, 57, 60, 62, 65, 67, 69, 72, 74, 77, 79, 82, 84, 87, 89, 92, 94, 97, 99, 104, 107, 109, 112, 114, 117, 119, 124, 127, 129, 132, 134, 136, 139, 144, 146, 149, 151, 154, 156, 159, 164, 166, 169, 171, 174, 176, 179, 184, 186, 188, 191, 193] [0, 1, 3, 2, 5, 2, 5, 2, 5, 2, 5, 2, 5, 2, 5, 2, 1, 2, 5, 2, 5, 2, 5, 2, 1, 2, 5, 4, 2, 5, 2, 5, 1, 3, 2, 5, 2, 5, 2, 4, 2, 2, 5, 2, 5, 2, 5, 2, 2, 5, 2, 5, 4, 2, 2, 5, 2, 5, 2, 5, 2, 2, 5, 2, 5, 2, 5, 2, 2, 5, 4, 2, 5]\n",
      "(0, 0, array([0, 1]))\n",
      "[0, 2, 5, 7, 8, 10, 12, 13, 15, 17, 18, 20, 22, 24, 25, 27, 29, 30, 32, 34, 35, 37, 39, 40, 44, 45, 47, 49, 50, 52, 54, 55, 57, 59, 60, 64, 65, 67, 69, 71, 72, 74, 76, 77, 79, 81, 84, 86, 87, 89, 91, 92, 94, 97, 99, 101, 102, 104, 106, 107, 109, 111, 112, 114, 116, 117, 119, 121, 122, 124, 126, 127, 129, 131, 132, 134, 136, 138, 139, 141, 143, 144, 146, 148, 149, 151, 153, 154, 156, 158, 159, 161, 163, 164, 166, 168, 169, 171, 173, 174, 176, 178, 179, 181, 183, 184, 186, 188, 190, 191, 193, 195] [0, 3, 2, 3, 1, 4, 3, 1, 4, 3, 1, 4, 3, 1, 1, 4, 3, 1, 4, 3, 1, 4, 3, 1, 2, 1, 4, 3, 1, 4, 3, 1, 4, 3, 1, 2, 1, 4, 3, 3, 1, 4, 3, 1, 4, 3, 2, 3, 1, 4, 3, 1, 4, 1, 3, 3, 1, 1, 3, 1, 4, 3, 1, 4, 3, 1, 4, 3, 1, 1, 3, 1, 4, 3, 1, 4, 3, 3, 1, 4, 1, 1, 4, 3, 1, 4, 3, 1, 4, 3, 1, 4, 1, 1, 4, 3, 1, 4, 3, 1, 4, 3, 1, 4, 1, 1, 4, 3, 3, 1, 4, 3]\n",
      "(2, 2, array([0, 0]))\n",
      "[0, 1, 3, 5, 8, 10, 11, 13, 15, 16, 18, 20, 21, 23, 25, 27, 28, 30, 32, 33, 35, 37, 38, 40, 42, 43, 47, 48, 50, 52, 53, 55, 57, 58, 60, 62, 63, 67, 68, 70, 72, 74, 75, 77, 79, 80, 82, 84, 87, 89, 90, 92, 94, 95, 97, 100, 102, 104, 105, 107, 109, 110, 112, 114, 115, 117, 119, 120, 122, 124, 125, 127, 129, 130, 132, 134, 135, 137, 139, 141, 142, 144, 146, 147, 149, 151, 152, 154, 156, 157, 159, 161, 162, 164, 166, 167, 169, 171, 172, 174, 176, 177, 179, 181, 182, 184, 186, 187, 189, 191, 193, 194, 196, 198] [0, 1, 1, 1, 1, 1, 1, 1, 1, 1, 1, 1, 1, 1, 1, 1, 1, 1, 1, 1, 1, 1, 1, 1, 1, 1, 1, 1, 1, 1, 1, 1, 1, 1, 1, 1, 1, 1, 1, 1, 1, 1, 1, 1, 1, 1, 1, 1, 1, 1, 1, 1, 1, 1, 1, 1, 1, 1, 1, 1, 1, 1, 1, 1, 1, 1, 1, 1, 1, 1, 1, 1, 1, 1, 1, 1, 1, 1, 1, 1, 1, 1, 1, 1, 1, 1, 1, 1, 1, 1, 1, 1, 1, 1, 1, 1, 1, 1, 1, 1, 1, 1, 1, 1, 1, 1, 1, 1, 1, 1, 1, 1, 1, 1]\n",
      "(1, 1, array([  8, -40]))\n",
      "[0, 2, 3, 5, 7, 10, 12, 13, 15, 17, 18, 20, 22, 23, 25, 27, 29, 30, 32, 34, 35, 37, 39, 40, 42, 44, 45, 49, 50, 52, 54, 55, 57, 59, 60, 62, 64, 65, 69, 70, 72, 74, 76, 77, 79, 81, 82, 84, 86, 89, 91, 92, 94, 96, 97, 99, 102, 104, 106, 107, 109, 111, 112, 114, 116, 117, 119, 121, 122, 124, 126, 127, 129, 131, 132, 134, 136, 137, 139, 141, 143, 144, 146, 148, 149, 151, 153, 154, 156, 158, 159, 161, 163, 164, 166, 168, 169, 171, 173, 174, 176, 178, 179, 181, 183, 184, 186, 188, 189, 191, 193, 195, 196, 198, 200] [0, 1, 1, 4, 3, 2, 3, 1, 7, 3, 1, 12, 3, 1, 13, 3, 1, 1, 4, 3, 1, 9, 3, 1, 13, 3, 1, 2, 1, 5, 3, 1, 10, 3, 1, 13, 3, 1, 2, 1, 5, 3, 3, 1, 8, 3, 1, 13, 3, 2, 3, 1, 7, 3, 1, 12, 1, 3, 3, 1, 1, 3, 1, 6, 3, 1, 11, 3, 1, 13, 3, 1, 1, 3, 1, 6, 3, 1, 11, 3, 3, 1, 8, 1, 1, 4, 3, 1, 9, 3, 1, 13, 3, 1, 13, 1, 1, 4, 3, 1, 9, 3, 1, 13, 3, 1, 13, 1, 1, 4, 3, 3, 1, 8, 3]\n",
      "(0, 0, array([0, 0]))\n",
      "[0, 5, 7, 10, 12, 15, 17, 20, 22, 25, 27, 32, 34, 37, 39, 42, 44, 47, 49, 52, 54, 57, 59, 62, 64, 67, 69, 72, 74, 76, 79, 81, 84, 86, 89, 91, 94, 96, 99, 101, 104, 106, 111, 114, 116, 119, 121, 124, 126, 131, 134, 136, 139, 141, 143, 146, 151, 153, 156, 158, 161, 163, 166, 171, 173, 176, 178, 181, 183, 186, 191, 193, 195, 198, 200] [0, 3, 2, 1, 2, 6, 2, 11, 2, 12, 2, 3, 2, 8, 2, 12, 2, 12, 1, 4, 2, 9, 2, 12, 2, 12, 1, 4, 2, 2, 7, 2, 12, 2, 1, 2, 6, 2, 11, 2, 2, 2, 2, 5, 2, 10, 2, 12, 2, 2, 5, 2, 10, 2, 2, 7, 3, 2, 8, 2, 12, 2, 12, 3, 2, 8, 2, 12, 2, 12, 3, 2, 2, 7, 2]\n",
      "(0, 0, array([0, 1]))\n",
      "[0, 2, 4, 5, 7, 9, 12, 14, 15, 17, 19, 20, 22, 24, 25, 27, 29, 31, 32, 34, 36, 37, 39, 41, 42, 44, 46, 47, 51, 52, 54, 56, 57, 59, 61, 62, 64, 66, 67, 71, 72, 74, 76, 78, 79, 81, 83, 84, 86, 88, 91, 93, 94, 96, 98, 99, 101, 104, 106, 108, 109, 111, 113, 114, 116, 118, 119, 121, 123, 124, 126, 128, 129, 131, 133, 134, 136, 138, 139, 141, 143, 145, 146, 148, 150, 151, 153, 155, 156, 158, 160, 161, 163, 165, 166, 168, 170, 171, 173, 175, 176, 178, 180, 181, 183, 185, 186, 188, 190, 191, 193, 195, 197, 198, 200, 202] [0, 1, 1, 2, 1, 1, 1, 1, 5, 1, 1, 10, 1, 1, 11, 1, 1, 1, 2, 1, 1, 7, 1, 1, 11, 1, 1, 11, 1, 3, 1, 1, 8, 1, 1, 11, 1, 1, 11, 1, 3, 1, 1, 1, 6, 1, 1, 11, 1, 1, 1, 1, 5, 1, 1, 10, 1, 1, 1, 1, 6, 1, 1, 4, 1, 1, 9, 1, 1, 11, 1, 1, 11, 1, 1, 4, 1, 1, 9, 1, 1, 1, 6, 1, 1, 2, 1, 1, 7, 1, 1, 11, 1, 1, 11, 1, 1, 2, 1, 1, 7, 1, 1, 11, 1, 1, 11, 1, 1, 2, 1, 1, 1, 6, 1, 1]\n",
      "(0, 0, array([0, 0]))\n",
      "[0, 1, 3, 5, 6, 8, 10, 13, 15, 16, 18, 20, 21, 23, 25, 26, 28, 30, 32, 33, 35, 37, 38, 40, 42, 43, 45, 47, 48, 52, 53, 55, 57, 58, 60, 62, 63, 65, 67, 68, 72, 73, 75, 77, 79, 80, 82, 84, 85, 87, 89, 92, 94, 95, 97, 99, 100, 102, 105, 107, 109, 110, 112, 114, 115, 117, 119, 120, 122, 124, 125, 127, 129, 130, 132, 134, 135, 137, 139, 140, 142, 144, 146, 147, 149, 151, 152, 154, 156, 157, 159, 161, 162, 164, 166, 167, 169, 171, 172, 174, 176, 177, 179, 181, 182, 184, 186, 187, 189, 191, 192, 194, 196, 198, 199, 201, 203] [0, 1, 3, 1, 1, 3, 6, 2, 4, 1, 3, 9, 1, 3, 10, 1, 3, 10, 1, 1, 3, 6, 1, 3, 10, 1, 3, 10, 1, 2, 1, 3, 7, 1, 3, 10, 1, 3, 10, 1, 2, 1, 3, 7, 5, 1, 3, 10, 1, 3, 10, 2, 4, 1, 3, 9, 1, 3, 1, 3, 5, 1, 1, 3, 1, 3, 8, 1, 3, 10, 1, 3, 10, 1, 1, 3, 1, 3, 8, 1, 3, 10, 5, 1, 3, 1, 1, 3, 6, 1, 3, 10, 1, 3, 10, 1, 3, 1, 1, 3, 6, 1, 3, 10, 1, 3, 10, 1, 3, 1, 1, 3, 6, 5, 1, 3, 10]\n",
      "(3, 3, array([0, 1]))\n",
      "[0, 2, 4, 5, 7, 9, 10, 12, 14, 17, 19, 20, 22, 24, 25, 27, 29, 30, 32, 34, 36, 37, 39, 41, 42, 44, 46, 47, 49, 51, 52, 56, 57, 59, 61, 62, 64, 66, 67, 69, 71, 72, 76, 77, 79, 81, 83, 84, 86, 88, 89, 91, 93, 96, 98, 99, 101, 103, 104, 106, 109, 111, 113, 114, 116, 118, 119, 121, 123, 124, 126, 128, 129, 131, 133, 134, 136, 138, 139, 141, 143, 144, 146, 148, 150, 151, 153, 155, 156, 158, 160, 161, 163, 165, 166, 168, 170, 171, 173, 175, 176, 178, 180, 181, 183, 185, 186, 188, 190, 191, 193, 195, 196, 198, 200, 202, 203, 205, 207] [0, 1, 1, 6, 1, 1, 2, 1, 1, 1, 1, 5, 1, 1, 6, 1, 1, 6, 1, 1, 1, 2, 1, 1, 6, 1, 1, 6, 1, 1, 6, 1, 3, 1, 1, 6, 1, 1, 6, 1, 1, 6, 1, 3, 1, 1, 1, 6, 1, 1, 6, 1, 1, 1, 1, 5, 1, 1, 6, 1, 1, 1, 1, 6, 1, 1, 4, 1, 1, 6, 1, 1, 6, 1, 1, 6, 1, 1, 4, 1, 1, 6, 1, 1, 1, 6, 1, 1, 2, 1, 1, 6, 1, 1, 6, 1, 1, 6, 1, 1, 2, 1, 1, 6, 1, 1, 6, 1, 1, 6, 1, 1, 2, 1, 1, 1, 6, 1, 1]\n",
      "(5, 5, array([0, 0]))\n",
      "[0, 21, 60, 80, 100] [0, 1, 3, 3, 1]\n",
      "(0, 0, array([-1,  0]))\n",
      "[0, 3, 5, 8, 10, 13, 18, 20, 23, 25, 28, 30, 33, 35, 38, 40, 45, 47, 50, 52, 55, 57, 60, 62, 65, 67, 70, 72, 75, 77, 80, 82, 85, 87, 89, 92, 94, 97, 99, 102, 104, 107, 109, 112, 114, 117, 119, 124, 127, 129, 132, 134, 137, 139, 144, 147, 149, 152, 154, 156, 159, 164, 166, 169, 171, 174, 176, 179, 184, 186, 189, 191, 194, 196, 199, 204, 206, 208, 211, 213] [0, 2, 4, 2, 9, 2, 2, 5, 1, 3, 2, 8, 2, 13, 2, 18, 2, 5, 2, 10, 2, 15, 2, 1, 2, 6, 2, 11, 2, 16, 2, 1, 2, 6, 4, 2, 9, 2, 14, 1, 3, 2, 8, 2, 13, 2, 4, 2, 2, 7, 2, 12, 2, 17, 2, 2, 7, 2, 12, 4, 2, 2, 5, 2, 10, 2, 15, 2, 2, 5, 2, 10, 2, 15, 2, 2, 5, 4, 2, 9]\n",
      "(0, 0, array([0, 1]))\n",
      "[0, 3, 5, 7, 8, 10, 12, 13, 15, 17, 18, 20, 22, 25, 27, 28, 30, 32, 33, 35, 37, 38, 40, 42, 44, 45, 47, 49, 50, 52, 54, 55, 57, 59, 60, 64, 65, 67, 69, 70, 72, 74, 75, 77, 79, 80, 84, 85, 87, 89, 91, 92, 94, 96, 97, 99, 101, 104, 106, 107, 109, 111, 112, 114, 117, 119, 121, 122, 124, 126, 127, 129, 131, 132, 134, 136, 137, 139, 141, 142, 144, 146, 147, 149, 151, 152, 154, 156, 158, 159, 161, 163, 164, 166, 168, 169, 171, 173, 174, 176, 178, 179, 181, 183, 184, 186, 188, 189, 191, 193, 194, 196, 198, 199, 201, 203, 204, 206, 208, 210, 211, 213, 215] [0, 1, 3, 3, 1, 8, 3, 1, 13, 1, 1, 4, 3, 2, 3, 1, 7, 3, 1, 12, 3, 1, 17, 3, 1, 1, 4, 3, 1, 9, 3, 1, 14, 3, 1, 2, 1, 5, 3, 1, 10, 3, 1, 15, 3, 1, 2, 1, 5, 3, 3, 1, 8, 3, 1, 13, 3, 2, 3, 1, 7, 3, 1, 12, 1, 3, 3, 1, 1, 3, 1, 6, 3, 1, 11, 3, 1, 16, 3, 1, 1, 3, 1, 6, 3, 1, 11, 3, 3, 1, 8, 1, 1, 4, 3, 1, 9, 3, 1, 14, 3, 1, 18, 1, 1, 4, 3, 1, 9, 3, 1, 14, 3, 1, 18, 1, 1, 4, 3, 3, 1, 8, 3]\n",
      "(0, 0, array([0, 0]))\n",
      "[0, 2, 5, 7, 10, 12, 15, 20, 22, 25, 27, 30, 32, 35, 37, 40, 42, 47, 49, 52, 54, 57, 59, 62, 64, 67, 69, 72, 74, 77, 79, 82, 84, 87, 89, 91, 94, 96, 99, 101, 104, 106, 109, 111, 114, 116, 119, 121, 126, 129, 131, 134, 136, 139, 141, 146, 149, 151, 154, 156, 158, 161, 166, 168, 171, 173, 176, 178, 181, 186, 188, 191, 193, 196, 198, 201, 206, 208, 210, 213, 215] [0, 2, 2, 2, 7, 2, 12, 3, 2, 1, 2, 6, 2, 11, 2, 16, 2, 3, 2, 8, 2, 13, 2, 17, 1, 4, 2, 9, 2, 14, 2, 17, 1, 4, 2, 2, 7, 2, 12, 2, 1, 2, 6, 2, 11, 2, 2, 2, 2, 5, 2, 10, 2, 15, 2, 2, 5, 2, 10, 2, 2, 7, 3, 2, 8, 2, 13, 2, 17, 3, 2, 8, 2, 13, 2, 17, 3, 2, 2, 7, 2]\n",
      "(2, 2, array([0, 0]))\n",
      "[0, 3, 5, 8, 10, 13, 15, 18, 23, 25, 28, 30, 33, 35, 38, 40, 43, 45, 50, 52, 55, 57, 60, 62, 65, 67, 70, 72, 75, 77, 80, 82, 85, 87, 90, 92, 94, 97, 99, 102, 104, 107, 109, 112, 114, 117, 119, 122, 124, 129, 132, 134, 137, 139, 142, 144, 149, 152, 154, 157, 159, 161, 164, 169, 171, 174, 176, 179, 181, 184, 189, 191, 194, 196, 199, 201, 204, 209, 211, 213, 216, 218] [0, 2, 14, 2, 4, 2, 9, 2, 2, 5, 1, 3, 2, 8, 2, 13, 2, 14, 2, 5, 2, 10, 2, 14, 2, 1, 2, 6, 2, 11, 2, 14, 2, 1, 2, 6, 4, 2, 9, 2, 14, 1, 3, 2, 8, 2, 13, 2, 4, 2, 2, 7, 2, 12, 2, 14, 2, 2, 7, 2, 12, 4, 2, 2, 5, 2, 10, 2, 14, 2, 2, 5, 2, 10, 2, 14, 2, 2, 5, 4, 2, 9]\n",
      "(5, 10, array([0, 1]))\n",
      "[0, 2, 3, 5, 7, 8, 10, 12, 13, 15, 18, 20, 22, 23, 25, 27, 28, 30, 32, 33, 35, 37, 40, 42, 43, 45, 47, 48, 50, 52, 53, 55, 57, 59, 60, 62, 64, 65, 67, 69, 70, 72, 74, 75, 79, 80, 82, 84, 85, 87, 89, 90, 92, 94, 95, 99, 100, 102, 104, 106, 107, 109, 111, 112, 114, 116, 119, 121, 122, 124, 126, 127, 129, 132, 134, 136, 137, 139, 141, 142, 144, 146, 147, 149, 151, 152, 154, 156, 157, 159, 161, 162, 164, 166, 167, 169, 171, 173, 174, 176, 178, 179, 181, 183, 184, 186, 188, 189, 191, 193, 194, 196, 198, 199, 201, 203, 204, 206, 208, 209, 211, 213, 214, 216, 218, 219, 221, 223, 225, 226, 228, 230] [0, 3, 1, 3, 3, 1, 3, 3, 1, 3, 1, 13, 3, 1, 3, 3, 1, 3, 1, 1, 3, 3, 2, 3, 1, 3, 3, 1, 3, 3, 1, 3, 3, 1, 1, 3, 3, 1, 3, 3, 1, 3, 3, 1, 2, 1, 3, 3, 1, 3, 3, 1, 3, 3, 1, 2, 1, 3, 3, 3, 1, 3, 3, 1, 3, 3, 2, 3, 1, 3, 3, 1, 3, 1, 3, 3, 1, 1, 3, 1, 3, 3, 1, 3, 3, 1, 3, 3, 1, 1, 3, 1, 3, 3, 1, 3, 3, 3, 1, 3, 1, 1, 3, 3, 1, 3, 3, 1, 3, 3, 1, 3, 1, 1, 3, 3, 1, 3, 3, 1, 3, 3, 1, 3, 1, 1, 3, 3, 3, 1, 3, 3]\n",
      "(2, 2, array([0, 0]))\n",
      "[0, 20, 41, 80, 100, 120] [0, 10, 1, 3, 3, 1]\n",
      "(0, 0, array([-1,  0]))\n",
      "[0, 3, 5, 8, 10, 13, 15, 18, 20, 23, 25, 28, 30, 33, 38, 40, 43, 45, 48, 50, 53, 55, 58, 60, 65, 67, 70, 72, 75, 77, 80, 82, 85, 87, 90, 92, 95, 97, 100, 102, 105, 107, 109, 112, 114, 117, 119, 122, 124, 127, 129, 132, 134, 137, 139, 144, 147, 149, 152, 154, 157, 159, 164, 167, 169, 172, 174, 176, 179, 184, 186, 189, 191, 194, 196, 199, 204, 206, 209, 211, 214, 216, 219, 224, 226, 228, 231, 233] [0, 2, 4, 2, 9, 2, 9, 2, 9, 2, 4, 2, 9, 2, 2, 5, 1, 3, 2, 8, 2, 9, 2, 9, 2, 5, 2, 9, 2, 9, 2, 1, 2, 6, 2, 9, 2, 9, 2, 1, 2, 6, 4, 2, 13, 2, 9, 1, 3, 2, 8, 2, 9, 2, 4, 2, 2, 7, 2, 9, 2, 9, 2, 2, 7, 2, 9, 4, 2, 2, 5, 2, 9, 2, 9, 2, 2, 5, 2, 9, 2, 9, 2, 2, 5, 4, 2, 12]\n",
      "(0, 0, array([0, 1]))\n",
      "[0, 3, 5, 7, 8, 10, 12, 13, 15, 17, 18, 20, 23, 25, 27, 28, 30, 32, 33, 35, 37, 38, 40, 42, 45, 47, 48, 50, 52, 53, 55, 57, 58, 60, 62, 64, 65, 67, 69, 70, 72, 74, 75, 77, 79, 80, 84, 85, 87, 89, 90, 92, 94, 95, 97, 99, 100, 104, 105, 107, 109, 111, 112, 114, 116, 117, 119, 121, 124, 126, 127, 129, 131, 132, 134, 137, 139, 141, 142, 144, 146, 147, 149, 151, 152, 154, 156, 157, 159, 161, 162, 164, 166, 167, 169, 171, 172, 174, 176, 178, 179, 181, 183, 184, 186, 188, 189, 191, 193, 194, 196, 198, 199, 201, 203, 204, 206, 208, 209, 211, 213, 214, 216, 218, 219, 221, 223, 224, 226, 228, 230, 231, 233, 235] [0, 1, 3, 3, 1, 8, 3, 1, 8, 3, 1, 8, 1, 3, 3, 1, 8, 3, 1, 8, 1, 1, 4, 3, 2, 3, 1, 7, 3, 1, 8, 3, 1, 8, 3, 1, 1, 4, 3, 1, 8, 3, 1, 8, 3, 1, 2, 1, 5, 3, 1, 8, 3, 1, 8, 3, 1, 2, 1, 5, 3, 3, 1, 12, 3, 1, 8, 3, 2, 3, 1, 7, 3, 1, 8, 1, 3, 3, 1, 1, 3, 1, 6, 3, 1, 8, 3, 1, 8, 3, 1, 1, 3, 1, 6, 3, 1, 8, 3, 3, 1, 37, 1, 1, 4, 3, 1, 8, 3, 1, 8, 3, 1, 8, 1, 1, 4, 3, 1, 8, 3, 1, 8, 3, 1, 8, 1, 1, 4, 3, 3, 1, 11, 3]\n",
      "(0, 0, array([0, 0]))\n",
      "[0, 2, 5, 7, 10, 12, 15, 17, 20, 22, 25, 27, 30, 32, 35, 40, 42, 45, 47, 50, 52, 55, 57, 60, 62, 67, 69, 72, 74, 77, 79, 82, 84, 87, 89, 92, 94, 97, 99, 102, 104, 107, 109, 111, 114, 116, 119, 121, 124, 126, 129, 131, 134, 136, 139, 141, 146, 149, 151, 154, 156, 159, 161, 166, 169, 171, 174, 176, 178, 181, 186, 188, 191, 193, 196, 198, 201, 206, 208, 211, 213, 216, 218, 221, 226, 228, 230, 233, 235] [0, 2, 2, 2, 7, 2, 7, 2, 7, 2, 2, 2, 7, 2, 7, 3, 2, 1, 2, 6, 2, 7, 2, 7, 2, 3, 2, 7, 2, 7, 2, 7, 1, 4, 2, 7, 2, 7, 2, 7, 1, 4, 2, 2, 11, 2, 7, 2, 1, 2, 6, 2, 7, 2, 2, 2, 2, 5, 2, 7, 2, 7, 2, 2, 5, 2, 7, 2, 2, 36, 3, 2, 7, 2, 7, 2, 7, 3, 2, 7, 2, 7, 2, 7, 3, 2, 2, 10, 2]\n",
      "(2, 2, array([0, 0]))\n",
      "[0, 3, 5, 8, 10, 13, 15, 18, 20, 23, 25, 28, 30, 33, 35, 38, 43, 45, 48, 50, 53, 55, 58, 60, 63, 65, 70, 72, 75, 77, 80, 82, 85, 87, 90, 92, 95, 97, 100, 102, 105, 107, 110, 112, 114, 117, 119, 122, 124, 127, 129, 132, 134, 137, 139, 142, 144, 149, 152, 154, 157, 159, 162, 164, 169, 172, 174, 177, 179, 181, 184, 189, 191, 194, 196, 199, 201, 204, 209, 211, 214, 216, 219, 221, 224, 229, 231, 233, 236, 238] [0, 2, 4, 2, 4, 2, 4, 2, 4, 2, 4, 2, 4, 2, 4, 2, 2, 4, 1, 3, 2, 4, 2, 4, 2, 4, 2, 4, 2, 4, 2, 4, 2, 1, 2, 4, 2, 4, 2, 4, 2, 1, 2, 4, 8, 2, 4, 2, 4, 1, 3, 2, 4, 2, 4, 2, 4, 2, 2, 4, 2, 4, 2, 4, 2, 2, 4, 2, 4, 33, 2, 2, 4, 2, 4, 2, 4, 2, 2, 4, 2, 4, 2, 4, 2, 2, 4, 7, 2, 4]\n",
      "(0, 0, array([0, 1]))\n",
      "[0, 2, 3, 5, 8, 10, 12, 13, 15, 17, 18, 20, 22, 23, 25, 28, 30, 32, 33, 35, 37, 38, 40, 42, 43, 45, 47, 50, 52, 53, 55, 57, 58, 60, 62, 63, 65, 67, 69, 70, 72, 74, 75, 77, 79, 80, 82, 84, 85, 89, 90, 92, 94, 95, 97, 99, 100, 102, 104, 105, 109, 110, 112, 114, 116, 117, 119, 121, 122, 124, 126, 129, 131, 132, 134, 136, 137, 139, 142, 144, 146, 147, 149, 151, 152, 154, 156, 157, 159, 161, 162, 164, 166, 167, 169, 171, 172, 174, 176, 177, 179, 181, 183, 184, 186, 188, 189, 191, 193, 194, 196, 198, 199, 201, 203, 204, 206, 208, 209, 211, 213, 214, 216, 218, 219, 221, 223, 224, 226, 228, 229, 231, 233, 235, 236, 238, 240] [0, 5, 1, 3, 1, 3, 5, 1, 3, 10, 1, 3, 13, 1, 3, 1, 3, 5, 1, 3, 10, 1, 3, 1, 1, 3, 6, 2, 4, 1, 3, 9, 1, 3, 13, 1, 3, 13, 1, 1, 3, 6, 1, 3, 11, 1, 3, 13, 1, 2, 1, 3, 7, 1, 3, 12, 1, 3, 13, 1, 2, 1, 3, 7, 5, 1, 3, 10, 1, 3, 13, 2, 4, 1, 3, 9, 1, 3, 1, 3, 5, 1, 1, 3, 1, 3, 8, 1, 3, 20, 1, 3, 13, 1, 1, 3, 1, 3, 8, 1, 3, 32, 5, 1, 3, 1, 1, 3, 6, 1, 3, 11, 1, 3, 13, 1, 3, 1, 1, 3, 6, 1, 3, 11, 1, 3, 13, 1, 3, 1, 1, 3, 6, 5, 1, 3, 10]\n",
      "(2, 4, array([0, 0]))\n",
      "[0, 1, 3, 5, 7, 8, 10, 13, 15, 17, 18, 20, 22, 23, 25, 27, 28, 30, 33, 35, 37, 38, 40, 42, 43, 45, 47, 48, 50, 52, 55, 57, 58, 60, 62, 63, 65, 67, 68, 70, 72, 74, 75, 77, 79, 80, 82, 84, 85, 87, 89, 90, 94, 95, 97, 99, 100, 102, 104, 105, 107, 109, 110, 114, 115, 117, 119, 121, 122, 124, 126, 127, 129, 131, 134, 136, 137, 139, 141, 142, 144, 147, 149, 151, 152, 154, 156, 157, 159, 161, 162, 164, 166, 167, 169, 171, 172, 174, 176, 177, 179, 181, 182, 184, 186, 188, 189, 191, 193, 194, 196, 198, 199, 201, 203, 204, 206, 208, 209, 211, 213, 214, 216, 218, 219, 221, 223, 224, 226, 228, 229, 231, 233, 234, 236, 238, 240, 241, 243, 245] [0, 1, 3, 8, 5, 1, 3, 1, 3, 5, 1, 3, 8, 1, 3, 8, 1, 3, 1, 3, 5, 1, 3, 8, 1, 3, 1, 1, 3, 6, 2, 4, 1, 3, 8, 1, 3, 8, 1, 3, 8, 1, 1, 3, 6, 1, 3, 8, 1, 3, 8, 1, 2, 1, 3, 7, 1, 3, 8, 1, 3, 8, 1, 2, 1, 3, 7, 5, 1, 3, 8, 1, 3, 8, 2, 4, 1, 3, 8, 1, 3, 1, 3, 5, 1, 1, 3, 1, 3, 15, 1, 3, 8, 1, 3, 8, 1, 1, 3, 1, 3, 27, 1, 3, 8, 5, 1, 3, 1, 1, 3, 6, 1, 3, 8, 1, 3, 8, 1, 3, 1, 1, 3, 6, 1, 3, 8, 1, 3, 8, 1, 3, 1, 1, 3, 6, 5, 1, 3, 8]\n",
      "(5, 5, array([0, 0]))\n",
      "[0, 3, 5, 8, 10, 12, 15, 17, 20, 22, 25, 27, 30, 32, 35, 37, 40, 42, 45, 47, 50, 55, 57, 60, 62, 65, 67, 70, 72, 75, 77, 82, 84, 87, 89, 92, 94, 97, 99, 102, 104, 107, 109, 112, 114, 117, 119, 122, 124, 126, 129, 131, 134, 136, 139, 141, 144, 146, 149, 151, 154, 156, 161, 164, 166, 169, 171, 174, 176, 181, 184, 186, 189, 191, 193, 196, 201, 203, 206, 208, 211, 213, 216, 221, 223, 226, 228, 231, 233, 236, 241, 243, 245, 248, 250] [0, 2, 2, 2, 2, 2, 2, 2, 2, 2, 2, 2, 2, 2, 2, 2, 2, 2, 2, 2, 2, 2, 2, 1, 2, 2, 2, 2, 2, 2, 2, 2, 2, 2, 2, 2, 2, 2, 1, 2, 2, 2, 2, 2, 2, 2, 1, 2, 2, 2, 2, 2, 2, 2, 1, 2, 2, 2, 2, 2, 2, 2, 9, 2, 2, 2, 2, 2, 2, 21, 2, 2, 2, 2, 2, 2, 2, 2, 2, 2, 2, 2, 2, 2, 2, 2, 2, 2, 2, 2, 2, 2, 2, 2, 2]\n",
      "(0, 0, array([0, 1]))\n",
      "[0, 2, 3, 5, 7, 8, 10, 12, 14, 15, 17, 20, 22, 24, 25, 27, 29, 30, 32, 34, 35, 37, 40, 42, 44, 45, 47, 49, 50, 52, 54, 55, 57, 59, 62, 64, 65, 67, 69, 70, 72, 74, 75, 77, 79, 81, 82, 84, 86, 87, 89, 91, 92, 94, 96, 97, 101, 102, 104, 106, 107, 109, 111, 112, 114, 116, 117, 121, 122, 124, 126, 128, 129, 131, 133, 134, 136, 138, 141, 143, 144, 146, 148, 149, 151, 154, 156, 158, 159, 161, 163, 164, 166, 168, 169, 171, 173, 174, 176, 178, 179, 181, 183, 184, 186, 188, 189, 191, 193, 195, 196, 198, 200, 201, 203, 205, 206, 208, 210, 211, 213, 215, 216, 218, 220, 221, 223, 225, 226, 228, 230, 231, 233, 235, 236, 238, 240, 241, 243, 245, 247, 248, 250, 252] [0, 1, 1, 1, 1, 1, 1, 1, 1, 1, 1, 1, 1, 1, 1, 1, 1, 1, 1, 1, 1, 1, 1, 1, 1, 1, 1, 1, 1, 1, 1, 1, 1, 1, 1, 1, 1, 1, 1, 1, 1, 1, 1, 1, 1, 3, 1, 1, 1, 1, 1, 1, 1, 1, 1, 1, 1, 1, 1, 1, 1, 1, 1, 1, 1, 1, 1, 1, 1, 1, 1, 1, 1, 1, 1, 1, 1, 1, 1, 1, 1, 1, 1, 1, 1, 1, 1, 1, 1, 8, 1, 1, 1, 1, 1, 1, 1, 1, 1, 1, 1, 20, 1, 1, 1, 1, 1, 1, 1, 1, 1, 1, 3, 1, 1, 1, 1, 1, 1, 1, 1, 1, 1, 1, 3, 1, 1, 1, 1, 1, 1, 1, 1, 1, 1, 1, 3, 1, 1, 1, 1, 1, 1, 1]\n",
      "(0, 0, array([0, 0]))\n",
      "[0, 81, 161, 181, 200, 220, 240] [0, 2, 7, 19, 2, 2, 2]\n",
      "(0, 0, array([-1,  1]))\n",
      "[0, 2, 4, 5, 7, 9, 10, 12, 14, 16, 17, 19, 22, 24, 26, 27, 29, 31, 32, 34, 36, 37, 39, 42, 44, 46, 47, 49, 51, 52, 54, 56, 57, 59, 61, 64, 66, 67, 69, 71, 72, 74, 76, 77, 79, 81, 83, 84, 86, 88, 89, 91, 93, 94, 96, 98, 99, 103, 104, 106, 108, 109, 111, 113, 114, 116, 118, 119, 123, 124, 126, 128, 130, 131, 133, 135, 136, 138, 140, 143, 145, 146, 148, 150, 151, 153, 156, 158, 160, 161, 163, 165, 166, 168, 170, 171, 173, 175, 176, 178, 180, 181, 183, 185, 186, 188, 190, 191, 193, 195, 197, 198, 200, 202, 203, 205, 207, 208, 210, 212, 213, 215, 217, 218, 220, 222, 223, 225, 227, 228, 230, 232, 233, 235, 237, 238, 240, 242, 243, 245, 247, 249, 250, 252, 254] [0, 1, 1, 4, 1, 1, 9, 1, 1, 1, 6, 1, 1, 1, 1, 6, 1, 1, 11, 1, 1, 16, 1, 1, 1, 1, 6, 1, 1, 11, 1, 1, 2, 1, 1, 1, 1, 5, 1, 1, 10, 1, 1, 15, 1, 1, 1, 2, 1, 1, 7, 1, 1, 12, 1, 1, 17, 1, 3, 1, 1, 8, 1, 1, 13, 1, 1, 37, 1, 3, 1, 1, 1, 6, 1, 1, 11, 1, 1, 1, 1, 5, 1, 1, 10, 1, 1, 1, 1, 6, 1, 1, 4, 1, 1, 9, 1, 1, 14, 1, 1, 18, 1, 1, 4, 1, 1, 9, 1, 1, 1, 6, 1, 1, 2, 1, 1, 7, 1, 1, 12, 1, 1, 17, 1, 1, 2, 1, 1, 7, 1, 1, 12, 1, 1, 17, 1, 1, 2, 1, 1, 1, 6, 1, 1]\n",
      "(0, 0, array([0, 0]))\n",
      "[0, 1, 3, 5, 6, 8, 10, 11, 13, 15, 17, 18, 20, 23, 25, 27, 28, 30, 32, 33, 35, 37, 38, 40, 43, 45, 47, 48, 50, 52, 53, 55, 57, 58, 60, 62, 65, 67, 68, 70, 72, 73, 75, 77, 78, 80, 82, 84, 85, 87, 89, 90, 92, 94, 95, 97, 99, 100, 104, 105, 107, 109, 110, 112, 114, 115, 117, 119, 120, 124, 125, 127, 129, 131, 132, 134, 136, 137, 139, 141, 144, 146, 147, 149, 151, 152, 154, 157, 159, 161, 162, 164, 166, 167, 169, 171, 172, 174, 176, 177, 179, 181, 182, 184, 186, 187, 189, 191, 192, 194, 196, 198, 199, 201, 203, 204, 206, 208, 209, 211, 213, 214, 216, 218, 219, 221, 223, 224, 226, 228, 229, 231, 233, 234, 236, 238, 239, 241, 243, 244, 246, 248, 250, 251, 253, 255] [0, 1, 1, 3, 1, 3, 8, 1, 3, 13, 5, 1, 3, 1, 3, 5, 1, 3, 10, 1, 3, 15, 1, 3, 1, 3, 5, 1, 3, 10, 1, 3, 1, 1, 3, 6, 2, 4, 1, 3, 9, 1, 3, 14, 1, 3, 17, 1, 1, 3, 6, 1, 3, 11, 1, 3, 16, 1, 2, 1, 3, 7, 1, 3, 12, 1, 3, 36, 1, 2, 1, 3, 7, 5, 1, 3, 10, 1, 3, 15, 2, 4, 1, 3, 9, 1, 3, 1, 3, 5, 1, 1, 3, 1, 3, 8, 1, 3, 13, 1, 3, 17, 1, 1, 3, 1, 3, 8, 1, 3, 13, 5, 1, 3, 1, 1, 3, 6, 1, 3, 11, 1, 3, 16, 1, 3, 1, 1, 3, 6, 1, 3, 11, 1, 3, 16, 1, 3, 1, 1, 3, 6, 5, 1, 3, 10]\n",
      "(1, 1, array([0, 1]))\n",
      "[0, 2, 3, 5, 7, 8, 10, 12, 13, 15, 17, 19, 20, 22, 25, 27, 29, 30, 32, 34, 35, 37, 39, 40, 42, 45, 47, 49, 50, 52, 54, 55, 57, 59, 60, 62, 64, 67, 69, 70, 72, 74, 75, 77, 79, 80, 82, 84, 86, 87, 89, 91, 92, 94, 96, 97, 99, 101, 102, 106, 107, 109, 111, 112, 114, 116, 117, 119, 121, 122, 126, 127, 129, 131, 133, 134, 136, 138, 139, 141, 143, 146, 148, 149, 151, 153, 154, 156, 159, 161, 163, 164, 166, 168, 169, 171, 173, 174, 176, 178, 179, 181, 183, 184, 186, 188, 189, 191, 193, 194, 196, 198, 200, 201, 203, 205, 206, 208, 210, 211, 213, 215, 216, 218, 220, 221, 223, 225, 226, 228, 230, 231, 233, 235, 236, 238, 240, 241, 243, 245, 246, 248, 250, 252, 253, 255, 257] [0, 3, 1, 1, 3, 1, 6, 3, 1, 11, 3, 3, 1, 8, 1, 3, 3, 1, 8, 3, 1, 13, 3, 1, 15, 1, 3, 3, 1, 8, 3, 1, 13, 1, 1, 4, 3, 2, 3, 1, 7, 3, 1, 12, 3, 1, 15, 3, 1, 1, 4, 3, 1, 9, 3, 1, 14, 3, 1, 2, 1, 5, 3, 1, 10, 3, 1, 34, 3, 1, 2, 1, 5, 3, 3, 1, 8, 3, 1, 13, 3, 2, 3, 1, 7, 3, 1, 12, 1, 3, 3, 1, 1, 3, 1, 6, 3, 1, 11, 3, 1, 15, 3, 1, 1, 3, 1, 6, 3, 1, 11, 3, 3, 1, 8, 1, 1, 4, 3, 1, 9, 3, 1, 14, 3, 1, 15, 1, 1, 4, 3, 1, 9, 3, 1, 14, 3, 1, 15, 1, 1, 4, 3, 3, 1, 8, 3]\n",
      "(2, 2, array([0, 0]))\n",
      "[0, 1, 3, 5, 6, 8, 10, 11, 13, 15, 16, 18, 20, 22, 23, 25, 28, 30, 32, 33, 35, 37, 38, 40, 42, 43, 45, 48, 50, 52, 53, 55, 57, 58, 60, 62, 63, 65, 67, 70, 72, 73, 75, 77, 78, 80, 82, 83, 85, 87, 89, 90, 92, 94, 95, 97, 99, 100, 102, 104, 105, 109, 110, 112, 114, 115, 117, 119, 120, 122, 124, 125, 129, 130, 132, 134, 136, 137, 139, 141, 142, 144, 146, 149, 151, 152, 154, 156, 157, 159, 162, 164, 166, 167, 169, 171, 172, 174, 176, 177, 179, 181, 182, 184, 186, 187, 189, 191, 192, 194, 196, 197, 199, 201, 203, 204, 206, 208, 209, 211, 213, 214, 216, 218, 219, 221, 223, 224, 226, 228, 229, 231, 233, 234, 236, 238, 239, 241, 243, 244, 246, 248, 249, 251, 253, 255, 256, 258, 260] [0, 1, 3, 12, 1, 1, 3, 1, 3, 8, 1, 3, 12, 5, 1, 3, 1, 3, 5, 1, 3, 10, 1, 3, 12, 1, 3, 1, 3, 5, 1, 3, 10, 1, 3, 1, 1, 3, 6, 2, 4, 1, 3, 9, 1, 3, 12, 1, 3, 12, 1, 1, 3, 6, 1, 3, 11, 1, 3, 12, 1, 2, 1, 3, 7, 1, 3, 31, 1, 3, 12, 1, 2, 1, 3, 7, 5, 1, 3, 10, 1, 3, 12, 2, 4, 1, 3, 9, 1, 3, 1, 3, 5, 1, 1, 3, 1, 3, 8, 1, 3, 12, 1, 3, 12, 1, 1, 3, 1, 3, 8, 1, 3, 12, 5, 1, 3, 1, 1, 3, 6, 1, 3, 11, 1, 3, 12, 1, 3, 1, 1, 3, 6, 1, 3, 11, 1, 3, 12, 1, 3, 1, 1, 3, 6, 5, 1, 3, 10]\n",
      "(5, 10, array([0, 0]))\n",
      "[0, 3, 5, 8, 10, 13, 15, 20, 23, 25, 28, 30, 32, 35, 37, 40, 42, 45, 47, 50, 52, 55, 57, 60, 62, 65, 67, 70, 75, 77, 80, 82, 85, 87, 90, 92, 95, 97, 102, 104, 107, 109, 112, 114, 117, 119, 122, 124, 127, 129, 132, 134, 137, 139, 142, 144, 146, 149, 151, 154, 156, 159, 161, 164, 166, 169, 171, 174, 176, 181, 184, 186, 189, 191, 194, 196, 201, 204, 206, 209, 211, 213, 216, 221, 223, 226, 228, 231, 233, 236, 241, 243, 246, 248, 251, 253, 256, 261, 263, 265, 268, 270] [0, 1, 1, 1, 1, 1, 1, 1, 1, 1, 1, 1, 1, 1, 1, 1, 1, 1, 1, 1, 1, 1, 1, 1, 1, 1, 1, 1, 1, 1, 2, 1, 1, 1, 1, 1, 1, 1, 1, 1, 1, 1, 1, 1, 1, 20, 1, 1, 1, 1, 1, 1, 1, 24, 1, 1, 1, 1, 1, 1, 1, 2, 1, 1, 1, 1, 1, 1, 1, 1, 1, 1, 1, 1, 1, 1, 1, 1, 1, 1, 1, 1, 1, 1, 1, 1, 1, 1, 1, 1, 1, 1, 1, 1, 1, 1, 1, 1, 1, 1, 1, 1]\n",
      "(0, 0, array([0, 1]))\n",
      "[0, 39, 59, 80, 119, 139, 159] [0, 3, 3, 1, 19, 23, 1]\n",
      "(0, 0, array([-1,  0]))\n",
      "[0, 2, 5, 7, 10, 12, 15, 17, 22, 25, 27, 30, 32, 34, 37, 39, 42, 44, 47, 49, 52, 54, 57, 59, 62, 64, 67, 69, 72, 77, 79, 82, 84, 87, 89, 92, 94, 97, 99, 104, 106, 109, 111, 114, 116, 119, 121, 124, 126, 129, 131, 134, 136, 139, 141, 144, 146, 148, 151, 153, 156, 158, 161, 163, 166, 168, 171, 173, 176, 178, 183, 186, 188, 191, 193, 196, 198, 203, 206, 208, 211, 213, 215, 218, 223, 225, 228, 230, 233, 235, 238, 243, 245, 248, 250, 253, 255, 258, 263, 265, 267, 270, 272] [0, 1, 4, 2, 9, 2, 14, 2, 2, 5, 2, 10, 2, 2, 7, 2, 2, 2, 7, 2, 12, 2, 17, 2, 2, 2, 7, 2, 12, 3, 2, 1, 2, 6, 2, 11, 2, 16, 2, 3, 2, 8, 2, 13, 2, 18, 1, 4, 2, 9, 2, 14, 2, 22, 1, 4, 2, 2, 7, 2, 12, 2, 1, 2, 6, 2, 11, 2, 2, 2, 2, 5, 2, 10, 2, 15, 2, 2, 5, 2, 10, 2, 2, 7, 3, 2, 8, 2, 13, 2, 18, 3, 2, 8, 2, 13, 2, 18, 3, 2, 2, 7, 2]\n",
      "(0, 0, array([0, 1]))\n",
      "[0, 4, 5, 7, 9, 10, 12, 14, 15, 17, 19, 20, 22, 24, 25, 27, 29, 30, 32, 34, 36, 37, 39, 42, 44, 46, 47, 49, 51, 52, 54, 56, 57, 59, 62, 64, 66, 67, 69, 71, 72, 74, 76, 77, 79, 81, 84, 86, 87, 89, 91, 92, 94, 96, 97, 99, 101, 103, 104, 106, 108, 109, 111, 113, 114, 116, 118, 119, 123, 124, 126, 128, 129, 131, 133, 134, 136, 138, 139, 143, 144, 146, 148, 150, 151, 153, 155, 156, 158, 160, 163, 165, 166, 168, 170, 171, 173, 176, 178, 180, 181, 183, 185, 186, 188, 190, 191, 193, 195, 196, 198, 200, 201, 203, 205, 206, 208, 210, 211, 213, 215, 217, 218, 220, 222, 223, 225, 227, 228, 230, 232, 233, 235, 237, 238, 240, 242, 243, 245, 247, 248, 250, 252, 253, 255, 257, 258, 260, 262, 263, 265, 267, 269, 270, 272, 274] [0, 1, 3, 1, 1, 8, 1, 1, 13, 1, 1, 21, 1, 1, 4, 1, 1, 9, 1, 1, 1, 6, 1, 1, 1, 1, 6, 1, 1, 11, 1, 1, 16, 1, 1, 1, 1, 6, 1, 1, 11, 1, 1, 2, 1, 1, 1, 1, 5, 1, 1, 10, 1, 1, 15, 1, 1, 1, 2, 1, 1, 7, 1, 1, 12, 1, 1, 17, 1, 3, 1, 1, 8, 1, 1, 13, 1, 1, 21, 1, 3, 1, 1, 1, 6, 1, 1, 11, 1, 1, 1, 1, 5, 1, 1, 10, 1, 1, 1, 1, 6, 1, 1, 4, 1, 1, 9, 1, 1, 14, 1, 1, 18, 1, 1, 4, 1, 1, 9, 1, 1, 1, 6, 1, 1, 2, 1, 1, 7, 1, 1, 12, 1, 1, 17, 1, 1, 2, 1, 1, 7, 1, 1, 12, 1, 1, 17, 1, 1, 2, 1, 1, 1, 6, 1, 1]\n",
      "(20, 20, array([0, 0]))\n",
      "[0, 2, 4, 7, 9, 12, 14, 17, 19, 22, 24, 27, 29, 32, 34, 37, 39, 44, 47, 49, 52, 54, 56, 59, 61, 64, 66, 69, 71, 74, 76, 79, 81, 84, 86, 89, 91, 94, 99, 101, 104, 106, 109, 111, 114, 116, 119, 121, 126, 128, 131, 133, 136, 138, 141, 143, 146, 148, 151, 153, 156, 158, 161, 163, 166, 168, 170, 173, 175, 178, 180, 183, 185, 188, 190, 193, 195, 198, 200, 205, 208, 210, 213, 215, 218, 220, 225, 228, 230, 233, 235, 237, 240, 245, 247, 250, 252, 255, 257, 260, 265, 267, 270, 272, 275, 277, 280, 285, 287, 289, 292, 294] [0, 2, 1, 4, 2, 4, 2, 4, 2, 4, 1, 4, 2, 4, 2, 4, 2, 2, 4, 2, 4, 2, 2, 4, 2, 2, 2, 4, 2, 4, 2, 4, 2, 2, 2, 4, 2, 4, 3, 2, 1, 2, 4, 2, 4, 2, 4, 2, 3, 2, 4, 2, 4, 2, 4, 1, 4, 2, 4, 2, 4, 2, 4, 1, 4, 2, 2, 4, 2, 4, 2, 1, 2, 4, 2, 4, 2, 2, 2, 2, 4, 2, 4, 2, 4, 2, 2, 4, 2, 4, 2, 2, 4, 3, 2, 4, 2, 4, 2, 4, 3, 2, 4, 2, 4, 2, 4, 3, 2, 2, 4, 2]\n",
      "(2, 2, array([0, 0]))\n",
      "[0, 3, 5, 7, 10, 12, 15, 17, 20, 22, 25, 27, 30, 32, 35, 37, 40, 42, 47, 50, 52, 55, 57, 59, 62, 64, 67, 69, 72, 74, 77, 79, 82, 84, 87, 89, 92, 94, 97, 102, 104, 107, 109, 112, 114, 117, 119, 122, 124, 129, 131, 134, 136, 139, 141, 144, 146, 149, 151, 154, 156, 159, 161, 164, 166, 169, 171, 173, 176, 178, 181, 183, 186, 188, 191, 193, 196, 198, 201, 203, 208, 211, 213, 216, 218, 221, 223, 228, 231, 233, 236, 238, 240, 243, 248, 250, 253, 255, 258, 260, 263, 268, 270, 273, 275, 278, 280, 283, 288, 290, 292, 295, 297] [0, 1, 1, 1, 1, 1, 1, 1, 1, 1, 1, 1, 1, 1, 1, 1, 1, 1, 1, 1, 1, 1, 1, 1, 1, 1, 1, 1, 1, 1, 1, 1, 1, 1, 1, 1, 1, 1, 1, 1, 1, 1, 1, 1, 1, 1, 1, 1, 1, 1, 1, 1, 1, 1, 1, 1, 1, 1, 1, 1, 1, 1, 1, 1, 1, 1, 1, 1, 1, 1, 1, 1, 1, 1, 1, 1, 1, 1, 1, 1, 1, 1, 1, 1, 1, 1, 1, 1, 1, 1, 1, 1, 1, 1, 1, 1, 1, 1, 1, 1, 1, 1, 1, 1, 1, 1, 1, 1, 1, 1, 1, 1, 1]\n",
      "(0, 0, array([0, 1]))\n",
      "[0, 200] [0, 1]\n",
      "(0, 0, array([  8, -41]))\n",
      "[0, 3, 4, 6, 10, 11, 13, 15, 16, 18, 20, 21, 23, 25, 26, 30, 31, 33, 35, 36, 38, 40, 41, 43, 45, 46, 48, 50, 51, 53, 55, 56, 58, 60, 62, 63, 65, 68, 70, 72, 73, 75, 77, 78, 80, 82, 83, 85, 88, 90, 92, 93, 95, 97, 98, 100, 102, 103, 105, 107, 110, 112, 113, 115, 117, 118, 120, 122, 123, 125, 127, 129, 130, 132, 134, 135, 137, 139, 140, 142, 144, 145, 149, 150, 152, 154, 155, 157, 159, 160, 162, 164, 165, 169, 170, 172, 174, 176, 177, 179, 181, 182, 184, 186, 189, 191, 192, 194, 196, 197, 199, 202, 204, 206, 207, 209, 211, 212, 214, 216, 217, 219, 221, 222, 224, 226, 227, 229, 231, 232, 234, 236, 237, 239, 241, 243, 244, 246, 248, 249, 251, 253, 254, 256, 258, 259, 261, 263, 264, 266, 268, 269, 271, 273, 274, 276, 278, 279, 281, 283, 284, 286, 288, 289, 291, 293, 295, 296, 298, 300] [0, 2, 1, 3, 2, 1, 3, 7, 1, 3, 10, 1, 3, 10, 1, 2, 1, 3, 7, 1, 3, 10, 1, 3, 10, 1, 1, 3, 1, 3, 8, 1, 3, 10, 5, 1, 3, 1, 3, 5, 1, 3, 10, 1, 3, 10, 1, 3, 1, 3, 5, 1, 3, 10, 1, 3, 1, 1, 3, 6, 2, 4, 1, 3, 9, 1, 3, 10, 1, 3, 10, 1, 1, 3, 6, 1, 3, 10, 1, 3, 10, 1, 2, 1, 3, 7, 1, 3, 10, 1, 3, 10, 1, 2, 1, 3, 7, 5, 1, 3, 13, 1, 3, 10, 2, 4, 1, 3, 9, 1, 3, 1, 3, 5, 1, 1, 3, 1, 3, 8, 1, 3, 10, 1, 3, 10, 1, 1, 3, 1, 3, 8, 1, 3, 10, 5, 1, 3, 1, 1, 3, 6, 1, 3, 10, 1, 3, 10, 1, 3, 1, 1, 3, 6, 1, 3, 10, 1, 3, 10, 1, 3, 1, 1, 3, 6, 5, 1, 3, 99]\n",
      "(0, 0, array([0, 0]))\n",
      "[0, 3, 6, 8, 10, 13, 15, 18, 20, 23, 25, 28, 30, 33, 35, 38, 40, 43, 45, 50, 53, 55, 58, 60, 62, 65, 67, 70, 72, 75, 77, 80, 82, 85, 87, 90, 92, 95, 97, 100, 105, 107, 110, 112, 115, 117, 120, 122, 125, 127, 132, 134, 137, 139, 142, 144, 147, 149, 152, 154, 157, 159, 162, 164, 167, 169, 172, 174, 176, 179, 181, 184, 186, 189, 191, 194, 196, 199, 201, 204, 206, 211, 214, 216, 219, 221, 224, 226, 231, 234, 236, 239, 241, 243, 246, 251, 253, 256, 258, 261, 263, 266, 271, 273, 276, 278, 281, 283, 286, 291, 293, 295, 298, 300] [0, 1, 2, 6, 1, 2, 6, 2, 9, 2, 9, 2, 1, 2, 6, 2, 9, 2, 9, 2, 2, 7, 2, 9, 4, 2, 12, 2, 4, 2, 9, 2, 9, 2, 9, 2, 4, 2, 9, 2, 2, 5, 1, 3, 2, 8, 2, 9, 2, 9, 2, 5, 2, 9, 2, 9, 2, 1, 2, 6, 2, 9, 2, 9, 2, 1, 2, 6, 4, 2, 12, 2, 9, 1, 3, 2, 8, 2, 9, 2, 4, 2, 2, 7, 2, 9, 2, 9, 2, 2, 7, 2, 9, 4, 2, 2, 5, 2, 9, 2, 9, 2, 2, 5, 2, 9, 2, 9, 2, 2, 5, 4, 2, 98]\n",
      "(0, 0, array([0, 1]))\n",
      "[0, 2, 5, 6, 8, 12, 13, 15, 17, 18, 20, 22, 23, 25, 27, 28, 32, 33, 35, 37, 38, 40, 42, 43, 45, 47, 48, 50, 52, 53, 55, 57, 58, 60, 62, 64, 65, 67, 70, 72, 74, 75, 77, 79, 80, 82, 84, 85, 87, 90, 92, 94, 95, 97, 99, 100, 102, 104, 105, 107, 109, 112, 114, 115, 117, 119, 120, 122, 124, 125, 127, 129, 131, 132, 134, 136, 137, 139, 141, 142, 144, 146, 147, 151, 152, 154, 156, 157, 159, 161, 162, 164, 166, 167, 171, 172, 174, 176, 178, 179, 181, 183, 184, 186, 188, 191, 193, 194, 196, 198, 199, 201, 204, 206, 208, 209, 211, 213, 214, 216, 218, 219, 221, 223, 224, 226, 228, 229, 231, 233, 234, 236, 238, 239, 241, 243, 245, 246, 248, 250, 251, 253, 255, 256, 258, 260, 261, 263, 265, 266, 268, 270, 271, 273, 275, 276, 278, 280, 281, 283, 285, 286, 288, 290, 291, 293, 295, 297, 298, 300, 302] [0, 3, 2, 1, 5, 2, 1, 5, 3, 1, 8, 3, 1, 8, 3, 1, 2, 1, 5, 3, 1, 8, 3, 1, 8, 3, 1, 1, 3, 1, 6, 3, 1, 8, 3, 3, 1, 11, 1, 3, 3, 1, 8, 3, 1, 8, 3, 1, 8, 1, 3, 3, 1, 8, 3, 1, 8, 1, 1, 4, 3, 2, 3, 1, 7, 3, 1, 8, 3, 1, 8, 3, 1, 1, 4, 3, 1, 8, 3, 1, 8, 3, 1, 2, 1, 5, 3, 1, 8, 3, 1, 8, 3, 1, 2, 1, 5, 3, 3, 1, 11, 3, 1, 8, 3, 2, 3, 1, 7, 3, 1, 8, 1, 3, 3, 1, 1, 3, 1, 6, 3, 1, 8, 3, 1, 8, 3, 1, 1, 3, 1, 6, 3, 1, 8, 3, 3, 1, 11, 1, 1, 4, 3, 1, 8, 3, 1, 8, 3, 1, 8, 1, 1, 4, 3, 1, 8, 3, 1, 8, 3, 1, 8, 1, 1, 4, 3, 3, 1, 97, 3]\n",
      "(2, 2, array([0, 0]))\n",
      "[0, 1, 3, 5, 8, 9, 11, 15, 16, 18, 20, 21, 23, 25, 26, 28, 30, 31, 35, 36, 38, 40, 41, 43, 45, 46, 48, 50, 51, 53, 55, 56, 58, 60, 61, 63, 65, 67, 68, 70, 73, 75, 77, 78, 80, 82, 83, 85, 87, 88, 90, 93, 95, 97, 98, 100, 102, 103, 105, 107, 108, 110, 112, 115, 117, 118, 120, 122, 123, 125, 127, 128, 130, 132, 134, 135, 137, 139, 140, 142, 144, 145, 147, 149, 150, 154, 155, 157, 159, 160, 162, 164, 165, 167, 169, 170, 174, 175, 177, 179, 181, 182, 184, 186, 187, 189, 191, 194, 196, 197, 199, 201, 202, 204, 207, 209, 211, 212, 214, 216, 217, 219, 221, 222, 224, 226, 227, 229, 231, 232, 234, 236, 237, 239, 241, 242, 244, 246, 248, 249, 251, 253, 254, 256, 258, 259, 261, 263, 264, 266, 268, 269, 271, 273, 274, 276, 278, 279, 281, 283, 284, 286, 288, 289, 291, 293, 294, 296, 298, 300, 301, 303, 305] [0, 1, 3, 5, 2, 1, 3, 2, 1, 3, 5, 1, 3, 5, 1, 3, 5, 1, 2, 1, 3, 5, 1, 3, 5, 1, 3, 5, 1, 1, 3, 1, 3, 5, 1, 3, 5, 8, 1, 3, 1, 3, 5, 1, 3, 5, 1, 3, 5, 1, 3, 1, 3, 5, 1, 3, 5, 1, 3, 1, 1, 3, 5, 2, 4, 1, 3, 5, 1, 3, 5, 1, 3, 5, 1, 1, 3, 5, 1, 3, 5, 1, 3, 5, 1, 2, 1, 3, 5, 1, 3, 5, 1, 3, 5, 1, 2, 1, 3, 5, 8, 1, 3, 5, 1, 3, 5, 2, 4, 1, 3, 5, 1, 3, 1, 3, 5, 1, 1, 3, 1, 3, 5, 1, 3, 5, 1, 3, 5, 1, 1, 3, 1, 3, 5, 1, 3, 5, 8, 1, 3, 1, 1, 3, 5, 1, 3, 5, 1, 3, 5, 1, 3, 1, 1, 3, 5, 1, 3, 5, 1, 3, 5, 1, 3, 1, 1, 3, 5, 94, 1, 3, 5]\n",
      "(5, 5, array([0, 1]))\n",
      "[0, 2, 4, 6, 7, 9, 11, 14, 15, 17, 21, 22, 24, 26, 27, 29, 31, 32, 34, 36, 37, 41, 42, 44, 46, 47, 49, 51, 52, 54, 56, 57, 59, 61, 62, 64, 66, 67, 69, 71, 73, 74, 76, 79, 81, 83, 84, 86, 88, 89, 91, 93, 94, 96, 99, 101, 103, 104, 106, 108, 109, 111, 113, 114, 116, 118, 121, 123, 124, 126, 128, 129, 131, 133, 134, 136, 138, 140, 141, 143, 145, 146, 148, 150, 151, 153, 155, 156, 160, 161, 163, 165, 166, 168, 170, 171, 173, 175, 176, 180, 181, 183, 185, 187, 188, 190, 192, 193, 195, 197, 200, 202, 203, 205, 207, 208, 210, 213, 215, 217, 218, 220, 222, 223, 225, 227, 228, 230, 232, 233, 235, 237, 238, 240, 242, 243, 245, 247, 248, 250, 252, 254, 255, 257, 259, 260, 262, 264, 265, 267, 269, 270, 272, 274, 275, 277, 279, 280, 282, 284, 285, 287, 289, 290, 292, 294, 295, 297, 299, 300, 302, 304, 306, 307, 309, 311] [0, 1, 1, 1, 2, 1, 1, 1, 2, 1, 1, 2, 1, 1, 2, 1, 1, 2, 1, 1, 2, 1, 2, 1, 1, 2, 1, 1, 2, 1, 1, 2, 1, 1, 2, 1, 1, 2, 1, 1, 1, 2, 1, 1, 1, 1, 2, 1, 1, 2, 1, 1, 2, 1, 1, 1, 1, 2, 1, 1, 2, 1, 1, 2, 1, 1, 1, 1, 2, 1, 1, 2, 1, 1, 2, 1, 1, 1, 6, 1, 1, 2, 1, 1, 2, 1, 1, 2, 1, 2, 1, 1, 2, 1, 1, 2, 1, 1, 2, 1, 2, 1, 1, 1, 2, 1, 1, 2, 1, 1, 1, 1, 2, 1, 1, 2, 1, 1, 1, 1, 2, 1, 1, 2, 1, 1, 2, 1, 1, 2, 1, 1, 2, 1, 1, 2, 1, 1, 2, 1, 1, 1, 2, 1, 1, 11, 1, 1, 2, 1, 1, 2, 1, 1, 2, 1, 1, 31, 1, 1, 2, 1, 1, 2, 1, 1, 2, 1, 1, 88, 1, 1, 1, 2, 1, 1]\n",
      "(0, 0, array([0, 0]))\n",
      "[0, 1, 3, 5, 7, 8, 10, 12, 15, 16, 18, 22, 23, 25, 27, 28, 30, 32, 33, 35, 37, 38, 42, 43, 45, 47, 48, 50, 52, 53, 55, 57, 58, 60, 62, 63, 65, 67, 68, 70, 72, 74, 75, 77, 80, 82, 84, 85, 87, 89, 90, 92, 94, 95, 97, 100, 102, 104, 105, 107, 109, 110, 112, 114, 115, 117, 119, 122, 124, 125, 127, 129, 130, 132, 134, 135, 137, 139, 141, 142, 144, 146, 147, 149, 151, 152, 154, 156, 157, 161, 162, 164, 166, 167, 169, 171, 172, 174, 176, 177, 181, 182, 184, 186, 188, 189, 191, 193, 194, 196, 198, 201, 203, 204, 206, 208, 209, 211, 214, 216, 218, 219, 221, 223, 224, 226, 228, 229, 231, 233, 234, 236, 238, 239, 241, 243, 244, 246, 248, 249, 251, 253, 255, 256, 258, 260, 261, 263, 265, 266, 268, 270, 271, 273, 275, 276, 278, 280, 281, 283, 285, 286, 288, 290, 291, 293, 295, 296, 298, 300, 301, 303, 305, 307, 308, 310, 312] [0, 1, 1, 1, 1, 1, 1, 1, 1, 1, 1, 1, 1, 1, 1, 1, 1, 1, 1, 1, 1, 1, 1, 1, 1, 1, 1, 1, 1, 1, 1, 1, 1, 3, 1, 1, 1, 1, 1, 1, 1, 1, 1, 1, 1, 1, 1, 1, 1, 1, 1, 1, 1, 1, 1, 1, 1, 1, 1, 1, 1, 1, 1, 1, 1, 1, 1, 1, 1, 1, 1, 1, 1, 1, 1, 1, 1, 1, 5, 1, 1, 1, 1, 1, 1, 1, 1, 1, 1, 1, 1, 1, 1, 1, 1, 1, 1, 1, 1, 1, 1, 1, 1, 1, 1, 1, 1, 1, 1, 1, 1, 1, 1, 1, 1, 1, 1, 1, 1, 1, 1, 1, 3, 1, 1, 1, 1, 1, 1, 1, 1, 1, 1, 1, 3, 1, 1, 1, 1, 1, 1, 1, 1, 1, 1, 10, 1, 1, 1, 1, 1, 1, 1, 1, 1, 1, 1, 30, 1, 1, 1, 1, 1, 1, 1, 1, 1, 1, 1, 87, 1, 1, 1, 1, 1, 1, 1]\n",
      "(1, 1, array([-1,  1]))\n",
      "[0, 2, 3, 5, 7, 9, 10, 12, 14, 17, 18, 20, 24, 25, 27, 29, 30, 32, 34, 35, 37, 39, 40, 44, 45, 47, 49, 50, 52, 54, 55, 57, 59, 60, 62, 64, 65, 67, 69, 70, 72, 74, 76, 77, 79, 82, 84, 86, 87, 89, 91, 92, 94, 96, 97, 99, 102, 104, 106, 107, 109, 111, 112, 114, 116, 117, 119, 121, 124, 126, 127, 129, 131, 132, 134, 136, 137, 139, 141, 143, 144, 146, 148, 149, 151, 153, 154, 156, 158, 159, 163, 164, 166, 168, 169, 171, 173, 174, 176, 178, 179, 183, 184, 186, 188, 190, 191, 193, 195, 196, 198, 200, 203, 205, 206, 208, 210, 211, 213, 216, 218, 220, 221, 223, 225, 226, 228, 230, 231, 233, 235, 236, 238, 240, 241, 243, 245, 246, 248, 250, 251, 253, 255, 257, 258, 260, 262, 263, 265, 267, 268, 270, 272, 273, 275, 277, 278, 280, 282, 283, 285, 287, 288, 290, 292, 293, 295, 297, 298, 300, 302, 303, 305, 307, 309, 310, 312, 314] [0, 1, 1, 4, 3, 3, 1, 8, 3, 2, 1, 5, 2, 1, 5, 3, 1, 10, 3, 1, 15, 3, 1, 2, 1, 5, 3, 1, 10, 3, 1, 15, 3, 1, 1, 3, 1, 6, 3, 1, 11, 3, 3, 1, 8, 1, 3, 3, 1, 8, 3, 1, 13, 3, 1, 18, 1, 3, 3, 1, 8, 3, 1, 13, 1, 1, 4, 3, 2, 3, 1, 7, 3, 1, 12, 3, 1, 17, 3, 1, 1, 4, 3, 1, 9, 3, 1, 14, 3, 1, 2, 1, 5, 3, 1, 10, 3, 1, 15, 3, 1, 2, 1, 5, 3, 3, 1, 8, 3, 1, 13, 3, 2, 3, 1, 7, 3, 1, 12, 1, 3, 3, 1, 1, 3, 1, 6, 3, 1, 11, 3, 1, 16, 3, 1, 1, 3, 1, 6, 3, 1, 11, 3, 3, 1, 8, 1, 1, 4, 3, 1, 9, 3, 1, 14, 3, 1, 28, 1, 1, 4, 3, 1, 9, 3, 1, 14, 3, 1, 85, 1, 1, 4, 3, 3, 1, 8, 3]\n",
      "(0, 0, array([0, 0]))\n",
      "[0, 5, 7, 9, 12, 14, 17, 20, 22, 24, 27, 29, 32, 34, 37, 39, 42, 44, 47, 49, 52, 54, 57, 59, 64, 67, 69, 72, 74, 76, 79, 81, 84, 86, 89, 91, 94, 96, 99, 101, 104, 106, 109, 111, 114, 119, 121, 124, 126, 129, 131, 134, 136, 139, 141, 146, 148, 151, 153, 156, 158, 161, 163, 166, 168, 171, 173, 176, 178, 181, 183, 186, 188, 190, 193, 195, 198, 200, 203, 205, 208, 210, 213, 215, 218, 220, 225, 228, 230, 233, 235, 238, 240, 245, 248, 250, 253, 255, 257, 260, 265, 267, 270, 272, 275, 277, 280, 285, 287, 290, 292, 295, 297, 300, 305, 307, 309, 312, 314] [0, 3, 2, 2, 7, 2, 1, 4, 2, 1, 4, 2, 9, 2, 14, 2, 18, 1, 4, 2, 9, 2, 14, 2, 2, 5, 2, 10, 2, 2, 7, 2, 2, 2, 7, 2, 12, 2, 17, 2, 2, 2, 7, 2, 12, 3, 2, 1, 2, 6, 2, 11, 2, 16, 2, 3, 2, 8, 2, 13, 2, 22, 1, 4, 2, 9, 2, 14, 2, 18, 1, 4, 2, 2, 7, 2, 12, 2, 1, 2, 6, 2, 11, 2, 2, 2, 2, 5, 2, 10, 2, 15, 2, 2, 5, 2, 10, 2, 2, 7, 3, 2, 8, 2, 13, 2, 27, 3, 2, 8, 2, 13, 2, 84, 3, 2, 2, 7, 2]\n",
      "(0, 0, array([0, 1]))\n",
      "[0, 2, 4, 5, 7, 9, 11, 12, 14, 16, 19, 20, 22, 26, 27, 29, 31, 32, 34, 36, 37, 39, 41, 42, 46, 47, 49, 51, 52, 54, 56, 57, 59, 61, 62, 64, 66, 67, 69, 71, 72, 74, 76, 78, 79, 81, 84, 86, 88, 89, 91, 93, 94, 96, 98, 99, 101, 104, 106, 108, 109, 111, 113, 114, 116, 118, 119, 121, 123, 126, 128, 129, 131, 133, 134, 136, 138, 139, 141, 143, 145, 146, 148, 150, 151, 153, 155, 156, 158, 160, 161, 165, 166, 168, 170, 171, 173, 175, 176, 178, 180, 181, 185, 186, 188, 190, 192, 193, 195, 197, 198, 200, 202, 205, 207, 208, 210, 212, 213, 215, 218, 220, 222, 223, 225, 227, 228, 230, 232, 233, 235, 237, 238, 240, 242, 243, 245, 247, 248, 250, 252, 253, 255, 257, 259, 260, 262, 264, 265, 267, 269, 270, 272, 274, 275, 277, 279, 280, 282, 284, 285, 287, 289, 290, 292, 294, 295, 297, 299, 300, 302, 304, 305, 307, 309, 311, 312, 314, 316] [0, 1, 1, 2, 1, 1, 1, 6, 1, 1, 1, 3, 1, 1, 3, 1, 1, 8, 1, 1, 13, 1, 1, 17, 1, 3, 1, 1, 8, 1, 1, 13, 1, 1, 17, 1, 1, 4, 1, 1, 9, 1, 1, 1, 6, 1, 1, 1, 1, 6, 1, 1, 11, 1, 1, 16, 1, 1, 1, 1, 6, 1, 1, 11, 1, 1, 2, 1, 1, 1, 1, 5, 1, 1, 10, 1, 1, 15, 1, 1, 1, 2, 1, 1, 7, 1, 1, 12, 1, 1, 21, 1, 3, 1, 1, 8, 1, 1, 13, 1, 1, 17, 1, 3, 1, 1, 1, 6, 1, 1, 11, 1, 1, 1, 1, 5, 1, 1, 10, 1, 1, 1, 1, 6, 1, 1, 4, 1, 1, 9, 1, 1, 14, 1, 1, 17, 1, 1, 4, 1, 1, 9, 1, 1, 1, 6, 1, 1, 2, 1, 1, 7, 1, 1, 12, 1, 1, 26, 1, 1, 2, 1, 1, 7, 1, 1, 12, 1, 1, 83, 1, 1, 2, 1, 1, 1, 6, 1, 1]\n",
      "(0, 0, array([0, 0]))\n",
      "[0, 1, 3, 5, 6, 8, 10, 12, 13, 15, 17, 20, 21, 23, 27, 28, 30, 32, 33, 35, 37, 38, 40, 42, 43, 47, 48, 50, 52, 53, 55, 57, 58, 60, 62, 63, 65, 67, 68, 70, 72, 73, 75, 77, 79, 80, 82, 85, 87, 89, 90, 92, 94, 95, 97, 99, 100, 102, 105, 107, 109, 110, 112, 114, 115, 117, 119, 120, 122, 124, 127, 129, 130, 132, 134, 135, 137, 139, 140, 142, 144, 146, 147, 149, 151, 152, 154, 156, 157, 159, 161, 162, 166, 167, 169, 171, 172, 174, 176, 177, 179, 181, 182, 186, 187, 189, 191, 193, 194, 196, 198, 199, 201, 203, 206, 208, 209, 211, 213, 214, 216, 219, 221, 223, 224, 226, 228, 229, 231, 233, 234, 236, 238, 239, 241, 243, 244, 246, 248, 249, 251, 253, 254, 256, 258, 260, 261, 263, 265, 266, 268, 270, 271, 273, 275, 276, 278, 280, 281, 283, 285, 286, 288, 290, 291, 293, 295, 296, 298, 300, 301, 303, 305, 306, 308, 310, 312, 313, 315, 317] [0, 1, 3, 1, 1, 3, 6, 5, 1, 3, 10, 2, 1, 3, 2, 1, 3, 7, 1, 3, 12, 1, 3, 16, 1, 2, 1, 3, 7, 1, 3, 12, 1, 3, 16, 1, 1, 3, 1, 3, 8, 1, 3, 13, 5, 1, 3, 1, 3, 5, 1, 3, 10, 1, 3, 15, 1, 3, 1, 3, 5, 1, 3, 10, 1, 3, 1, 1, 3, 6, 2, 4, 1, 3, 9, 1, 3, 14, 1, 3, 16, 1, 1, 3, 6, 1, 3, 11, 1, 3, 20, 1, 2, 1, 3, 7, 1, 3, 12, 1, 3, 16, 1, 2, 1, 3, 7, 5, 1, 3, 10, 1, 3, 15, 2, 4, 1, 3, 9, 1, 3, 1, 3, 5, 1, 1, 3, 1, 3, 8, 1, 3, 13, 1, 3, 16, 1, 1, 3, 1, 3, 8, 1, 3, 13, 5, 1, 3, 1, 1, 3, 6, 1, 3, 11, 1, 3, 25, 1, 3, 1, 1, 3, 6, 1, 3, 11, 1, 3, 82, 1, 3, 1, 1, 3, 6, 5, 1, 3, 10]\n",
      "(3, 3, array([0, 1]))\n",
      "[0, 2, 4, 5, 7, 9, 10, 12, 14, 16, 17, 19, 21, 24, 25, 27, 31, 32, 34, 36, 37, 39, 41, 42, 44, 46, 47, 51, 52, 54, 56, 57, 59, 61, 62, 64, 66, 67, 69, 71, 72, 74, 76, 77, 79, 81, 83, 84, 86, 89, 91, 93, 94, 96, 98, 99, 101, 103, 104, 106, 109, 111, 113, 114, 116, 118, 119, 121, 123, 124, 126, 128, 131, 133, 134, 136, 138, 139, 141, 143, 144, 146, 148, 150, 151, 153, 155, 156, 158, 160, 161, 163, 165, 166, 170, 171, 173, 175, 176, 178, 180, 181, 183, 185, 186, 190, 191, 193, 195, 197, 198, 200, 202, 203, 205, 207, 210, 212, 213, 215, 217, 218, 220, 223, 225, 227, 228, 230, 232, 233, 235, 237, 238, 240, 242, 243, 245, 247, 248, 250, 252, 253, 255, 257, 258, 260, 262, 264, 265, 267, 269, 270, 272, 274, 275, 277, 279, 280, 282, 284, 285, 287, 289, 290, 292, 294, 295, 297, 299, 300, 302, 304, 305, 307, 309, 310, 312, 314, 316, 317, 319, 321] [0, 1, 1, 12, 1, 1, 2, 1, 1, 1, 6, 1, 1, 1, 3, 1, 1, 3, 1, 1, 8, 1, 1, 12, 1, 1, 12, 1, 3, 1, 1, 8, 1, 1, 12, 1, 1, 12, 1, 1, 4, 1, 1, 9, 1, 1, 1, 6, 1, 1, 1, 1, 6, 1, 1, 11, 1, 1, 12, 1, 1, 1, 1, 6, 1, 1, 11, 1, 1, 2, 1, 1, 1, 1, 5, 1, 1, 10, 1, 1, 12, 1, 1, 1, 2, 1, 1, 7, 1, 1, 16, 1, 1, 12, 1, 3, 1, 1, 8, 1, 1, 12, 1, 1, 12, 1, 3, 1, 1, 1, 6, 1, 1, 11, 1, 1, 1, 1, 5, 1, 1, 10, 1, 1, 1, 1, 6, 1, 1, 4, 1, 1, 9, 1, 1, 12, 1, 1, 12, 1, 1, 4, 1, 1, 9, 1, 1, 1, 6, 1, 1, 2, 1, 1, 7, 1, 1, 21, 1, 1, 12, 1, 1, 2, 1, 1, 7, 1, 1, 78, 1, 1, 12, 1, 1, 2, 1, 1, 1, 6, 1, 1]\n",
      "(5, 10, array([0, 0]))\n",
      "[0, 1, 3, 5, 6, 8, 10, 11, 13, 15, 16, 18, 20, 21, 23, 25, 27, 28, 30, 32, 35, 36, 38, 42, 43, 45, 47, 48, 50, 52, 53, 55, 57, 58, 62, 63, 65, 67, 68, 70, 72, 73, 75, 77, 78, 80, 82, 83, 85, 87, 88, 90, 92, 94, 95, 97, 100, 102, 104, 105, 107, 109, 110, 112, 114, 115, 117, 120, 122, 124, 125, 127, 129, 130, 132, 134, 135, 137, 139, 142, 144, 145, 147, 149, 150, 152, 154, 155, 157, 159, 161, 162, 164, 166, 167, 169, 171, 172, 174, 176, 177, 181, 182, 184, 186, 187, 189, 191, 192, 194, 196, 197, 201, 202, 204, 206, 208, 209, 211, 213, 214, 216, 218, 221, 223, 224, 226, 228, 229, 231, 234, 236, 238, 239, 241, 243, 244, 246, 248, 249, 251, 253, 254, 256, 258, 259, 261, 263, 264, 266, 268, 269, 271, 273, 275, 276, 278, 280, 281, 283, 285, 286, 288, 290, 291, 293, 295, 296, 298, 300, 301, 303, 305, 306, 308, 310, 311, 313, 315, 316, 318, 320, 321, 323, 325, 327, 328, 330, 332] [0, 1, 1, 1, 1, 1, 1, 1, 1, 1, 1, 1, 30, 1, 1, 1, 1, 1, 1, 1, 1, 1, 1, 1, 1, 1, 1, 1, 1, 1, 1, 1, 1, 1, 1, 1, 1, 1, 1, 1, 1, 1, 1, 1, 1, 3, 1, 1, 1, 1, 1, 1, 1, 1, 1, 1, 1, 1, 1, 1, 1, 1, 1, 1, 1, 1, 1, 1, 1, 1, 1, 1, 1, 1, 1, 1, 1, 1, 1, 1, 1, 1, 1, 1, 1, 1, 1, 1, 1, 1, 5, 1, 1, 1, 1, 1, 1, 1, 1, 1, 1, 1, 1, 1, 1, 1, 1, 1, 1, 1, 1, 1, 1, 1, 1, 1, 1, 1, 1, 1, 1, 1, 1, 1, 1, 1, 1, 1, 1, 1, 1, 1, 1, 1, 3, 1, 1, 1, 1, 1, 1, 1, 1, 1, 1, 1, 3, 1, 1, 1, 1, 1, 1, 1, 1, 1, 1, 10, 1, 1, 1, 1, 1, 1, 1, 1, 1, 1, 1, 67, 1, 1, 1, 1, 1, 1, 1, 1, 1, 1, 1, 30, 1, 1, 1, 1, 1, 1, 1]\n",
      "(20, 20, array([0, 0]))\n",
      "[0, 20, 40, 100, 181, 261, 281, 300, 320, 340] [0, 9, 9, 2, 4, 2, 2, 46, 9, 9]\n",
      "(0, 0, array([-1,  1]))\n",
      "[0, 2, 3, 5, 7, 8, 10, 12, 13, 15, 17, 18, 20, 22, 23, 25, 27, 28, 30, 32, 33, 35, 37, 38, 40, 42, 43, 45, 47, 49, 50, 52, 54, 57, 58, 60, 64, 65, 67, 69, 70, 72, 74, 75, 77, 79, 80, 84, 85, 87, 89, 90, 92, 94, 95, 97, 99, 100, 102, 104, 105, 107, 109, 110, 112, 114, 116, 117, 119, 122, 124, 126, 127, 129, 131, 132, 134, 136, 137, 139, 142, 144, 146, 147, 149, 151, 152, 154, 156, 157, 159, 161, 164, 166, 167, 169, 171, 172, 174, 176, 177, 179, 181, 183, 184, 186, 188, 189, 191, 193, 194, 196, 198, 199, 203, 204, 206, 208, 209, 211, 213, 214, 216, 218, 219, 223, 224, 226, 228, 230, 231, 233, 235, 236, 238, 240, 243, 245, 246, 248, 250, 251, 253, 256, 258, 260, 261, 263, 265, 266, 268, 270, 271, 273, 275, 276, 278, 280, 281, 283, 285, 286, 288, 290, 291, 293, 295, 297, 298, 300, 302, 303, 305, 307, 308, 310, 312, 313, 315, 317, 318, 320, 322, 323, 325, 327, 328, 330, 332, 333, 335, 337, 338, 340, 342, 343, 345, 347, 349, 350, 352, 354] [0, 1, 1, 4, 3, 1, 8, 3, 1, 8, 3, 1, 8, 1, 1, 4, 3, 1, 8, 3, 1, 8, 3, 1, 8, 1, 1, 4, 3, 3, 1, 11, 3, 2, 1, 5, 2, 1, 5, 3, 1, 8, 3, 1, 8, 3, 1, 2, 1, 5, 3, 1, 8, 3, 1, 8, 3, 1, 1, 3, 1, 6, 3, 1, 8, 3, 3, 1, 37, 1, 3, 3, 1, 8, 3, 1, 8, 3, 1, 8, 1, 3, 3, 1, 8, 3, 1, 8, 1, 1, 4, 3, 2, 3, 1, 7, 3, 1, 8, 3, 1, 8, 3, 1, 1, 4, 3, 1, 8, 3, 1, 8, 3, 1, 2, 1, 5, 3, 1, 8, 3, 1, 8, 3, 1, 2, 1, 5, 3, 3, 1, 12, 3, 1, 8, 3, 2, 3, 1, 7, 3, 1, 8, 1, 3, 3, 1, 1, 3, 1, 6, 3, 1, 8, 3, 1, 8, 3, 1, 1, 3, 1, 6, 3, 1, 8, 3, 3, 1, 45, 1, 1, 4, 3, 1, 8, 3, 1, 8, 3, 1, 8, 1, 1, 4, 3, 1, 8, 3, 1, 8, 3, 1, 8, 1, 1, 4, 3, 3, 1, 11, 3]\n",
      "(0, 0, array([0, 0]))\n",
      "[0, 5, 7, 10, 12, 15, 17, 20, 25, 27, 30, 32, 35, 37, 40, 45, 47, 49, 52, 54, 57, 60, 62, 64, 67, 69, 72, 74, 77, 79, 82, 84, 87, 89, 92, 94, 97, 99, 104, 107, 109, 112, 114, 116, 119, 121, 124, 126, 129, 131, 134, 136, 139, 141, 144, 146, 149, 151, 154, 159, 161, 164, 166, 169, 171, 174, 176, 179, 181, 186, 188, 191, 193, 196, 198, 201, 203, 206, 208, 211, 213, 216, 218, 221, 223, 226, 228, 230, 233, 235, 238, 240, 243, 245, 248, 250, 253, 255, 258, 260, 265, 268, 270, 273, 275, 278, 280, 285, 288, 290, 293, 295, 297, 300, 305, 307, 310, 312, 315, 317, 320, 325, 327, 330, 332, 335, 337, 340, 345, 347, 349, 352, 354] [0, 3, 2, 7, 2, 7, 2, 7, 3, 2, 7, 2, 7, 2, 7, 3, 2, 2, 10, 2, 1, 4, 2, 1, 4, 2, 7, 2, 7, 2, 7, 1, 4, 2, 7, 2, 7, 2, 2, 5, 2, 7, 2, 2, 36, 2, 2, 2, 7, 2, 7, 2, 7, 2, 2, 2, 7, 2, 7, 3, 2, 1, 2, 6, 2, 7, 2, 7, 2, 3, 2, 7, 2, 7, 2, 7, 1, 4, 2, 7, 2, 7, 2, 7, 1, 4, 2, 2, 11, 2, 7, 2, 1, 2, 6, 2, 7, 2, 2, 2, 2, 5, 2, 7, 2, 7, 2, 2, 5, 2, 7, 2, 2, 44, 3, 2, 7, 2, 7, 2, 7, 3, 2, 7, 2, 7, 2, 7, 3, 2, 2, 10, 2]\n",
      "(0, 0, array([0, 1]))\n",
      "[0, 2, 4, 5, 7, 9, 10, 12, 14, 15, 17, 19, 20, 22, 24, 25, 27, 29, 30, 32, 34, 35, 37, 39, 40, 42, 44, 45, 47, 49, 51, 52, 54, 56, 59, 60, 62, 66, 67, 69, 71, 72, 74, 76, 77, 79, 81, 82, 86, 87, 89, 91, 92, 94, 96, 97, 99, 101, 102, 104, 106, 107, 109, 111, 112, 114, 116, 118, 119, 121, 124, 126, 128, 129, 131, 133, 134, 136, 138, 139, 141, 144, 146, 148, 149, 151, 153, 154, 156, 158, 159, 161, 163, 166, 168, 169, 171, 173, 174, 176, 178, 179, 181, 183, 185, 186, 188, 190, 191, 193, 195, 196, 198, 200, 201, 205, 206, 208, 210, 211, 213, 215, 216, 218, 220, 221, 225, 226, 228, 230, 232, 233, 235, 237, 238, 240, 242, 245, 247, 248, 250, 252, 253, 255, 258, 260, 262, 263, 265, 267, 268, 270, 272, 273, 275, 277, 278, 280, 282, 283, 285, 287, 288, 290, 292, 293, 295, 297, 299, 300, 302, 304, 305, 307, 309, 310, 312, 314, 315, 317, 319, 320, 322, 324, 325, 327, 329, 330, 332, 334, 335, 337, 339, 340, 342, 344, 345, 347, 349, 351, 352, 354, 356] [0, 1, 1, 2, 1, 1, 6, 1, 1, 6, 1, 1, 6, 1, 1, 2, 1, 1, 6, 1, 1, 6, 1, 1, 6, 1, 1, 2, 1, 1, 1, 9, 1, 1, 1, 3, 1, 1, 3, 1, 1, 6, 1, 1, 6, 1, 1, 6, 1, 3, 1, 1, 6, 1, 1, 6, 1, 1, 6, 1, 1, 4, 1, 1, 6, 1, 1, 1, 35, 1, 1, 1, 1, 6, 1, 1, 6, 1, 1, 6, 1, 1, 1, 1, 6, 1, 1, 6, 1, 1, 2, 1, 1, 1, 1, 5, 1, 1, 6, 1, 1, 6, 1, 1, 1, 2, 1, 1, 6, 1, 1, 6, 1, 1, 6, 1, 3, 1, 1, 6, 1, 1, 6, 1, 1, 6, 1, 3, 1, 1, 1, 10, 1, 1, 6, 1, 1, 1, 1, 5, 1, 1, 6, 1, 1, 1, 1, 6, 1, 1, 4, 1, 1, 6, 1, 1, 6, 1, 1, 6, 1, 1, 4, 1, 1, 6, 1, 1, 1, 43, 1, 1, 2, 1, 1, 6, 1, 1, 6, 1, 1, 6, 1, 1, 2, 1, 1, 6, 1, 1, 6, 1, 1, 6, 1, 1, 2, 1, 1, 1, 9, 1, 1]\n",
      "(0, 0, array([0, 0]))\n",
      "[0, 1, 3, 5, 6, 8, 10, 11, 13, 15, 16, 18, 20, 21, 23, 25, 26, 28, 30, 31, 33, 35, 36, 38, 40, 41, 43, 45, 46, 48, 50, 52, 53, 55, 57, 60, 61, 63, 67, 68, 70, 72, 73, 75, 77, 78, 80, 82, 83, 87, 88, 90, 92, 93, 95, 97, 98, 100, 102, 103, 105, 107, 108, 110, 112, 113, 115, 117, 119, 120, 122, 125, 127, 129, 130, 132, 134, 135, 137, 139, 140, 142, 145, 147, 149, 150, 152, 154, 155, 157, 159, 160, 162, 164, 167, 169, 170, 172, 174, 175, 177, 179, 180, 182, 184, 186, 187, 189, 191, 192, 194, 196, 197, 199, 201, 202, 206, 207, 209, 211, 212, 214, 216, 217, 219, 221, 222, 226, 227, 229, 231, 233, 234, 236, 238, 239, 241, 243, 246, 248, 249, 251, 253, 254, 256, 259, 261, 263, 264, 266, 268, 269, 271, 273, 274, 276, 278, 279, 281, 283, 284, 286, 288, 289, 291, 293, 294, 296, 298, 300, 301, 303, 305, 306, 308, 310, 311, 313, 315, 316, 318, 320, 321, 323, 325, 326, 328, 330, 331, 333, 335, 336, 338, 340, 341, 343, 345, 346, 348, 350, 352, 353, 355, 357] [0, 1, 3, 1, 1, 3, 5, 1, 3, 5, 1, 3, 5, 1, 3, 1, 1, 3, 5, 1, 3, 5, 1, 3, 5, 1, 3, 1, 1, 3, 5, 8, 1, 3, 5, 2, 1, 3, 2, 1, 3, 5, 1, 3, 5, 1, 3, 5, 1, 2, 1, 3, 5, 1, 3, 5, 1, 3, 5, 1, 1, 3, 1, 3, 5, 1, 3, 5, 34, 1, 3, 1, 3, 5, 1, 3, 5, 1, 3, 5, 1, 3, 1, 3, 5, 1, 3, 5, 1, 3, 1, 1, 3, 5, 2, 4, 1, 3, 5, 1, 3, 5, 1, 3, 5, 1, 1, 3, 5, 1, 3, 5, 1, 3, 5, 1, 2, 1, 3, 5, 1, 3, 5, 1, 3, 5, 1, 2, 1, 3, 5, 9, 1, 3, 5, 1, 3, 5, 2, 4, 1, 3, 5, 1, 3, 1, 3, 5, 1, 1, 3, 1, 3, 5, 1, 3, 5, 1, 3, 5, 1, 1, 3, 1, 3, 5, 1, 3, 5, 42, 1, 3, 1, 1, 3, 5, 1, 3, 5, 1, 3, 5, 1, 3, 1, 1, 3, 5, 1, 3, 5, 1, 3, 5, 1, 3, 1, 1, 3, 5, 8, 1, 3, 5]\n",
      "(3, 3, array([0, 1]))\n",
      "[0, 2, 4, 5, 7, 9, 10, 12, 14, 15, 17, 19, 20, 22, 24, 25, 27, 29, 30, 32, 34, 35, 37, 39, 40, 42, 44, 45, 47, 49, 50, 52, 54, 56, 57, 59, 61, 64, 65, 67, 71, 72, 74, 76, 77, 79, 81, 82, 84, 86, 87, 91, 92, 94, 96, 97, 99, 101, 102, 104, 106, 107, 109, 111, 112, 114, 116, 117, 119, 121, 123, 124, 126, 129, 131, 133, 134, 136, 138, 139, 141, 143, 144, 146, 149, 151, 153, 154, 156, 158, 159, 161, 163, 164, 166, 168, 171, 173, 174, 176, 178, 179, 181, 183, 184, 186, 188, 190, 191, 193, 195, 196, 198, 200, 201, 203, 205, 206, 210, 211, 213, 215, 216, 218, 220, 221, 223, 225, 226, 230, 231, 233, 235, 237, 238, 240, 242, 243, 245, 247, 250, 252, 253, 255, 257, 258, 260, 263, 265, 267, 268, 270, 272, 273, 275, 277, 278, 280, 282, 283, 285, 287, 288, 290, 292, 293, 295, 297, 298, 300, 302, 304, 305, 307, 309, 310, 312, 314, 315, 317, 319, 320, 322, 324, 325, 327, 329, 330, 332, 334, 335, 337, 339, 340, 342, 344, 345, 347, 349, 350, 352, 354, 356, 357, 359, 361] [0, 3, 3, 1, 8, 1, 1, 4, 3, 1, 9, 3, 1, 11, 3, 1, 11, 1, 1, 4, 3, 1, 9, 3, 1, 11, 3, 1, 11, 1, 1, 4, 3, 3, 1, 8, 3, 2, 1, 5, 2, 1, 5, 3, 1, 10, 3, 1, 11, 3, 1, 2, 1, 5, 3, 1, 10, 3, 1, 11, 3, 1, 1, 3, 1, 6, 3, 1, 30, 3, 3, 1, 8, 1, 3, 3, 1, 8, 3, 1, 11, 3, 1, 11, 1, 3, 3, 1, 8, 3, 1, 11, 1, 1, 4, 3, 2, 3, 1, 7, 3, 1, 11, 3, 1, 11, 3, 1, 1, 4, 3, 1, 9, 3, 1, 11, 3, 1, 2, 1, 5, 3, 1, 10, 3, 1, 11, 3, 1, 2, 1, 5, 3, 3, 1, 8, 3, 1, 11, 3, 2, 3, 1, 7, 3, 1, 11, 1, 3, 3, 1, 1, 3, 1, 6, 3, 1, 18, 3, 1, 11, 3, 1, 1, 3, 1, 6, 3, 1, 38, 3, 3, 1, 8, 1, 1, 4, 3, 1, 9, 3, 1, 11, 3, 1, 11, 1, 1, 4, 3, 1, 9, 3, 1, 11, 3, 1, 11, 1, 1, 4, 3, 3, 1, 8, 3]\n",
      "(7, 7, array([0, 0]))\n",
      "[0, 1, 3, 5, 6, 8, 10, 12, 13, 15, 17, 18, 20, 22, 23, 25, 27, 28, 30, 32, 33, 35, 37, 38, 40, 42, 43, 45, 47, 48, 50, 52, 53, 55, 57, 58, 60, 62, 64, 65, 67, 69, 72, 73, 75, 79, 80, 82, 84, 85, 87, 89, 90, 92, 94, 95, 99, 100, 102, 104, 105, 107, 109, 110, 112, 114, 115, 117, 119, 120, 122, 124, 125, 127, 129, 131, 132, 134, 137, 139, 141, 142, 144, 146, 147, 149, 151, 152, 154, 157, 159, 161, 162, 164, 166, 167, 169, 171, 172, 174, 176, 179, 181, 182, 184, 186, 187, 189, 191, 192, 194, 196, 198, 199, 201, 203, 204, 206, 208, 209, 211, 213, 214, 218, 219, 221, 223, 224, 226, 228, 229, 231, 233, 234, 238, 239, 241, 243, 245, 246, 248, 250, 251, 253, 255, 258, 260, 261, 263, 265, 266, 268, 271, 273, 275, 276, 278, 280, 281, 283, 285, 286, 288, 290, 291, 293, 295, 296, 298, 300, 301, 303, 305, 306, 308, 310, 312, 313, 315, 317, 318, 320, 322, 323, 325, 327, 328, 330, 332, 333, 335, 337, 338, 340, 342, 343, 345, 347, 348, 350, 352, 353, 355, 357, 358, 360, 362, 364, 365, 367, 369] [0, 1, 3, 3, 1, 3, 3, 3, 1, 3, 1, 1, 3, 3, 1, 3, 3, 1, 3, 3, 1, 3, 1, 1, 3, 3, 1, 3, 3, 1, 3, 3, 1, 3, 1, 1, 3, 3, 3, 1, 3, 3, 2, 1, 3, 2, 1, 3, 3, 1, 3, 3, 1, 3, 3, 1, 2, 1, 3, 3, 1, 3, 3, 1, 3, 3, 1, 1, 22, 1, 3, 3, 1, 3, 3, 3, 1, 3, 1, 3, 3, 1, 3, 3, 1, 3, 3, 1, 3, 1, 3, 3, 1, 3, 3, 1, 3, 1, 1, 3, 3, 2, 3, 1, 3, 3, 1, 3, 3, 1, 3, 3, 1, 1, 3, 3, 1, 3, 3, 1, 3, 3, 1, 2, 1, 3, 3, 1, 3, 3, 1, 3, 3, 1, 2, 1, 3, 3, 3, 1, 3, 3, 1, 3, 3, 2, 3, 1, 3, 3, 1, 3, 1, 3, 3, 1, 1, 10, 1, 3, 3, 1, 3, 3, 1, 3, 3, 1, 1, 30, 1, 3, 3, 1, 3, 3, 3, 1, 3, 1, 1, 3, 3, 1, 3, 3, 1, 3, 3, 1, 3, 1, 1, 3, 3, 1, 3, 3, 1, 3, 3, 1, 3, 1, 1, 3, 3, 3, 1, 3, 3]\n",
      "(3, 3, array([-1,  1]))\n",
      "[0, 2, 4, 5, 7, 9, 10, 12, 14, 16, 17, 19, 21, 22, 24, 26, 27, 29, 31, 32, 34, 36, 37, 39, 41, 42, 44, 46, 47, 49, 51, 52, 54, 56, 57, 59, 61, 62, 64, 66, 68, 69, 71, 73, 76, 77, 79, 83, 84, 86, 88, 89, 91, 93, 94, 96, 98, 99, 103, 104, 106, 108, 109, 111, 113, 114, 116, 118, 119, 121, 123, 124, 126, 128, 129, 131, 133, 135, 136, 138, 141, 143, 145, 146, 148, 150, 151, 153, 155, 156, 158, 161, 163, 165, 166, 168, 170, 171, 173, 175, 176, 178, 180, 183, 185, 186, 188, 190, 191, 193, 195, 196, 198, 200, 202, 203, 205, 207, 208, 210, 212, 213, 215, 217, 218, 222, 223, 225, 227, 228, 230, 232, 233, 235, 237, 238, 242, 243, 245, 247, 249, 250, 252, 254, 255, 257, 259, 262, 264, 265, 267, 269, 270, 272, 275, 277, 279, 280, 282, 284, 285, 287, 289, 290, 292, 294, 295, 297, 299, 300, 302, 304, 305, 307, 309, 310, 312, 314, 316, 317, 319, 321, 322, 324, 326, 327, 329, 331, 332, 334, 336, 337, 339, 341, 342, 344, 346, 347, 349, 351, 352, 354, 356, 357, 359, 361, 362, 364, 366, 368, 369, 371, 373] [0, 1, 1, 4, 1, 1, 9, 1, 1, 1, 6, 1, 1, 2, 1, 1, 7, 1, 1, 12, 1, 1, 17, 1, 1, 2, 1, 1, 7, 1, 1, 12, 1, 1, 17, 1, 1, 2, 1, 1, 1, 6, 1, 1, 1, 3, 1, 1, 3, 1, 1, 8, 1, 1, 13, 1, 1, 18, 1, 3, 1, 1, 8, 1, 1, 13, 1, 1, 18, 1, 1, 4, 1, 1, 9, 1, 1, 1, 6, 1, 1, 1, 1, 6, 1, 1, 11, 1, 1, 16, 1, 1, 1, 1, 6, 1, 1, 11, 1, 1, 2, 1, 1, 1, 1, 5, 1, 1, 10, 1, 1, 15, 1, 1, 1, 2, 1, 1, 7, 1, 1, 12, 1, 1, 17, 1, 3, 1, 1, 8, 1, 1, 13, 1, 1, 18, 1, 3, 1, 1, 1, 6, 1, 1, 11, 1, 1, 1, 1, 5, 1, 1, 10, 1, 1, 1, 1, 6, 1, 1, 4, 1, 1, 9, 1, 1, 14, 1, 1, 26, 1, 1, 4, 1, 1, 9, 1, 1, 1, 6, 1, 1, 2, 1, 1, 7, 1, 1, 12, 1, 1, 17, 1, 1, 2, 1, 1, 7, 1, 1, 12, 1, 1, 17, 1, 1, 2, 1, 1, 1, 6, 1, 1]\n",
      "(0, 0, array([0, 0]))\n",
      "[0, 1, 3, 5, 6, 8, 10, 11, 13, 15, 17, 18, 20, 22, 23, 25, 27, 28, 30, 32, 33, 35, 37, 38, 40, 42, 43, 45, 47, 48, 50, 52, 53, 55, 57, 58, 60, 62, 63, 65, 67, 69, 70, 72, 74, 77, 78, 80, 84, 85, 87, 89, 90, 92, 94, 95, 97, 99, 100, 104, 105, 107, 109, 110, 112, 114, 115, 117, 119, 120, 122, 124, 125, 127, 129, 130, 132, 134, 136, 137, 139, 142, 144, 146, 147, 149, 151, 152, 154, 156, 157, 159, 162, 164, 166, 167, 169, 171, 172, 174, 176, 177, 179, 181, 184, 186, 187, 189, 191, 192, 194, 196, 197, 199, 201, 203, 204, 206, 208, 209, 211, 213, 214, 216, 218, 219, 223, 224, 226, 228, 229, 231, 233, 234, 236, 238, 239, 243, 244, 246, 248, 250, 251, 253, 255, 256, 258, 260, 263, 265, 266, 268, 270, 271, 273, 276, 278, 280, 281, 283, 285, 286, 288, 290, 291, 293, 295, 296, 298, 300, 301, 303, 305, 306, 308, 310, 311, 313, 315, 317, 318, 320, 322, 323, 325, 327, 328, 330, 332, 333, 335, 337, 338, 340, 342, 343, 345, 347, 348, 350, 352, 353, 355, 357, 358, 360, 362, 363, 365, 367, 369, 370, 372, 374] [0, 1, 1, 3, 1, 3, 8, 1, 3, 13, 5, 1, 3, 1, 1, 3, 6, 1, 3, 11, 1, 3, 16, 1, 3, 1, 1, 3, 6, 1, 3, 11, 1, 3, 16, 1, 3, 1, 1, 3, 6, 5, 1, 3, 10, 2, 1, 3, 2, 1, 3, 7, 1, 3, 12, 1, 3, 17, 1, 2, 1, 3, 7, 1, 3, 12, 1, 3, 17, 1, 1, 3, 1, 3, 8, 1, 3, 13, 5, 1, 3, 1, 3, 5, 1, 3, 10, 1, 3, 15, 1, 3, 1, 3, 5, 1, 3, 10, 1, 3, 1, 1, 3, 6, 2, 4, 1, 3, 9, 1, 3, 14, 1, 3, 18, 1, 1, 3, 6, 1, 3, 11, 1, 3, 16, 1, 2, 1, 3, 7, 1, 3, 12, 1, 3, 17, 1, 2, 1, 3, 7, 5, 1, 3, 10, 1, 3, 15, 2, 4, 1, 3, 9, 1, 3, 1, 3, 5, 1, 1, 3, 1, 3, 8, 1, 3, 13, 1, 3, 25, 1, 1, 3, 1, 3, 8, 1, 3, 13, 5, 1, 3, 1, 1, 3, 6, 1, 3, 11, 1, 3, 16, 1, 3, 1, 1, 3, 6, 1, 3, 11, 1, 3, 16, 1, 3, 1, 1, 3, 6, 5, 1, 3, 10]\n",
      "(1, 1, array([0, 1]))\n",
      "[0, 2, 3, 5, 7, 8, 10, 12, 13, 15, 17, 19, 20, 22, 24, 25, 27, 29, 30, 32, 34, 35, 37, 39, 40, 42, 44, 45, 47, 49, 50, 52, 54, 55, 57, 59, 60, 62, 64, 65, 67, 69, 71, 72, 74, 76, 79, 80, 82, 86, 87, 89, 91, 92, 94, 96, 97, 99, 101, 102, 106, 107, 109, 111, 112, 114, 116, 117, 119, 121, 122, 124, 126, 127, 129, 131, 132, 134, 136, 138, 139, 141, 144, 146, 148, 149, 151, 153, 154, 156, 158, 159, 161, 164, 166, 168, 169, 171, 173, 174, 176, 178, 179, 181, 183, 186, 188, 189, 191, 193, 194, 196, 198, 199, 201, 203, 205, 206, 208, 210, 211, 213, 215, 216, 218, 220, 221, 225, 226, 228, 230, 231, 233, 235, 236, 238, 240, 241, 245, 246, 248, 250, 252, 253, 255, 257, 258, 260, 262, 265, 267, 268, 270, 272, 273, 275, 278, 280, 282, 283, 285, 287, 288, 290, 292, 293, 295, 297, 298, 300, 302, 303, 305, 307, 308, 310, 312, 313, 315, 317, 319, 320, 322, 324, 325, 327, 329, 330, 332, 334, 335, 337, 339, 340, 342, 344, 345, 347, 349, 350, 352, 354, 355, 357, 359, 360, 362, 364, 365, 367, 369, 371, 372, 374, 376] [0, 3, 1, 1, 3, 1, 6, 3, 1, 11, 3, 3, 1, 8, 1, 1, 4, 3, 1, 9, 3, 1, 14, 3, 1, 16, 1, 1, 4, 3, 1, 9, 3, 1, 14, 3, 1, 16, 1, 1, 4, 3, 3, 1, 8, 3, 2, 1, 5, 2, 1, 5, 3, 1, 10, 3, 1, 15, 3, 1, 2, 1, 5, 3, 1, 10, 3, 1, 15, 3, 1, 1, 3, 1, 6, 3, 1, 11, 3, 3, 1, 8, 1, 3, 3, 1, 8, 3, 1, 13, 3, 1, 16, 1, 3, 3, 1, 8, 3, 1, 13, 1, 1, 4, 3, 2, 3, 1, 7, 3, 1, 12, 3, 1, 16, 3, 1, 1, 4, 3, 1, 9, 3, 1, 14, 3, 1, 2, 1, 5, 3, 1, 10, 3, 1, 15, 3, 1, 2, 1, 5, 3, 3, 1, 8, 3, 1, 13, 3, 2, 3, 1, 7, 3, 1, 12, 1, 3, 3, 1, 1, 3, 1, 6, 3, 1, 11, 3, 1, 23, 3, 1, 1, 3, 1, 6, 3, 1, 11, 3, 3, 1, 8, 1, 1, 4, 3, 1, 9, 3, 1, 14, 3, 1, 16, 1, 1, 4, 3, 1, 9, 3, 1, 14, 3, 1, 16, 1, 1, 4, 3, 3, 1, 8, 3]\n",
      "(2, 2, array([0, 0]))\n",
      "[0, 1, 3, 5, 6, 8, 10, 11, 13, 15, 16, 18, 20, 22, 23, 25, 27, 28, 30, 32, 33, 35, 37, 38, 40, 42, 43, 45, 47, 48, 50, 52, 53, 55, 57, 58, 60, 62, 63, 65, 67, 68, 70, 72, 74, 75, 77, 79, 82, 83, 85, 89, 90, 92, 94, 95, 97, 99, 100, 102, 104, 105, 109, 110, 112, 114, 115, 117, 119, 120, 122, 124, 125, 127, 129, 130, 132, 134, 135, 137, 139, 141, 142, 144, 147, 149, 151, 152, 154, 156, 157, 159, 161, 162, 164, 167, 169, 171, 172, 174, 176, 177, 179, 181, 182, 184, 186, 189, 191, 192, 194, 196, 197, 199, 201, 202, 204, 206, 208, 209, 211, 213, 214, 216, 218, 219, 221, 223, 224, 228, 229, 231, 233, 234, 236, 238, 239, 241, 243, 244, 248, 249, 251, 253, 255, 256, 258, 260, 261, 263, 265, 268, 270, 271, 273, 275, 276, 278, 281, 283, 285, 286, 288, 290, 291, 293, 295, 296, 298, 300, 301, 303, 305, 306, 308, 310, 311, 313, 315, 316, 318, 320, 322, 323, 325, 327, 328, 330, 332, 333, 335, 337, 338, 340, 342, 343, 345, 347, 348, 350, 352, 353, 355, 357, 358, 360, 362, 363, 365, 367, 368, 370, 372, 374, 375, 377, 379] [0, 1, 3, 13, 1, 1, 3, 1, 3, 8, 1, 3, 20, 5, 1, 3, 1, 1, 3, 6, 1, 3, 11, 1, 3, 13, 1, 3, 1, 1, 3, 6, 1, 3, 11, 1, 3, 13, 1, 3, 1, 1, 3, 6, 5, 1, 3, 10, 2, 1, 3, 2, 1, 3, 7, 1, 3, 12, 1, 3, 13, 1, 2, 1, 3, 7, 1, 3, 12, 1, 3, 13, 1, 1, 3, 1, 3, 8, 1, 3, 20, 5, 1, 3, 1, 3, 5, 1, 3, 10, 1, 3, 13, 1, 3, 1, 3, 5, 1, 3, 10, 1, 3, 1, 1, 3, 6, 2, 4, 1, 3, 9, 1, 3, 13, 1, 3, 13, 1, 1, 3, 6, 1, 3, 11, 1, 3, 13, 1, 2, 1, 3, 7, 1, 3, 12, 1, 3, 13, 1, 2, 1, 3, 7, 5, 1, 3, 10, 1, 3, 13, 2, 4, 1, 3, 9, 1, 3, 1, 3, 5, 1, 1, 3, 1, 3, 8, 1, 3, 20, 1, 3, 13, 1, 1, 3, 1, 3, 8, 1, 3, 20, 5, 1, 3, 1, 1, 3, 6, 1, 3, 11, 1, 3, 13, 1, 3, 1, 1, 3, 6, 1, 3, 11, 1, 3, 13, 1, 3, 1, 1, 3, 6, 5, 1, 3, 10]\n",
      "(20, 20, None)\n"
     ]
    },
    {
     "data": {
      "text/plain": [
       "(107,\n",
       " [(0, 0, array([42, 15])),\n",
       "  (0, 0, array([0, 0])),\n",
       "  (0, 0, array([0, 1])),\n",
       "  (2, 2, array([0, 0])),\n",
       "  (5, 5, array([0, 1])),\n",
       "  (0, 0, array([0, 0])),\n",
       "  (1, 1, array([-1,  1])),\n",
       "  (0, 0, array([0, 0])),\n",
       "  (0, 0, array([0, 1])),\n",
       "  (0, 0, array([0, 0])),\n",
       "  (3, 3, array([0, 1])),\n",
       "  (5, 10, array([0, 0])),\n",
       "  (20, 20, array([0, 0])),\n",
       "  (0, 0, array([-1,  1])),\n",
       "  (0, 0, array([0, 0])),\n",
       "  (0, 0, array([0, 1])),\n",
       "  (0, 0, array([0, 0])),\n",
       "  (3, 3, array([0, 1])),\n",
       "  (7, 7, array([0, 0])),\n",
       "  (3, 3, array([-1,  1])),\n",
       "  (0, 0, array([0, 0])),\n",
       "  (1, 1, array([0, 1])),\n",
       "  (2, 2, array([0, 0])),\n",
       "  (20, 20, array([  8, -41])),\n",
       "  (0, 0, array([0, 1])),\n",
       "  (0, 0, array([0, 0])),\n",
       "  (2, 2, array([0, 0])),\n",
       "  (5, 5, array([0, 1])),\n",
       "  (2, 2, array([-1,  0])),\n",
       "  (0, 0, array([0, 0])),\n",
       "  (0, 0, array([0, 1])),\n",
       "  (2, 2, array([0, 0])),\n",
       "  (5, 10, array([0, 1])),\n",
       "  (0, 0, array([0, 0])),\n",
       "  (1, 1, array([0, 1])),\n",
       "  (0, 0, array([-1,  0])),\n",
       "  (0, 0, array([0, 1])),\n",
       "  (0, 0, array([0, 0])),\n",
       "  (1, 1, array([0, 1])),\n",
       "  (2, 2, array([0, 0])),\n",
       "  (5, 10, array([0, 0])),\n",
       "  (20, 20, array([-1,  1])),\n",
       "  (0, 0, array([0, 0])),\n",
       "  (0, 0, array([0, 1])),\n",
       "  (2, 2, array([0, 0])),\n",
       "  (5, 10, array([0, 0])),\n",
       "  (0, 0, array([0, 1])),\n",
       "  (2, 2, array([-1,  0])),\n",
       "  (0, 0, array([0, 0])),\n",
       "  (0, 0, array([0, 1])),\n",
       "  (2, 2, array([0, 0])),\n",
       "  (1, 1, array([  8, -40])),\n",
       "  (0, 0, array([0, 0])),\n",
       "  (0, 0, array([0, 1])),\n",
       "  (0, 0, array([0, 0])),\n",
       "  (3, 3, array([0, 1])),\n",
       "  (5, 5, array([0, 0])),\n",
       "  (0, 0, array([-1,  0])),\n",
       "  (0, 0, array([0, 1])),\n",
       "  (0, 0, array([0, 0])),\n",
       "  (2, 2, array([0, 0])),\n",
       "  (5, 10, array([0, 1])),\n",
       "  (2, 2, array([0, 0])),\n",
       "  (0, 0, array([-1,  0])),\n",
       "  (0, 0, array([0, 1])),\n",
       "  (0, 0, array([0, 0])),\n",
       "  (2, 2, array([0, 0])),\n",
       "  (0, 0, array([0, 1])),\n",
       "  (2, 4, array([0, 0])),\n",
       "  (5, 5, array([0, 0])),\n",
       "  (0, 0, array([0, 1])),\n",
       "  (0, 0, array([0, 0])),\n",
       "  (0, 0, array([-1,  1])),\n",
       "  (0, 0, array([0, 0])),\n",
       "  (1, 1, array([0, 1])),\n",
       "  (2, 2, array([0, 0])),\n",
       "  (5, 10, array([0, 0])),\n",
       "  (0, 0, array([0, 1])),\n",
       "  (0, 0, array([-1,  0])),\n",
       "  (0, 0, array([0, 1])),\n",
       "  (20, 20, array([0, 0])),\n",
       "  (2, 2, array([0, 0])),\n",
       "  (0, 0, array([0, 1])),\n",
       "  (0, 0, array([  8, -41])),\n",
       "  (0, 0, array([0, 0])),\n",
       "  (0, 0, array([0, 1])),\n",
       "  (2, 2, array([0, 0])),\n",
       "  (5, 5, array([0, 1])),\n",
       "  (0, 0, array([0, 0])),\n",
       "  (1, 1, array([-1,  1])),\n",
       "  (0, 0, array([0, 0])),\n",
       "  (0, 0, array([0, 1])),\n",
       "  (0, 0, array([0, 0])),\n",
       "  (3, 3, array([0, 1])),\n",
       "  (5, 10, array([0, 0])),\n",
       "  (20, 20, array([0, 0])),\n",
       "  (0, 0, array([-1,  1])),\n",
       "  (0, 0, array([0, 0])),\n",
       "  (0, 0, array([0, 1])),\n",
       "  (0, 0, array([0, 0])),\n",
       "  (3, 3, array([0, 1])),\n",
       "  (7, 7, array([0, 0])),\n",
       "  (3, 3, array([-1,  1])),\n",
       "  (0, 0, array([0, 0])),\n",
       "  (1, 1, array([0, 1])),\n",
       "  (2, 2, array([0, 0])),\n",
       "  (20, 20, None)])"
      ]
     },
     "execution_count": 957,
     "metadata": {},
     "output_type": "execute_result"
    }
   ],
   "source": [
    "vg_csd_2d = np.meshgrid(np.linspace(0, 1, 4), np.linspace(0, 1, 100), indexing='ij')\n",
    "vg_csd_2d_with_sensor = np.ones((2, np.prod(vg_csd_2d[0].shape)))\n",
    "vg_csd_2d_with_sensor[0] = (vg_csd_2d[0].flatten()*0.1+0.51)*+0.9 + (vg_csd_2d[1].flatten()*0.5+0.322)*-0.1\n",
    "vg_csd_2d_with_sensor[1] = (vg_csd_2d[0].flatten()*0.1+0.51)*-0.2 + (vg_csd_2d[1].flatten()*0.5+0.322)*+0.8\n",
    "vg_csd_pulse = vg_csd_2d_with_sensor.T*100\n",
    "vg_csd_pulse = np.floor(vg_csd_pulse)\n",
    "print(f\"{vg_csd_pulse.shape=}\")\n",
    "\n",
    "# test_compression_and_reconstruction_helper(vg_csd_pulse.astype(int))\n",
    "comp, _ = test_compression_and_reconstruction(vg_csd_pulse.astype(int), intermed=False, diffs=True)\n",
    "len(comp), comp"
   ]
  },
  {
   "cell_type": "code",
   "execution_count": null,
   "id": "b2007f0c",
   "metadata": {},
   "outputs": [],
   "source": []
  },
  {
   "cell_type": "code",
   "execution_count": null,
   "id": "49115fd8",
   "metadata": {},
   "outputs": [],
   "source": []
  }
 ],
 "metadata": {
  "kernelspec": {
   "display_name": "ml4qworkshop",
   "language": "python",
   "name": "python3"
  },
  "language_info": {
   "codemirror_mode": {
    "name": "ipython",
    "version": 3
   },
   "file_extension": ".py",
   "mimetype": "text/x-python",
   "name": "python",
   "nbconvert_exporter": "python",
   "pygments_lexer": "ipython3",
   "version": "3.10.11"
  }
 },
 "nbformat": 4,
 "nbformat_minor": 5
}
