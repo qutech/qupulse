{
 "cells": [
  {
   "cell_type": "markdown",
   "id": "04b3e657",
   "metadata": {},
   "source": [
    "# This notebook is used for the development of the Program Builder for the DecaDAC"
   ]
  },
  {
   "cell_type": "code",
   "execution_count": 1,
   "id": "d97b2223",
   "metadata": {},
   "outputs": [],
   "source": [
    "%load_ext autoreload\n",
    "%autoreload 2"
   ]
  },
  {
   "cell_type": "code",
   "execution_count": 2,
   "id": "766762ad",
   "metadata": {},
   "outputs": [
    {
     "name": "stderr",
     "output_type": "stream",
     "text": [
      "\\\\Janeway\\User AG Bluhm\\Surrey\\git\\qupulse\\qupulse\\utils\\types.py:36: UserWarning: gmpy2 not found. Using fractions.Fraction as fallback. Install gmpy2 for better performance.time_from_float might produce slightly different results\n",
      "  warnings.warn('gmpy2 not found. Using fractions.Fraction as fallback. Install gmpy2 for better performance.'\n"
     ]
    }
   ],
   "source": [
    "import qupulse\n",
    "from qupulse.pulses.plotting import plot\n",
    "from qupulse.pulses import PointPT, TablePT, FunctionPT, SequencePT, RepetitionPT, AtomicMultiChannelPT, ParallelConstantChannelPT\n",
    "from qupulse.serialization import Serializer, FilesystemBackend\n",
    "from qupulse.hardware.setup import HardwareSetup, MeasurementMask\n",
    "from qupulse.hardware.awgs.zihdawg import HDAWGTriggerOutSource"
   ]
  },
  {
   "cell_type": "code",
   "execution_count": 3,
   "id": "438e819e",
   "metadata": {},
   "outputs": [],
   "source": [
    "from qupulse_mfli.mfli import MFLIDAQ, postprocessing_average_within_windows"
   ]
  },
  {
   "cell_type": "code",
   "execution_count": 4,
   "id": "9776118c",
   "metadata": {},
   "outputs": [],
   "source": [
    "from qcodes.instrument_drivers.Harvard.Decadac import Decadac"
   ]
  },
  {
   "cell_type": "code",
   "execution_count": 5,
   "id": "4d117672",
   "metadata": {},
   "outputs": [],
   "source": [
    "Setup = HardwareSetup()"
   ]
  },
  {
   "cell_type": "code",
   "execution_count": 6,
   "id": "f82252ec",
   "metadata": {},
   "outputs": [
    {
     "name": "stdout",
     "output_type": "stream",
     "text": [
      "Connected to Harvard DecaDAC (hw ver: 0, serial: 0) in 0.49s\n"
     ]
    }
   ],
   "source": [
    "# connecting the DecaDAC\n",
    "dac = Decadac('dac1', 'ASRL4::INSTR', min_val=-10, max_val=10, division=1, terminator='\\n')"
   ]
  },
  {
   "cell_type": "code",
   "execution_count": 7,
   "id": "6039a255",
   "metadata": {},
   "outputs": [],
   "source": [
    "for c in dac.channels:\n",
    "    c.volt(0)"
   ]
  },
  {
   "cell_type": "code",
   "execution_count": 8,
   "id": "035c6c10",
   "metadata": {},
   "outputs": [],
   "source": [
    "# connecting the MFLI\n",
    "mfli = MFLIDAQ.connect_to(\"dev7113\")\n",
    "\n",
    "prefix = \"\"\n",
    "channels = {\n",
    "    f\"{prefix}R\": [\"demods/0/sample.R\"],\n",
    "    f\"{prefix}T\": [\"demods/0/sample.Theta\"],\n",
    "    f\"{prefix}X\": [\"demods/0/sample.X\"],\n",
    "    f\"{prefix}Y\": [\"demods/0/sample.Y\"],\n",
    "    f\"{prefix}A1\": [\"demods/0/sample.AuxIn0\"],\n",
    "    f\"{prefix}A2\": [\"demods/0/sample.AuxIn1\"],\n",
    "    f\"{prefix}F\": [\"demods/0/sample.Frequency\"],\n",
    "} \n",
    "# TODO it is possible, that the channels like to be called with *.avg at the end. At least that is what the LabOne web interface logs. But for R it worked without.\n",
    "\n",
    "# now the channels are to be registered.\n",
    "for k, v in channels.items():\n",
    "    # at the lock-in side: (None refers to the default)\n",
    "    mfli.register_measurement_channel(program_name=None, window_name=k, channel_path=v)\n",
    "    # and at the qupulse side:\n",
    "    Setup.set_measurement(f\"{k}\", MeasurementMask(mfli, k))\n",
    "\n",
    "# then we set the trigger default settings\n",
    "mfli.register_trigger_settings(program_name=None,\n",
    "                                trigger_input=f\"demods/0/sample.TrigIn1\", # here TrigInN referrers to the printer label N\n",
    "                                edge=\"rising\",\n",
    "                                trigger_count=1, # one trigger event per measurement\n",
    "                                level=.5,\n",
    "                                measurement_count=1, # one measurement per arm\n",
    "                                other_settings={\"holdoff/time\": 1e-3}\n",
    "                                )"
   ]
  },
  {
   "cell_type": "code",
   "execution_count": null,
   "id": "0a7f890f",
   "metadata": {},
   "outputs": [],
   "source": []
  },
  {
   "cell_type": "code",
   "execution_count": 9,
   "id": "501bc036",
   "metadata": {},
   "outputs": [],
   "source": [
    "import time"
   ]
  },
  {
   "cell_type": "code",
   "execution_count": 636,
   "id": "92b0cfb1",
   "metadata": {},
   "outputs": [],
   "source": [
    "def send_trigger():\n",
    "    mfli.api_session.set(f\"/{mfli.serial}/auxouts/0/offset\", 2)\n",
    "    time.sleep(0.5)\n",
    "    mfli.api_session.set(f\"/{mfli.serial}/auxouts/0/offset\", 0)"
   ]
  },
  {
   "cell_type": "code",
   "execution_count": 11,
   "id": "188cd505",
   "metadata": {},
   "outputs": [],
   "source": [
    "from qupulse.hardware.awgs.decadac import *"
   ]
  },
  {
   "cell_type": "code",
   "execution_count": null,
   "id": "36c47b37",
   "metadata": {},
   "outputs": [],
   "source": []
  },
  {
   "cell_type": "code",
   "execution_count": 651,
   "id": "8bf693a2",
   "metadata": {},
   "outputs": [
    {
     "name": "stderr",
     "output_type": "stream",
     "text": [
      " 55%|█████▌    | 138/250 [00:06<00:05, 20.83it/s]"
     ]
    },
    {
     "name": "stdout",
     "output_type": "stream",
     "text": [
      "Could not decode 10000101\n",
      "Could not decode 11000011\n",
      "Could not decode 10010100\n",
      "Could not decode 11001110\n"
     ]
    },
    {
     "name": "stderr",
     "output_type": "stream",
     "text": [
      " 58%|█████▊    | 144/250 [00:06<00:05, 20.83it/s]"
     ]
    },
    {
     "name": "stdout",
     "output_type": "stream",
     "text": [
      "Could not decode 10100011\n",
      "Could not decode 10000011\n",
      "Could not decode 10001000\n"
     ]
    },
    {
     "name": "stderr",
     "output_type": "stream",
     "text": [
      " 60%|██████    | 150/250 [00:07<00:04, 20.83it/s]"
     ]
    },
    {
     "name": "stdout",
     "output_type": "stream",
     "text": [
      "Could not decode 10001000\n",
      "Could not decode 11001111\n",
      "Could not decode 10011000\n",
      "Could not decode 10101000\n"
     ]
    },
    {
     "name": "stderr",
     "output_type": "stream",
     "text": [
      " 62%|██████▏   | 156/250 [00:07<00:04, 20.84it/s]"
     ]
    },
    {
     "name": "stdout",
     "output_type": "stream",
     "text": [
      "Could not decode 10111010\n",
      "Could not decode 10000011\n",
      "Could not decode 10001000\n",
      "Could not decode 10111111\n",
      "Could not decode 10000111\n",
      "Could not decode 10100000\n"
     ]
    },
    {
     "name": "stderr",
     "output_type": "stream",
     "text": [
      " 64%|██████▎   | 159/250 [00:07<00:04, 21.53it/s]"
     ]
    },
    {
     "name": "stdout",
     "output_type": "stream",
     "text": [
      "Could not decode 10010000\n",
      "Could not decode 11000001\n",
      "Could not decode 10100001\n",
      "Could not decode 10110001\n",
      "Could not decode 11110111\n",
      "Could not decode 11011111\n"
     ]
    },
    {
     "name": "stderr",
     "output_type": "stream",
     "text": [
      " 66%|██████▌   | 165/250 [00:07<00:04, 21.18it/s]"
     ]
    },
    {
     "name": "stdout",
     "output_type": "stream",
     "text": [
      "Could not decode 11000110\n",
      "Could not decode 11001101\n",
      "Could not decode 11001101\n",
      "Could not decode 11001111\n",
      "Could not decode 10110011\n"
     ]
    },
    {
     "name": "stderr",
     "output_type": "stream",
     "text": [
      " 68%|██████▊   | 171/250 [00:08<00:03, 20.99it/s]"
     ]
    },
    {
     "name": "stdout",
     "output_type": "stream",
     "text": [
      "Could not decode 10111111\n",
      "Could not decode 11011101\n",
      "Could not decode 11110011\n",
      "Could not decode 11101110\n",
      "Could not decode 10111111\n",
      "Could not decode 10101101\n",
      "Could not decode 11110100\n"
     ]
    },
    {
     "name": "stderr",
     "output_type": "stream",
     "text": [
      " 70%|██████▉   | 174/250 [00:08<00:03, 20.95it/s]"
     ]
    },
    {
     "name": "stdout",
     "output_type": "stream",
     "text": [
      "Could not decode 10101110\n",
      "Could not decode 11001010\n",
      "Could not decode 10111011\n",
      "Could not decode 11110111\n",
      "Could not decode 11110101\n",
      "Could not decode 10011011\n"
     ]
    },
    {
     "name": "stderr",
     "output_type": "stream",
     "text": [
      " 72%|███████▏  | 180/250 [00:08<00:03, 20.90it/s]"
     ]
    },
    {
     "name": "stdout",
     "output_type": "stream",
     "text": [
      "Could not decode 10111011\n",
      "Could not decode 11111110\n",
      "Could not decode 11110110\n",
      "Could not decode 10011010\n",
      "Could not decode 11111000\n",
      "Could not decode 11111100\n"
     ]
    },
    {
     "name": "stderr",
     "output_type": "stream",
     "text": [
      " 74%|███████▍  | 186/250 [00:08<00:03, 20.83it/s]"
     ]
    },
    {
     "name": "stdout",
     "output_type": "stream",
     "text": [
      "Could not decode 11000000\n",
      "Could not decode 11010011\n",
      "Could not decode 11011101\n",
      "Could not decode 11101110\n",
      "Could not decode 11111011\n",
      "Could not decode 10111101\n"
     ]
    },
    {
     "name": "stderr",
     "output_type": "stream",
     "text": [
      " 77%|███████▋  | 192/250 [00:09<00:02, 20.83it/s]"
     ]
    },
    {
     "name": "stdout",
     "output_type": "stream",
     "text": [
      "Could not decode 11010011\n",
      "Could not decode 11110001\n",
      "Could not decode 11110111\n",
      "Could not decode 10110001\n",
      "Could not decode 10111111\n",
      "Could not decode 10111101\n"
     ]
    },
    {
     "name": "stderr",
     "output_type": "stream",
     "text": [
      " 80%|████████  | 201/250 [00:09<00:02, 20.84it/s]"
     ]
    },
    {
     "name": "stdout",
     "output_type": "stream",
     "text": [
      "Could not decode 11001101\n",
      "Could not decode 11010000\n",
      "Could not decode 11010011\n",
      "Could not decode 10100100\n"
     ]
    },
    {
     "name": "stderr",
     "output_type": "stream",
     "text": [
      " 83%|████████▎ | 207/250 [00:09<00:02, 20.83it/s]"
     ]
    },
    {
     "name": "stdout",
     "output_type": "stream",
     "text": [
      "Could not decode 10010011\n",
      "Could not decode 11111010\n",
      "Could not decode 10101001\n",
      "Could not decode 10010000\n"
     ]
    },
    {
     "name": "stderr",
     "output_type": "stream",
     "text": [
      " 85%|████████▌ | 213/250 [00:10<00:01, 20.81it/s]"
     ]
    },
    {
     "name": "stdout",
     "output_type": "stream",
     "text": [
      "Could not decode 10100011\n",
      "Could not decode 10000001\n",
      "Could not decode 10100100\n",
      "Could not decode 11000100\n"
     ]
    },
    {
     "name": "stderr",
     "output_type": "stream",
     "text": [
      " 86%|████████▋ | 216/250 [00:10<00:01, 20.81it/s]"
     ]
    },
    {
     "name": "stdout",
     "output_type": "stream",
     "text": [
      "Could not decode 11101100\n",
      "Could not decode 11000000\n",
      "Could not decode 11000100\n",
      "Could not decode 10010000\n"
     ]
    },
    {
     "name": "stderr",
     "output_type": "stream",
     "text": [
      " 90%|█████████ | 225/250 [00:10<00:01, 21.19it/s]"
     ]
    },
    {
     "name": "stdout",
     "output_type": "stream",
     "text": [
      "Could not decode 11001000\n",
      "Could not decode 10111000\n",
      "Could not decode 11101111\n"
     ]
    },
    {
     "name": "stderr",
     "output_type": "stream",
     "text": [
      " 91%|█████████ | 228/250 [00:10<00:01, 21.08it/s]"
     ]
    },
    {
     "name": "stdout",
     "output_type": "stream",
     "text": [
      "Could not decode 10010001\n",
      "Could not decode 11110101\n",
      "Could not decode 11110111\n",
      "Could not decode 10010001\n"
     ]
    },
    {
     "name": "stderr",
     "output_type": "stream",
     "text": [
      " 94%|█████████▎| 234/250 [00:11<00:00, 21.42it/s]"
     ]
    },
    {
     "name": "stdout",
     "output_type": "stream",
     "text": [
      "Could not decode 10010010\n",
      "Could not decode 11100110\n",
      "Could not decode 11100110\n"
     ]
    },
    {
     "name": "stderr",
     "output_type": "stream",
     "text": [
      " 96%|█████████▌| 240/250 [00:11<00:00, 21.12it/s]"
     ]
    },
    {
     "name": "stdout",
     "output_type": "stream",
     "text": [
      "Could not decode 11100111\n",
      "Could not decode 11111111\n",
      "Could not decode 11111111\n",
      "Could not decode 11101010\n",
      "Could not decode 11001100\n",
      "Could not decode 10100111\n",
      "Could not decode 11101100\n",
      "Could not decode 11110011\n"
     ]
    },
    {
     "name": "stderr",
     "output_type": "stream",
     "text": [
      " 98%|█████████▊| 246/250 [00:11<00:00, 20.98it/s]"
     ]
    },
    {
     "name": "stdout",
     "output_type": "stream",
     "text": [
      "Could not decode 11101011\n",
      "Could not decode 10001111\n",
      "Could not decode 11111011\n",
      "Could not decode 11010100\n",
      "Could not decode 11101110\n",
      "Could not decode 11010011\n",
      "Could not decode 11010111\n"
     ]
    },
    {
     "name": "stderr",
     "output_type": "stream",
     "text": [
      "100%|██████████| 250/250 [00:11<00:00, 20.92it/s]"
     ]
    },
    {
     "name": "stdout",
     "output_type": "stream",
     "text": [
      "Could not decode 11011010\n",
      "Could not decode 11111000\n",
      "Could not decode 11100001\n",
      "Could not decode 11001111\n",
      "Could not decode 11110101\n",
      "Could not decode 11001011\n"
     ]
    },
    {
     "name": "stderr",
     "output_type": "stream",
     "text": [
      "\n"
     ]
    },
    {
     "data": {
      "text/plain": [
       "'*1:B0;M2;B1;M2;A1545;P32439;A1538;P3;A1577;P33095;A1570;P3;A1609;P33259;A1602;P3;A45056;P200;*2:X2050;*3:A1545;+3;A1538;P3;A1577;+-3;A1570;P3;A1609;+7;A1602;P3;$10000;*4:X772;A45056;+-1;X1283;*5:A1545;P32767;A1538;P3;A1577;P32767;A1570;P3;A1609;P32767;A1602;P3;X0;;X0;0;\"(\\x072$RQd p(R!\\x10e\\x02O\\x05gP\\x01 \\x12\",B\\x04(C0,wk=\\x1aW -gW8`\\x0e[{<I-G[2\\rS\\x1bm@\\tpLS(j\\x11y\\x1cO\\x1cBL$\\x1ap\\x04\\tD[\\x05t\\x05 &e=4n$\\x12\\\\&\\x05\\x08\\x1et|9p\\x02!v\\t\\x0fm\\x19;;5\\x01ZsM{_yO!\\x7f7mk?1-<'"
      ]
     },
     "execution_count": 651,
     "metadata": {},
     "output_type": "execute_result"
    }
   ],
   "source": [
    "download_script(script_length=500, serial_ask=dac.ask_raw)"
   ]
  },
  {
   "cell_type": "code",
   "execution_count": 633,
   "id": "4f121816",
   "metadata": {},
   "outputs": [],
   "source": [
    "# A{0x006FC1};   (Where the trigger inputs live (after hacking stuff))\n",
    "# A{1545+16*(c+1)};+{int(cv)};A{1538+16*(c+1)};P3;\n",
    "# (B1;C0;D{volt_to_int(0.2)};      (set the gate that we want to change to 0)\n",
    "\n",
    "def prepare_board(board):\n",
    "    return f\"B{board};M2;\"\n",
    "\n",
    "def set_voltage_code(channel, volt):\n",
    "    return f\"A{1545+16*(channel)};P{volt_to_int(volt)};A{1538+16*(channel)};P3;\"\n",
    "\n",
    "def inc_voltage_code(channel, delta):\n",
    "    int_delta = int(volt_to_int(delta)-volt_to_int(0))\n",
    "    return f\"A{1545+16*(channel)};+{int_delta};A{1538+16*(channel)};P3;\"\n",
    "\n",
    "def set_timer(duration_in_s):\n",
    "    return f\"${round(duration_in_s*1e6)};\"\n",
    "\n",
    "def not_triggered_jump(target):\n",
    "    \"\"\"\n",
    "    SpecialConditions:\n",
    "    ;08 = Trig1 is zero\n",
    "    ;09 = Trig1 is not zero\n",
    "    ;0A = Trig2 is zero\n",
    "    ;0B = Trig2 is not zero\n",
    "    \"\"\"\n",
    "    return f\"X{0x800+target};\"\n",
    "\n",
    "def timer_running_jump(target):\n",
    "    return f\"X{0x300+target};\"\n",
    "\n",
    "\n",
    "def value_larger_zero_jump(target):\n",
    "    return f\"X{0x500+target};\"\n",
    "\n",
    "def unconditional_jump(target):\n",
    "    return f\"X{0x000+target};\"\n",
    "\n",
    "\"\"\"\n",
    "\n",
    "  B0;C0;D{volt_to_int(0.05)};      (set the gate that we want to change to 0)\n",
    "  B0;C2;D{volt_to_int(0.1)};      (set the gate that we want to change to 0)\n",
    "  B1;C0;D{volt_to_int(-0.1)};      (set the gate that we want to change to 0)\n",
    "\n",
    "  \n",
    "  B0;C0;M2;G0;T0;C1;M2;G0;T0;\n",
    "  B1;C0;M2;G0;T0;\n",
    "  \n",
    "\"\"\"\n",
    "ramp_script = f\"\"\"\n",
    "{{\n",
    "*1:\n",
    "  \n",
    "  B0;M2; (setting the gating)\n",
    "  B1;M2; (for all used boards)\n",
    "\n",
    "  A45056;P200;   (Initialize our counter to 2**16-1)\n",
    "  \n",
    "  {set_voltage_code(0, -0.1)}\n",
    "  {set_voltage_code(2, 0.1)}\n",
    "  {set_voltage_code(4, 0.15)}\n",
    "*2:\n",
    "  X{0x802};      (X0x802 Jump to *2 if value trigger is 0)\n",
    "*3:              (main loop with label \"2\")\n",
    "  B0;C0;\n",
    "  A{1545+16*(2)};+-1;     (Add one to the course DAC value for channel 0)\n",
    "  A{1538+16*(2)};P3;      (Overwrite to force an update (0: no updates, 1: update enabled, 2: force update, 3: force update and update enabled))\n",
    "  B0;C1;\n",
    "  A{1545+16*(0)};+1;      (Add one to the course DAC value for channel 1)\n",
    "  A{1538+16*(0)};P3;      (Overwrite to force an update (0: no updates, 1: update enabled, 2: force update, 3: force update and update enabled))\n",
    "  B1;C0;\n",
    "  A{1545+16*(4)};+2;      (Add one to the course DAC value for channel 0)\n",
    "  A{1538+16*(4)};P3;      (Overwrite to force an update (0: no updates, 1: update enabled, 2: force update, 3: force update and update enabled))\n",
    "\n",
    "  $5000;\n",
    "*4:\n",
    "  X{0x304};\n",
    "  A45056;+ -1;   (Decrease the counter)\n",
    "  X{0x503};      (X0x502 Jump to *2 if value behind the pointer is not 0)\n",
    "*5:\n",
    "  B0;C0;D{volt_to_int(0)};\n",
    "  B0;C1;D{volt_to_int(0)};\n",
    "  B1;C0;D{volt_to_int(0)};\n",
    "  X0;\n",
    "}};\n",
    "\"\"\"\n",
    "\n",
    "ramp_script_2 = f\"\"\"{{\n",
    "*1:\n",
    "  {prepare_board(0)}\n",
    "  {prepare_board(1)}\n",
    "  {set_voltage_code(0, -0.1)}\n",
    "  {set_voltage_code(2, 0.1)}\n",
    "  {set_voltage_code(4, 0.15)}\n",
    "  \n",
    "  A45056;P200;   (Initialize our counter)\n",
    "\n",
    "*2:\n",
    "  {not_triggered_jump(2)}\n",
    "*3:\n",
    "  {inc_voltage_code(0, 0.001)}\n",
    "  {inc_voltage_code(2, -0.001)}\n",
    "  {inc_voltage_code(4, 0.002)}\n",
    "\n",
    "  {set_timer(0.01)}\n",
    "*4:\n",
    "  {timer_running_jump(4)}\n",
    "\n",
    "  A45056;+ -1;   (Decrease the counter)\n",
    "  {value_larger_zero_jump(3)}\n",
    "\n",
    "*5:\n",
    "  {set_voltage_code(0, 0)}\n",
    "  {set_voltage_code(2, 0)}\n",
    "  {set_voltage_code(4, 0)}\n",
    "  {unconditional_jump(0)}\n",
    "\n",
    "}};\"\"\""
   ]
  },
  {
   "cell_type": "code",
   "execution_count": 634,
   "id": "2c20cbaa",
   "metadata": {},
   "outputs": [
    {
     "data": {
      "text/plain": [
       "'X1!{*1:B0;M2;B1;M2;A1545;P32439;A1538;P3;A1577;P33095;A1570;P3;A1609;P33259;A1602;P3;A45056;P200;*2:X2050;*3:A1545;+3;A1538;P3;A1577;+-3;A1570;P3;A1609;+7;A1602;P3;$10000;*4:X772;A45056;+-1;X1283;*5:A1545;P32767;A1538;P3;A1577;P32767;A1570;P3;A1609;P32767;A1602;P3;X0;}!'"
      ]
     },
     "execution_count": 634,
     "metadata": {},
     "output_type": "execute_result"
    }
   ],
   "source": [
    "upload_script(ramp_script_2, serial_ask=dac.ask_raw)"
   ]
  },
  {
   "cell_type": "code",
   "execution_count": 447,
   "id": "ff5e66cf",
   "metadata": {},
   "outputs": [],
   "source": [
    "dac.write_raw(\"X0;\")"
   ]
  },
  {
   "cell_type": "code",
   "execution_count": 649,
   "id": "02bbb770",
   "metadata": {},
   "outputs": [],
   "source": [
    "while dac.ask(\"\") != \"\": pass"
   ]
  },
  {
   "cell_type": "code",
   "execution_count": 647,
   "id": "2b17ae2a",
   "metadata": {},
   "outputs": [],
   "source": [
    "dac.write_raw(\"X1;\")"
   ]
  },
  {
   "cell_type": "code",
   "execution_count": 648,
   "id": "6fd85a56",
   "metadata": {},
   "outputs": [],
   "source": [
    "send_trigger()"
   ]
  },
  {
   "cell_type": "code",
   "execution_count": 594,
   "id": "0622f3be",
   "metadata": {},
   "outputs": [],
   "source": [
    "for c in dac.channels[:5]:\n",
    "    c.volt(0.15)"
   ]
  },
  {
   "cell_type": "code",
   "execution_count": 17,
   "id": "24f59ef3",
   "metadata": {},
   "outputs": [],
   "source": [
    "def get(addr):\n",
    "    res = download_16bit(addr, serial_ask=dac.ask_raw)\n",
    "    print(f\"{res} -> {bin(res)}\")\n",
    "    return res"
   ]
  },
  {
   "cell_type": "code",
   "execution_count": 167,
   "id": "cfb51627",
   "metadata": {},
   "outputs": [
    {
     "name": "stdout",
     "output_type": "stream",
     "text": [
      "8058 -> 0b1111101111010\n"
     ]
    },
    {
     "data": {
      "text/plain": [
       "8058"
      ]
     },
     "execution_count": 167,
     "metadata": {},
     "output_type": "execute_result"
    }
   ],
   "source": [
    "get(0x006FC1)"
   ]
  },
  {
   "cell_type": "code",
   "execution_count": 650,
   "id": "5c72b33d",
   "metadata": {},
   "outputs": [
    {
     "ename": "NotImplementedError",
     "evalue": "This is not needed... X0x800 is designed for that...",
     "output_type": "error",
     "traceback": [
      "\u001b[1;31m---------------------------------------------------------------------------\u001b[0m",
      "\u001b[1;31mNotImplementedError\u001b[0m                       Traceback (most recent call last)",
      "Cell \u001b[1;32mIn[650], line 1\u001b[0m\n\u001b[1;32m----> 1\u001b[0m \u001b[38;5;28;01mraise\u001b[39;00m \u001b[38;5;167;01mNotImplementedError\u001b[39;00m(\u001b[38;5;124m\"\u001b[39m\u001b[38;5;124mThis is not needed... X0x800 is designed for that...\u001b[39m\u001b[38;5;124m\"\u001b[39m)\n\u001b[0;32m      2\u001b[0m \u001b[38;5;66;03m# inject_int(0x006FC4, 0b01001, serial_ask=dac.ask_raw) # \u001b[39;00m\n\u001b[0;32m      3\u001b[0m inject_int(\u001b[38;5;241m0x006F8A\u001b[39m, \u001b[38;5;241m0b1111111111111001\u001b[39m, serial_ask\u001b[38;5;241m=\u001b[39mdac\u001b[38;5;241m.\u001b[39mask_raw) \u001b[38;5;66;03m# setting the annoying registers to be output registers (0b1011101110000 & 0b1001) where the first binary number is the default\u001b[39;00m\n",
      "\u001b[1;31mNotImplementedError\u001b[0m: This is not needed... X0x800 is designed for that..."
     ]
    }
   ],
   "source": [
    "raise NotImplementedError(\"This is not needed... X0x800 is designed for that...\")\n",
    "# inject_int(0x006FC4, 0b01001, serial_ask=dac.ask_raw) # \n",
    "inject_int(0x006F8A, 0b1111111111111001, serial_ask=dac.ask_raw) # setting the annoying registers to be output registers (0b1011101110000 & 0b1001) where the first binary number is the default\n",
    "inject_int(0x006FC4, 0b1111111111111001, serial_ask=dac.ask_raw) # setting the annoying registers to 0\n",
    "get(0x006FC0)"
   ]
  },
  {
   "cell_type": "code",
   "execution_count": null,
   "id": "470b2e5e",
   "metadata": {},
   "outputs": [],
   "source": []
  },
  {
   "cell_type": "code",
   "execution_count": null,
   "id": "dca93454",
   "metadata": {},
   "outputs": [],
   "source": []
  },
  {
   "cell_type": "code",
   "execution_count": 656,
   "id": "5500e947",
   "metadata": {},
   "outputs": [],
   "source": [
    "# playing around with LZ77"
   ]
  },
  {
   "cell_type": "code",
   "execution_count": 657,
   "id": "5038e7d3",
   "metadata": {},
   "outputs": [],
   "source": [
    "from qupulse.utils.performance import *"
   ]
  },
  {
   "cell_type": "code",
   "execution_count": 796,
   "id": "5c7f3885",
   "metadata": {},
   "outputs": [],
   "source": [
    "test_array = np.arange(100).reshape((50, 2))"
   ]
  },
  {
   "cell_type": "code",
   "execution_count": 797,
   "id": "f1bdf650",
   "metadata": {},
   "outputs": [],
   "source": [
    "def test_compression_and_reconstruction(array, intermed, diffs):\n",
    "    compressed = compress_array_LZ77(array=array, allow_intermediates=intermed, using_diffs=diffs)\n",
    "    uncompressed = uncompress_array_LZ77(compressed)\n",
    "    if diffs:\n",
    "        assert len(array) == len(uncompressed), f\"{compressed=}, \\n{uncompressed=}\"\n",
    "        assert np.allclose(array, np.cumsum(uncompressed, axis=0)), f\"{compressed=}, \\n{uncompressed=}\"\n",
    "    else:\n",
    "        assert len(array) == len(uncompressed), f\"{compressed=}, \\n{uncompressed=}\"\n",
    "        assert np.allclose(array, uncompressed), f\"{compressed=}, \\n{uncompressed=}\"\n",
    "    return compressed, uncompressed"
   ]
  },
  {
   "cell_type": "code",
   "execution_count": 867,
   "id": "cec52806",
   "metadata": {},
   "outputs": [],
   "source": [
    "def test_compression_and_reconstruction_helper(array):\n",
    "    _ = test_compression_and_reconstruction(array, intermed=True, diffs=True)\n",
    "    _ = test_compression_and_reconstruction(array, intermed=True, diffs=False)\n",
    "    _ = test_compression_and_reconstruction(array, intermed=False, diffs=True)\n",
    "    _ = test_compression_and_reconstruction(array, intermed=False, diffs=False)"
   ]
  },
  {
   "cell_type": "code",
   "execution_count": 868,
   "id": "a11be008",
   "metadata": {},
   "outputs": [],
   "source": [
    "test_compression_and_reconstruction_helper(test_array)"
   ]
  },
  {
   "cell_type": "code",
   "execution_count": 885,
   "id": "0b050361",
   "metadata": {},
   "outputs": [],
   "source": [
    "test_compression_and_reconstruction_helper(np.array([[1, 2, 3, 4, 5]]).T)\n",
    "test_compression_and_reconstruction_helper(np.array([[1]]))\n",
    "test_compression_and_reconstruction_helper(np.ones((100, 2)))\n",
    "test_compression_and_reconstruction_helper(np.ones((1, 2)))\n",
    "test_compression_and_reconstruction_helper(np.ones((1, 10)))\n",
    "for _ in range(10):\n",
    "    test_compression_and_reconstruction_helper(np.random.uniform(0, 1, (np.random.randint(1, 10), np.random.randint(1, 10))))\n"
   ]
  },
  {
   "cell_type": "code",
   "execution_count": 900,
   "id": "928c725b",
   "metadata": {},
   "outputs": [],
   "source": [
    "special_array = np.repeat(np.linspace(0, 100, 200)[:, None], 3, axis=1)\n",
    "special_array[:, 0] = special_array[:, 0]%5*0.1\n",
    "special_array[:, 1] = special_array[:, 1]%10*3"
   ]
  },
  {
   "cell_type": "code",
   "execution_count": 901,
   "id": "8eb2ce0b",
   "metadata": {},
   "outputs": [],
   "source": [
    "special_array = special_array.astype(int)"
   ]
  },
  {
   "cell_type": "code",
   "execution_count": 902,
   "id": "255cf00d",
   "metadata": {},
   "outputs": [
    {
     "data": {
      "text/plain": [
       "[(0, 0, array([0, 0, 0])),\n",
       " (0, 0, array([0, 1, 0])),\n",
       " (0, 0, array([0, 2, 1])),\n",
       " (2, 17, array([  0, -28,   1])),\n",
       " (20, 46, array([0, 2, 0])),\n",
       " (0, 0, array([0, 1, 1])),\n",
       " (2, 11, array([  0, -29,   1])),\n",
       " (0, 0, array([0, 2, 0])),\n",
       " (0, 0, array([0, 1, 1])),\n",
       " (2, 17, array([  0, -29,   1])),\n",
       " (20, 33, array([0, 2, 1])),\n",
       " (0, 0, array([0, 1, 0])),\n",
       " (2, 4, array([  0, -28,   1])),\n",
       " (0, 0, array([0, 1, 0])),\n",
       " (0, 0, array([0, 2, 1])),\n",
       " (2, 17, array([  0, -28,   1])),\n",
       " (20, 38, array([  0, -28,   1]))]"
      ]
     },
     "execution_count": 902,
     "metadata": {},
     "output_type": "execute_result"
    }
   ],
   "source": [
    "test_compression_and_reconstruction_helper(special_array.astype(int))\n",
    "comp, _ = test_compression_and_reconstruction(special_array.astype(int), intermed=False, diffs=True)\n",
    "comp"
   ]
  },
  {
   "cell_type": "code",
   "execution_count": 906,
   "id": "c070a7f0",
   "metadata": {},
   "outputs": [
    {
     "data": {
      "text/plain": [
       "(3, 10, 7)"
      ]
     },
     "execution_count": 906,
     "metadata": {},
     "output_type": "execute_result"
    }
   ],
   "source": [
    "csd_2d = np.meshgrid(np.linspace(0, 1, 10), np.linspace(0, 1, 7), indexing='ij')\n",
    "csd_2d_with_sensor = np.ones((3, 10, 7))\n",
    "csd_2d_with_sensor[0] = csd_2d[0]*0.1+0.51\n",
    "csd_2d_with_sensor[1] = csd_2d[1]*0.5+0.322\n",
    "csd_2d_with_sensor[2] = -1*csd_2d_with_sensor[0]*0.1+-1*csd_2d_with_sensor[1]*0.14\n",
    "csd_2d_with_sensor.shape"
   ]
  },
  {
   "cell_type": "code",
   "execution_count": 908,
   "id": "75f4ea11",
   "metadata": {},
   "outputs": [],
   "source": [
    "csd_pulse = csd_2d_with_sensor.reshape((3, -1)).T*100"
   ]
  },
  {
   "cell_type": "code",
   "execution_count": 910,
   "id": "c008a38b",
   "metadata": {},
   "outputs": [
    {
     "data": {
      "text/plain": [
       "array([[ 51,  32,  -9],\n",
       "       [ 51,  40, -10],\n",
       "       [ 51,  48, -11],\n",
       "       [ 51,  57, -13],\n",
       "       [ 51,  65, -14],\n",
       "       [ 51,  73, -15],\n",
       "       [ 51,  82, -16],\n",
       "       [ 52,  32,  -9],\n",
       "       [ 52,  40, -10],\n",
       "       [ 52,  48, -12],\n",
       "       [ 52,  57, -13],\n",
       "       [ 52,  65, -14],\n",
       "       [ 52,  73, -15],\n",
       "       [ 52,  82, -16],\n",
       "       [ 53,  32,  -9],\n",
       "       [ 53,  40, -10],\n",
       "       [ 53,  48, -12],\n",
       "       [ 53,  57, -13],\n",
       "       [ 53,  65, -14],\n",
       "       [ 53,  73, -15],\n",
       "       [ 53,  82, -16],\n",
       "       [ 54,  32,  -9],\n",
       "       [ 54,  40, -11],\n",
       "       [ 54,  48, -12],\n",
       "       [ 54,  57, -13],\n",
       "       [ 54,  65, -14],\n",
       "       [ 54,  73, -15],\n",
       "       [ 54,  82, -16],\n",
       "       [ 55,  32, -10],\n",
       "       [ 55,  40, -11],\n",
       "       [ 55,  48, -12],\n",
       "       [ 55,  57, -13],\n",
       "       [ 55,  65, -14],\n",
       "       [ 55,  73, -15],\n",
       "       [ 55,  82, -17],\n",
       "       [ 56,  32, -10],\n",
       "       [ 56,  40, -11],\n",
       "       [ 56,  48, -12],\n",
       "       [ 56,  57, -13],\n",
       "       [ 56,  65, -14],\n",
       "       [ 56,  73, -15],\n",
       "       [ 56,  82, -17],\n",
       "       [ 57,  32, -10],\n",
       "       [ 57,  40, -11],\n",
       "       [ 57,  48, -12],\n",
       "       [ 57,  57, -13],\n",
       "       [ 57,  65, -14],\n",
       "       [ 57,  73, -16],\n",
       "       [ 57,  82, -17],\n",
       "       [ 58,  32, -10],\n",
       "       [ 58,  40, -11],\n",
       "       [ 58,  48, -12],\n",
       "       [ 58,  57, -13],\n",
       "       [ 58,  65, -15],\n",
       "       [ 58,  73, -16],\n",
       "       [ 58,  82, -17],\n",
       "       [ 59,  32, -10],\n",
       "       [ 59,  40, -11],\n",
       "       [ 59,  48, -12],\n",
       "       [ 59,  57, -13],\n",
       "       [ 59,  65, -15],\n",
       "       [ 59,  73, -16],\n",
       "       [ 59,  82, -17],\n",
       "       [ 61,  32, -10],\n",
       "       [ 61,  40, -11],\n",
       "       [ 61,  48, -12],\n",
       "       [ 61,  57, -14],\n",
       "       [ 61,  65, -15],\n",
       "       [ 61,  73, -16],\n",
       "       [ 61,  82, -17]])"
      ]
     },
     "execution_count": 910,
     "metadata": {},
     "output_type": "execute_result"
    }
   ],
   "source": [
    "csd_pulse.astype(int)"
   ]
  },
  {
   "cell_type": "code",
   "execution_count": 909,
   "id": "154df0e0",
   "metadata": {},
   "outputs": [
    {
     "data": {
      "text/plain": [
       "[(0, 0, array([51, 32, -9])),\n",
       " (0, 0, array([ 0,  8, -1])),\n",
       " (1, 1, array([ 0,  9, -2])),\n",
       " (0, 0, array([ 0,  8, -1])),\n",
       " (1, 1, array([ 0,  9, -1])),\n",
       " (0, 0, array([  1, -50,   7])),\n",
       " (0, 0, array([ 0,  8, -1])),\n",
       " (0, 0, array([ 0,  8, -2])),\n",
       " (0, 0, array([ 0,  9, -1])),\n",
       " (7, 11, array([ 0,  8, -2])),\n",
       " (0, 0, array([ 0,  8, -1])),\n",
       " (0, 0, array([ 0,  9, -1])),\n",
       " (0, 0, array([ 0,  8, -1])),\n",
       " (1, 1, array([ 0,  9, -1])),\n",
       " (0, 0, array([  1, -50,   6])),\n",
       " (0, 0, array([ 0,  8, -1])),\n",
       " (1, 1, array([ 0,  9, -1])),\n",
       " (0, 0, array([ 0,  8, -1])),\n",
       " (1, 1, array([ 0,  9, -2])),\n",
       " (0, 0, array([  1, -50,   7])),\n",
       " (7, 11, array([ 0,  8, -2])),\n",
       " (0, 0, array([ 0,  9, -1])),\n",
       " (0, 0, array([  1, -50,   7])),\n",
       " (0, 0, array([ 0,  8, -1])),\n",
       " (1, 1, array([ 0,  9, -1])),\n",
       " (0, 0, array([ 0,  8, -2])),\n",
       " (0, 0, array([ 0,  8, -1])),\n",
       " (7, 8, array([  2, -50,   7])),\n",
       " (0, 0, array([ 0,  8, -1])),\n",
       " (1, 1, array([ 0,  9, -2])),\n",
       " (0, 0, array([ 0,  8, -1])),\n",
       " (1, 1, array([ 0,  9, -1]))]"
      ]
     },
     "execution_count": 909,
     "metadata": {},
     "output_type": "execute_result"
    }
   ],
   "source": [
    "test_compression_and_reconstruction_helper(csd_pulse.astype(int))\n",
    "comp, _ = test_compression_and_reconstruction(csd_pulse.astype(int), intermed=False, diffs=True)\n",
    "comp"
   ]
  },
  {
   "cell_type": "code",
   "execution_count": 928,
   "id": "81fecdc8",
   "metadata": {},
   "outputs": [],
   "source": [
    "vg_csd_2d = np.meshgrid(np.linspace(0, 1, 20), np.linspace(0, 1, 50), indexing='ij')\n",
    "vg_csd_2d_with_sensor = np.ones((2, np.prod(vg_csd_2d[0].shape)))\n",
    "vg_csd_2d_with_sensor[0] = vg_csd_2d[0].flatten()*0.1+0.51*0.9 + vg_csd_2d[1].flatten()*0.5+0.322*0.1\n",
    "vg_csd_2d_with_sensor[1] = vg_csd_2d[0].flatten()*0.1+0.51*0.2 + vg_csd_2d[1].flatten()*0.5+0.322*0.8\n",
    "vg_csd_pulse = vg_csd_2d_with_sensor.T*100\n",
    "vg_csd_pulse = np.floor(vg_csd_pulse)\n",
    "\n",
    "test_compression_and_reconstruction_helper(vg_csd_pulse.astype(int))\n",
    "comp, _ = test_compression_and_reconstruction(vg_csd_pulse.astype(int), intermed=True, diffs=True)\n",
    "comp"
   ]
  },
  {
   "cell_type": "code",
   "execution_count": null,
   "id": "49115fd8",
   "metadata": {},
   "outputs": [],
   "source": []
  }
 ],
 "metadata": {
  "kernelspec": {
   "display_name": "ml4qworkshop",
   "language": "python",
   "name": "python3"
  },
  "language_info": {
   "codemirror_mode": {
    "name": "ipython",
    "version": 3
   },
   "file_extension": ".py",
   "mimetype": "text/x-python",
   "name": "python",
   "nbconvert_exporter": "python",
   "pygments_lexer": "ipython3",
   "version": "3.10.11"
  }
 },
 "nbformat": 4,
 "nbformat_minor": 5
}
