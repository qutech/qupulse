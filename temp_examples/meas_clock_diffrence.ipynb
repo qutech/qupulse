{
 "cells": [
  {
   "cell_type": "code",
   "execution_count": 1,
   "metadata": {
    "collapsed": false
   },
   "outputs": [],
   "source": [
    "with_alazar = True\n",
    "\n",
    "\n",
    "def get_pulse():\n",
    "    from qctoolkit.pulses import TablePulseTemplate as TPT, SequencePulseTemplate as SPT, \\\n",
    "        RepetitionPulseTemplate as RPT, FunctionPulseTemplate as FPT, MultiChannelPulseTemplate as MPT\n",
    "\n",
    "    sine = FPT('U*sin(2*pi*t/tau)', 'tau', channel='out')\n",
    "    marker_on = FPT('1', 'tau', channel='trigger')\n",
    "\n",
    "    multi = MPT([sine, marker_on], {'tau', 'U'})\n",
    "    multi.atomicity = True\n",
    "\n",
    "    assert sine.defined_channels == {'out'}\n",
    "    assert multi.defined_channels == {'out', 'trigger'}\n",
    "\n",
    "    sine.add_measurement_declaration('meas', 0, 'tau')\n",
    "\n",
    "    base = SPT([(multi, dict(tau='tau', U='U'), dict(meas='A')),\n",
    "                (multi, dict(tau='tau', U='U'), dict(meas='A')),\n",
    "                (multi, dict(tau='tau', U='U'), dict(meas='A'))], {'tau', 'U'})\n",
    "\n",
    "    repeated = RPT(base, 'n')\n",
    "\n",
    "    root = SPT([repeated, repeated, repeated], {'tau', 'n', 'U'})\n",
    "\n",
    "    assert root.defined_channels == {'out', 'trigger'}\n",
    "\n",
    "    return root\n",
    "\n",
    "\n",
    "def get_alazar_config():\n",
    "    from atsaverage import alazar\n",
    "    from atsaverage.config import ScanlineConfiguration, CaptureClockConfiguration, EngineTriggerConfiguration,\\\n",
    "        TRIGInputConfiguration, InputConfiguration\n",
    "        \n",
    "    r = 2.5\n",
    "    rid = alazar.TriggerRangeID.etr_2V5\n",
    "\n",
    "    trig_level = int((r + 0.05) / (2*r) * 255)\n",
    "    assert 0 <= trig_level < 256\n",
    "\n",
    "    config = ScanlineConfiguration()\n",
    "    config.triggerInputConfiguration = TRIGInputConfiguration(triggerRange=rid)\n",
    "    config.triggerConfiguration = EngineTriggerConfiguration(triggerOperation=alazar.TriggerOperation.J,\n",
    "                                                             triggerEngine1=alazar.TriggerEngine.J,\n",
    "                                                             triggerSource1=alazar.TriggerSource.external,\n",
    "                                                             triggerSlope1=alazar.TriggerSlope.positive,\n",
    "                                                             triggerLevel1=trig_level,\n",
    "                                                             triggerEngine2=alazar.TriggerEngine.K,\n",
    "                                                             triggerSource2=alazar.TriggerSource.disable,\n",
    "                                                             triggerSlope2=alazar.TriggerSlope.positive,\n",
    "                                                             triggerLevel2=trig_level)\n",
    "    config.captureClockConfiguration = CaptureClockConfiguration(source=alazar.CaptureClockType.internal_clock,\n",
    "                                                                 samplerate=alazar.SampleRateID.rate_100MSPS)\n",
    "    config.inputConfiguration = 4*[InputConfiguration(input_range=alazar.InputRangeID.range_1_V)]\n",
    "    config.totalRecordSize = 0\n",
    "    config.aimedBufferSize = 10*config.aimedBufferSize\n",
    "\n",
    "    assert config.totalRecordSize == 0\n",
    "\n",
    "    return config\n",
    "\n",
    "\n",
    "def get_operations():\n",
    "    from atsaverage.operations import Downsample, RepAverage\n",
    "\n",
    "    return [RepAverage(identifier='REP_A', maskID='A'),\n",
    "           Downsample(identifier='raw', maskID='D')]\n",
    "\n",
    "\n",
    "def get_window(card):\n",
    "    from atsaverage.gui import ThreadedStatusWindow\n",
    "    window = ThreadedStatusWindow(card)\n",
    "    window.start()\n",
    "    return window\n",
    "\n",
    "\n",
    "def exec_test():\n",
    "    import time\n",
    "    import numpy as np\n",
    "\n",
    "    t = []\n",
    "    names = []\n",
    "\n",
    "    def tic(name):\n",
    "        t.append(time.time())\n",
    "        names.append(name)\n",
    "\n",
    "    from qctoolkit.hardware.awgs.tabor import TaborChannelPair, TaborAWGRepresentation\n",
    "    tawg = TaborAWGRepresentation(r'USB0::0x168C::0x2184::0000216488::INSTR', reset=True)\n",
    "\n",
    "    tchannelpair = TaborChannelPair(tawg, (1, 2), 'TABOR_AB')\n",
    "    tawg.paranoia_level = 2\n",
    "\n",
    "    # warnings.simplefilter('error', Warning)\n",
    "\n",
    "    from qctoolkit.hardware.setup import HardwareSetup, PlaybackChannel, MarkerChannel\n",
    "    hardware_setup = HardwareSetup()\n",
    "\n",
    "    hardware_setup.set_channel('TABOR_A', PlaybackChannel(tchannelpair, 0))\n",
    "    hardware_setup.set_channel('TABOR_B', PlaybackChannel(tchannelpair, 1))\n",
    "    hardware_setup.set_channel('TABOR_A_MARKER', MarkerChannel(tchannelpair, 0))\n",
    "    hardware_setup.set_channel('TABOR_B_MARKER', MarkerChannel(tchannelpair, 1))\n",
    "\n",
    "    if with_alazar:\n",
    "        from qctoolkit.hardware.dacs.alazar import AlazarCard\n",
    "        import atsaverage.server\n",
    "\n",
    "        if not atsaverage.server.Server.default_instance.running:\n",
    "            atsaverage.server.Server.default_instance.start(key=b'guest')\n",
    "\n",
    "        import atsaverage.core\n",
    "\n",
    "        alazar = AlazarCard(atsaverage.core.getLocalCard(1, 1))\n",
    "        alazar.register_mask_for_channel('A', 0)\n",
    "        alazar.config = get_alazar_config()\n",
    "\n",
    "        alazar.register_operations('test', get_operations())\n",
    "\n",
    "        window = get_window(atsaverage.core.getLocalCard(1, 1))\n",
    "\n",
    "        hardware_setup.register_dac(alazar)\n",
    "\n",
    "    repeated = get_pulse()\n",
    "\n",
    "    from qctoolkit.pulses.sequencing import Sequencer\n",
    "\n",
    "    tic('init')\n",
    "    sequencer = Sequencer()\n",
    "    sequencer.push(repeated,\n",
    "                   parameters=dict(n=12800, tau=1920, U=0.5),\n",
    "                   channel_mapping={'out': 'TABOR_A', 'trigger': 'TABOR_A_MARKER'},\n",
    "                   window_mapping=dict(A='A'))\n",
    "    instruction_block = sequencer.build()\n",
    "\n",
    "    tic('sequence')\n",
    "\n",
    "    hardware_setup.register_program('test', instruction_block)\n",
    "\n",
    "    tic('register')\n",
    "\n",
    "    if with_alazar:\n",
    "        from atsaverage.masks import PeriodicMask\n",
    "        m = PeriodicMask()\n",
    "        m.identifier = 'D'\n",
    "        m.begin = 0\n",
    "        m.end = 1\n",
    "        m.period = 1\n",
    "        m.channel = 0\n",
    "        alazar._registered_programs['test'].masks.append(m)\n",
    "        \n",
    "        m2 = PeriodicMask()\n",
    "        m2.identifier = 'K'\n",
    "        m2.begin = 0\n",
    "        m2.end = 192\n",
    "        m2.period = 192\n",
    "        m2.channel = 0\n",
    "        alazar._registered_programs['test'].masks.append(m2)\n",
    "\n",
    "    tic('per_mask')\n",
    "\n",
    "    hardware_setup.arm_program('test')\n",
    "\n",
    "    tic('arm')\n",
    "\n",
    "    for d, name in zip(np.diff(np.asarray(t)), names[1:]):\n",
    "        print(name, d)\n",
    "        \n",
    "    return tawg, tchannelpair, hardware_setup"
   ]
  },
  {
   "cell_type": "code",
   "execution_count": 2,
   "metadata": {
    "collapsed": false
   },
   "outputs": [
    {
     "name": "stdout",
     "output_type": "stream",
     "text": [
      "initializing services... servertype=thread\n",
      "daemon location string=localhost:49567\n",
      "daemon sockets=[<socket.socket fd=1920, family=AddressFamily.AF_INET, type=SocketKind.SOCK_STREAM, proto=0, laddr=('127.0.0.1', 49567)>]\n",
      "Registering  1  card(s)\n",
      "Registered ATS9440 as PYRO:1_1_ATS9440@localhost:49567\n",
      "\n",
      "Starting pyro daemon\n",
      "done\n",
      "\n",
      "            Scanline configuration:\n",
      "                Total record size:   22118400\n",
      "                Sample rate:         100000000\n",
      "                Total time:          221184 µs\n",
      "\n",
      "                Buffer size:         22118400\n",
      "                Time per buffer:     221184 µs\n",
      "                Number of buffers:   1\n",
      "\n",
      "                Recording Channels:  A\n",
      "                Store raw data:      False\n",
      "            \n",
      "sequence 0.00200009346008\n",
      "register 0.330168485641\n",
      "per_mask 0.0\n",
      "arm 0.79404759407\n"
     ]
    }
   ],
   "source": [
    "tawg, tchannelpair, hardware_setup = exec_test()"
   ]
  },
  {
   "cell_type": "code",
   "execution_count": 3,
   "metadata": {
    "collapsed": false
   },
   "outputs": [],
   "source": [
    "#hardware_setup.arm_program('test')\n",
    "tawg.send_cmd(':TRIG')"
   ]
  },
  {
   "cell_type": "code",
   "execution_count": 4,
   "metadata": {
    "collapsed": false
   },
   "outputs": [],
   "source": [
    "import atsaverage.core\n",
    "card = atsaverage.core.getLocalCard(1, 1)\n",
    "scanline = card.extractNextScanline()"
   ]
  },
  {
   "cell_type": "code",
   "execution_count": 5,
   "metadata": {
    "collapsed": false
   },
   "outputs": [],
   "source": [
    "raw = scanline.operationResults['raw']\n",
    "def volt(x):\n",
    "    return x.getAsVoltage(atsaverage.alazar.InputRangeID.range_1_V)\n",
    "rep = scanline.operationResults['REP_A']"
   ]
  },
  {
   "cell_type": "code",
   "execution_count": 6,
   "metadata": {
    "collapsed": true
   },
   "outputs": [],
   "source": [
    "raw_volt = volt(raw)\n",
    "rep_volt = volt(rep)"
   ]
  },
  {
   "cell_type": "code",
   "execution_count": 7,
   "metadata": {
    "collapsed": false
   },
   "outputs": [
    {
     "data": {
      "image/png": "[encoded data removed]",
      "text/plain": [
       "<matplotlib.figure.Figure at 0x17ccc8a97f0>"
      ]
     },
     "metadata": {},
     "output_type": "display_data"
    }
   ],
   "source": [
    "import matplotlib.pyplot as plt\n",
    "import numpy as np\n",
    "\n",
    "plt.plot(raw_volt[:100])\n",
    "plt.plot(raw_volt[-700:])\n",
    "plt.show()"
   ]
  },
  {
   "cell_type": "code",
   "execution_count": 9,
   "metadata": {
    "collapsed": false
   },
   "outputs": [
    {
     "data": {
      "text/plain": [
       "5529600.0"
      ]
     },
     "execution_count": 9,
     "metadata": {},
     "output_type": "execute_result"
    }
   ],
   "source": [
    "len(raw_volt) / 4"
   ]
  },
  {
   "cell_type": "code",
   "execution_count": 7,
   "metadata": {
    "collapsed": false
   },
   "outputs": [],
   "source": [
    "del scanline\n",
    "del raw\n",
    "del tawg\n",
    "del hardware_setup\n",
    "card.reset()"
   ]
  },
  {
   "cell_type": "code",
   "execution_count": 8,
   "metadata": {
    "collapsed": false
   },
   "outputs": [],
   "source": [
    "import matplotlib.pyplot as plt\n",
    "import numpy as np\n",
    "raw_mean = np.mean(raw_volt)\n",
    "raw_volt -= raw_mean "
   ]
  },
  {
   "cell_type": "code",
   "execution_count": 66,
   "metadata": {
    "collapsed": false
   },
   "outputs": [],
   "source": [
    "import numpy as np\n",
    "fourier = np.fft.rfft(raw_volt[:last:10])"
   ]
  },
  {
   "cell_type": "code",
   "execution_count": 67,
   "metadata": {
    "collapsed": false
   },
   "outputs": [],
   "source": [
    "ampl = np.abs(fourier)\n",
    "#freq = np.fft.fftfreq(len(ampl), 1e-8)\n",
    "\n",
    "#ixd = np.argsort(freq)\n",
    "#ampl = ampl[ixd]\n",
    "#freq = freq[ixd]"
   ]
  },
  {
   "cell_type": "code",
   "execution_count": 71,
   "metadata": {
    "collapsed": true
   },
   "outputs": [],
   "source": [
    "freq = np.linspace(0, 1e7/2, num=len(ampl))"
   ]
  },
  {
   "cell_type": "code",
   "execution_count": 72,
   "metadata": {
    "collapsed": false
   },
   "outputs": [
    {
     "data": {
      "text/plain": [
       "1.0000009722242476"
      ]
     },
     "execution_count": 72,
     "metadata": {},
     "output_type": "execute_result"
    }
   ],
   "source": [
    "max_freq = freq[np.argmax(ampl)]\n",
    "max_freq * 1920e-9"
   ]
  },
  {
   "cell_type": "code",
   "execution_count": 76,
   "metadata": {
    "collapsed": false
   },
   "outputs": [
    {
     "data": {
      "image/png": "[encoded data removed]",
      "text/plain": [
       "<matplotlib.figure.Figure at 0x1c921b9bbe0>"
      ]
     },
     "metadata": {},
     "output_type": "display_data"
    },
    {
     "name": "stdout",
     "output_type": "stream",
     "text": [
      "520833.610052\n"
     ]
    }
   ],
   "source": [
    "max_index = np.argmax(ampl)\n",
    "\n",
    "sel = slice(max_index-15, max_index+15, 1)\n",
    "plt.plot(freq[sel], ampl[sel])\n",
    "plt.show()\n",
    "\n",
    "max_freq_mean = np.sum(ampl[sel]*freq[sel]) / np.sum(ampl[sel])\n",
    "\n",
    "print(max_freq_mean, max_freq)\n",
    "\n"
   ]
  },
  {
   "cell_type": "code",
   "execution_count": 65,
   "metadata": {
    "collapsed": false
   },
   "outputs": [
    {
     "name": "stdout",
     "output_type": "stream",
     "text": [
      "172799530 172800000\n"
     ]
    },
    {
     "data": {
      "text/plain": [
       "0.99999791087962964"
      ]
     },
     "execution_count": 65,
     "metadata": {},
     "output_type": "execute_result"
    }
   ],
   "source": [
    "volt_l = np.flatnonzero(raw_volt > 0.05)\n",
    "print(volt_l[-1], len(raw_volt))\n",
    "#raw_volt = raw_volt[:volt_l[-1]]\n",
    "\n",
    "plt.plot(raw_volt[volt_l[-1]+108:volt_l[-1]+120])\n",
    "last = volt_l[-1] + 109\n",
    "\n",
    "(volt_l[-1] + 109) / len(raw_volt)"
   ]
  },
  {
   "cell_type": "code",
   "execution_count": 52,
   "metadata": {
    "collapsed": false
   },
   "outputs": [
    {
     "data": {
      "image/png": "[encoded data removed]",
      "text/plain": [
       "<matplotlib.figure.Figure at 0x1c922cc8c88>"
      ]
     },
     "metadata": {},
     "output_type": "display_data"
    },
    {
     "data": {
      "text/plain": [
       "890998"
      ]
     },
     "execution_count": 52,
     "metadata": {},
     "output_type": "execute_result"
    }
   ],
   "source": [
    "a = raw_volt[:volt_l[-1] + 100:10]\n",
    "\n",
    "plt.plot(a[:100])\n",
    "plt.show()\n",
    "\n",
    "np.sum(np.logical_and(a[:-2] < a[1:-1], a[1:-1] > a[2:]))"
   ]
  },
  {
   "cell_type": "code",
   "execution_count": 93,
   "metadata": {
    "collapsed": false
   },
   "outputs": [
    {
     "name": "stdout",
     "output_type": "stream",
     "text": [
      "{'center': 520833.652549753, 'amplitude': 1226284.1411607806, 'sigma': 0.4398059725482273, 'c': 31488.238344030437}\n"
     ]
    },
    {
     "data": {
      "image/png": "[encoded data removed]",
      "text/plain": [
       "<matplotlib.figure.Figure at 0x1c923303fd0>"
      ]
     },
     "execution_count": 93,
     "metadata": {},
     "output_type": "execute_result"
    }
   ],
   "source": [
    "from lmfit import minimize, Parameters\n",
    "from lmfit.models import LinearModel, LorentzianModel, ConstantModel\n",
    "\n",
    "x = freq[sel]\n",
    "y = ampl[sel]\n",
    "\n",
    "lor = LorentzianModel()\n",
    "model = ConstantModel() + LorentzianModel()\n",
    "\n",
    "pars = lor.guess(y, x=x)\n",
    "pars.add('c', 0)\n",
    "out  = model.fit(y, pars, x=x)\n",
    "out.best_values\n",
    "print(out.best_values)\n",
    "out.plot()"
   ]
  },
  {
   "cell_type": "code",
   "execution_count": 104,
   "metadata": {
    "collapsed": false
   },
   "outputs": [
    {
     "name": "stdout",
     "output_type": "stream",
     "text": [
      "1.53608852786 -0.443911152704\n"
     ]
    }
   ],
   "source": [
    "print(((out.best_values['center']+freq[1]) * 1920e-9 - 1) * 890998,\n",
    "     ((out.best_values['center']-freq[1]) * 1920e-9 - 1) * 890998)\n"
   ]
  },
  {
   "cell_type": "code",
   "execution_count": 5,
   "metadata": {
    "collapsed": false
   },
   "outputs": [],
   "source": [
    "import atsaverage.alazar\n",
    "atsaverage.alazar.TriggerRangeID.et"
   ]
  }
 ],
 "metadata": {
  "kernelspec": {
   "display_name": "lab_master",
   "language": "python",
   "name": "lab_master"
  },
  "language_info": {
   "codemirror_mode": {
    "name": "ipython",
    "version": 3
   },
   "file_extension": ".py",
   "mimetype": "text/x-python",
   "name": "python",
   "nbconvert_exporter": "python",
   "pygments_lexer": "ipython3",
   "version": "3.5.3"
  }
 },
 "nbformat": 4,
 "nbformat_minor": 2
}
