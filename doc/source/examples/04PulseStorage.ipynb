{
 "cells": [
  {
   "cell_type": "markdown",
   "metadata": {},
   "source": [
    "# Storing Pulse Templates: `PulseStorage` and Serialization\n",
    "\n",
    "So far, we have constructed new pulse templates in code for each session (which were discarded afterwards). We now want to store them persistently in the file system to be able to reuse them in later sessions. For this, qupulse offers us serialization and deserialization using the `PulseStorage` and `StorageBackend` classes.\n",
    "\n",
    "The pulse storage manages the (de-)serialization to JSON and requires a storage backend to persistently store the serialized data. This can for example be a `FilesystemBackend` or a `DictBackend`. Let us first use a `DictBackend` to inspect the serialized pulse.\n",
    "\n",
    "__Attention:__ Due to the fact that PulseStorage enforces unique identifiers, executing the cells in this notebook out of order or rerunning them will likely result in errors. You will have to restart the Kernel in that case.\n",
    "\n",
    "## Single Pulses\n",
    "First we will have a look at how to store pulses that do not contain other pulse templates. To store a pulse, __the pulse needs to have an identifier__. If you forgot to give the pulse an identifier one can use the `rename` method which returns a new pulse with the requested identifier.\n",
    "\n",
    "### Storing"
   ]
  },
  {
   "cell_type": "code",
   "execution_count": 1,
   "metadata": {},
   "outputs": [
    {
     "name": "stdout",
     "output_type": "stream",
     "text": [
      "{'my_pulse': '{\\n'\n",
      "             '    \"#identifier\": \"my_pulse\",\\n'\n",
      "             '    \"#type\": '\n",
      "             '\"qupulse.pulses.table_pulse_template.TablePulseTemplate\",\\n'\n",
      "             '    \"entries\": {\\n'\n",
      "             '        \"default\": [\\n'\n",
      "             '            [\\n'\n",
      "             '                \"t_begin\",\\n'\n",
      "             '                \"v_begin\",\\n'\n",
      "             '                \"hold\"\\n'\n",
      "             '            ],\\n'\n",
      "             '            [\\n'\n",
      "             '                \"t_end\",\\n'\n",
      "             '                \"v_end\",\\n'\n",
      "             '                \"linear\"\\n'\n",
      "             '            ]\\n'\n",
      "             '        ]\\n'\n",
      "             '    },\\n'\n",
      "             '    \"measurements\": [],\\n'\n",
      "             '    \"parameter_constraints\": []\\n'\n",
      "             '}'}\n"
     ]
    }
   ],
   "source": [
    "import pprint\n",
    "from qupulse.pulses import TablePT\n",
    "from qupulse.serialization import PulseStorage, DictBackend\n",
    "\n",
    "dict_backend = DictBackend()\n",
    "dict_pulse_storage = PulseStorage(dict_backend)\n",
    "\n",
    "table_pulse = TablePT({'default': [('t_begin', 'v_begin', 'hold'),\n",
    "                                   ('t_end', 'v_end', 'linear')]}, identifier='my_pulse')\n",
    "\n",
    "dict_pulse_storage['my_pulse'] = table_pulse\n",
    "\n",
    "pprint.pprint(dict_backend.storage)"
   ]
  },
  {
   "cell_type": "markdown",
   "metadata": {},
   "source": [
    "Now to store this in a file system we need to replace the `DictBackend` with a `FilesystemBackend`. The following code will create the file `'./serialized_pulses/my_pulse.json'`."
   ]
  },
  {
   "cell_type": "code",
   "execution_count": 2,
   "metadata": {},
   "outputs": [],
   "source": [
    "from qupulse.serialization import FilesystemBackend\n",
    "\n",
    "filesystem_backend = FilesystemBackend('./serialized_pulses')\n",
    "file_pulse_storage = PulseStorage(filesystem_backend)\n",
    "\n",
    "if 'my_pulse' in file_pulse_storage:\n",
    "    del file_pulse_storage['my_pulse']\n",
    "\n",
    "file_pulse_storage['my_pulse'] = table_pulse"
   ]
  },
  {
   "cell_type": "markdown",
   "metadata": {},
   "source": [
    "### Loading\n",
    "Now we will load a pulse that is shipped only as a JSON file. It is a single sine with frequency `omega`. Note that loading the same pulse multiple times will give you the same object."
   ]
  },
  {
   "cell_type": "code",
   "execution_count": 3,
   "metadata": {},
   "outputs": [
    {
     "name": "stdout",
     "output_type": "stream",
     "text": [
      "Loading the same pulse multiple times gives you the same object\n"
     ]
    },
    {
     "data": {
      "image/png": "[encoded data removed]",
      "text/plain": [
       "<Figure size 432x288 with 1 Axes>"
      ]
     },
     "metadata": {
      "needs_background": "light"
     },
     "output_type": "display_data"
    }
   ],
   "source": [
    "%matplotlib inline\n",
    "import math\n",
    "from qupulse.pulses.plotting import plot as plot\n",
    "\n",
    "sine = file_pulse_storage['my_other_pulse']\n",
    "\n",
    "_ = plot(sine, {'omega': 2*math.pi}, sample_rate=1000, show=False)\n",
    "\n",
    "if sine is file_pulse_storage['my_other_pulse']:\n",
    "    print('Loading the same pulse multiple times gives you the same object')"
   ]
  },
  {
   "cell_type": "markdown",
   "metadata": {},
   "source": [
    "## Composed pulses and the role of identifiers\n",
    "If we have a pulse that contains other pulses all pulses that have an identifier are stored seperatly. Each `PulseStorage` instance expects that identifiers are unique (see below). Anonymous subpulses are stored together with their parent.\n",
    "\n",
    "We will now only use a dictionary as a backend it is easier to see what happens.\n",
    "\n",
    "### Storing"
   ]
  },
  {
   "cell_type": "code",
   "execution_count": 4,
   "metadata": {},
   "outputs": [
    {
     "name": "stdout",
     "output_type": "stream",
     "text": [
      "{'combined': '{\\n'\n",
      "             '    \"#identifier\": \"combined\",\\n'\n",
      "             '    \"#type\": '\n",
      "             '\"qupulse.pulses.sequence_pulse_template.SequencePulseTemplate\",\\n'\n",
      "             '    \"subtemplates\": [\\n'\n",
      "             '        {\\n'\n",
      "             '            \"#type\": '\n",
      "             '\"qupulse.pulses.repetition_pulse_template.RepetitionPulseTemplate\",\\n'\n",
      "             '            \"body\": {\\n'\n",
      "             '                \"#identifier\": \"my_other_pulse\",\\n'\n",
      "             '                \"#type\": \"reference\"\\n'\n",
      "             '            },\\n'\n",
      "             '            \"repetition_count\": \"N_sine\"\\n'\n",
      "             '        },\\n'\n",
      "             '        {\\n'\n",
      "             '            \"#identifier\": \"my_pulse\",\\n'\n",
      "             '            \"#type\": \"reference\"\\n'\n",
      "             '        }\\n'\n",
      "             '    ]\\n'\n",
      "             '}',\n",
      " 'my_other_pulse': '{\\n'\n",
      "                   '    \"#identifier\": \"my_other_pulse\",\\n'\n",
      "                   '    \"#type\": '\n",
      "                   '\"qupulse.pulses.function_pulse_template.FunctionPulseTemplate\",\\n'\n",
      "                   '    \"channel\": \"default\",\\n'\n",
      "                   '    \"duration_expression\": \"2*pi/omega\",\\n'\n",
      "                   '    \"expression\": \"sin(omega*t)\",\\n'\n",
      "                   '    \"measurements\": [],\\n'\n",
      "                   '    \"parameter_constraints\": []\\n'\n",
      "                   '}',\n",
      " 'my_pulse': '{\\n'\n",
      "             '    \"#identifier\": \"my_pulse\",\\n'\n",
      "             '    \"#type\": '\n",
      "             '\"qupulse.pulses.table_pulse_template.TablePulseTemplate\",\\n'\n",
      "             '    \"entries\": {\\n'\n",
      "             '        \"default\": [\\n'\n",
      "             '            [\\n'\n",
      "             '                \"t_begin\",\\n'\n",
      "             '                \"v_begin\",\\n'\n",
      "             '                \"hold\"\\n'\n",
      "             '            ],\\n'\n",
      "             '            [\\n'\n",
      "             '                \"t_end\",\\n'\n",
      "             '                \"v_end\",\\n'\n",
      "             '                \"linear\"\\n'\n",
      "             '            ]\\n'\n",
      "             '        ]\\n'\n",
      "             '    },\\n'\n",
      "             '    \"measurements\": [],\\n'\n",
      "             '    \"parameter_constraints\": []\\n'\n",
      "             '}'}\n"
     ]
    }
   ],
   "source": [
    "from qupulse.pulses import RepetitionPT, SequencePT\n",
    "\n",
    "# anonymous pulse template\n",
    "repeated_sine = RepetitionPT(sine, 'N_sine')\n",
    "\n",
    "my_sequence = SequencePT(repeated_sine, table_pulse, identifier='combined')\n",
    "\n",
    "dict_pulse_storage['combined'] = my_sequence\n",
    "\n",
    "pprint.pprint(dict_backend.storage)"
   ]
  },
  {
   "cell_type": "markdown",
   "metadata": {},
   "source": [
    "As you see, the serialization of 'combined' explicitly contains the anonymous `RepetitionPulseTemplate` but references to 'my_pulse' and 'my_other_pulse' which are stored as separate entries.\n",
    "\n",
    "## Pulse registry and unique identifiers\n",
    "There is the possibility to store pulse templates on construction into a pulse registry. This can be a `PulseStorage`. To set a pulse storage as the default pulse registry call `set_to_default_registry`"
   ]
  },
  {
   "cell_type": "code",
   "execution_count": 5,
   "metadata": {},
   "outputs": [
    {
     "name": "stdout",
     "output_type": "stream",
     "text": [
      "{'combined': '{\\n'\n",
      "             '    \"#identifier\": \"combined\",\\n'\n",
      "             '    \"#type\": '\n",
      "             '\"qupulse.pulses.sequence_pulse_template.SequencePulseTemplate\",\\n'\n",
      "             '    \"subtemplates\": [\\n'\n",
      "             '        {\\n'\n",
      "             '            \"#type\": '\n",
      "             '\"qupulse.pulses.repetition_pulse_template.RepetitionPulseTemplate\",\\n'\n",
      "             '            \"body\": {\\n'\n",
      "             '                \"#identifier\": \"my_other_pulse\",\\n'\n",
      "             '                \"#type\": \"reference\"\\n'\n",
      "             '            },\\n'\n",
      "             '            \"repetition_count\": \"N_sine\"\\n'\n",
      "             '        },\\n'\n",
      "             '        {\\n'\n",
      "             '            \"#identifier\": \"my_pulse\",\\n'\n",
      "             '            \"#type\": \"reference\"\\n'\n",
      "             '        }\\n'\n",
      "             '    ]\\n'\n",
      "             '}',\n",
      " 'my_other_pulse': '{\\n'\n",
      "                   '    \"#identifier\": \"my_other_pulse\",\\n'\n",
      "                   '    \"#type\": '\n",
      "                   '\"qupulse.pulses.function_pulse_template.FunctionPulseTemplate\",\\n'\n",
      "                   '    \"channel\": \"default\",\\n'\n",
      "                   '    \"duration_expression\": \"2*pi/omega\",\\n'\n",
      "                   '    \"expression\": \"sin(omega*t)\",\\n'\n",
      "                   '    \"measurements\": [],\\n'\n",
      "                   '    \"parameter_constraints\": []\\n'\n",
      "                   '}',\n",
      " 'my_pulse': '{\\n'\n",
      "             '    \"#identifier\": \"my_pulse\",\\n'\n",
      "             '    \"#type\": '\n",
      "             '\"qupulse.pulses.table_pulse_template.TablePulseTemplate\",\\n'\n",
      "             '    \"entries\": {\\n'\n",
      "             '        \"default\": [\\n'\n",
      "             '            [\\n'\n",
      "             '                \"t_begin\",\\n'\n",
      "             '                \"v_begin\",\\n'\n",
      "             '                \"hold\"\\n'\n",
      "             '            ],\\n'\n",
      "             '            [\\n'\n",
      "             '                \"t_end\",\\n'\n",
      "             '                \"v_end\",\\n'\n",
      "             '                \"linear\"\\n'\n",
      "             '            ]\\n'\n",
      "             '        ]\\n'\n",
      "             '    },\\n'\n",
      "             '    \"measurements\": [],\\n'\n",
      "             '    \"parameter_constraints\": []\\n'\n",
      "             '}',\n",
      " 'new_pulse': '{\\n'\n",
      "              '    \"#identifier\": \"new_pulse\",\\n'\n",
      "              '    \"#type\": '\n",
      "              '\"qupulse.pulses.function_pulse_template.FunctionPulseTemplate\",\\n'\n",
      "              '    \"channel\": \"default\",\\n'\n",
      "              '    \"duration_expression\": 1,\\n'\n",
      "              '    \"expression\": 0,\\n'\n",
      "              '    \"measurements\": [],\\n'\n",
      "              '    \"parameter_constraints\": []\\n'\n",
      "              '}'}\n"
     ]
    }
   ],
   "source": [
    "from qupulse.pulses import FunctionPT\n",
    "\n",
    "dict_pulse_storage.set_to_default_registry()\n",
    "\n",
    "new_pulse = FunctionPT(0, 1, identifier='new_pulse')\n",
    "\n",
    "pprint.pprint(dict_backend.storage)"
   ]
  },
  {
   "cell_type": "markdown",
   "metadata": {},
   "source": [
    "As you see each newly created pulse is put into the pulse storage. Creating a new pulse with the same name will fail:"
   ]
  },
  {
   "cell_type": "code",
   "execution_count": 6,
   "metadata": {},
   "outputs": [
    {
     "name": "stdout",
     "output_type": "stream",
     "text": [
      "Oh No!!!\n",
      "('Pulse with name already exists', 'new_pulse')\n",
      "\n"
     ]
    }
   ],
   "source": [
    "try:\n",
    "    new_pulse = FunctionPT(0, 1, identifier='new_pulse')\n",
    "except RuntimeError as err:\n",
    "    print('Oh No!!!')\n",
    "    print(err)\n",
    "    print()"
   ]
  },
  {
   "cell_type": "markdown",
   "metadata": {},
   "source": [
    "We have to either explicitly overwrite the registry or delete the old pulse from it:"
   ]
  },
  {
   "cell_type": "code",
   "execution_count": 7,
   "metadata": {},
   "outputs": [
    {
     "name": "stdout",
     "output_type": "stream",
     "text": [
      "Overwriting the registry works!\n",
      "Deleting the pulse works, too!\n"
     ]
    }
   ],
   "source": [
    "try:\n",
    "    new_pulse = FunctionPT(0, 1, identifier='new_pulse', registry=dict())\n",
    "except:\n",
    "    raise\n",
    "else:\n",
    "    print('Overwriting the registry works!')\n",
    "\n",
    "del dict_pulse_storage['new_pulse']\n",
    "try:\n",
    "    new_pulse = FunctionPT(0, 1, identifier='new_pulse')\n",
    "except:\n",
    "    raise\n",
    "else:\n",
    "    print('Deleting the pulse works, too!')"
   ]
  }
 ],
 "metadata": {
  "kernelspec": {
   "display_name": "Python [default]",
   "language": "python",
   "name": "python3"
  },
  "language_info": {
   "codemirror_mode": {
    "name": "ipython",
    "version": 3
   },
   "file_extension": ".py",
   "mimetype": "text/x-python",
   "name": "python",
   "nbconvert_exporter": "python",
   "pygments_lexer": "ipython3",
   "version": "3.7.0"
  }
 },
 "nbformat": 4,
 "nbformat_minor": 2
}
