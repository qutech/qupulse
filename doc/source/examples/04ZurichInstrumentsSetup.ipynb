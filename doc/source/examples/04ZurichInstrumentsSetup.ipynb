{
 "cells": [
  {
   "cell_type": "markdown",
   "id": "7e31fbc9f47a77ce",
   "metadata": {
    "collapsed": false
   },
   "source": [
    "# Zurich Instruments Hardware Setup\n",
    "\n",
    "This notebook shows an exemplary use of qupulse with a ZI HDAWG and MFLI. The drivers for these instruments are kept in external packages to facilitate easy driver customization. Depending on your python version and hardware version you either need `qupulse-hdawg-legacy` or `qupulse-hdawg` for the HDAWG and `qupulse-mfli` for the MFLI.\n",
    "\n",
    "## Connections and wiring\n",
    "\n",
    "The example here assumes a very nonsensical wiring that does not require anything else besides an HDAWG, and MFLI and three cables/adapters to connect SMB to BNC ports. We assume the following connections:\n",
    "\n",
    "```\n",
    "HDAWG_1_WAVE -> MFLI_AUX_IN_1\n",
    "HDAWG_2_WAVE -> MFLI_AUX_IN_2\n",
    "HDAWG_1_MARK_FRONT -> MFLI_TRIG_IN_1\n",
    "```\n",
    "`MFLI_TRIG_IN_1` is located on the back of the device.\n",
    "\n",
    "## Hardware Setup\n",
    "\n",
    "The hardware setup class provides a layer to map output channels to an arbitrary number of physical channels.\n",
    "It also provides a mapping of measurement windows to specific dac instruments."
   ]
  },
  {
   "cell_type": "code",
   "id": "6432f1ccf75c7d58",
   "metadata": {
    "collapsed": false
   },
   "source": [
    "from qupulse.hardware.setup import HardwareSetup\n",
    "\n",
    "hw_setup = HardwareSetup()"
   ],
   "outputs": [],
   "execution_count": null
  },
  {
   "cell_type": "code",
   "id": "initial_id",
   "metadata": {
    "collapsed": true
   },
   "source": [
    "# This abstracts over possibly installed hdawg drivers\n",
    "from qupulse.hardware.awgs.zihdawg import HDAWGRepresentation\n",
    "\n",
    "awg_serial = 'DEVXXXX'\n",
    "assert awg_serial != 'DEVXXXX', \"Please enter the serial of a connected HDAWG\"\n",
    "\n",
    "hdawg = HDAWGRepresentation(awg_serial, 'USB' )"
   ],
   "outputs": [],
   "execution_count": null
  },
  {
   "cell_type": "markdown",
   "id": "4f15ba19d0961dbb",
   "metadata": {
    "collapsed": false
   },
   "source": [
    "### Channel groupings\n",
    "\n",
    "The `AWG` class abstracts over a set of dependently programmable channels. The HDAWG supports multiple channel groupings which decouples individual channel groups. The most robust setting for qupulse is to use the `1x8` channel grouping which executes the same sequencing program on all channels and only differs in the waveform data that is sequenced. This results in a single channel tuple/`AWG` object which represents all eight channels.\n",
    "\n"
   ]
  },
  {
   "cell_type": "code",
   "id": "eb9a838c161c244d",
   "metadata": {
    "collapsed": false
   },
   "source": [
    "from qupulse.hardware.awgs.zihdawg import HDAWGChannelGrouping\n",
    "from qupulse.hardware.setup import PlaybackChannel, MarkerChannel\n",
    "\n",
    "hdawg.channel_grouping = HDAWGChannelGrouping.CHAN_GROUP_1x8\n",
    "awg, = hdawg.channel_tuples\n",
    "\n",
    "# here we assume plunger one and two are connected to the two first channels of the AWG\n",
    "# It is considered best practice to use such names that relate to the connected sample gates\n",
    "hw_setup.set_channel('P1', PlaybackChannel(awg, 0))\n",
    "hw_setup.set_channel('P2', PlaybackChannel(awg, 1))\n",
    "\n",
    "# We connect the trigger to the marker output of the first channel\n",
    "hw_setup.set_channel('Trig', MarkerChannel(awg, 0))\n",
    "\n",
    "# We can assign the same channel to multiple identifiers. Here we just assign all channels to a hardware name\n",
    "for channel_idx, channel_letter in enumerate('ABCDEFGH'):\n",
    "    channel_name = f\"{hdawg.serial}_{channel_letter}\"\n",
    "    hw_setup.set_channel(channel_name, PlaybackChannel(awg, channel_idx), allow_multiple_registration=True)\n",
    "\n",
    "# We can also assign multiple channels to the same identifier\n",
    "hw_setup.set_channel(f\"{hdawg.serial}_ALL\", [PlaybackChannel(awg, idx) for idx in range(8)], allow_multiple_registration=True)"
   ],
   "outputs": [],
   "execution_count": null
  },
  {
   "cell_type": "markdown",
   "id": "10ada657dd098fc7",
   "metadata": {
    "collapsed": false
   },
   "source": [
    "### MFLI\n",
    "\n",
    "Next we will connect the MFLI."
   ]
  },
  {
   "cell_type": "code",
   "id": "99e3edfcdf4ff697",
   "metadata": {
    "collapsed": false
   },
   "source": [
    "from qupulse_mfli.mfli import MFLIDAQ, postprocessing_average_within_windows\n",
    "\n",
    "mfli_serial = 'DEVXXXX'\n",
    "assert mfli_serial != 'DEVXXXX', \"Please enter the serial of a connected MFLI\"\n",
    "\n",
    "mfli = MFLIDAQ.connect_to(mfli_serial)"
   ],
   "outputs": [],
   "execution_count": null
  },
  {
   "cell_type": "markdown",
   "id": "bf2a9ed85290c479",
   "metadata": {
    "collapsed": false
   },
   "source": [
    "### Measurement masks\n",
    "\n",
    "qupulse has multiple layers where measurements are mapped. The hardware setup can map measurement windows to potentially multiple measurement masks, which are a combination of an instrument and an instrument specific identifier."
   ]
  },
  {
   "cell_type": "code",
   "id": "6afb0d40c704a02",
   "metadata": {
    "collapsed": false
   },
   "source": [
    "from qupulse.hardware.setup import MeasurementMask\n",
    "\n",
    "hw_setup.set_measurement('SET1', MeasurementMask(mfli, 'AverageAux1'))\n",
    "hw_setup.set_measurement('SET2', MeasurementMask(mfli, 'AverageAux2'))\n",
    "hw_setup.set_measurement('SET_ALL', [MeasurementMask(mfli, 'AverageAux1'), MeasurementMask(mfli, 'AverageAux2')], allow_multiple_registration=True)\n"
   ],
   "outputs": [],
   "execution_count": null
  },
  {
   "metadata": {},
   "cell_type": "markdown",
   "source": [
    "Each instrument can do arbitrary things with the identifier from the mask which heavily depends on what the instrument can do and what you use it for.\n",
    "\n",
    "The MLFI maps the names to internal paths following your configuration. You can make the configuration global or program specific."
   ],
   "id": "e7353faf52ebd31d"
  },
  {
   "cell_type": "code",
   "id": "c943fb4d",
   "metadata": {},
   "source": [
    "# linking the measurement mask names to physical input channels\n",
    "mfli.register_measurement_channel(program_name=None, channel_path=\"demods/0/sample.AuxIn0\", window_name=\"AverageAux2\")\n",
    "mfli.register_measurement_channel(program_name=None, channel_path=\"auxins/0/sample.AuxIn1\", window_name=\"AverageAux1\")"
   ],
   "outputs": [],
   "execution_count": null
  },
  {
   "metadata": {},
   "cell_type": "markdown",
   "source": [
    "The other inputs can be addressed via strings as the following:\n",
    "```\n",
    "{\n",
    "    \"R\": [\"demods/0/sample.R\"],\n",
    "    \"X\": [\"demods/0/sample.X\"],\n",
    "    \"Y\": [\"demods/0/sample.Y\"],\n",
    "    \"A\": [\"auxins/0/sample.AuxIn0.avg\"],\n",
    "    \"many\": [\"demods/0/sample.R\", \"auxins/0/sample.AuxIn0.avg\", \"demods/0/sample.X\", \"demods/0/sample.Y\"]\n",
    "}\n",
    "```\n",
    "where the keys of the dict are the values for the window_name, and the values of the dict are the channel_path inputs. Note that these can also be lists to record multiple channels under one name. I.e. for IQ demodulation.\n",
    "\n",
    "### Operations\n",
    "\n",
    "Each driver can automatically perform certain operations on the recorded data. The MFLI expects a callable that processes the raw data returned by the instrument. This is suboptimal but the current solution. If you want to implement your own operation look at the shipped postprocessing functions for the signature.\n",
    "\n",
    "There are other functions you can use defined in the mfli package like `postprocessing_crop_windows`. Please file an issue if this documentation here is out of date."
   ],
   "id": "9bb6bf76c80276e9"
  },
  {
   "cell_type": "code",
   "id": "51401e51",
   "metadata": {},
   "source": [
    "# configuring the driver to average all datapoint for each window.\n",
    "mfli.register_operations(\n",
    "    program_name=None,\n",
    "    operations=postprocessing_average_within_windows\n",
    ")"
   ],
   "outputs": [],
   "execution_count": null
  },
  {
   "metadata": {},
   "cell_type": "markdown",
   "source": "",
   "id": "ee6314ed25574b8f"
  },
  {
   "cell_type": "code",
   "id": "417c4976",
   "metadata": {},
   "source": [
    "# registering trigger settings for a standard configuration\n",
    "# The measurement is perfomed once after one trigger on TrigIn1 is observed.\n",
    "mfli.register_trigger_settings(program_name=None,\n",
    "                                   trigger_input=f\"demods/0/sample.TrigIn1\", # here TrigInN referrers to the printer label N\n",
    "                                   edge=\"rising\",\n",
    "                                   trigger_count=1,\n",
    "                                   level=.5,\n",
    "                                   measurement_count=1,\n",
    "                                   other_settings={\"holdoff/time\": 1e-3}\n",
    "                                   ) "
   ],
   "outputs": [],
   "execution_count": null
  },
  {
   "cell_type": "markdown",
   "id": "a7c5b77d781b5ab2",
   "metadata": {
    "collapsed": false
   },
   "source": [
    "## Pulse definition\n",
    "\n",
    "Next we define a pulse that we want to use. We settle for a two-dimensional scan of a voltage space but we define the scan in terms of virtual gates, i.e. the potentials that the quantum dots `Q1` and `Q2` see.\n",
    "Then we provide a linear transformation that maps them to the output voltages `P1` and `P2`."
   ]
  },
  {
   "cell_type": "code",
   "id": "27610ca4eb6cda25",
   "metadata": {
    "collapsed": false
   },
   "source": [
    "from qupulse.pulses import *\n",
    "import numpy as np\n",
    "from qupulse.program.transformation import LinearTransformation\n",
    "from qupulse.program.loop import Loop, LoopBuilder, roll_constant_waveforms\n",
    "\n",
    "awg_sample_rate = 10**9\n",
    "hdawg.set_sample_clock(awg_sample_rate)\n",
    "\n",
    "pt = (ConstantPT(2**20, {\n",
    "    'Q1': '-0.1 + x_i * 0.02',\n",
    "    'Q2': '-0.2 + y_i * 0.01'}, measurements=[('meas', 0, 2**20)])\n",
    "      .with_iteration('x_i', 'N_x')\n",
    "      .with_iteration('y_i', 'N_y')\n",
    "      .with_parallel_channels({'Marker': 1}))\n",
    "\n",
    "trafo = LinearTransformation(np.array([[1., -.1], [-.09, 1.]])*0.5,\n",
    "                             ('Q1', 'Q2'),\n",
    "                             ('P1', 'P2'))\n",
    "\n",
    "measurement_mapping = {'meas': 'SET_ALL'}\n",
    "\n",
    "# we chose the default LoopBuilder program builder here as it is the only supported as the time of writing this example \n",
    "program: Loop = pt.create_program(parameters={'N_x': 20, 'N_y': 30},\n",
    "                                  global_transformation=trafo,\n",
    "                                  program_builder=LoopBuilder(),\n",
    "                                  measurement_mapping=measurement_mapping,\n",
    "                                  channel_mapping={'Marker': 'Trig'})"
   ],
   "outputs": [],
   "execution_count": null
  },
  {
   "metadata": {},
   "cell_type": "markdown",
   "source": [
    "## HDAWG: Waveform compression and sample rate reduction\n",
    "\n",
    "The HDAWG has the capability to dynamically reduce the sample rate by a power of two during playback. The driver does this automatically if it detects a compatible waveform that is (piecewise) constant.\n",
    "\n",
    "However, the current implementation samples all waveforms in the computer memory. We have a lot (N_x * N_y) of very long waveforms which each take 4 MB in computer memory when sampled with 1GHz. For a sufficiently high resolution this will eat up our RAM with constant waveforms. qupulse provides `roll_constant_waveforms` to detect long constant waveforms and roll them into loops **inplace** if possible with the given parameters. This will remove the measurements from the `Loop` program because they cannot be preserved by the logic. Therefore, we extract them beforehand."
   ],
   "id": "cb014734179113dd"
  },
  {
   "metadata": {},
   "cell_type": "code",
   "source": [
    "# extract measurement positions\n",
    "measurements = program.get_measurement_windows(drop=True)\n",
    "\n",
    "print(f'Single point before rolling: {program[0]!r}')\n",
    "\n",
    "# Compress program\n",
    "roll_constant_waveforms(program, sample_rate=awg_sample_rate / 10**9, waveform_quantum=256, minimal_waveform_quanta=16)\n",
    "\n",
    "print(f'Single point after rolling: {program[0]!r}')"
   ],
   "id": "435420307d15bfd2",
   "outputs": [],
   "execution_count": null
  },
  {
   "cell_type": "code",
   "id": "346dabd84ea976fd",
   "metadata": {
    "collapsed": false
   },
   "source": [
    "hw_setup.clear_programs()\n",
    "hw_setup.register_program('csd', program, awg.run_current_program, measurements=measurements)"
   ],
   "outputs": [],
   "execution_count": null
  },
  {
   "metadata": {},
   "cell_type": "code",
   "source": [
    "hdawg.output(1, True)\n",
    "hdawg.output(2, True)"
   ],
   "id": "5d7d63d18bd6fc25",
   "outputs": [],
   "execution_count": null
  },
  {
   "cell_type": "code",
   "id": "832c501c9082dc5d",
   "metadata": {
    "collapsed": false
   },
   "source": [
    "hw_setup.arm_program('csd')"
   ],
   "outputs": [],
   "execution_count": null
  },
  {
   "cell_type": "code",
   "id": "954f4e09664d073f",
   "metadata": {
    "collapsed": false
   },
   "source": [
    "hw_setup.run_program('csd')\n",
    "import time; time.sleep(float(program.duration) / 1e9)"
   ],
   "outputs": [],
   "execution_count": null
  },
  {
   "metadata": {},
   "cell_type": "code",
   "source": [
    "hdawg.output(1, False)\n",
    "hdawg.output(2, False)"
   ],
   "id": "f4537c8c741597b0",
   "outputs": [],
   "execution_count": null
  },
  {
   "cell_type": "markdown",
   "id": "e517992b6a35fc07",
   "metadata": {
    "collapsed": false
   },
   "source": [
    "The data extration is not standardized at the time of writing this example because it heavily depends on your data processing pipeline how the data is handled and where it shall go. qupulse has no functionality to associate a measured value with the value of some parameter that might have been varied during the measurement."
   ]
  },
  {
   "cell_type": "code",
   "id": "636ea90347e59fe5",
   "metadata": {
    "collapsed": false
   },
   "source": [
    "# receaving the recorded data from the MFLI\n",
    "\n",
    "data = mfli.measure_program(wait=True) # wait=True would wait until the aquisition is finished.\n"
   ],
   "outputs": [],
   "execution_count": null
  },
  {
   "cell_type": "markdown",
   "id": "90137bb3a5dd2f22",
   "metadata": {
    "collapsed": false
   },
   "source": [
    "The recorded data is sliced to the measurement windows in the default configuration. Thus ```my_lockin.measure_program``` returns a list (number of measurements) of dicts (the qupulse channels), of dicts (the lockin channels), of lists (the observed trigger), of lists of xarray DataArrays (each DataArray containing the data sliced for one window) or numpy arrays (containing the data resulting from averaging over the windows). I.e. ```returned_data[<i_measurement>][<qupulse channel>][<lockin channel>][<i_triggerevent>]``` leads to ether the list of DataArrays or to a numpy array."
   ]
  },
  {
   "metadata": {},
   "cell_type": "code",
   "source": [
    "data_0 = data[0]\n",
    "(average_1,), = data_0['AverageAux1'].values()\n",
    "(average_2,), = data_0['AverageAux2'].values()"
   ],
   "id": "d3aa849c80214139",
   "outputs": [],
   "execution_count": null
  },
  {
   "metadata": {},
   "cell_type": "markdown",
   "source": "Warning: As the time of writing this example there are problems when no demodulator is used at all. One channel looks like it has a sliding window average. Contribution in fixing that is highly appreciated.",
   "id": "fee1a294623c50e8"
  },
  {
   "metadata": {},
   "cell_type": "code",
   "source": [
    "import matplotlib.pyplot as plt\n",
    "\n",
    "plt.plot(average_1, '*')"
   ],
   "id": "bc7de11e789884f2",
   "outputs": [],
   "execution_count": null
  },
  {
   "metadata": {},
   "cell_type": "code",
   "source": "plt.plot(average_2)",
   "id": "14c5cd608d2238a3",
   "outputs": [],
   "execution_count": null
  }
 ],
 "metadata": {
  "kernelspec": {
   "display_name": "Python 3",
   "language": "python",
   "name": "python3"
  },
  "language_info": {
   "codemirror_mode": {
    "name": "ipython",
    "version": 2
   },
   "file_extension": ".py",
   "mimetype": "text/x-python",
   "name": "python",
   "nbconvert_exporter": "python",
   "pygments_lexer": "ipython2",
   "version": "2.7.6"
  }
 },
 "nbformat": 4,
 "nbformat_minor": 5
}
