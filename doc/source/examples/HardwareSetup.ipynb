{
 "cells": [
  {
   "cell_type": "markdown",
   "metadata": {
    "collapsed": true
   },
   "source": [
    "This notebook creates the following objects:\n",
    " - ```hardware_setup```: An object of type HardwareSetup and the central object\n",
    " - ```tawg```: An object that represents that physical TaborAWG\n",
    " - ```tchannelpair_AB``` and ```tchannelpair_CD```: Objects that represents a pair of channels each\n",
    " - ```alazar_DAC```: An object that represents the Alazar data acquisition card\n",
    "\n",
    "Furthermore, the alazar will create a 10MHz reference clock that the AWG expects to receive at its ref clock input"
   ]
  },
  {
   "cell_type": "code",
   "execution_count": 1,
   "metadata": {
    "collapsed": true
   },
   "outputs": [],
   "source": [
    "from qupulse.hardware.setup import HardwareSetup, PlaybackChannel, MarkerChannel\n",
    "hardware_setup = HardwareSetup()"
   ]
  },
  {
   "cell_type": "code",
   "execution_count": 15,
   "metadata": {},
   "outputs": [],
   "source": [
    "from qupulse.hardware.awgs.tabor import TaborChannelPair, TaborAWGRepresentation\n",
    "import pyvisa\n",
    "\n",
    "def find_tabor_address():\n",
    "    known_instruments = pyvisa.ResourceManager().list_resources()\n",
    "    \n",
    "    # find tabor AWG address\n",
    "    tabor_address = None\n",
    "    for address in known_instruments:\n",
    "        if r'0x168C::0x2184' in address:\n",
    "            tabor_address = address\n",
    "            break\n",
    "    if tabor_address is None:\n",
    "        raise RuntimeError('Could not locate TaborAWG')\n",
    "    \n",
    "    return tabor_address\n",
    "\n",
    "# small wrapper around pytabor\n",
    "tawg = TaborAWGRepresentation(find_tabor_address(), reset=True)\n",
    "tawg.paranoia_level = 2\n",
    "\n",
    "# actual awg driver object\n",
    "tchannelpair_AB = TaborChannelPair(tawg, (1, 2), 'TABOR_AB')\n",
    "tchannelpair_CD = TaborChannelPair(tawg, (3, 4), 'TABOR_CD')"
   ]
  },
  {
   "cell_type": "code",
   "execution_count": 3,
   "metadata": {
    "collapsed": true
   },
   "outputs": [],
   "source": [
    "hardware_setup.set_channel('TABOR_A', PlaybackChannel(tchannelpair_AB, 0))\n",
    "hardware_setup.set_channel('TABOR_B', PlaybackChannel(tchannelpair_AB, 1))\n",
    "hardware_setup.set_channel('TABOR_A_MARKER', MarkerChannel(tchannelpair_AB, 0))\n",
    "hardware_setup.set_channel('TABOR_B_MARKER', MarkerChannel(tchannelpair_AB, 1))\n",
    "\n",
    "hardware_setup.set_channel('TABOR_C', PlaybackChannel(tchannelpair_CD, 0))\n",
    "hardware_setup.set_channel('TABOR_D', PlaybackChannel(tchannelpair_CD, 1))\n",
    "hardware_setup.set_channel('TABOR_C_MARKER', MarkerChannel(tchannelpair_CD, 0))\n",
    "hardware_setup.set_channel('TABOR_D_MARKER', MarkerChannel(tchannelpair_CD, 1))"
   ]
  },
  {
   "cell_type": "code",
   "execution_count": 4,
   "metadata": {},
   "outputs": [],
   "source": [
    "import atsaverage.atsaverage\n",
    "import atsaverage.core\n",
    "\n",
    "atsaverage.atsaverage.Logger.log_path = r'C:\\Users\\Public\\AtsAverageLog'\n",
    "atsaverage.atsaverage.Logger.rotate_file()"
   ]
  },
  {
   "cell_type": "code",
   "execution_count": 6,
   "metadata": {},
   "outputs": [],
   "source": [
    "atsaverage.atsaverage.Logger.log_path = r'C:\\Users\\Public\\AtsAverageLog'\n",
    "atsaverage.atsaverage.Logger.rotate_file()\n",
    "from qupulse.hardware.dacs.alazar import AlazarCard\n",
    "\n",
    "alazar_DAC = AlazarCard(atsaverage.core.getLocalCard(1, 1))\n",
    "\n",
    "def get_alazar_config():\n",
    "    from atsaverage import alazar\n",
    "    from atsaverage.config import ScanlineConfiguration, CaptureClockConfiguration, EngineTriggerConfiguration,\\\n",
    "        TRIGInputConfiguration, InputConfiguration\n",
    "        \n",
    "    r = 2.5\n",
    "    rid = alazar.TriggerRangeID.etr_2V5\n",
    "\n",
    "    trig_level = int((r + 0.15) / (2*r) * 255)\n",
    "    assert 0 <= trig_level < 256\n",
    "\n",
    "    config = ScanlineConfiguration()\n",
    "    config.triggerInputConfiguration = TRIGInputConfiguration(triggerRange=rid)\n",
    "    config.triggerConfiguration = EngineTriggerConfiguration(triggerOperation=alazar.TriggerOperation.J,\n",
    "                                                             triggerEngine1=alazar.TriggerEngine.J,\n",
    "                                                             triggerSource1=alazar.TriggerSource.external,\n",
    "                                                             triggerSlope1=alazar.TriggerSlope.positive,\n",
    "                                                             triggerLevel1=trig_level,\n",
    "                                                             triggerEngine2=alazar.TriggerEngine.K,\n",
    "                                                             triggerSource2=alazar.TriggerSource.disable,\n",
    "                                                             triggerSlope2=alazar.TriggerSlope.positive,\n",
    "                                                             triggerLevel2=trig_level)\n",
    "    config.captureClockConfiguration = CaptureClockConfiguration(source=alazar.CaptureClockType.internal_clock,\n",
    "                                                                 samplerate=alazar.SampleRateID.rate_100MSPS)\n",
    "    config.inputConfiguration = 4*[InputConfiguration(input_range=alazar.InputRangeID.range_1_V)]\n",
    "    config.totalRecordSize = 0\n",
    "    config.aimedBufferSize = 10*config.aimedBufferSize\n",
    "\n",
    "    # is set automatically\n",
    "    assert config.totalRecordSize == 0\n",
    "    \n",
    "    return config\n",
    "alazar_DAC.config = get_alazar_config()\n",
    "\n",
    "hardware_setup.register_dac(alazar_DAC)"
   ]
  },
  {
   "cell_type": "code",
   "execution_count": null,
   "metadata": {
    "collapsed": true
   },
   "outputs": [],
   "source": [
    "# 10MHz clock out on AUX\n",
    "atsaverage.alazar.ConfigureAuxIO(alazar_DAC.card.handle, atsaverage.alazar.AUX_IO_Mode.out_pacer, 10)\n",
    "\n",
    "# 10MHz ref clock in\n",
    "tawg.send_cmd(':ROSC:FREQ 10M')\n",
    "tawg.send_cmd(':ROSC:SOUR EXT')"
   ]
  }
 ],
 "metadata": {
  "kernelspec": {
   "display_name": "Python [default]",
   "language": "python",
   "name": "python3"
  },
  "language_info": {
   "codemirror_mode": {
    "name": "ipython",
    "version": 3
   },
   "file_extension": ".py",
   "mimetype": "text/x-python",
   "name": "python",
   "nbconvert_exporter": "python",
   "pygments_lexer": "ipython3",
   "version": "3.7.0"
  }
 },
 "nbformat": 4,
 "nbformat_minor": 1
}
