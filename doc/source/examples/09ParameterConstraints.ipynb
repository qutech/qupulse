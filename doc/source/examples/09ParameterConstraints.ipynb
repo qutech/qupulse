{
 "cells": [
  {
   "cell_type": "markdown",
   "metadata": {},
   "source": [
    "# Constraining Parameters\n",
    "\n",
    "Often, it is useful to constrain parameters. Either to be in a specific range or even that some relation between parameters is fulfilled. Many pulse templates allow that and accept `parameter_constraints` as a keyword argument. In this example we look at a simple table pulse that ramps a voltage from `v_a` to `v_b` with the ramp time `t_ramp`."
   ]
  },
  {
   "cell_type": "code",
   "execution_count": 1,
   "metadata": {},
   "outputs": [
    {
     "data": {
      "image/png": "[encoded data removed]",
      "text/plain": [
       "<Figure size 640x480 with 1 Axes>"
      ]
     },
     "metadata": {},
     "output_type": "display_data"
    }
   ],
   "source": [
    "%matplotlib inline\n",
    "# notebook doesn't work for Jupyter lab (use inline instead)\n",
    "from qupulse.pulses import TablePT\n",
    "from qupulse.pulses.plotting import plot\n",
    "\n",
    "table_pulse = TablePT({'A': [(0,        'v_a'),\n",
    "                             ('t_ramp', 'v_b', 'linear')]})\n",
    "_ = plot(table_pulse, dict(t_ramp=10, v_a=-1, v_b=1), sample_rate=100)"
   ]
  },
  {
   "cell_type": "markdown",
   "metadata": {},
   "source": [
    "Now, we want to restrict the ramp rate of the pulse to some maximum ramp rate `max_rate` and the ramp time to be larger than 1:"
   ]
  },
  {
   "cell_type": "code",
   "execution_count": 2,
   "metadata": {},
   "outputs": [
    {
     "name": "stdout",
     "output_type": "stream",
     "text": [
      "{'v_a', 't_ramp', 'v_b', 'max_rate'}\n",
      "Abs(v_a - v_b)/t_ramp < max_rate\n",
      "t_ramp > 1\n"
     ]
    }
   ],
   "source": [
    "table_pulse = TablePT({'A': [(0,        'v_a'),\n",
    "                             ('t_ramp', 'v_b', 'linear')]},\n",
    "                      parameter_constraints=['Abs(v_a-v_b)/t_ramp < max_rate', 't_ramp>1'])\n",
    "print(table_pulse.parameter_names)\n",
    "print(table_pulse.parameter_constraints[0])\n",
    "print(table_pulse.parameter_constraints[1])"
   ]
  },
  {
   "cell_type": "markdown",
   "metadata": {},
   "source": [
    "We see that the pulse got the extra parameter `max_rate`. We cannot instantiate this pulse without providing this parameter."
   ]
  },
  {
   "cell_type": "code",
   "execution_count": 3,
   "metadata": {},
   "outputs": [
    {
     "name": "stdout",
     "output_type": "stream",
     "text": [
      "ParameterNotProvidedException: No value was provided for parameter 'max_rate'.\n"
     ]
    }
   ],
   "source": [
    "try:\n",
    "    _ = plot(table_pulse, dict(t_ramp=10, v_a=-1, v_b=1), sample_rate=100)\n",
    "except Exception as exception:\n",
    "    print('{}: {}'.format(type(exception).__name__, exception))"
   ]
  },
  {
   "cell_type": "markdown",
   "metadata": {},
   "source": [
    "If one of the constraints is violated an exception is raised:"
   ]
  },
  {
   "cell_type": "code",
   "execution_count": 4,
   "metadata": {},
   "outputs": [
    {
     "name": "stdout",
     "output_type": "stream",
     "text": [
      "ParameterConstraintViolation: The constraint 'Abs(v_a - v_b)/t_ramp < max_rate' is not fulfilled.\n",
      "Parameters: {'t_ramp': 10, 'v_a': -1, 'v_b': 1, 'max_rate': 0.1}\n"
     ]
    }
   ],
   "source": [
    "try:\n",
    "    _ = plot(table_pulse, dict(t_ramp=10, v_a=-1, v_b=1, max_rate=0.1), sample_rate=100)\n",
    "except Exception as exception:\n",
    "    print('{}: {}'.format(type(exception).__name__, exception))"
   ]
  }
 ],
 "metadata": {
  "kernelspec": {
   "display_name": "Python 3 (ipykernel)",
   "language": "python",
   "name": "python3"
  },
  "language_info": {
   "codemirror_mode": {
    "name": "ipython",
    "version": 3
   },
   "file_extension": ".py",
   "mimetype": "text/x-python",
   "name": "python",
   "nbconvert_exporter": "python",
   "pygments_lexer": "ipython3",
   "version": "3.8.15"
  }
 },
 "nbformat": 4,
 "nbformat_minor": 4
}
