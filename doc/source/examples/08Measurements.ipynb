{
 "cells": [
  {
   "cell_type": "markdown",
   "metadata": {},
   "source": [
    "# Definition of Measurements\n",
    "\n",
    "Many pulse templates allow us to declare measurements upon their creation. Each measurement declaration is a tuple that consists of the measurement's name for later identification, the starting time in the pulse template and the measurement's length. The idea behind measurement names is that you can put different types of measurements in one pulse and easily distinguish between the results. qupulse automatically configures the acquisition driver to measure at the defined measurement windows.\n",
    "\n",
    "The following example creates a pulse template that contains two parameterized measurements named 'M' and 'N':"
   ]
  },
  {
   "cell_type": "code",
   "execution_count": 1,
   "metadata": {},
   "outputs": [
    {
     "name": "stdout",
     "output_type": "stream",
     "text": [
      "{'N', 'M'}\n",
      "[('M', 0, 't_meas'), ('N', 0, 't_meas/2')]\n"
     ]
    }
   ],
   "source": [
    "from qupulse.pulses import PointPT\n",
    "\n",
    "measured_pt = PointPT([(0, 'm'),\n",
    "                      ('t_meas', 'm')],\n",
    "                      channel_names=('RF_X', 'RF_Y'),\n",
    "                      measurements=[('M', 0, 't_meas'), ('N', 0, 't_meas/2')])\n",
    "print(measured_pt.measurement_names)\n",
    "print(measured_pt.measurement_declarations)"
   ]
  },
  {
   "cell_type": "markdown",
   "metadata": {
    "collapsed": true
   },
   "source": [
    "Our pulse template holds a constant voltage level defined by parameter `m` and has a duration defined by parameters `t_meas`. The measurement `M` starts at time `0`, i.e. immediately when the pulse itself starts, and has a duration of `t_meas`, i.e., as long as the pulse itself. The measurement `N` starts at the same time but only lasts for the half duration of the pulse.\n",
    "\n",
    "Note that measurement definitions may not exceed the duration of the pulse they are defined in. Doing so will result in an exception being raised during pulse instantiation.\n",
    "Note further that measurements for pulse templates that are empty, e.g. because their length as given by parameters turns out equal to zero, will be discarded during instantiation (without raising an exception).\n",
    "\n",
    "When using non-atomic/composite pulse templates such as for example `SequencePulseTemplate`, they will \"inherit\" all the measurements from the subtemplates they are created with (see [Combining PulseTemplates](03xComposedPulses.ipynb) to learn more about composite pulse templates). To avoid name conflicts of measurements from different subtemplates, we can make use of mapping (via [MappingPulseTemplate](05MappingTemplate.ipynb)) to rename the measurements, as the example below demonstrates."
   ]
  },
  {
   "cell_type": "code",
   "execution_count": 2,
   "metadata": {},
   "outputs": [
    {
     "name": "stdout",
     "output_type": "stream",
     "text": [
      "{'dbz_fid', 'N', 'charge_scan'}\n"
     ]
    }
   ],
   "source": [
    "from qupulse.pulses import SequencePT\n",
    "\n",
    "my_complicated_pulse = SequencePT((measured_pt, {'M': 'charge_scan'}),\n",
    "                                  (measured_pt, {'M': 'dbz_fid'}))\n",
    "print(my_complicated_pulse.measurement_names)"
   ]
  }
 ],
 "metadata": {
  "kernelspec": {
   "display_name": "Python [default]",
   "language": "python",
   "name": "python3"
  },
  "language_info": {
   "codemirror_mode": {
    "name": "ipython",
    "version": 3
   },
   "file_extension": ".py",
   "mimetype": "text/x-python",
   "name": "python",
   "nbconvert_exporter": "python",
   "pygments_lexer": "ipython3",
   "version": "3.7.0"
  }
 },
 "nbformat": 4,
 "nbformat_minor": 2
}
